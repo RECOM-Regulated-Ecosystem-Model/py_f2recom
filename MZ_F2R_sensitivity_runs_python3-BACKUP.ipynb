{
 "cells": [
  {
   "cell_type": "code",
   "execution_count": null,
   "metadata": {},
   "outputs": [],
   "source": [
    "#!jupyter nbconvert --to=python MZ_F2R_sensitivity_runs_python3.ipynb"
   ]
  },
  {
   "cell_type": "code",
   "execution_count": null,
   "metadata": {},
   "outputs": [],
   "source": [
    "%autosave 5\n",
    "%matplotlib inline"
   ]
  },
  {
   "cell_type": "markdown",
   "metadata": {},
   "source": [
    "# To do\n",
    "## Include Datasets\n",
    "isibhv/projects: OCCCI, MareDat\"\n"
   ]
  },
  {
   "cell_type": "code",
   "execution_count": null,
   "metadata": {},
   "outputs": [],
   "source": [
    "import pyfesom2 as pf\n",
    "import math\n",
    "import numpy as np\n",
    "import matplotlib.pylab as plt\n",
    "import matplotlib.cm as cm\n",
    "from matplotlib import gridspec\n",
    "\n",
    "from netCDF4 import Dataset\n",
    "import time\n",
    "from datetime import date\n",
    "\n",
    "import cartopy.crs as ccrs\n",
    "#import pangaeapy.pandataset as pd\n",
    "\n",
    "import skill_metrics as sm\n",
    "from plot_Taylor_normalized import plt_Taylor_norm\n"
   ]
  },
  {
   "cell_type": "code",
   "execution_count": null,
   "metadata": {},
   "outputs": [],
   "source": [
    "# mesh ------------------------------------------------------------------------------------\n",
    "meshpath = '/work/ollie/mozeisin/mesh/mesh_fesom2.0/core2_meanz'\n",
    "\n",
    "# list of runs ------------------------------------------------------------------------------------\n",
    "# first run speciefied is used as control run\n",
    "resultpath = '/work/ollie/mozeisin/results/f2r1.2'\n",
    "path_list = '/mo5', '/mo4', '/mo6', '/mo7'\n",
    "resultpath = [resultpath +i for i in path_list]\n",
    "\n",
    "# runid of FESOM run\n",
    "idlist = ('fesom', 'fesom', 'fesom', 'fesom') \n",
    "\n",
    "# props of analysis ------------------------------------------------------------------------------------\n",
    "first_year = 1949\n",
    "last_year = 1950\n",
    "years = [first_year, last_year]\n",
    "\n",
    "depth=0\n",
    "\n",
    "# props of plotting ------------------------------------------------------------------------------------\n",
    "mapproj = 'pc'\n",
    "pc = ccrs.PlateCarree()\n",
    "rob = ccrs.Robinson()\n",
    "\n",
    "# label used for plotting\n",
    "figlabel = ('CTRL (P$_{cm,d}$ = 3.5)', 'CTRL (without mask)', 'P$_{cm,d}$ = 2.5', 'P$_{cm,d}$ = 4.5') \n",
    "\n",
    "# rows and columns for subplots\n",
    "rowscol = (2,2)\n",
    "\n",
    "# export of analysis ------------------------------------------------------------------------------------\n",
    "today = date.today().strftime(\"_%Y_%m_%d\")\n",
    "\n",
    "savepath = '/home/ollie/mozeisin/evaluation/mo_files/F2R_sensitivity/'\n",
    "htmlname     =  'F2R_sensitivity_' + today +'.html'\n",
    "htmlpath = '/home/ollie/mozeisin/evaluation/mo_files/html/'\n",
    "\n",
    "# initialization file specifications -----------------------------------------------------------\n",
    "ncfileMaredat = \"/home/ollie/mozeisin/obs/MarEDat/MarEDat20120716Diatoms.nc\"\n",
    "\n",
    "#obspath      = '/home/ollie/mseifert/py_fesom/CreateRunFiles/Initialization/Output/'\n",
    "\n",
    "#ncfileAlk                = '/work/ollie/projects/MarESys/evaluation/GLODAPv2.2016b.TAlk.nc'\n",
    "#ncfileDIC                = '/work/ollie/projects/MarESys/evaluation/GLODAPv2.2016b.TCO2.nc'\n",
    "#ncfileDSi                = '/work/ollie/projects/MarESys/evaluation/woa13_all_i00_01.nc'\n",
    "#ncfileDIN                = '/work/ollie/projects/MarESys/evaluation/woa13_all_n00_01.nc'\n",
    "#ncfileDO2                = '/work/ollie/projects/MarESys/evaluation/woa18_all_o00_01.nc'\n",
    "#ncfileDFe                = '/work/ollie/projects/MarESys/evaluation/fe_pisces_opa_eq_init_3D.nc' \n",
    "#ncfileNPPTotalGlobal     = '/work/ollie/projects/MarESys/evaluation/'+'fesom.initial.mesh.diag.nc'\n",
    "#ncfileCO2fluxTotalGlobal = '/work/ollie/projects/MarESys/evaluation/'+'fesom.initial.mesh.diag.nc'\n",
    "#ncfileTemp               = '/work/ollie/projects/MarESys/evaluation/woa18_decav_t00_01.nc'\n",
    "#ncfileSal                = '/work/ollie/projects/MarESys/evaluation/woa18_decav_s00_01.nc'\n",
    "#ncfilepCO2               = '/work/ollie/projects/MarESys/evaluation/SOCATv6_tracks_gridded_monthly.nc'\n",
    "#ncfileMLD                = '/work/ollie/projects/MarESys/evaluation/mld_DR003.nc'\n",
    "matfileChlsurf           = '/work/ollie/projects/MarESys/evaluation/climatology_annual_chl_1deg_OCCCI_2012_2015.mat'\n",
    "#txtfileCO2flux           = '/work/ollie/projects/MarESys/evaluation/CO2_flux2015_Takahashietal2009_original.txt'\n"
   ]
  },
  {
   "cell_type": "code",
   "execution_count": null,
   "metadata": {},
   "outputs": [],
   "source": [
    "resultpath"
   ]
  },
  {
   "cell_type": "code",
   "execution_count": null,
   "metadata": {
    "scrolled": false
   },
   "outputs": [],
   "source": [
    "# mesh initialization -----------------------------------------------------------\n",
    "mesh = pf.load_mesh(meshpath)\n",
    "\n",
    "# load FESOM mesh diag -------------------------------------------------------------------------------\n",
    "meshdiag= meshpath +'fesom.mesh.diag.nc'\n",
    "#!ncdump -h $meshdiag\n",
    "\n",
    "diag = pf.get_meshdiag(mesh)\n",
    "#print(diag)\n",
    "#print(diag['Z']) # depth of layers\n",
    "mesh_depths = diag['Z'].values\n",
    "\n",
    "# plot mesh overview -------------------------------------------------------------------------------\n",
    "if False: # check mesh setup nodal and area\n",
    "    runid = 'mo4/fesom'\n",
    "    meshdiag=resultpath+'/'+runid+'.mesh.diag.nc'\n",
    "    #!ncdump -h $meshdiag\n",
    "\n",
    "    diag = pf.get_meshdiag(mesh,meshdiag=meshdiag, runid=runid)\n",
    "    #print(diag)\n",
    "    #print(diag['Z']) # depth of layers\n",
    "    mesh_depths = diag['Z'].values\n",
    "    print('Mesh layer depths:'), print(mesh_depths)\n",
    "    \n",
    "    nod_area = diag.rename_dims({\"nl\": \"nz1\", \"nod_n\": \"nod2\"}).nod_area\n",
    "    nod_area.load()\n",
    "    #print(np.shape(nod_area[:,:]), type(nod_area))\n",
    "    \n",
    "if False:    \n",
    "    # whole globe\n",
    "    pf.plot(mesh,np.array(nod_area[0,:]),units='Surface nodal area')\n",
    "    \n",
    "    # plot nodal area and mesh structure together\n",
    "    pf.tplot(mesh, np.array(nod_area[0,:]), ptype='tri', box=[-30, 30, 60, 82], mapproj='np',lw=0.5,units='nodal area')\n",
    "    pf.tplot(mesh, np.array(nod_area[0,:]), ptype='tri', box=[-30, 30, -30, 30], mapproj='merc',lw=0.5,units='nodal area')"
   ]
  },
  {
   "cell_type": "code",
   "execution_count": null,
   "metadata": {},
   "outputs": [],
   "source": [
    "def mygrid(m,coast = True):\n",
    "    g1 = m.gridlines(draw_labels = True)\n",
    "    g1.xlabels_top = False\n",
    "    g1.ylabels_right = False\n",
    "    g1.xlabel_style = {'size': 12, 'color': 'gray'}\n",
    "    g1.ylabel_style = {'size': 12, 'color': 'gray'}\n",
    "    \n",
    "    if(coast == True):\n",
    "        m.coastlines(resolution='110m', color='black', linewidth=1)\n",
    "        #m.add_feature(land_poly)\n"
   ]
  },
  {
   "cell_type": "markdown",
   "metadata": {},
   "source": [
    "# Load MarEDAt"
   ]
  },
  {
   "cell_type": "code",
   "execution_count": null,
   "metadata": {},
   "outputs": [],
   "source": [
    "!ncdump -h $ncfileMaredat"
   ]
  },
  {
   "cell_type": "code",
   "execution_count": null,
   "metadata": {},
   "outputs": [],
   "source": [
    "f          = Dataset(ncfileMaredat, 'r')\n",
    "d_biomass  = f['BIOMASS'][:] # mug C/L = mg C /m3\n",
    "lon_maredat      = f['LONGITUDE'][:]\n",
    "lat_maredat    = f['LATITUDE'][:]\n",
    "depth_maredat    = f['DEPTH'][:]\n",
    "\n",
    "d_biomass[:][d_biomass[:] == 1e+35] = np.nan # remove fill value\n",
    "print(np.shape(d_biomass))\n",
    "\n",
    "# mean over year\n",
    "d_biomass_annual = np.nanmean(d_biomass[:],axis=0)\n",
    "print(np.shape(d_biomass_annual))\n",
    "\n",
    "# depth indices\n",
    "dep_ind1  = np.nonzero((0 <= depth_maredat[:] )&(depth_maredat[:] <= 5))\n",
    "dep_ind2  = np.nonzero((5 < depth_maredat[:] )&(depth_maredat[:] <= 25))\n",
    "dep_ind3  = np.nonzero((25 < depth_maredat[:] )&(depth_maredat[:] <= 100))\n",
    "dep_ind4  = np.nonzero((100 < depth_maredat[:]))\n",
    "\n",
    "# mean over depth ranges,\n",
    "# fill masked array to normal array\n",
    "d_biomass_tot = np.squeeze(np.nanmean(d_biomass_annual, axis=0))\n",
    "d_biomass_0_5 = np.squeeze(np.nanmean(d_biomass_annual[dep_ind1], axis=0))\n",
    "d_biomass_5_25 = np.squeeze(np.nanmean(d_biomass_annual[dep_ind2], axis=0))\n",
    "d_biomass_25_100 = np.squeeze(np.nanmean(d_biomass_annual[dep_ind3], axis=0))\n",
    "d_biomass_100_bot = np.squeeze(np.nanmean(d_biomass_annual[dep_ind4], axis=0))\n",
    "\n",
    "if False: # if you use this, first remove np.nanmean from all lines!\n",
    "    # fill masked array to normal array\n",
    "    d_biomass_tot = np.ma.filled(np.squeeze(np.nanmean(d_biomass_annual, axis=0)),0)\n",
    "    d_biomass_0_5 = np.ma.filled(np.squeeze(np.nanmean(d_biomass_annual[dep_ind1], axis=0)),0)\n",
    "    d_biomass_5_25 = np.ma.filled(np.squeeze(np.nanmean(d_biomass_annual[dep_ind2], axis=0)),0)\n",
    "    d_biomass_25_100 = np.ma.filled(np.squeeze(np.nanmean(d_biomass_annual[dep_ind3], axis=0)),0)\n",
    "    d_biomass_100_bot = np.ma.filled(np.squeeze(np.nanmean(d_biomass_annual[dep_ind4], axis=0)),0)\n",
    "\n",
    "print(np.shape(d_biomass_tot))\n",
    "print(np.shape(d_biomass_0_5))"
   ]
  },
  {
   "cell_type": "code",
   "execution_count": null,
   "metadata": {},
   "outputs": [],
   "source": [
    "np.nanmean(d_biomass_0_5), np.nanmin(d_biomass_0_5), np.nanmax(d_biomass_0_5)"
   ]
  },
  {
   "cell_type": "code",
   "execution_count": null,
   "metadata": {},
   "outputs": [],
   "source": [
    "fig, axes = plt.subplots(2,2, \n",
    "                         subplot_kw=dict(projection=ccrs.Robinson()),\n",
    "                         gridspec_kw={'hspace': 0.001, 'wspace': 0.1},\n",
    "                         figsize=(20,15))\n",
    "fig.tight_layout()\n",
    "\n",
    "# 0-5 m\n",
    "m1 = axes[0,0]\n",
    "f1 = m1.pcolormesh(lon_maredat, lat_maredat, np.log10(d_biomass_0_5), \n",
    "                   transform = ccrs.PlateCarree(),\n",
    "                    shading='flat', vmin=np.log10(0.001), vmax=np.log10(100), \n",
    "                    cmap=plt.cm.viridis)\n",
    "mygrid(m1)\n",
    "m1.set_title('MarEDAT 0-5 m', fontsize=20)\n",
    "\n",
    "\n",
    "# 5-25 m\n",
    "m2 = axes[0,1]\n",
    "f2 = m2.pcolormesh(lon_maredat, lat_maredat, np.log10(d_biomass_5_25), \n",
    "                   transform = ccrs.PlateCarree(),\n",
    "                    shading='flat', vmin=np.log10(0.001), vmax=np.log10(100), \n",
    "                    cmap=plt.cm.viridis)\n",
    "mygrid(m2)\n",
    "m2.set_title('MarEDAT 5-25 m', fontsize=20)\n",
    "\n",
    "# 25-100 m\n",
    "m3 = axes[1,0]\n",
    "f3 = m3.pcolormesh(lon_maredat, lat_maredat, np.log10(d_biomass_25_100), \n",
    "                   transform = ccrs.PlateCarree(),\n",
    "                    shading='flat', vmin=np.log10(0.001), vmax=np.log10(100), \n",
    "                    cmap=plt.cm.viridis)\n",
    "mygrid(m3)\n",
    "m3.set_title('MarEDAT 25-100 m', fontsize=20)\n",
    "\n",
    "# 100-bottom m\n",
    "m4 = axes[1,1]\n",
    "f4 = m4.pcolormesh(lon_maredat, lat_maredat, np.log10(d_biomass_100_bot), \n",
    "                   transform = ccrs.PlateCarree(),\n",
    "                    shading='flat', vmin=np.log10(0.001), vmax=np.log10(100), \n",
    "                    cmap=plt.cm.viridis)\n",
    "mygrid(m4)\n",
    "m4.set_title('MarEDAT 100 m - bottom', fontsize=20)\n",
    "\n",
    "# add one colorbar for all plots below figure\n",
    "cbar = fig.colorbar(f1,\n",
    "                    ax = axes[1,:2], \n",
    "                    location ='bottom',\n",
    "                    ticks=[np.log10(0.001),np.log10(0.01), np.log10(0.1),np.log10(0.5), np.log10(1),np.log10(10),np.log10(50)],\n",
    "                    fraction=0.1, pad=0.1) \n",
    "cbar.ax.set_xticklabels(['0.001','0.01','0.1','0.5','1','10','50'], fontsize=20) \n",
    "cbar.set_label('Diatom Biomass [mg C m$^{-3}$]', fontsize=20)\n",
    "#cbar.set_label('Log$_{10}$ Biomass [$\\mu$g L $^{-1}$]', fontsize=20)\n",
    "\n"
   ]
  },
  {
   "cell_type": "code",
   "execution_count": null,
   "metadata": {
    "scrolled": false
   },
   "outputs": [],
   "source": []
  },
  {
   "cell_type": "markdown",
   "metadata": {},
   "source": [
    "# Diatom carbon"
   ]
  },
  {
   "cell_type": "code",
   "execution_count": null,
   "metadata": {},
   "outputs": [],
   "source": [
    "#NCfesom = resultpath[0] + '/DiaC.'+idlist[0]+'.1948.nc' # DiaC:units = \"[mmol/m3]\"\n",
    "#!ncdump -h $NCfesom\n",
    "\n",
    "units = 'Diatom intracell. Carbon [mg C m$^{{-3}}$]\\n{0}-{1} at {2} m'.format(years[0],years[1],depth)\n",
    "#units = 'Intracellular C [mg C m$^{-3}$]'\n",
    "\n",
    "DiaC = [0]*len(idlist)\n",
    "\n",
    "for i in range(len(idlist)):\n",
    "    print(resultpath[i])\n",
    "    DiaC[i] = pf.get_data(resultpath[i], \"DiaC\", years, mesh, runid=idlist[i], how=\"mean\", compute=True, depth=depth)\n",
    "    DiaC[i] = DiaC[i] * 12.01"
   ]
  },
  {
   "cell_type": "code",
   "execution_count": null,
   "metadata": {},
   "outputs": [],
   "source": [
    "fig = pf.plot(mesh, [data for data in DiaC], mapproj = mapproj, units=units, cmap = 'viridis',\n",
    "              rowscol = rowscol, #(math.ceil(len(idlist)/3), 3), \n",
    "              figsize = (15,10),\n",
    "              titles=[title for title in figlabel])"
   ]
  },
  {
   "cell_type": "code",
   "execution_count": null,
   "metadata": {
    "scrolled": false
   },
   "outputs": [],
   "source": [
    "## differences\n",
    "fig = pf.plot(mesh, [data-DiaC[0] for data in DiaC], mapproj = mapproj, units='MODEL - CTRL\\n'+units, \n",
    "              rowscol = rowscol, #(math.ceil(len(idlist)/3), 3), \n",
    "              figsize = (15,10),\n",
    "              #levels = (-2.5e-2,2.5e-2, 30), \n",
    "              cmap = 'RdBu',\n",
    "              titles=[title for title in figlabel])"
   ]
  },
  {
   "cell_type": "markdown",
   "metadata": {},
   "source": [
    "# FESOM comparison to MarEDat"
   ]
  },
  {
   "cell_type": "code",
   "execution_count": null,
   "metadata": {},
   "outputs": [],
   "source": [
    "if False:\n",
    "    print(np.shape(mesh.zlev)) # levels\n",
    "    print(np.shape(mesh_depths)) # layers\n",
    "\n",
    "    print(mesh.zlev)\n",
    "    print(mesh_depths)"
   ]
  },
  {
   "cell_type": "code",
   "execution_count": null,
   "metadata": {},
   "outputs": [],
   "source": []
  },
  {
   "cell_type": "code",
   "execution_count": null,
   "metadata": {},
   "outputs": [],
   "source": [
    "def f2maredat_levels(resultpath, runid):\n",
    "    # get interpolation input -> data of all levels\n",
    "    # annual mean of fesom data already caluclated when reading model results\n",
    "    print('\\nProcessing {0} for years {1}-{2}'.format(resultpath,years[0],years[1]))\n",
    "    \n",
    "    DiaC_interp_in = pf.get_data(resultpath, \"DiaC\", years, mesh, runid=runid, how=\"mean\")\n",
    "    DiaC_interp_in = DiaC_interp_in * 12.01\n",
    "    #print(np.shape(DiaC_interp_in))\n",
    "\n",
    "    # interp preperation\n",
    "    lons, lats = np.meshgrid(lon_maredat, lat_maredat)\n",
    "\n",
    "    # depth indices similar to MarEDAT\n",
    "    depth_range = [0,5,25,100,1e5]\n",
    "    dep_ind1  = np.nonzero((0 >= mesh_depths )&(mesh_depths >= -5))\n",
    "    dep_ind2  = np.nonzero((-5 > mesh_depths )&(mesh_depths >= -25))\n",
    "    dep_ind3  = np.nonzero((-25 > mesh_depths )&(mesh_depths >= -100))\n",
    "    dep_ind4  = np.nonzero((-100 > mesh_depths))\n",
    "\n",
    "    dep_ind = [dep_ind1,dep_ind2,dep_ind3,dep_ind4]\n",
    "\n",
    "    # storage\n",
    "    DiaC_interp_all = [0]*len(dep_ind)\n",
    "\n",
    "    for d in range(len(dep_ind)):\n",
    "        d1 = depth_range[d]\n",
    "        d2 = depth_range[d+1]\n",
    "        dep_i = dep_ind[d]\n",
    "        print('\\nDepth range {0}-{1} m'.format(d1,d2))\n",
    "        #print('chose indices:'), print(dep_i)\n",
    "\n",
    "        DiaC_interp_dep = np.squeeze(DiaC_interp_in[:,dep_i], axis=1)\n",
    "        DiaC_interp_dep = np.nanmean(DiaC_interp_dep,axis=1)\n",
    "        #print(np.shape(DiaC_interp_dep))\n",
    "\n",
    "        # interpolate fesom data to 1x1 grid\n",
    "        DiaC_interp = pf.fesom2regular(\n",
    "                data = DiaC_interp_dep,\n",
    "                mesh = mesh,\n",
    "                lons = lons, \n",
    "                lats = lats)\n",
    "\n",
    "        #print(np.shape(DiaC_interp))\n",
    "        print('with mean {0:6.4f} min {1:8.6f} max {2:6.4f}'.format(np.nanmean(DiaC_interp), np.nanmin(DiaC_interp), np.nanmax(DiaC_interp)))\n",
    "\n",
    "        # save to storage\n",
    "        DiaC_interp_all[d] = DiaC_interp\n",
    "        \n",
    "    return DiaC_interp_all"
   ]
  },
  {
   "cell_type": "code",
   "execution_count": null,
   "metadata": {
    "scrolled": true
   },
   "outputs": [],
   "source": [
    "mo5 = f2maredat_levels(resultpath[0], idlist[0])\n",
    "mo4 = f2maredat_levels(resultpath[1], idlist[1])\n",
    "mo6 = f2maredat_levels(resultpath[2], idlist[2])\n",
    "mo7 = f2maredat_levels(resultpath[3], idlist[3])"
   ]
  },
  {
   "cell_type": "code",
   "execution_count": null,
   "metadata": {},
   "outputs": [],
   "source": [
    "### plot FESOM overview\n",
    "def plot_FESOM_depths(model, label, savefig=False):\n",
    "    fig, axes = plt.subplots(2,2, \n",
    "                             subplot_kw=dict(projection=ccrs.Robinson()),\n",
    "                             gridspec_kw={'hspace': 0.001, 'wspace': 0.1},\n",
    "                             figsize=(20,15))\n",
    "    fig.tight_layout()\n",
    "\n",
    "    # 0-5 m\n",
    "    m1 = axes[0,0]\n",
    "    f1 = m1.pcolormesh(lon_maredat, lat_maredat, np.log10(model[0]), \n",
    "                       transform = ccrs.PlateCarree(),\n",
    "                        shading='flat', vmin=np.log10(0.001), vmax=np.log10(200), \n",
    "                        cmap=plt.cm.viridis)\n",
    "    mygrid(m1)\n",
    "    m1.set_title('FESOM 0-5 m', fontsize=20)\n",
    "\n",
    "\n",
    "    # 5-25 m\n",
    "    m2 = axes[0,1]\n",
    "    f2 = m2.pcolormesh(lon_maredat, lat_maredat, np.log10(model[1]), \n",
    "                       transform = ccrs.PlateCarree(),\n",
    "                        shading='flat', vmin=np.log10(0.001), vmax=np.log10(200), \n",
    "                        cmap=plt.cm.viridis)\n",
    "    mygrid(m2)\n",
    "    m2.set_title('FESOM 5-25 m', fontsize=20)\n",
    "\n",
    "    # 25-100 m\n",
    "    m3 = axes[1,0]\n",
    "    f3 = m3.pcolormesh(lon_maredat, lat_maredat, np.log10(model[2]), \n",
    "                       transform = ccrs.PlateCarree(),\n",
    "                        shading='flat', vmin=np.log10(0.001), vmax=np.log10(200), \n",
    "                        cmap=plt.cm.viridis)\n",
    "    mygrid(m3)\n",
    "    m3.set_title('FESOM 25-100 m', fontsize=20)\n",
    "\n",
    "    # 100-bottom m\n",
    "    m4 = axes[1,1]\n",
    "    f4 = m4.pcolormesh(lon_maredat, lat_maredat, np.log10(model[3]), \n",
    "                       transform = ccrs.PlateCarree(),\n",
    "                        shading='flat', vmin=np.log10(0.001), vmax=np.log10(200), \n",
    "                        cmap=plt.cm.viridis)\n",
    "    mygrid(m4)\n",
    "    m4.set_title('FESOM 100 m - bottom', fontsize=20)\n",
    "\n",
    "    # add one colorbar for all plots below figure\n",
    "    cbar = fig.colorbar(f1,\n",
    "                        ax = axes[1,:2], \n",
    "                        location ='bottom',\n",
    "                        ticks=[np.log10(0.001),np.log10(0.01), np.log10(0.1),np.log10(0.5), np.log10(1),np.log10(10),np.log10(50),np.log10(100),np.log10(200)],\n",
    "                        fraction=0.1, pad=0.1) \n",
    "    cbar.ax.set_xticklabels(['0.001','0.01','0.1','0.5','1','10','50','100','200'], fontsize=20) \n",
    "    cbar.set_label('Run \"'+label+'\", Diatom Biomass [mg C m$^{-3}$]', fontsize=20)\n",
    "    #cbar.set_label('Log$_{10}$ Biomass [$\\mu$g L $^{-1}$]', fontsize=20)\n",
    "\n",
    "    if(savefig == True):\n",
    "        fig.savefig(savepath+'FESOM_depths_asMarEDat_'+label+'_'+str(years[0])+'to'+str(years[1])+'.png', \n",
    "                        dpi = 300, bbox_inches='tight')\n",
    "    plt.show()"
   ]
  },
  {
   "cell_type": "code",
   "execution_count": null,
   "metadata": {},
   "outputs": [],
   "source": [
    "plot_FESOM_depths(mo5,'CONTROL_mo5',True)"
   ]
  },
  {
   "cell_type": "code",
   "execution_count": null,
   "metadata": {},
   "outputs": [],
   "source": [
    "plot_FESOM_depths(mo4,'CONTROL__woMask_mo4',True)"
   ]
  },
  {
   "cell_type": "code",
   "execution_count": null,
   "metadata": {},
   "outputs": [],
   "source": [
    "plot_FESOM_depths(mo6,'mo6_Pcm_25', True)"
   ]
  },
  {
   "cell_type": "code",
   "execution_count": null,
   "metadata": {},
   "outputs": [],
   "source": [
    "plot_FESOM_depths(mo7,'mo7_Pcm_45', True)"
   ]
  },
  {
   "cell_type": "markdown",
   "metadata": {},
   "source": [
    "# MarEDAT and FESOM side by side"
   ]
  },
  {
   "cell_type": "code",
   "execution_count": null,
   "metadata": {},
   "outputs": [],
   "source": [
    "def plot_2cols(model,label,savefig=False):\n",
    "    '''Plot MarEDAT and FESOM data side by side in two columns, seperated by depth ranges'''\n",
    "    fig, axes = plt.subplots(4,2, \n",
    "                             subplot_kw=dict(projection=ccrs.Robinson()),\n",
    "                             gridspec_kw={'hspace': 0.001, 'wspace': 0.1},\n",
    "                             figsize=(30,45))\n",
    "    fig.tight_layout()\n",
    "\n",
    "    # 0-5 m maredat ---------------------------------------------------------------------------------------------\n",
    "    m1 = axes[0,0]\n",
    "    f1 = m1.pcolormesh(lon_maredat, lat_maredat, np.log10(d_biomass_0_5), \n",
    "                       transform = ccrs.PlateCarree(),\n",
    "                        shading='flat', vmin=np.log10(0.001), vmax=np.log10(200), \n",
    "                        cmap=plt.cm.viridis)\n",
    "    mygrid(m1)\n",
    "    m1.set_title('MarEDAT 0-5 m', fontsize=20)\n",
    "\n",
    "    # 0-5 m FESOM\n",
    "    m1 = axes[0,1]\n",
    "    f1 = m1.pcolormesh(lon_maredat, lat_maredat, np.log10(model[0]), \n",
    "                       transform = ccrs.PlateCarree(),\n",
    "                        shading='flat', vmin=np.log10(0.001), vmax=np.log10(200), \n",
    "                        cmap=plt.cm.viridis)\n",
    "    mygrid(m1)\n",
    "    m1.set_title('FESOM 0-5 m', fontsize=20)\n",
    "\n",
    "    # 5-25 m maredat ---------------------------------------------------------------------------------------------\n",
    "    m2 = axes[1,0]\n",
    "    f2 = m2.pcolormesh(lon_maredat, lat_maredat, np.log10(d_biomass_5_25), \n",
    "                       transform = ccrs.PlateCarree(),\n",
    "                        shading='flat', vmin=np.log10(0.001), vmax=np.log10(200), \n",
    "                        cmap=plt.cm.viridis)\n",
    "    mygrid(m2)\n",
    "    m2.set_title('MarEDAT 5-25 m', fontsize=20)\n",
    "\n",
    "    # 5-25 m FESOM\n",
    "    m2 = axes[1,1]\n",
    "    f2 = m2.pcolormesh(lon_maredat, lat_maredat, np.log10(model[1]), \n",
    "                       transform = ccrs.PlateCarree(),\n",
    "                        shading='flat', vmin=np.log10(0.001), vmax=np.log10(200), \n",
    "                        cmap=plt.cm.viridis)\n",
    "    mygrid(m2)\n",
    "    m2.set_title('FESOM 5-25 m', fontsize=20)\n",
    "\n",
    "    # 25-100 m maredat ---------------------------------------------------------------------------------------------\n",
    "    m3 = axes[2,0]\n",
    "    f3 = m3.pcolormesh(lon_maredat, lat_maredat, np.log10(d_biomass_25_100), \n",
    "                       transform = ccrs.PlateCarree(),\n",
    "                        shading='flat', vmin=np.log10(0.001), vmax=np.log10(200), \n",
    "                        cmap=plt.cm.viridis)\n",
    "    mygrid(m3)\n",
    "    m3.set_title('MarEDAT 25-100 m', fontsize=20)\n",
    "\n",
    "    # 25-100 m FESOM\n",
    "    m3 = axes[2,1]\n",
    "    f3 = m3.pcolormesh(lon_maredat, lat_maredat, np.log10(model[2]), \n",
    "                       transform = ccrs.PlateCarree(),\n",
    "                        shading='flat', vmin=np.log10(0.001), vmax=np.log10(200), \n",
    "                        cmap=plt.cm.viridis)\n",
    "    mygrid(m3)\n",
    "    m3.set_title('FESOM 25-100 m', fontsize=20)\n",
    "\n",
    "    # 100-bottom m maredat ---------------------------------------------------------------------------------------------\n",
    "    m4 = axes[3,0]\n",
    "    f4 = m4.pcolormesh(lon_maredat, lat_maredat, np.log10(d_biomass_100_bot), \n",
    "                       transform = ccrs.PlateCarree(),\n",
    "                        shading='flat', vmin=np.log10(0.001), vmax=np.log10(200), \n",
    "                        cmap=plt.cm.viridis)\n",
    "    mygrid(m4)\n",
    "    m4.set_title('MarEDAT 100 m - bottom', fontsize=20)\n",
    "\n",
    "    # 100-bottom m\n",
    "    m4 = axes[3,1]\n",
    "    f4 = m4.pcolormesh(lon_maredat, lat_maredat, np.log10(model[3]), \n",
    "                       transform = ccrs.PlateCarree(),\n",
    "                        shading='flat', vmin=np.log10(0.001), vmax=np.log10(200), \n",
    "                        cmap=plt.cm.viridis)\n",
    "    mygrid(m4)\n",
    "    m4.set_title('FESOM 100 m - bottom', fontsize=20)\n",
    "\n",
    "    # ---------------------------------------------------------------------------------------------\n",
    "    # add one colorbar for all plots below figure\n",
    "    cbar = fig.colorbar(f1,\n",
    "                        ax = axes[3,:2], \n",
    "                        location ='bottom',\n",
    "                        ticks=[np.log10(0.001),np.log10(0.01), np.log10(0.1),np.log10(0.5), np.log10(1),np.log10(10),np.log10(50),np.log10(100)],\n",
    "                        fraction=0.1, pad=0.1) \n",
    "    cbar.ax.set_xticklabels(['0.001','0.01','0.1','0.5','1','10','50','100'], fontsize=20) \n",
    "    cbar.set_label('Diatom Biomass [mg C m$^{-3}$]', fontsize=20)\n",
    "    #cbar.set_label('Log$_{10}$ Biomass [$\\mu$g L $^{-1}$]', fontsize=20)\n",
    "\n",
    "    if(savefig == True):\n",
    "        fig.savefig(savepath+'MarEDAT_FESOM_depths_'+label+'_'+str(years[0])+'to'+str(years[1])+'.png', \n",
    "                        dpi = 300, bbox_inches='tight')\n",
    "    plt.show()"
   ]
  },
  {
   "cell_type": "code",
   "execution_count": null,
   "metadata": {},
   "outputs": [],
   "source": [
    "plot_2cols(mo5,'CONTROL_mo5',True)"
   ]
  },
  {
   "cell_type": "code",
   "execution_count": null,
   "metadata": {},
   "outputs": [],
   "source": [
    "plot_2cols(mo4,'CONTROL_woMask_mo4',True)"
   ]
  },
  {
   "cell_type": "code",
   "execution_count": null,
   "metadata": {},
   "outputs": [],
   "source": [
    "plot_2cols(mo6,'mo6_Pcm_25',True)"
   ]
  },
  {
   "cell_type": "code",
   "execution_count": null,
   "metadata": {},
   "outputs": [],
   "source": [
    "plot_2cols(mo7,'mo7_Pcm_45',True)"
   ]
  },
  {
   "cell_type": "code",
   "execution_count": null,
   "metadata": {},
   "outputs": [],
   "source": []
  },
  {
   "cell_type": "markdown",
   "metadata": {},
   "source": [
    "### apply mask"
   ]
  },
  {
   "cell_type": "code",
   "execution_count": null,
   "metadata": {},
   "outputs": [],
   "source": [
    "# mask model where MarEDAT not available\n",
    "if False: # first manual masking\n",
    "    mo5_ma = [0]*4\n",
    "    mo5_ma[0] = np.ma.where(np.isnan(d_biomass_0_5),np.nan, mo5[0])\n",
    "    mo5_ma[1] = np.ma.where(np.isnan(d_biomass_5_25),np.nan, mo5[1])\n",
    "    mo5_ma[2] = np.ma.where(np.isnan(d_biomass_25_100),np.nan, mo5[2])\n",
    "    mo5_ma[3] = np.ma.where(np.isnan(d_biomass_100_bot),np.nan, mo5[3])\n",
    "\n",
    "def mask_model_with_maredat(model):\n",
    "    '''Mask model data where no MarEDAT available, then fill masked_array for better processing'''\n",
    "    model_ma = [0]*4\n",
    "    model_ma[0] = np.ma.filled(np.ma.where(np.isnan(d_biomass_0_5),np.nan, model[0]), fill_value=0)\n",
    "    #model_ma[0] = np.ma.where(np.isnan(d_biomass_0_5),np.nan, model[0])\n",
    "\n",
    "    model_ma[1] = np.ma.filled(np.ma.where(np.isnan(d_biomass_5_25),np.nan, model[1]), fill_value=0)\n",
    "    model_ma[2] = np.ma.filled(np.ma.where(np.isnan(d_biomass_25_100),np.nan, model[2]), fill_value=0)\n",
    "    model_ma[3] = np.ma.filled(np.ma.where(np.isnan(d_biomass_100_bot),np.nan, model[3]), fill_value=0)\n",
    "    return model_ma\n",
    "    \n",
    "# now mask model data ---------------------------------------------------------------------------------------------\n",
    "mo5_ma = mask_model_with_maredat(mo5)\n",
    "mo4_ma = mask_model_with_maredat(mo4)\n",
    "mo6_ma = mask_model_with_maredat(mo6)\n",
    "mo7_ma = mask_model_with_maredat(mo7)\n",
    "\n",
    "# CONTROL of masking for 0-5 m ---------------------------------------------------------------------------------------------\n",
    "if True:\n",
    "    fig, axes = plt.subplots(1,2, \n",
    "                             subplot_kw=dict(projection=ccrs.Robinson()),\n",
    "                             gridspec_kw={'hspace': 0.001, 'wspace': 0.1},\n",
    "                             figsize=(20,20))\n",
    "    # 0-5 m maredat \n",
    "    m1 = axes[0]\n",
    "    f1 = m1.pcolormesh(lon_maredat, lat_maredat, np.log10(d_biomass_0_5), \n",
    "                       transform = ccrs.PlateCarree(),\n",
    "                        shading='flat', vmin=np.log10(0.001), vmax=np.log10(200), \n",
    "                        cmap=plt.cm.viridis)\n",
    "    mygrid(m1)\n",
    "    m1.set_title('MarEDAT 0-5 m', fontsize=20)\n",
    "\n",
    "    # FESOM \n",
    "    m1 = axes[1]\n",
    "    f1 = m1.pcolormesh(lon_maredat, lat_maredat, np.log10(mo5_ma[0]), \n",
    "                       transform = ccrs.PlateCarree(),\n",
    "                        shading='flat', vmin=np.log10(0.001), vmax=np.log10(200), \n",
    "                        cmap=plt.cm.viridis)\n",
    "    mygrid(m1)\n",
    "    m1.set_title('FESOM 0-5 m', fontsize=20)\n"
   ]
  },
  {
   "cell_type": "markdown",
   "metadata": {},
   "source": [
    "### compare"
   ]
  },
  {
   "cell_type": "markdown",
   "metadata": {},
   "source": [
    "# Taylor statistics"
   ]
  },
  {
   "cell_type": "code",
   "execution_count": null,
   "metadata": {},
   "outputs": [],
   "source": [
    "def plot_Taylor(ref,pred,plot_depth):\n",
    "    title = 'Taylor Diagram at {0} m'.format(plot_depth)\n",
    "    plt_Taylor_norm(ref,pred,mask=True,title=title)\n",
    "    # applied mask in function is:\n",
    "    # ind_stat = np.where(data_pred != 0)\n"
   ]
  },
  {
   "cell_type": "code",
   "execution_count": null,
   "metadata": {},
   "outputs": [],
   "source": [
    "plot_Taylor(d_biomass_0_5,mo5_ma[0],plot_depth = '0-5')"
   ]
  },
  {
   "cell_type": "code",
   "execution_count": null,
   "metadata": {},
   "outputs": [],
   "source": [
    "plot_Taylor(d_biomass_5_25,mo5_ma[1],plot_depth = '5-25')"
   ]
  },
  {
   "cell_type": "code",
   "execution_count": null,
   "metadata": {
    "scrolled": false
   },
   "outputs": [],
   "source": [
    "plot_Taylor(d_biomass_25_100,mo5_ma[2],plot_depth = '25-100')"
   ]
  },
  {
   "cell_type": "markdown",
   "metadata": {},
   "source": [
    "# Scatter plots (as Miriam)"
   ]
  },
  {
   "cell_type": "code",
   "execution_count": null,
   "metadata": {},
   "outputs": [],
   "source": [
    "### define function\n",
    "def comp_scatter(model_masked,label,savefig = False):\n",
    "    \n",
    "    fig, axes = plt.subplots(4,2, #gridspec_kw={'hspace': 0.001, 'wspace': 0.1}, \n",
    "                             figsize=(10,10))\n",
    "\n",
    "    m1 = axes[0,0]\n",
    "    m1.plot(np.log10(model_masked[0]),np.log10(d_biomass_0_5),'.',color='black')\n",
    "    m1.plot([-4,4], [-4,4])\n",
    "    m1.set_xlim(-3,2.5)\n",
    "    m1.set_ylim(-5,5)\n",
    "    #plt.yticks([-5,-4,-3,-2,-1,0,1,2,3])\n",
    "    m1.set_ylabel('Maredat Log$_{10}$ biomass \\n [mg C m$^{-3}$]')\n",
    "    m1.text(-2.5,4, \"Depth range: 0-5 m\",color='darkred')\n",
    "    \n",
    "    \n",
    "\n",
    "    m1 = axes[0,1]\n",
    "    m1.plot(np.log10(model_masked[0]),np.log10(d_biomass_0_5),'.',color='black')\n",
    "    m1.plot([-4,4], [-4,4])\n",
    "    m1.set_xlim(1,2)\n",
    "    m1.set_ylim(-5,5)\n",
    "    #plt.yticks([-5,-4,-3,-2,-1,0,1,2,3])\n",
    "    #m1.set_ylabel('Maredat Log$_{10}$ biomass \\n [mg C m$^{-3}$]')\n",
    "    m1.text(1.1,4, \"Depth range: 0-5 m\",color='darkred')\n",
    "\n",
    "    # ---------------------------------------------------------------------------------------------------\n",
    "\n",
    "    m1 = axes[1,0]\n",
    "    m1.plot(np.log10(model_masked[1]),np.log10(d_biomass_5_25),'.',color='black')\n",
    "    m1.plot([-4,4], [-4,4])\n",
    "    m1.set_xlim(-3,2.5)\n",
    "    m1.set_ylim(-5,5)\n",
    "    #plt.yticks([-5,-4,-3,-2,-1,0,1,2,3])\n",
    "    m1.set_ylabel('Maredat Log$_{10}$ biomass \\n [mg C m$^{-3}$]')\n",
    "    m1.text(-2.5,4, \"Depth range: 5-25 m\",color='darkred')\n",
    "\n",
    "    m1 = axes[1,1]\n",
    "    m1.plot(np.log10(model_masked[1]),np.log10(d_biomass_5_25),'.',color='black')\n",
    "    m1.plot([-4,4], [-4,4])\n",
    "    m1.set_xlim(1,2)\n",
    "    m1.set_ylim(-5,5)\n",
    "    #plt.yticks([-5,-4,-3,-2,-1,0,1,2,3])\n",
    "    #m1.set_ylabel('Maredat Log$_{10}$ biomass \\n [mg C m$^{-3}$]')\n",
    "    m1.text(1.4,4, \"Depth range: 5-25 m\",color='darkred')\n",
    "\n",
    "    # ---------------------------------------------------------------------------------------------------\n",
    "\n",
    "    m1 = axes[2,0]\n",
    "    m1.plot(np.log10(model_masked[2]),np.log10(d_biomass_25_100),'.',color='black')\n",
    "    m1.plot([-4,4], [-4,4])\n",
    "    m1.set_xlim(-3,2.5)\n",
    "    m1.set_ylim(-5,5)\n",
    "    #plt.yticks([-5,-4,-3,-2,-1,0,1,2,3])\n",
    "    m1.set_ylabel('Maredat Log$_{10}$ biomass \\n [mg C m$^{-3}$]')\n",
    "    m1.text(-2.5,4, \"Depth range: 25-100 m\",color='darkred')\n",
    "\n",
    "    m1 = axes[2,1]\n",
    "    m1.plot(np.log10(model_masked[2]),np.log10(d_biomass_25_100),'.',color='black')\n",
    "    m1.plot([-4,4], [-4,4])\n",
    "    m1.set_xlim(0,1.5)\n",
    "    m1.set_ylim(-5,5)\n",
    "    #plt.yticks([-5,-4,-3,-2,-1,0,1,2,3])\n",
    "    #m1.set_ylabel('Maredat Log$_{10}$ biomass \\n [mg C m$^{-3}$]')\n",
    "    m1.text(0.2,4, \"Depth range: 25-100 m\",color='darkred')\n",
    "\n",
    "    # ---------------------------------------------------------------------------------------------------\n",
    "\n",
    "    m1 = axes[3,0]\n",
    "    m1.plot(np.log10(model_masked[3]),np.log10(d_biomass_100_bot),'.',color='black')\n",
    "    m1.plot([-4,4], [-4,4])\n",
    "    m1.set_xlim(-3,2.5)\n",
    "    m1.set_ylim(-5,5)\n",
    "    #plt.yticks([-5,-4,-3,-2,-1,0,1,2,3])\n",
    "    m1.set_ylabel('Maredat Log$_{10}$ biomass \\n [mg C m$^{-3}$]')\n",
    "    m1.set_xlabel('Model \"'+label+'\" Log$_{10}$ biomass \\n [mg C m$^{-3}$]')\n",
    "    m1.text(-2.5,4, \"Depth range: 100 m - bottom\",color='darkred')\n",
    "\n",
    "    m1 = axes[3,1]\n",
    "    m1.plot(np.log10(model_masked[3]),np.log10(d_biomass_100_bot),'.',color='black')\n",
    "    m1.plot([-4,4], [-4,4])\n",
    "    m1.set_xlim(-2,0.5)\n",
    "    m1.set_ylim(-5,5)\n",
    "    #plt.yticks([-5,-4,-3,-2,-1,0,1,2,3])\n",
    "    #m1.set_ylabel('Maredat Log$_{10}$ biomass \\n [mg C m$^{-3}$]')\n",
    "    m1.set_xlabel('Model \"'+label+'\" Log$_{10}$ biomass \\n [mg C m$^{-3}$]')\n",
    "    m1.text(-1.5,4, \"Depth range: 100 m - bottom\",color='darkred')\n",
    "    \n",
    "    if(savefig == True):\n",
    "        fig.savefig(savepath+'MarEDAT_scatter_'+label+'_'+str(years[0])+'to'+str(years[1])+'.png', \n",
    "                        dpi = 300, bbox_inches='tight')\n",
    "    plt.show()"
   ]
  },
  {
   "cell_type": "code",
   "execution_count": null,
   "metadata": {},
   "outputs": [],
   "source": [
    "comp_scatter(mo5_ma,'CONTROL_mo5',savefig=True)"
   ]
  },
  {
   "cell_type": "code",
   "execution_count": null,
   "metadata": {},
   "outputs": [],
   "source": [
    "comp_scatter(mo6_ma,'mo6_Pcm_25',True)"
   ]
  },
  {
   "cell_type": "code",
   "execution_count": null,
   "metadata": {},
   "outputs": [],
   "source": [
    "comp_scatter(mo7_ma,'mo6_Pcm_45',True)"
   ]
  },
  {
   "cell_type": "code",
   "execution_count": null,
   "metadata": {},
   "outputs": [],
   "source": [
    "comp_scatter(mo4_ma,'CONTROL_woMask_mo4',savefig=True)"
   ]
  },
  {
   "cell_type": "code",
   "execution_count": null,
   "metadata": {},
   "outputs": [],
   "source": []
  },
  {
   "cell_type": "code",
   "execution_count": null,
   "metadata": {},
   "outputs": [],
   "source": []
  },
  {
   "cell_type": "markdown",
   "metadata": {},
   "source": [
    "# Diatom silicate"
   ]
  },
  {
   "cell_type": "code",
   "execution_count": null,
   "metadata": {},
   "outputs": [],
   "source": [
    "units = 'Diatom intracell. Silicate [mmol m$^{{-3}}$]\\n{0}-{1}'.format(years[0],years[1])\n",
    "#units = 'intracellular Si [mmol m$^{-3}$]'\n",
    "\n",
    "DiaSi = [0]*len(idlist)\n",
    "\n",
    "for i in range(len(idlist)):\n",
    "    DiaSi[i] = pf.get_data(resultpath[i], \"DiaSi\", years, mesh, runid=idlist[i], how=\"mean\", compute=True, depth=depth)\n",
    "\n",
    "fig = pf.plot(mesh, [data for data in DiaSi], mapproj = mapproj, units=units, cmap = 'viridis',\n",
    "              rowscol = rowscol, #(math.ceil(len(idlist)/3), 3), \n",
    "              figsize = (15,10),\n",
    "              titles=[title for title in figlabel])"
   ]
  },
  {
   "cell_type": "code",
   "execution_count": null,
   "metadata": {
    "scrolled": false
   },
   "outputs": [],
   "source": [
    "## differences\n",
    "fig = pf.plot(mesh, [data-DiaSi[0] for data in DiaSi], mapproj = mapproj, units='MODEL - CTRL\\n'+units, \n",
    "              rowscol = rowscol, #(math.ceil(len(idlist)/3), 3), \n",
    "              figsize = (15,10),\n",
    "              #levels = (-2.5e-2,2.5e-2, 30), \n",
    "              cmap = 'RdBu',\n",
    "              titles=[title for title in figlabel])"
   ]
  },
  {
   "cell_type": "markdown",
   "metadata": {},
   "source": [
    "# Chl a"
   ]
  },
  {
   "cell_type": "code",
   "execution_count": null,
   "metadata": {},
   "outputs": [],
   "source": [
    "# diatom chlorophyll\n",
    "#!ncdump -h $NCfesom\n",
    "depth = 0\n",
    "\n",
    "DiaChl = [0]*len(idlist)\n",
    "\n",
    "units ='Diatom Chl [mmol m$^{{-3}}$]\\n{0}-{1} at {2} m'.format(years[0],years[1],depth)\n",
    "#units = 'Chl.a [mmol m$^{-3}$]'\n",
    "\n",
    "for i in range(len(idlist)):\n",
    "    DiaChl[i] = pf.get_data(resultpath[i], \"DiaChl\", years, mesh, runid=idlist[i], how=\"mean\", \n",
    "                            compute=True, depth=depth)\n",
    "\n",
    "fig = pf.plot(mesh, [data for data in DiaChl], mapproj = mapproj, units=units, cmap = 'viridis',\n",
    "              rowscol = rowscol, #(math.ceil(len(idlist)/3), 3), \n",
    "              figsize = (15,15),\n",
    "              titles=[title for title in figlabel])\n",
    "\n",
    "fig = pf.plot(mesh, [data-DiaChl[0] for data in DiaChl], mapproj = mapproj, units='MODEL - CTRL\\n'+units, \n",
    "              rowscol = rowscol, #(math.ceil(len(idlist)/3), 3), \n",
    "              figsize = (15,15),\n",
    "              #levels = (-2.5e-5,2.5e-5, 30), \n",
    "              cmap = 'RdBu',\n",
    "              titles=[title for title in figlabel])"
   ]
  },
  {
   "cell_type": "markdown",
   "metadata": {},
   "source": [
    "# Map of total Diatom NPP "
   ]
  },
  {
   "cell_type": "code",
   "execution_count": null,
   "metadata": {},
   "outputs": [],
   "source": [
    "#NCfesom = resultpath + '/NPPd.mo1.1948.nc'\n",
    "#!ncdump -h $NCfesom\n",
    "\n",
    "depth = 0\n",
    "\n",
    "# 12.01* data --> mg C/m2/d\n",
    "\n",
    "units ='Mean Diatom NPP [mg C m$^{{-2}}$ d$^{{-1}}$]\\n{0}-{1} at {2} m'.format(years[0],years[1],depth)\n",
    "#units = 'Mean NPP [mg C m$^{-2}$ d$^{-1}$]'\n",
    "\n",
    "NPPd = [0]*len(idlist)\n",
    "\n",
    "for i in range(len(idlist)):\n",
    "    NPPd[i] = pf.get_data(resultpath[i], \"NPPd\", years, mesh, runid=idlist[i], how=\"mean\", compute=True, depth=depth)\n",
    "    NPPd[i] = NPPd[i] * 12.01"
   ]
  },
  {
   "cell_type": "code",
   "execution_count": null,
   "metadata": {},
   "outputs": [],
   "source": [
    "fig = pf.plot(mesh, [data for data in NPPd], mapproj = mapproj, units=units, cmap = 'viridis',\n",
    "              rowscol = rowscol, #(math.ceil(len(idlist)/3), 3), \n",
    "              figsize = (15,15),\n",
    "              titles=[title for title in figlabel])"
   ]
  },
  {
   "cell_type": "code",
   "execution_count": null,
   "metadata": {
    "scrolled": false
   },
   "outputs": [],
   "source": [
    "## differences\n",
    "fig = pf.plot(mesh, [data-NPPd[0] for data in NPPd], mapproj = mapproj, units='MODEL - CTRL\\n'+units, \n",
    "              rowscol = rowscol, #(math.ceil(len(idlist)/3), 3), \n",
    "              figsize = (15,15),\n",
    "              #levels = (-2.5e-2,2.5e-2, 30), \n",
    "              cmap = 'RdBu',\n",
    "              titles=[title for title in figlabel])"
   ]
  },
  {
   "cell_type": "markdown",
   "metadata": {},
   "source": [
    "# Map of nanophytoplankton NPP"
   ]
  },
  {
   "cell_type": "code",
   "execution_count": null,
   "metadata": {},
   "outputs": [],
   "source": [
    "#NCfesom = resultpath + '/NPPn.mo1.1948.nc'\n",
    "#!ncdump -h $NCfesom\n",
    "\n",
    "# 12.01* data --> mg C/m2/d\n",
    "\n",
    "units = 'Nanophytoplankton NPP [mg C m$^{{-2}}$ d$^{{-1}}$]\\n{0}-{1} at {2} m'.format(years[0],years[1],depth)\n",
    "#units = 'Mean NPP [mg C m$^{-2}$ d$^{-1}$]'\n",
    "\n",
    "NPPn = [0]*len(idlist)\n",
    "\n",
    "for i in range(len(idlist)):\n",
    "    NPPn[i] = pf.get_data(resultpath[i], \"NPPn\", years, mesh, runid=idlist[i], how=\"mean\", compute=True, depth=depth)\n",
    "    NPPn[i] = NPPn[i] * 12.01"
   ]
  },
  {
   "cell_type": "code",
   "execution_count": null,
   "metadata": {},
   "outputs": [],
   "source": [
    "fig = pf.plot(mesh, [data for data in NPPn], mapproj = mapproj, units=units, cmap = 'viridis',\n",
    "              rowscol = rowscol, #(math.ceil(len(idlist)/3), 3), \n",
    "              figsize = (15,15),\n",
    "              titles=[title for title in figlabel])"
   ]
  },
  {
   "cell_type": "code",
   "execution_count": null,
   "metadata": {},
   "outputs": [],
   "source": [
    "## differences\n",
    "fig = pf.plot(mesh, [data-NPPn[0] for data in NPPn], mapproj = mapproj, units='MODEL - CTRL\\n'+units, \n",
    "              rowscol = rowscol, #(math.ceil(len(idlist)/3), 3), \n",
    "              figsize = (15,15),\n",
    "              #levels = (-30,30, 30), \n",
    "              cmap = 'RdBu',\n",
    "              titles=[title for title in figlabel])"
   ]
  },
  {
   "cell_type": "markdown",
   "metadata": {},
   "source": [
    "# Total NPP"
   ]
  },
  {
   "cell_type": "code",
   "execution_count": null,
   "metadata": {},
   "outputs": [],
   "source": [
    "units ='Total Net Primary Production [mg C m$^{{-2}}$ d$^{{-1}}$]\\n{0}-{1}  at {2} m'.format(years[0],years[1],depth)\n",
    "#units = 'Mean total NPP [mg C m$^{-2}$ d$^{-1}$]'\n",
    "\n",
    "NPPtot = [NPPd[i] + NPPn[i] for i in range(len(idlist))]"
   ]
  },
  {
   "cell_type": "code",
   "execution_count": null,
   "metadata": {},
   "outputs": [],
   "source": [
    "fig = pf.plot(mesh, [data for data in NPPtot], mapproj = mapproj, units=units, cmap = 'viridis',\n",
    "              rowscol = rowscol, #(math.ceil(len(idlist)/3), 3), \n",
    "              figsize = (15,15),\n",
    "              titles=[title for title in figlabel])"
   ]
  },
  {
   "cell_type": "code",
   "execution_count": null,
   "metadata": {},
   "outputs": [],
   "source": [
    "## differences\n",
    "fig = pf.plot(mesh, [data-NPPtot[0] for data in NPPtot], mapproj = mapproj, units='MODEL - CTRL\\n'+units, \n",
    "              rowscol = rowscol, #(math.ceil(len(idlist)/3), 3), \n",
    "              figsize = (15,15),\n",
    "              #levels = (-2.5e-1,2.5e-1, 30), \n",
    "              cmap = 'RdBu',\n",
    "              titles=[title for title in figlabel])"
   ]
  },
  {
   "cell_type": "markdown",
   "metadata": {},
   "source": [
    "# Nutrients"
   ]
  },
  {
   "cell_type": "code",
   "execution_count": null,
   "metadata": {},
   "outputs": [],
   "source": [
    "from DIN_WOA_Comparison_python3 import DINcomp"
   ]
  },
  {
   "cell_type": "code",
   "execution_count": null,
   "metadata": {
    "scrolled": false
   },
   "outputs": [],
   "source": [
    "# check DIN comp to WOA FOR CONTROL RUN\n",
    "\n",
    "#ctrl = DINcomp('fesom',resultpath[0],savepath,meshpath,ncfileDIN,first_year,last_year,mapproj=mapproj)"
   ]
  },
  {
   "cell_type": "code",
   "execution_count": null,
   "metadata": {
    "scrolled": false
   },
   "outputs": [],
   "source": [
    "# run DINcomp for each result\n",
    "if False:\n",
    "    for i in range(len(resultpath)):\n",
    "        print('\\n****************************** \\nANALYSING {0} \\n******************************'.format(resultpath[i]))\n",
    "        fig = DINcomp(idlist[i],resultpath[i],savepath,meshpath,ncfileDIN,first_year,last_year,mapproj=mapproj)"
   ]
  },
  {
   "cell_type": "code",
   "execution_count": null,
   "metadata": {},
   "outputs": [],
   "source": []
  },
  {
   "cell_type": "code",
   "execution_count": null,
   "metadata": {},
   "outputs": [],
   "source": []
  },
  {
   "cell_type": "code",
   "execution_count": null,
   "metadata": {},
   "outputs": [],
   "source": [
    "stop"
   ]
  },
  {
   "cell_type": "markdown",
   "metadata": {},
   "source": [
    "## Data"
   ]
  },
  {
   "cell_type": "code",
   "execution_count": null,
   "metadata": {},
   "outputs": [],
   "source": [
    "#pf.get_data?"
   ]
  },
  {
   "cell_type": "code",
   "execution_count": null,
   "metadata": {},
   "outputs": [],
   "source": [
    "years = range(1948,1951)\n",
    "runid = 'mo1'\n",
    "\n",
    "datapath = resultpath + runid\n",
    "\n",
    "#var = 'temp'\n",
    "var = 'DiaChl'"
   ]
  },
  {
   "cell_type": "code",
   "execution_count": null,
   "metadata": {},
   "outputs": [],
   "source": [
    "%%bash \n",
    "ncdump -h /work/ollie/mozeisin/results/f2r1.2/mo1/DiaChl.mo1.1950.nc "
   ]
  },
  {
   "cell_type": "code",
   "execution_count": null,
   "metadata": {},
   "outputs": [],
   "source": [
    "data = pf.get_data(datapath,\n",
    "                   var, \n",
    "                   years,\n",
    "                   mesh,\n",
    "                   runid=runid,\n",
    "                   how='ori',\n",
    "                   compute=False) #,chunks={'nod2':10000, 'nz1':5})"
   ]
  },
  {
   "cell_type": "code",
   "execution_count": null,
   "metadata": {},
   "outputs": [],
   "source": [
    "data.shape"
   ]
  },
  {
   "cell_type": "code",
   "execution_count": null,
   "metadata": {},
   "outputs": [],
   "source": [
    "data_mean = data.mean(dim='time').compute()\n",
    "data_mean.shape\n",
    "              "
   ]
  },
  {
   "cell_type": "markdown",
   "metadata": {},
   "source": [
    "## Plotting"
   ]
  },
  {
   "cell_type": "code",
   "execution_count": null,
   "metadata": {
    "scrolled": false
   },
   "outputs": [],
   "source": [
    "pf.plot(mesh, data_mean[:,0].values, units=var)"
   ]
  },
  {
   "cell_type": "code",
   "execution_count": null,
   "metadata": {
    "scrolled": false
   },
   "outputs": [],
   "source": [
    "pf.plot(mesh, data_mean[:,0].values, mapproj='np', box=[-180, 180, 60, 90], units=var)"
   ]
  },
  {
   "cell_type": "markdown",
   "metadata": {},
   "source": [
    "#### Regional mask"
   ]
  },
  {
   "cell_type": "code",
   "execution_count": null,
   "metadata": {},
   "outputs": [],
   "source": [
    "#np.ma.masked_array?"
   ]
  },
  {
   "cell_type": "code",
   "execution_count": null,
   "metadata": {},
   "outputs": [],
   "source": [
    "#pf.get_mask?"
   ]
  },
  {
   "cell_type": "code",
   "execution_count": null,
   "metadata": {},
   "outputs": [],
   "source": [
    "mask_al = np.invert(pf.get_mask(mesh, \"Atlantic_Basin\"))\n",
    "#mask_al.shape"
   ]
  },
  {
   "cell_type": "code",
   "execution_count": null,
   "metadata": {},
   "outputs": [],
   "source": [
    "pf.plot(mesh, \n",
    "        np.ma.masked_array(data_mean[:,0].values, mask=mask_al), \n",
    "        units=var,\n",
    "        box = [-100,30,-50,80])"
   ]
  },
  {
   "cell_type": "code",
   "execution_count": null,
   "metadata": {},
   "outputs": [],
   "source": [
    "mesh.n2d"
   ]
  },
  {
   "cell_type": "markdown",
   "metadata": {},
   "source": [
    "## Differences"
   ]
  },
  {
   "cell_type": "code",
   "execution_count": null,
   "metadata": {},
   "outputs": [],
   "source": [
    "years = range(1949,1951)\n",
    "var = 'DiaChl'\n",
    "\n",
    "runid = 'mo1'\n",
    "data_mean_mo1 = pf.get_data(resultpath + runid,\n",
    "                   var, \n",
    "                   years,\n",
    "                   mesh,\n",
    "                   runid=runid,\n",
    "                   how='mean',\n",
    "                   compute=True) \n",
    "\n",
    "runid = 'mo2'\n",
    "data_mean_mo2 = pf.get_data(resultpath + runid,\n",
    "                   var, \n",
    "                   years,\n",
    "                   mesh,\n",
    "                   runid=runid,\n",
    "                   how='mean',\n",
    "                   compute=True)\n",
    "\n",
    "runid = 'mo3'\n",
    "data_mean_mo3 = pf.get_data(resultpath + runid,\n",
    "                   var, \n",
    "                   years,\n",
    "                   mesh,\n",
    "                   runid=runid,\n",
    "                   how='mean',\n",
    "                   compute=True)"
   ]
  },
  {
   "cell_type": "code",
   "execution_count": null,
   "metadata": {},
   "outputs": [],
   "source": [
    "#pf.plot?"
   ]
  },
  {
   "cell_type": "code",
   "execution_count": null,
   "metadata": {},
   "outputs": [],
   "source": [
    "pf.plot(mesh, \n",
    "        [data_mean_mo1[:,0], data_mean_mo2[:,0], data_mean_mo3[:,0]], \n",
    "        units = var,\n",
    "       rowscol=[3,1],\n",
    "        titles=['mo1', 'mo2', 'mo3'],\n",
    "       figsize=(14,10))\n"
   ]
  },
  {
   "cell_type": "markdown",
   "metadata": {},
   "source": [
    "#### Differences"
   ]
  },
  {
   "cell_type": "code",
   "execution_count": null,
   "metadata": {},
   "outputs": [],
   "source": [
    "pf.plot(mesh, \n",
    "        [data_mean_mo1[:,0]- data_mean_mo2[:,0], data_mean_mo1[:,0]- data_mean_mo3[:,0]],\n",
    "        units = var + ' (Ctrl - test)',\n",
    "        cmap=cm.seismic,\n",
    "        levels = (-2e-5, 6e-5,30),\n",
    "        titles = ['Differences ' + var + ' $\\longrightarrow$ P$_{cm,d}$ = 2.5',\n",
    "                 'Differences ' + var + ' $\\longrightarrow$ P$_{cm,d}$ = 4.5'],\n",
    "        rowscol = [1,2],\n",
    "       figsize=(14,10))"
   ]
  },
  {
   "cell_type": "code",
   "execution_count": null,
   "metadata": {
    "scrolled": false
   },
   "outputs": [],
   "source": [
    "pf.plot(mesh, \n",
    "        [data_mean_mo1[:,0]- data_mean_mo2[:,0]],\n",
    "        units = var,\n",
    "        cmap=cm.seismic,\n",
    "        levels = (-2e-5, 6e-5,30),\n",
    "        titles = 'Differences ' + var + ' $\\longrightarrow$ P$_{cm,d}$ = 2.5',\n",
    "       figsize=(12,10))"
   ]
  },
  {
   "cell_type": "code",
   "execution_count": null,
   "metadata": {},
   "outputs": [],
   "source": [
    "pf.plot(mesh, \n",
    "        [data_mean_mo1[:,0]- data_mean_mo3[:,0]],\n",
    "        units = var,\n",
    "        cmap=cm.seismic,\n",
    "        levels = (-2e-5, 6e-5,30),\n",
    "        titles = 'Differences ' + var + ' $\\longrightarrow$ P$_{cm,d}$ = 4.5',\n",
    "       figsize=(12,10))"
   ]
  },
  {
   "cell_type": "markdown",
   "metadata": {},
   "source": [
    "## Transect"
   ]
  },
  {
   "cell_type": "markdown",
   "metadata": {},
   "source": [
    "#### Atlantic :  Diatom Chl"
   ]
  },
  {
   "cell_type": "code",
   "execution_count": null,
   "metadata": {},
   "outputs": [],
   "source": [
    "lon_start = -25\n",
    "lat_start = -50\n",
    "lon_end = -25\n",
    "lat_end = 65\n",
    "npoints   = 50\n",
    "lonlat = pf.transect_get_lonlat(lon_start, lat_start, lon_end, lat_end, npoints)\n",
    "\n",
    "pf.plot_transect_map(lonlat, mesh)"
   ]
  },
  {
   "cell_type": "code",
   "execution_count": null,
   "metadata": {},
   "outputs": [],
   "source": [
    "dist, transect_data = pf.get_transect(data_mean_mo1,mesh,lonlat)\n",
    "dist2, transect_data2 = pf.get_transect(data_mean_mo2,mesh,lonlat)\n",
    "dist3, transect_data3 = pf.get_transect(data_mean_mo3,mesh,lonlat)\n",
    "\n",
    "pf.plot_xyz(mesh, \n",
    "            [transect_data,transect_data2,transect_data3],\n",
    "            dist,\n",
    "            maxdepth=500,\n",
    "            ncols=3,\n",
    "            xlabel='Distance',\n",
    "            label='Diatom Chl',\n",
    "            title=['Transect Dia Chl CTRL', 'Transect Dia Chl $\\longrightarrow$ P$_{cm,d}$ = 2.5',\n",
    "                 'Transect Dia Chl $\\longrightarrow$ P$_{cm,d}$ = 4.5'],\n",
    "            #levels=np.linspace(-2,2, 41),cmap=cm.hot_r,\n",
    "            figsize=(15, 6))\n",
    "print('Atlantic Transect, mean 1949-1950')"
   ]
  },
  {
   "cell_type": "code",
   "execution_count": null,
   "metadata": {},
   "outputs": [],
   "source": [
    "#pf.plot_xyz?"
   ]
  },
  {
   "cell_type": "code",
   "execution_count": null,
   "metadata": {},
   "outputs": [],
   "source": []
  },
  {
   "cell_type": "markdown",
   "metadata": {},
   "source": [
    "#### Fram Strait: Temperature"
   ]
  },
  {
   "cell_type": "code",
   "execution_count": null,
   "metadata": {},
   "outputs": [],
   "source": [
    "year = 1950"
   ]
  },
  {
   "cell_type": "code",
   "execution_count": null,
   "metadata": {},
   "outputs": [],
   "source": [
    "temp = pf.get_data(resultpath + runid, 'temp', year, mesh, runid=runid)"
   ]
  },
  {
   "cell_type": "code",
   "execution_count": null,
   "metadata": {},
   "outputs": [],
   "source": [
    "lon_start = -5\n",
    "lat_start = 85\n",
    "lon_end = -5\n",
    "lat_end = 75\n",
    "npoints   = 50\n",
    "lonlat = pf.transect_get_lonlat(lon_start, lat_start, lon_end, lat_end, npoints)"
   ]
  },
  {
   "cell_type": "code",
   "execution_count": null,
   "metadata": {},
   "outputs": [],
   "source": [
    "pf.plot_transect_map(lonlat, mesh, view='np')"
   ]
  },
  {
   "cell_type": "code",
   "execution_count": null,
   "metadata": {},
   "outputs": [],
   "source": [
    "dist, temp_transect_data = pf.get_transect(temp,\n",
    "    mesh,\n",
    "    lonlat)\n",
    "pf.plot_xyz(mesh, temp_transect_data, dist)"
   ]
  },
  {
   "cell_type": "code",
   "execution_count": null,
   "metadata": {},
   "outputs": [],
   "source": [
    "pf.plot_xyz(mesh, \n",
    "            temp_transect_data,\n",
    "            dist,\n",
    "            maxdepth=2000,\n",
    "            label=\"deg C\",\n",
    "            title=\"Transect\",\n",
    "            levels=np.linspace(-2,2, 41),\n",
    "            cmap=cm.hot_r\n",
    "           )"
   ]
  },
  {
   "cell_type": "markdown",
   "metadata": {},
   "source": [
    "## Plotting NPPd"
   ]
  },
  {
   "cell_type": "code",
   "execution_count": null,
   "metadata": {},
   "outputs": [],
   "source": [
    "%%bash\n",
    "ncdump -h /work/ollie/mozeisin/results/f2r1.2/mo1/NPPd.mo1.1950.nc "
   ]
  },
  {
   "cell_type": "code",
   "execution_count": null,
   "metadata": {
    "scrolled": false
   },
   "outputs": [],
   "source": [
    "var = 'NPPd'\n",
    "years = range(1949,1951)\n",
    "runid = 'mo1'\n",
    "\n",
    "data_NPPd = pf.get_data(datapath,\n",
    "                   var, \n",
    "                   years,\n",
    "                   mesh,\n",
    "                   runid=runid,\n",
    "                   how='mean',\n",
    "                   compute=True)\n",
    "                \n",
    "#data_NPPd_mean = data_NPPd.mean(dim='time').compute()  \n",
    "np.shape(data_NPPd)"
   ]
  },
  {
   "cell_type": "code",
   "execution_count": null,
   "metadata": {
    "scrolled": false
   },
   "outputs": [],
   "source": [
    "pf.plot(mesh, data_NPPd, \n",
    "        #mapproj='np', \n",
    "        #box=[-180, 180, 60, 90], \n",
    "        units='mean NPPd [mmolC/(m3*d)]')"
   ]
  },
  {
   "cell_type": "markdown",
   "metadata": {},
   "source": [
    "#### Differences"
   ]
  },
  {
   "cell_type": "code",
   "execution_count": null,
   "metadata": {},
   "outputs": [],
   "source": [
    "runid = 'mo1'\n",
    "data_mean_mo1 = pf.get_data(resultpath + runid,\n",
    "                   var, \n",
    "                   years,\n",
    "                   mesh,\n",
    "                   runid=runid,\n",
    "                   how='mean',\n",
    "                   compute=True) \n",
    "\n",
    "runid = 'mo2'\n",
    "data_mean_mo2 = pf.get_data(resultpath + runid,\n",
    "                   var, \n",
    "                   years,\n",
    "                   mesh,\n",
    "                   runid=runid,\n",
    "                   how='mean',\n",
    "                   compute=True)\n",
    "\n",
    "runid = 'mo3'\n",
    "data_mean_mo3 = pf.get_data(resultpath + runid,\n",
    "                   var, \n",
    "                   years,\n",
    "                   mesh,\n",
    "                   runid=runid,\n",
    "                   how='mean',\n",
    "                   compute=True)\n",
    "\n",
    "pf.plot(mesh, \n",
    "        [data_mean_mo1, data_mean_mo1,\n",
    "         data_mean_mo2, data_mean_mo1 - data_mean_mo2,\n",
    "         data_mean_mo3, data_mean_mo1 - data_mean_mo3], \n",
    "        units = var,\n",
    "       rowscol=[3,2],\n",
    "        titles=['mo1 $\\longrightarrow$ P$_{cm,d}$ = 3.5', 'mo1', \n",
    "                'mo2 $\\longrightarrow$ P$_{cm,d}$ = 2.5', 'mo1-mo2', \n",
    "                'mo3 $\\longrightarrow$ P$_{cm,d}$ = 4.5', 'mo1-mo3'],\n",
    "       figsize=(14,10))"
   ]
  },
  {
   "cell_type": "markdown",
   "metadata": {},
   "source": [
    "## Evaluation"
   ]
  },
  {
   "cell_type": "markdown",
   "metadata": {},
   "source": [
    "#### MareDat from Miriam"
   ]
  },
  {
   "cell_type": "code",
   "execution_count": null,
   "metadata": {},
   "outputs": [],
   "source": [
    "data_file1 = 'MarEDat20120716Diatoms.nc' \n",
    "datamacro  = '/work/ollie/mseifert/'+data_file1\n",
    "ncfile     = datamacro"
   ]
  },
  {
   "cell_type": "code",
   "execution_count": null,
   "metadata": {},
   "outputs": [],
   "source": [
    "%%bash\n",
    "ncdump -h /work/ollie/mseifert/MarEDat20120716Diatoms.nc\n",
    "# BIOMASS:units = \"ug/L\""
   ]
  },
  {
   "cell_type": "code",
   "execution_count": null,
   "metadata": {},
   "outputs": [],
   "source": [
    "f          = Dataset(ncfile, 'r')\n",
    "biomass_macro  = f['BIOMASS'][:]\n",
    "lon_macro      = f['LONGITUDE'][:]\n",
    "lat_macro      = f['LATITUDE'][:]\n",
    "depth_macro    = f['DEPTH'][:]\n",
    "\n",
    "biomass_macro[:][biomass_macro[:] == 1e+35] = np.nan\n",
    "biomass_macro_an = np.nanmean(biomass_macro[:],axis=0)\n",
    "biomass_macro_an_int = np.nansum(biomass_macro_an[:],axis=0)\n",
    "\n",
    "dep_ind   = np.nonzero((0 <= depth_macro[:] )&(depth_macro[:] <= 5))\n",
    "dep_ind2  = np.nonzero((5 < depth_macro[:] )&(depth_macro[:] <= 25))\n",
    "dep_ind3  = np.nonzero((25 < depth_macro[:] )&(depth_macro[:] <= 100))\n",
    "dep_ind4  = np.nonzero((100 < depth_macro[:]))\n",
    "\n",
    "macro_so        = biomass_macro_an\n",
    "macro_so_050    = np.squeeze(np.nansum(macro_so[dep_ind],axis=0))         #squeeze: To get rid of the depth dimension (180, 360 instead of 1, 180, 360)                                                         \n",
    "macro_so_50150  = np.squeeze(np.nansum(macro_so[dep_ind2],axis=0))\n",
    "macro_so_150350 = np.squeeze(np.nansum(macro_so[dep_ind3],axis=0))\n",
    "macro_so_350    = np.squeeze(np.nansum(macro_so[dep_ind4],axis=0))"
   ]
  },
  {
   "cell_type": "code",
   "execution_count": null,
   "metadata": {},
   "outputs": [],
   "source": [
    "np.shape(macro_so_050)\n"
   ]
  },
  {
   "cell_type": "code",
   "execution_count": null,
   "metadata": {},
   "outputs": [],
   "source": [
    "plt.pcolor(macro_so_050)\n",
    "plt.colorbar()"
   ]
  },
  {
   "cell_type": "markdown",
   "metadata": {},
   "source": [
    "#### Comparision with Bracher et al. (2019) PS106"
   ]
  },
  {
   "cell_type": "code",
   "execution_count": null,
   "metadata": {},
   "outputs": [],
   "source": [
    "# import from PANGAEA\n",
    "ds= pd.PanDataSet(899284)\n",
    "print(ds.title)\n",
    "PS106.head()\n",
    "# Chl a in µg/L\n",
    "\n",
    "PS106 = ds.data\n",
    "\n",
    "#print(np.shape(PS106), type(PS106))"
   ]
  },
  {
   "cell_type": "code",
   "execution_count": null,
   "metadata": {
    "scrolled": false
   },
   "outputs": [],
   "source": []
  },
  {
   "cell_type": "markdown",
   "metadata": {},
   "source": [
    "fig_PS106 = PS106.plot(kind='scatter', \n",
    "           x='Longitude', y='Latitude',\n",
    "          c='Chl a diatoms', cmap=plt.get_cmap(\"jet\"), colorbar=True,\n",
    "          figsize = (10,7))"
   ]
  },
  {
   "cell_type": "code",
   "execution_count": null,
   "metadata": {
    "scrolled": false
   },
   "outputs": [],
   "source": [
    "# plot with cartopy\n",
    "\n",
    "# defining projections\n",
    "og = ccrs.Orthographic(0,90)\n",
    "pc = ccrs.PlateCarree()\n",
    "\n",
    "PS106_Chla_dia = PS106['Chl a diatoms']\n",
    "lat, lon = PS106['Latitude'], PS106['Longitude']\n",
    "\n",
    "fig = plt.figure(figsize=(20, 16))\n",
    "ax = plt.axes(projection=og)\n",
    "ax.coastlines()\n",
    "ax.gridlines()\n",
    "plt.scatter(lon, lat, transform = pc, \n",
    "    c=PS106_Chla_dia, cmap=plt.get_cmap(\"jet\"))\n",
    "ax.set_extent([-20, 50, 60, 90])\n",
    "ax.stock_img()\n",
    "plt.xlabel('longitude')\n",
    "plt.ylabel('latitude')\n",
    "plt.title('PS106 Diatom Chlorophyll a  (Bracher et al., 2019)')\n",
    "plt.colorbar(label='Diatom Chl.a [µg/L]')\n",
    "#plt.clim(0, 10)"
   ]
  },
  {
   "cell_type": "code",
   "execution_count": null,
   "metadata": {},
   "outputs": [],
   "source": []
  },
  {
   "cell_type": "markdown",
   "metadata": {},
   "source": [
    "## Evaluation scripts from pyfesom 2"
   ]
  },
  {
   "cell_type": "markdown",
   "metadata": {},
   "source": [
    "#### Diatom Chla integrals"
   ]
  },
  {
   "cell_type": "code",
   "execution_count": null,
   "metadata": {},
   "outputs": [],
   "source": [
    "DiaChl = pf.get_data(datapath, 'DiaChl', years, mesh, runid=runid, how=None, compute=False)"
   ]
  },
  {
   "cell_type": "code",
   "execution_count": null,
   "metadata": {},
   "outputs": [],
   "source": [
    "#pf.volmean_data?\n",
    "DiaChl_volmean = pf.volmean_data(DiaChl, mesh, meshdiag=datapath + \"mo1  .mesh.diag.nc\", runid = runid)"
   ]
  },
  {
   "cell_type": "code",
   "execution_count": null,
   "metadata": {},
   "outputs": [],
   "source": [
    "DiaChl_volmean.plot()"
   ]
  },
  {
   "cell_type": "markdown",
   "metadata": {},
   "source": [
    "#### Sea Ice integrals"
   ]
  },
  {
   "cell_type": "code",
   "execution_count": null,
   "metadata": {},
   "outputs": [],
   "source": [
    "a_ice = pf.get_data(datapath, 'a_ice', range(1948,1951), mesh, runid='mo1', how=None, compute=False)\n",
    "\n",
    "ice_area = pf.ice_area(a_ice, mesh,)\n",
    "ice_ext = pf.ice_ext(a_ice, mesh)\n",
    "\n",
    "ice_area.plot()"
   ]
  },
  {
   "cell_type": "code",
   "execution_count": null,
   "metadata": {},
   "outputs": [],
   "source": []
  },
  {
   "cell_type": "markdown",
   "metadata": {},
   "source": [
    "# Export to HTML"
   ]
  },
  {
   "cell_type": "code",
   "execution_count": null,
   "metadata": {},
   "outputs": [],
   "source": [
    "%autosave 2\n",
    "\n",
    "time.sleep(15)\n",
    "\n",
    "!jupyter nbconvert MZ_F2R_sensitivity_runs_python3.ipynb --output-dir=$htmlpath --output $htmlname --to html "
   ]
  },
  {
   "cell_type": "markdown",
   "metadata": {},
   "source": [
    "# OLD STUFF"
   ]
  },
  {
   "cell_type": "code",
   "execution_count": null,
   "metadata": {},
   "outputs": [],
   "source": [
    "### get interpolation input -> data of all levels\n",
    "if False:\n",
    "    # annual mean of fesom data already caluclated when reading model results\n",
    "    i=0\n",
    "    DiaC_interp_in = pf.get_data(resultpath[i], \"DiaC\", years, mesh, runid=idlist[i], how=\"mean\")\n",
    "    DiaC_interp_in = DiaC_interp_in * 12.01\n",
    "    print(np.shape(DiaC_interp_in))\n",
    "\n",
    "    # interp preperation\n",
    "    lons, lats = np.meshgrid(lon_maredat, lat_maredat)\n",
    "\n",
    "    # depth indices similar to MarEDAT\n",
    "    depth_range = [0,5,25,100,1e5]\n",
    "    dep_ind1  = np.nonzero((0 >= mesh_depths )&(mesh_depths >= -5))\n",
    "    dep_ind2  = np.nonzero((-5 > mesh_depths )&(mesh_depths >= -25))\n",
    "    dep_ind3  = np.nonzero((-25 > mesh_depths )&(mesh_depths >= -100))\n",
    "    dep_ind4  = np.nonzero((-100 > mesh_depths))\n",
    "\n",
    "    dep_ind = [dep_ind1,dep_ind2,dep_ind3,dep_ind4]\n",
    "\n",
    "    #print(dep_ind1, dep_ind4)\n",
    "\n",
    "    # storage\n",
    "    DiaC_interp_all = [0]*len(idlist)\n",
    "\n",
    "    for d in range(len(dep_ind)):\n",
    "        d1 = depth_range[d]\n",
    "        d2 = depth_range[d+1]\n",
    "        dep_i = dep_ind[d]\n",
    "        print('\\nProcessing {4}\\nDepth range {0}-{1} m for years {2}-{3}'.format(d1,d2,years[0],years[1],resultpath[i]))\n",
    "\n",
    "        DiaC_interp_dep = np.squeeze(DiaC_interp_in[:,dep_ind1])\n",
    "        #print(np.shape(DiaC_interp_dep))\n",
    "\n",
    "        # interpolate fesom data to 1x1 grid\n",
    "        DiaC_interp = pf.fesom2regular(\n",
    "                data = DiaC_interp_dep,\n",
    "                mesh = mesh,\n",
    "                lons = lons, \n",
    "                lats = lats)\n",
    "\n",
    "        #print(np.shape(DiaC_interp))\n",
    "\n",
    "        # save to storage\n",
    "        DiaC_interp_all[i] = DiaC_interp\n"
   ]
  },
  {
   "cell_type": "code",
   "execution_count": null,
   "metadata": {},
   "outputs": [],
   "source": [
    "#### manually calculating and plotting Taylor statistics\n",
    "if False:\n",
    "    # get indices for valid data points \n",
    "    ind_stat = np.where(mo5_ma[2] != 0)\n",
    "\n",
    "    taylor_stats1 = sm.taylor_statistics(mo5_ma[2][ind_stat],d_biomass_25_100[ind_stat])\n",
    "    print(taylor_stats1)\n",
    "\n",
    "    sdev = np.array([taylor_stats1['sdev'][0]/taylor_stats1['sdev'][0], \n",
    "                     taylor_stats1['sdev'][1]/taylor_stats1['sdev'][0]])\n",
    "\n",
    "    crmsd = np.array([taylor_stats1['crmsd'][0]/taylor_stats1['sdev'][0],\n",
    "                      taylor_stats1['crmsd'][1]/taylor_stats1['sdev'][0]])\n",
    "\n",
    "    ccoef = np.array([taylor_stats1['ccoef'][0], \n",
    "                      taylor_stats1['ccoef'][1]])\n",
    "\n",
    "    print('\\nNormalized Taylor stats:\\nSDEV pred: {0:6.5f}, ref: {1:6.5f}\\nCRMS pred: {2:6.5f}, ref: {3:6.5f}\\nCORRCOEF: {4:6.5f}'.format(\n",
    "                sdev[1],sdev[0],crmsd[1],crmsd[0],ccoef[1], ccoef[0]))\n",
    "\n",
    "    fig = plt.figure(figsize=(7,7), facecolor='w', edgecolor='k')\n",
    "    sm.taylor_diagram(sdev,crmsd,ccoef, styleOBS = '-', colOBS = 'r', markerobs = 'o',\n",
    "                          titleOBS = 'observation', markerLabel = ['obs','model'],\n",
    "                          markerLabelColor = 'c',\n",
    "                          markerColor = 'c', markerLegend = 'on',\n",
    "                          markerSize = 12,\n",
    "                          #tickRMS = range(0,5,1),\n",
    "                          #tickRMSangle = tickRMSangle,\n",
    "                          colRMS = 'm', styleRMS = ':', #widthRMS = 2.0,\n",
    "                          titleRMS = 'off', #tickSTD = np.arange(0,1.25,.25),\n",
    "                          #axismax = 1.25, \n",
    "                          colSTD = 'b', styleSTD = '-.',\n",
    "                          widthSTD = 1.0, titleSTD = 'on',\n",
    "                          colCOR = 'k', styleCOR = '--', widthCOR = 1.0,\n",
    "                          titleCOR = 'on')"
   ]
  },
  {
   "cell_type": "code",
   "execution_count": null,
   "metadata": {},
   "outputs": [],
   "source": [
    "### old scatter plot, manually\n",
    "if False:\n",
    "    fig, axes = plt.subplots(4,2, #gridspec_kw={'hspace': 0.001, 'wspace': 0.1}, \n",
    "                             figsize=(10,10))\n",
    "\n",
    "    m1 = axes[0,0]\n",
    "    m1.plot(np.log10(mo5_ma[0]),np.log10(d_biomass_0_5),'.',color='black')\n",
    "    m1.plot([-4,4], [-4,4])\n",
    "    m1.set_xlim(-3,2.5)\n",
    "    m1.set_ylim(-5,5)\n",
    "    #plt.yticks([-5,-4,-3,-2,-1,0,1,2,3])\n",
    "    m1.set_ylabel('Maredat Log$_{10}$ biomass \\n [mg C m$^{-3}$]')\n",
    "    m1.text(-2.5,4, \"Depth range: 0-5 m\",color='darkred')\n",
    "\n",
    "    m1 = axes[0,1]\n",
    "    m1.plot(np.log10(mo5_ma[0]),np.log10(d_biomass_0_5),'.',color='black')\n",
    "    m1.plot([-4,4], [-4,4])\n",
    "    m1.set_xlim(1,2)\n",
    "    m1.set_ylim(-5,5)\n",
    "    #plt.yticks([-5,-4,-3,-2,-1,0,1,2,3])\n",
    "    #m1.set_ylabel('Maredat Log$_{10}$ biomass \\n [mg C m$^{-3}$]')\n",
    "    m1.text(1.1,4, \"Depth range: 0-5 m\",color='darkred')\n",
    "\n",
    "    # ---------------------------------------------------------------------------------------------------\n",
    "\n",
    "    m1 = axes[1,0]\n",
    "    m1.plot(np.log10(mo5_ma[1]),np.log10(d_biomass_5_25),'.',color='black')\n",
    "    m1.plot([-4,4], [-4,4])\n",
    "    m1.set_xlim(-3,2.5)\n",
    "    m1.set_ylim(-5,5)\n",
    "    #plt.yticks([-5,-4,-3,-2,-1,0,1,2,3])\n",
    "    m1.set_ylabel('Maredat Log$_{10}$ biomass \\n [mg C m$^{-3}$]')\n",
    "    m1.text(-2.5,4, \"Depth range: 5-25 m\",color='darkred')\n",
    "\n",
    "    m1 = axes[1,1]\n",
    "    m1.plot(np.log10(mo5_ma[1]),np.log10(d_biomass_5_25),'.',color='black')\n",
    "    m1.plot([-4,4], [-4,4])\n",
    "    m1.set_xlim(1,2)\n",
    "    m1.set_ylim(-5,5)\n",
    "    #plt.yticks([-5,-4,-3,-2,-1,0,1,2,3])\n",
    "    #m1.set_ylabel('Maredat Log$_{10}$ biomass \\n [mg C m$^{-3}$]')\n",
    "    m1.text(1.4,4, \"Depth range: 5-25 m\",color='darkred')\n",
    "\n",
    "    # ---------------------------------------------------------------------------------------------------\n",
    "\n",
    "    m1 = axes[2,0]\n",
    "    m1.plot(np.log10(mo5_ma[2]),np.log10(d_biomass_25_100),'.',color='black')\n",
    "    m1.plot([-4,4], [-4,4])\n",
    "    m1.set_xlim(-3,2.5)\n",
    "    m1.set_ylim(-5,5)\n",
    "    #plt.yticks([-5,-4,-3,-2,-1,0,1,2,3])\n",
    "    m1.set_ylabel('Maredat Log$_{10}$ biomass \\n [mg C m$^{-3}$]')\n",
    "    m1.text(-2.5,4, \"Depth range: 25-100 m\",color='darkred')\n",
    "\n",
    "    m1 = axes[2,1]\n",
    "    m1.plot(np.log10(mo5_ma[2]),np.log10(d_biomass_25_100),'.',color='black')\n",
    "    m1.plot([-4,4], [-4,4])\n",
    "    m1.set_xlim(0,1.5)\n",
    "    m1.set_ylim(-5,5)\n",
    "    #plt.yticks([-5,-4,-3,-2,-1,0,1,2,3])\n",
    "    #m1.set_ylabel('Maredat Log$_{10}$ biomass \\n [mg C m$^{-3}$]')\n",
    "    m1.text(0.2,4, \"Depth range: 25-100 m\",color='darkred')\n",
    "\n",
    "    # ---------------------------------------------------------------------------------------------------\n",
    "\n",
    "    m1 = axes[3,0]\n",
    "    m1.plot(np.log10(mo5_ma[3]),np.log10(d_biomass_100_bot),'.',color='black')\n",
    "    m1.plot([-4,4], [-4,4])\n",
    "    m1.set_xlim(-3,2.5)\n",
    "    m1.set_ylim(-5,5)\n",
    "    #plt.yticks([-5,-4,-3,-2,-1,0,1,2,3])\n",
    "    m1.set_ylabel('Maredat Log$_{10}$ biomass \\n [mg C m$^{-3}$]')\n",
    "    m1.set_xlabel('Model \"mo5\" Log$_{10}$ biomass \\n [mg C m$^{-3}$]')\n",
    "    m1.text(-2.5,4, \"Depth range: 100 m - bottom\",color='darkred')\n",
    "\n",
    "    m1 = axes[3,1]\n",
    "    m1.plot(np.log10(mo5_ma[3]),np.log10(d_biomass_100_bot),'.',color='black')\n",
    "    m1.plot([-4,4], [-4,4])\n",
    "    m1.set_xlim(-2,0.5)\n",
    "    m1.set_ylim(-5,5)\n",
    "    #plt.yticks([-5,-4,-3,-2,-1,0,1,2,3])\n",
    "    #m1.set_ylabel('Maredat Log$_{10}$ biomass \\n [mg C m$^{-3}$]')\n",
    "    m1.set_xlabel('Model \"mo5\" Log$_{10}$ biomass \\n [mg C m$^{-3}$]')\n",
    "    m1.text(-1.5,4, \"Depth range: 100 m - bottom\",color='darkred')\n",
    "\n",
    "    fig.savefig(savepath)"
   ]
  },
  {
   "cell_type": "code",
   "execution_count": null,
   "metadata": {},
   "outputs": [],
   "source": [
    "if False:\n",
    "    ### plot FESOM overview\n",
    "    fig, axes = plt.subplots(2,2, \n",
    "                             subplot_kw=dict(projection=ccrs.Robinson()),\n",
    "                             gridspec_kw={'hspace': 0.001, 'wspace': 0.1},\n",
    "                             figsize=(20,15))\n",
    "    fig.tight_layout()\n",
    "\n",
    "    # 0-5 m\n",
    "    m1 = axes[0,0]\n",
    "    f1 = m1.pcolormesh(lon_maredat, lat_maredat, np.log10(mo5[0]), \n",
    "                       transform = ccrs.PlateCarree(),\n",
    "                        shading='flat', vmin=np.log10(0.001), vmax=np.log10(200), \n",
    "                        cmap=plt.cm.viridis)\n",
    "    mygrid(m1)\n",
    "    m1.set_title('FESOM 0-5 m', fontsize=20)\n",
    "\n",
    "\n",
    "    # 5-25 m\n",
    "    m2 = axes[0,1]\n",
    "    f2 = m2.pcolormesh(lon_maredat, lat_maredat, np.log10(mo5[1]), \n",
    "                       transform = ccrs.PlateCarree(),\n",
    "                        shading='flat', vmin=np.log10(0.001), vmax=np.log10(200), \n",
    "                        cmap=plt.cm.viridis)\n",
    "    mygrid(m2)\n",
    "    m2.set_title('FESOM 5-25 m', fontsize=20)\n",
    "\n",
    "    # 25-100 m\n",
    "    m3 = axes[1,0]\n",
    "    f3 = m3.pcolormesh(lon_maredat, lat_maredat, np.log10(mo5[2]), \n",
    "                       transform = ccrs.PlateCarree(),\n",
    "                        shading='flat', vmin=np.log10(0.001), vmax=np.log10(200), \n",
    "                        cmap=plt.cm.viridis)\n",
    "    mygrid(m3)\n",
    "    m3.set_title('FESOM 25-100 m', fontsize=20)\n",
    "\n",
    "    # 100-bottom m\n",
    "    m4 = axes[1,1]\n",
    "    f4 = m4.pcolormesh(lon_maredat, lat_maredat, np.log10(mo5[3]), \n",
    "                       transform = ccrs.PlateCarree(),\n",
    "                        shading='flat', vmin=np.log10(0.001), vmax=np.log10(200), \n",
    "                        cmap=plt.cm.viridis)\n",
    "    mygrid(m4)\n",
    "    m4.set_title('FESOM 100 m - bottom', fontsize=20)\n",
    "\n",
    "    # add one colorbar for all plots below figure\n",
    "    cbar = fig.colorbar(f1,\n",
    "                        ax = axes[1,:2], \n",
    "                        location ='bottom',\n",
    "                        ticks=[np.log10(0.001),np.log10(0.01), np.log10(0.1),np.log10(0.5), np.log10(1),np.log10(10),np.log10(50),np.log10(100),np.log10(200)],\n",
    "                        fraction=0.1, pad=0.1) \n",
    "    cbar.ax.set_xticklabels(['0.001','0.01','0.1','0.5','1','10','50','100','200'], fontsize=20) \n",
    "    cbar.set_label('Run \"mo5\", Diatom Biomass [mg C m$^{-3}$]', fontsize=20)\n",
    "    #cbar.set_label('Log$_{10}$ Biomass [$\\mu$g L $^{-1}$]', fontsize=20)\n",
    "\n"
   ]
  },
  {
   "cell_type": "code",
   "execution_count": null,
   "metadata": {},
   "outputs": [],
   "source": [
    "### maredat fesom side by side\n",
    "if False:\n",
    "    fig, axes = plt.subplots(4,2, \n",
    "                             subplot_kw=dict(projection=ccrs.Robinson()),\n",
    "                             gridspec_kw={'hspace': 0.001, 'wspace': 0.1},\n",
    "                             figsize=(30,45))\n",
    "    fig.tight_layout()\n",
    "\n",
    "    # 0-5 m maredat ---------------------------------------------------------------------------------------------\n",
    "    m1 = axes[0,0]\n",
    "    f1 = m1.pcolormesh(lon_maredat, lat_maredat, np.log10(d_biomass_0_5), \n",
    "                       transform = ccrs.PlateCarree(),\n",
    "                        shading='flat', vmin=np.log10(0.001), vmax=np.log10(200), \n",
    "                        cmap=plt.cm.viridis)\n",
    "    mygrid(m1)\n",
    "    m1.set_title('MarEDAT 0-5 m', fontsize=20)\n",
    "\n",
    "    # 0-5 m FESOM\n",
    "    m1 = axes[0,1]\n",
    "    f1 = m1.pcolormesh(lon_maredat, lat_maredat, np.log10(mo5[0]), \n",
    "                       transform = ccrs.PlateCarree(),\n",
    "                        shading='flat', vmin=np.log10(0.001), vmax=np.log10(200), \n",
    "                        cmap=plt.cm.viridis)\n",
    "    mygrid(m1)\n",
    "    m1.set_title('FESOM 0-5 m', fontsize=20)\n",
    "\n",
    "    # 5-25 m maredat ---------------------------------------------------------------------------------------------\n",
    "    m2 = axes[1,0]\n",
    "    f2 = m2.pcolormesh(lon_maredat, lat_maredat, np.log10(d_biomass_5_25), \n",
    "                       transform = ccrs.PlateCarree(),\n",
    "                        shading='flat', vmin=np.log10(0.001), vmax=np.log10(200), \n",
    "                        cmap=plt.cm.viridis)\n",
    "    mygrid(m2)\n",
    "    m2.set_title('MarEDAT 5-25 m', fontsize=20)\n",
    "\n",
    "    # 5-25 m FESOM\n",
    "    m2 = axes[1,1]\n",
    "    f2 = m2.pcolormesh(lon_maredat, lat_maredat, np.log10(mo5[1]), \n",
    "                       transform = ccrs.PlateCarree(),\n",
    "                        shading='flat', vmin=np.log10(0.001), vmax=np.log10(200), \n",
    "                        cmap=plt.cm.viridis)\n",
    "    mygrid(m2)\n",
    "    m2.set_title('FESOM 5-25 m', fontsize=20)\n",
    "\n",
    "    # 25-100 m maredat ---------------------------------------------------------------------------------------------\n",
    "    m3 = axes[2,0]\n",
    "    f3 = m3.pcolormesh(lon_maredat, lat_maredat, np.log10(d_biomass_25_100), \n",
    "                       transform = ccrs.PlateCarree(),\n",
    "                        shading='flat', vmin=np.log10(0.001), vmax=np.log10(200), \n",
    "                        cmap=plt.cm.viridis)\n",
    "    mygrid(m3)\n",
    "    m3.set_title('MarEDAT 25-100 m', fontsize=20)\n",
    "\n",
    "    # 25-100 m FESOM\n",
    "    m3 = axes[2,1]\n",
    "    f3 = m3.pcolormesh(lon_maredat, lat_maredat, np.log10(mo5[2]), \n",
    "                       transform = ccrs.PlateCarree(),\n",
    "                        shading='flat', vmin=np.log10(0.001), vmax=np.log10(200), \n",
    "                        cmap=plt.cm.viridis)\n",
    "    mygrid(m3)\n",
    "    m3.set_title('FESOM 25-100 m', fontsize=20)\n",
    "\n",
    "    # 100-bottom m maredat ---------------------------------------------------------------------------------------------\n",
    "    m4 = axes[3,0]\n",
    "    f4 = m4.pcolormesh(lon_maredat, lat_maredat, np.log10(d_biomass_100_bot), \n",
    "                       transform = ccrs.PlateCarree(),\n",
    "                        shading='flat', vmin=np.log10(0.001), vmax=np.log10(200), \n",
    "                        cmap=plt.cm.viridis)\n",
    "    mygrid(m4)\n",
    "    m4.set_title('MarEDAT 100 m - bottom', fontsize=20)\n",
    "\n",
    "    # 100-bottom m\n",
    "    m4 = axes[3,1]\n",
    "    f4 = m4.pcolormesh(lon_maredat, lat_maredat, np.log10(mo5[3]), \n",
    "                       transform = ccrs.PlateCarree(),\n",
    "                        shading='flat', vmin=np.log10(0.001), vmax=np.log10(200), \n",
    "                        cmap=plt.cm.viridis)\n",
    "    mygrid(m4)\n",
    "    m4.set_title('FESOM 100 m - bottom', fontsize=20)\n",
    "\n",
    "    # ---------------------------------------------------------------------------------------------\n",
    "    # add one colorbar for all plots below figure\n",
    "    cbar = fig.colorbar(f1,\n",
    "                        ax = axes[3,:2], \n",
    "                        location ='bottom',\n",
    "                        ticks=[np.log10(0.001),np.log10(0.01), np.log10(0.1),np.log10(0.5), np.log10(1),np.log10(10),np.log10(50),np.log10(100)],\n",
    "                        fraction=0.1, pad=0.1) \n",
    "    cbar.ax.set_xticklabels(['0.001','0.01','0.1','0.5','1','10','50','100'], fontsize=20) \n",
    "    cbar.set_label('Diatom Biomass [mg C m$^{-3}$]', fontsize=20)\n",
    "    #cbar.set_label('Log$_{10}$ Biomass [$\\mu$g L $^{-1}$]', fontsize=20)\n",
    "\n"
   ]
  },
  {
   "cell_type": "code",
   "execution_count": null,
   "metadata": {},
   "outputs": [],
   "source": []
  }
 ],
 "metadata": {
  "kernelspec": {
   "display_name": "Python 3",
   "language": "python",
   "name": "python3"
  },
  "language_info": {
   "codemirror_mode": {
    "name": "ipython",
    "version": 3
   },
   "file_extension": ".py",
   "mimetype": "text/x-python",
   "name": "python",
   "nbconvert_exporter": "python",
   "pygments_lexer": "ipython3",
   "version": "3.8.5"
  }
 },
 "nbformat": 4,
 "nbformat_minor": 2
}
