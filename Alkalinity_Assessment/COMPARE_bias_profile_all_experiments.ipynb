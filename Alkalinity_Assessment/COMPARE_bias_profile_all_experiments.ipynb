{
 "cells": [
  {
   "cell_type": "markdown",
   "metadata": {},
   "source": [
    "# Configuration<a class=\"anchor\" id=\"CONFIG\"></a>"
   ]
  },
  {
   "cell_type": "code",
   "execution_count": 1,
   "metadata": {},
   "outputs": [
    {
     "data": {
      "application/javascript": [
       "IPython.notebook.set_autosave_interval(5000)"
      ]
     },
     "metadata": {},
     "output_type": "display_data"
    },
    {
     "name": "stdout",
     "output_type": "stream",
     "text": [
      "Autosaving every 5 seconds\n"
     ]
    }
   ],
   "source": [
    "import warnings\n",
    "warnings.filterwarnings('ignore')\n",
    "\n",
    "%matplotlib inline\n",
    "%autosave 5\n",
    "\n",
    "# necessary modules -------------------------------------------------------------------------------------\n",
    "import sys\n",
    "import os\n",
    "sys.path.append('/home/ollie/loziel/pyfesom2/codes/py_f2recom_develop/modules/')\n",
    "import pyfesom2 as pf\n",
    "sys.path.append('/home/ollie/loziel/pyfesom2/codes/py_f2recom_develop/modules/SkillMetrics/')\n",
    "import skill_metrics as sm\n",
    "sys.path.append('/home/ollie/loziel/pyfesom2/codes/py_f2recom_develop/modules/cmocean-master/')\n",
    "import cmocean as cmo\n",
    "\n",
    "sys.path.append('../GlobalAssessment/')\n",
    "\n",
    "import numpy as np\n",
    "import matplotlib.pyplot as plt\n",
    "import matplotlib.cm as cm\n",
    "import matplotlib.colors as colors\n",
    "import time\n",
    "from datetime import date\n",
    "import cartopy.crs as ccrs\n",
    "import cartopy.feature as cfeature\n",
    "from netCDF4 import Dataset\n",
    "import numpy.ma as ma"
   ]
  },
  {
   "cell_type": "code",
   "execution_count": 2,
   "metadata": {},
   "outputs": [],
   "source": [
    "#    Only modify parameters and paths in this cell       #\n",
    "#  In principle, you don't have to modify anything else  #\n",
    "\n",
    "# run specification -------------------------------------------------------------------------------------   \n",
    "runid      =  'fesom'\n",
    "\n",
    "##############################################################\n",
    "\n",
    "resultpath = '/work/ollie/chinrich/fesom2_recom/run_alk_restore_off_CTL/'\n",
    "simu_name = 'CTL'\n",
    "savepath = '/home/ollie/chinrich/FIGURES_Alk_experiment_CTL/'\n",
    "\n",
    "# resultpath2 = '/work/ollie/chinrich/fesom2_recom/run_alk_restore_off_calc_prod_0_01/'\n",
    "# savepath = '/home/ollie/chinrich/FIGURES_Alk_experiment_calc_prod_01/'\n",
    "# simu_name2 = 'calc_prod_01'\n",
    "\n",
    "# resultpath2 = '/work/ollie/chinrich/fesom2_recom/run_alk_restore_off_calc_prod_0_03/'\n",
    "# savepath = '/home/ollie/chinrich/FIGURES_Alk_experiment_calc_prod_03/'\n",
    "# simu_name2 = 'calc_prod_03'\n",
    "\n",
    "# resultpath2 = '/work/ollie/chinrich/fesom2_recom/run_alk_restore_off_red_calc_diss_rate_20/'\n",
    "# savepath = '/home/ollie/chinrich/FIGURES_Alk_experiment_diss_rate_20/'\n",
    "# simu_name2 = 'calc_diss_rate_minus20%'\n",
    "\n",
    "# resultpath2 = '/work/ollie/chinrich/fesom2_recom/run_alk_restore_off_red_calc_diss_rate_50/'\n",
    "# savepath = '/home/ollie/chinrich/FIGURES_Alk_experiment_diss_rate_50/'\n",
    "# simu_name2 = 'fesom2.1-recom_alk-restore-off_calc_diss_rate_50'\n",
    "\n",
    "# resultpath2 = '/work/ollie/chinrich/fesom2_recom/run_alk_restore_off_gut_diss/'\n",
    "# savepath = '/home/ollie/chinrich/FIGURES_Alk_experiment_gut_diss/'\n",
    "# simu_name2 = 'gut_diss_0.5'\n",
    "\n",
    "\n",
    "# resultpath2 = '/work/ollie/chinrich/fesom2_recom/run_alk_restore_off_var_sinkvel/'\n",
    "# savepath = '/home/ollie/chinrich/FIGURES_Alk_experiment_var_sinkvel/'\n",
    "# simu_name2 = 'var_sinkvel'\n",
    "\n",
    "# # period of analysis ------------------------------------------------------------------------------------\n",
    "first_year_maps = 2020  #2020\n",
    "\n",
    "first_year = 1960\n",
    "last_year  = 2020 #2020\n",
    "\n",
    "runname = simu_name\n",
    "\n",
    "meshpath = '/work/ollie/mozeisin/mesh/mesh_fesom2.0/core2_meanz'\n",
    "    \n",
    "years = np.arange(first_year,last_year+1,1)\n",
    "years_last10 = np.arange(first_year_maps,last_year+1,1)\n",
    "\n",
    "# specification of analysis ------------------------------------------------------------------------------------\n",
    "layerwise = False\n",
    "depths = (0,50,200,1000,2000) # If layerwise is True, you can define depths here, by defaut: (0,50,200,1000,2000,4000)\n",
    "depth_limit = 50\n",
    "mapproj = 'pc'\n",
    "#Map projection. Options are Mercator (merc), Plate Carree (pc),\n",
    "#North Polar Stereo (np), South Polar Stereo (sp),  Robinson (rob)\n",
    "#Robinson projection is quite time consuming.\n",
    "\n",
    "# export of analysis ------------------------------------------------------------------------------------\n",
    "savefig = False\n",
    "verbose = False\n",
    "\n",
    "today = date.today().strftime(\"_%Y_%m_%d\")\n",
    "htmlname     =  simu_name+'_'+ today +'.html'\n",
    "htmlpath = savepath\n",
    "\n",
    "if not os.path.exists(htmlpath): # create folders if do not exist\n",
    "    os.makedirs(htmlpath)\n",
    "if not os.path.exists(savepath):\n",
    "    os.makedirs(savepath)"
   ]
  },
  {
   "cell_type": "code",
   "execution_count": 3,
   "metadata": {},
   "outputs": [
    {
     "name": "stdout",
     "output_type": "stream",
     "text": [
      "Processing years 1960 to 2020\n",
      "\n",
      "Reading out of /work/ollie/chinrich/fesom2_recom/run_alk_restore_off_CTL/\n",
      "Storing graphs to /home/ollie/chinrich/FIGURES_Alk_experiment_CTL/\n",
      "Storing html to /home/ollie/chinrich/FIGURES_Alk_experiment_CTL/ as CTL__2022_06_10.html\n",
      "/work/ollie/mozeisin/mesh/mesh_fesom2.0/core2_meanz/pickle_mesh_py3_fesom2\n",
      "The usepickle == True)\n",
      "The pickle file for FESOM2 exists.\n",
      "The mesh will be loaded from /work/ollie/mozeisin/mesh/mesh_fesom2.0/core2_meanz/pickle_mesh_py3_fesom2\n"
     ]
    }
   ],
   "source": [
    "# initialization file specifications -----------------------------------------------------------\n",
    "\n",
    "evalpath      = '/work/ollie/projects/MarESys/evaluation/'\n",
    "evalpath2      = '/work/ollie/ogurses/input/corrected_input/'\n",
    "\n",
    "ncfileAlk                = evalpath2+'GLODAPv2.2016b.TAlk_mmol.nc'\n",
    "ncfileDIC                = evalpath2+'GLODAPv2.2016b.TCO2_mmol.nc'\n",
    "ncfileDSi                = evalpath2+'woa13_all_i00_01_fesom2.nc'\n",
    "ncfileDIN                = evalpath2+'woa13_all_n00_01_fesom2.nc'\n",
    "ncfileDO2                = evalpath2+'woa18_all_o00_01_mmol_fesom2.nc'\n",
    "ncfileDFe                = evalpath2+'fe_pisces_opa_eq_init_3D_changed_name.nc' \n",
    "ncfileNPPTotalGlobal     = evalpath+'fesom.initial.mesh.diag.nc'\n",
    "ncfileCO2fluxTotalGlobal = evalpath+'fesom.initial.mesh.diag.nc'\n",
    "ncfileTemp               = evalpath2+'woa18_decav_t00_01_fesom2.nc'\n",
    "ncfileSal                = evalpath2+'woa18_decav_s00_01_fesom2.nc'\n",
    "ncfilePHC3               = evalpath2+'phc3.0_annual.nc'      \n",
    "ncfilepCO2               = evalpath+'SOCATv6_tracks_gridded_monthly.nc'\n",
    "ncfileMLD                = evalpath+'mld_DR003.nc'\n",
    "matfileChlsurf           = evalpath+'climatology_annual_chl_1deg_OCCCI_2012_2015.mat'\n",
    "txtfileCO2flux           = evalpath+'CO2_flux2015_Takahashietal2009_original.txt'\n",
    "ncfileMaredat            = evalpath+'MarEDat20120716Diatoms.nc'\n",
    "ncfileJohnson2013        = evalpath+'Johnson2013_MEAN_1x1_Chl_mg_m3.npy'\n",
    "matfileNPPvgpn           = evalpath+'VGPN_CLIM.mat'\n",
    "matfileNPPcpbm           = evalpath+'CBPM_CLIM.mat'\n",
    "matfileMLD               = evalpath+'GlobalML_Climato_1970_2018.mat'\n",
    "\n",
    "\n",
    "print('Processing years {4} to {5}\\n\\nReading out of {0}\\nStoring graphs to {1}\\nStoring html to {2} as {3}'.format(\n",
    "    resultpath, savepath, htmlpath, htmlname,years[0],years[-1]))\n",
    "\n",
    "# just to check\n",
    "if(verbose):\n",
    "    print('\\nLast ten years are \\n{0}'.format(years_last10))\n",
    "    \n",
    "# mesh initialization -----------------------------------------------------------\n",
    "mesh = pf.load_mesh(meshpath)\n",
    "\n",
    "if False: # check mesh setup nodal and area\n",
    "    print(mesh)\n",
    "    print('with depth levels:')\n",
    "    print(mesh.zlev)\n",
    "    \n",
    "    print('\\n\\nFESOM mesh.diag:')\n",
    "    meshdiag=resultpath+'/'+runid+'.mesh.diag.nc'\n",
    "    #!ncdump -h $meshdiag\n",
    "\n",
    "    diag = pf.get_meshdiag(mesh,meshdiag=meshdiag, runid=runid)\n",
    "    print(diag)\n",
    "    print('depth of layers:')\n",
    "    mesh_depths = diag['nz1'].values\n",
    "    #print(mesh_depths)\n",
    "    \n",
    "    nod_area = diag.nod_area\n",
    "    nod_area.load()\n",
    "    #print(np.shape(nod_area[:,:]), type(nod_area)) \n",
    "\n",
    "if(verbose):\n",
    "    print(mesh_depths)\n",
    "    print(diag)"
   ]
  },
  {
   "cell_type": "markdown",
   "metadata": {},
   "source": [
    "# End configuration"
   ]
  },
  {
   "cell_type": "markdown",
   "metadata": {},
   "source": [
    "### Alk bias profile"
   ]
  },
  {
   "cell_type": "code",
   "execution_count": 4,
   "metadata": {},
   "outputs": [
    {
     "name": "stdout",
     "output_type": "stream",
     "text": [
      "[NbConvertApp] Converting notebook Alk_bias_profile.ipynb to python\n",
      "[NbConvertApp] Writing 2378 bytes to Alk_bias_profile.py\n",
      "[NbConvertApp] Converting notebook Alk_bias_profile.ipynb to python\n",
      "[NbConvertApp] Writing 2378 bytes to Alk_bias_profile.py\n"
     ]
    }
   ],
   "source": [
    "!jupyter nbconvert --to=python Alk_bias_profile.ipynb\n",
    "\n",
    "from Alk_bias_profile import Alk_bias_profile"
   ]
  },
  {
   "cell_type": "code",
   "execution_count": 5,
   "metadata": {},
   "outputs": [
    {
     "name": "stdout",
     "output_type": "stream",
     "text": [
      "***\n",
      "Loading GLODAP file: /work/ollie/ogurses/input/corrected_input/GLODAPv2.2016b.TAlk_mmol.nc\n",
      "***\n",
      "***\n",
      "Depth greater in FESOM (-6125.0) than in GLODAP (-5500.0)\n",
      "Please consider choosing max depth level 43 with max depth at -5275.0!\n",
      "***\n"
     ]
    }
   ],
   "source": [
    "Bias_CTL = Alk_bias_profile(runid,resultpath,savepath,mesh,ncfileAlk,ncfileDIC,first_year_maps,last_year,\n",
    "                 savefig=False, regional=False)"
   ]
  },
  {
   "cell_type": "code",
   "execution_count": 6,
   "metadata": {},
   "outputs": [
    {
     "name": "stdout",
     "output_type": "stream",
     "text": [
      "***\n",
      "Loading GLODAP file: /work/ollie/ogurses/input/corrected_input/GLODAPv2.2016b.TAlk_mmol.nc\n",
      "***\n",
      "***\n",
      "Depth greater in FESOM (-6125.0) than in GLODAP (-5500.0)\n",
      "Please consider choosing max depth level 43 with max depth at -5275.0!\n",
      "***\n"
     ]
    }
   ],
   "source": [
    "resultpath2 = '/work/ollie/chinrich/fesom2_recom/run_alk_restore_off_calc_prod_0_01/'\n",
    "Bias1 = Alk_bias_profile(runid,resultpath2,savepath,mesh,ncfileAlk,ncfileDIC,first_year_maps,last_year,\n",
    "                 savefig=False, regional=False)"
   ]
  },
  {
   "cell_type": "code",
   "execution_count": 7,
   "metadata": {},
   "outputs": [
    {
     "name": "stdout",
     "output_type": "stream",
     "text": [
      "***\n",
      "Loading GLODAP file: /work/ollie/ogurses/input/corrected_input/GLODAPv2.2016b.TAlk_mmol.nc\n",
      "***\n",
      "***\n",
      "Depth greater in FESOM (-6125.0) than in GLODAP (-5500.0)\n",
      "Please consider choosing max depth level 43 with max depth at -5275.0!\n",
      "***\n"
     ]
    }
   ],
   "source": [
    "resultpath2 = '/work/ollie/chinrich/fesom2_recom/run_alk_restore_off_calc_prod_0_03/'\n",
    "Bias2 = Alk_bias_profile(runid,resultpath2,savepath,mesh,ncfileAlk,ncfileDIC,first_year_maps,last_year,\n",
    "                 savefig=False, regional=False)"
   ]
  },
  {
   "cell_type": "code",
   "execution_count": null,
   "metadata": {},
   "outputs": [],
   "source": []
  },
  {
   "cell_type": "code",
   "execution_count": 15,
   "metadata": {},
   "outputs": [
    {
     "name": "stdout",
     "output_type": "stream",
     "text": [
      "***\n",
      "Loading GLODAP file: /work/ollie/ogurses/input/corrected_input/GLODAPv2.2016b.TAlk_mmol.nc\n",
      "***\n",
      "***\n",
      "Depth greater in FESOM (-6125.0) than in GLODAP (-5500.0)\n",
      "Please consider choosing max depth level 43 with max depth at -5275.0!\n",
      "***\n"
     ]
    }
   ],
   "source": [
    "resultpath2 = '/work/ollie/chinrich/fesom2_recom/run_alk_restore_off_gut_diss/'\n",
    "Bias4 = Alk_bias_profile(runid,resultpath2,savepath,mesh,ncfileAlk,ncfileDIC,first_year_maps,last_year,\n",
    "                 savefig=False, regional=False)"
   ]
  },
  {
   "cell_type": "code",
   "execution_count": 16,
   "metadata": {},
   "outputs": [
    {
     "name": "stdout",
     "output_type": "stream",
     "text": [
      "***\n",
      "Loading GLODAP file: /work/ollie/ogurses/input/corrected_input/GLODAPv2.2016b.TAlk_mmol.nc\n",
      "***\n",
      "***\n",
      "Depth greater in FESOM (-6125.0) than in GLODAP (-5500.0)\n",
      "Please consider choosing max depth level 43 with max depth at -5275.0!\n",
      "***\n"
     ]
    }
   ],
   "source": [
    "resultpath2 = '/work/ollie/chinrich/fesom2_recom/run_alk_restore_off_var_sinkvel/'\n",
    "Bias5 = Alk_bias_profile(runid,resultpath2,savepath,mesh,ncfileAlk,ncfileDIC,first_year_maps,last_year,\n",
    "                 savefig=False, regional=False)"
   ]
  },
  {
   "cell_type": "code",
   "execution_count": null,
   "metadata": {},
   "outputs": [],
   "source": []
  },
  {
   "cell_type": "code",
   "execution_count": 19,
   "metadata": {},
   "outputs": [
    {
     "data": {
      "text/plain": [
       "<matplotlib.legend.Legend at 0x2aab051b8f50>"
      ]
     },
     "execution_count": 19,
     "metadata": {},
     "output_type": "execute_result"
    },
    {
     "data": {
      "image/png": "[encoded data removed]",
      "text/plain": [
       "<Figure size 504x360 with 1 Axes>"
      ]
     },
     "metadata": {},
     "output_type": "display_data"
    }
   ],
   "source": [
    "fig, axs = plt.subplots(figsize=(7, 5), facecolor='w', edgecolor='k', constrained_layout=True, sharey=True)\n",
    "\n",
    "unitsAlk = 'Alk Bias [mmol m$^{-3}$]'\n",
    "          \n",
    "axs.plot(Bias_CTL.Bias_out, mesh.zlev[:-1]/1000,label = 'CTL', color = 'k', lw=3)\n",
    "axs.plot(Bias1.Bias_out, mesh.zlev[:-1]/1000,label = 'calc_prod_0_01', color = 'b', lw=2)\n",
    "axs.plot(Bias2.Bias_out, mesh.zlev[:-1]/1000,label = 'calc_prod_0_03', color = 'r', lw=2)\n",
    "axs.plot(Bias4.Bias_out, mesh.zlev[:-1]/1000,label = 'gut_diss', color = 'g', lw=2)\n",
    "axs.plot(Bias5.Bias_out, mesh.zlev[:-1]/1000,label = 'var_sinkvel', color = 'm', lw=2)\n",
    "\n",
    "\n",
    "axs.set_ylabel('Depth [km]',fontsize=14)\n",
    "axs.set_xlim([-50,50])\n",
    "axs.set_xlabel(unitsAlk,fontsize=14)\n",
    "axs.set_title('Experiment - GLODAP',size=16, weight='bold')\n",
    "# axs.set_title(simu_name2 + '\\nafter '+ str(last_year-first_year+1) + ' years',size=16, weight='bold')\n",
    "axs.tick_params(labelsize=14)\n",
    "axs.grid()\n",
    "axs.legend(loc='center left', bbox_to_anchor=(1, 0.8), fontsize=12)\n",
    "# axs.legend(loc='lower left', borderaxespad=0.1, fontsize=12)"
   ]
  },
  {
   "cell_type": "code",
   "execution_count": null,
   "metadata": {},
   "outputs": [],
   "source": []
  },
  {
   "cell_type": "code",
   "execution_count": null,
   "metadata": {},
   "outputs": [],
   "source": []
  }
 ],
 "metadata": {
  "kernelspec": {
   "display_name": "Python 3",
   "language": "python",
   "name": "python3"
  },
  "language_info": {
   "codemirror_mode": {
    "name": "ipython",
    "version": 3
   },
   "file_extension": ".py",
   "mimetype": "text/x-python",
   "name": "python",
   "nbconvert_exporter": "python",
   "pygments_lexer": "ipython3",
   "version": "3.7.7"
  }
 },
 "nbformat": 4,
 "nbformat_minor": 1
}
