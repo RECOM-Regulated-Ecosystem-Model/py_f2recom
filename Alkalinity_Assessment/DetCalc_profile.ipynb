{
 "cells": [
  {
   "cell_type": "code",
   "execution_count": 1,
   "metadata": {},
   "outputs": [
    {
     "name": "stdout",
     "output_type": "stream",
     "text": [
      "[NbConvertApp] Converting notebook Alk_bias_profile.ipynb to python\n",
      "[NbConvertApp] Writing 2378 bytes to Alk_bias_profile.py\n"
     ]
    }
   ],
   "source": [
    "!jupyter nbconvert --to=python DetCalc_profile.ipynb"
   ]
  },
  {
   "cell_type": "code",
   "execution_count": 2,
   "metadata": {},
   "outputs": [],
   "source": [
    "class DetCalc_profile:   \n",
    "\n",
    "    def __init__(self,runname,resultpath,savepath,mesh,\n",
    "                 first_year,last_year,savefig=False, regional=False):\n",
    "\n",
    "        self.runname = runname\n",
    "        self.resultpath = resultpath\n",
    "        self.savepath = savepath\n",
    "        self.mesh = mesh\n",
    "        self.fyear = first_year\n",
    "        self.lyear = last_year\n",
    "        self.savefig = savefig\n",
    "        self.regional = regional\n",
    "        \n",
    "        import matplotlib.pyplot as plt\n",
    "        import numpy as np\n",
    "        from netCDF4 import Dataset\n",
    "        from scipy.interpolate import griddata\n",
    "        import skill_metrics as sm\n",
    "        import cartopy.crs as ccrs\n",
    "        import pyfesom2 as pf\n",
    "        \n",
    "#         from load_interp_GLODAP_python3 import GLODAPdata\n",
    "        \n",
    "        years = np.arange(first_year, last_year+1,1)\n",
    "        #mesh       = pf.load_mesh(self.meshpath)\n",
    "        meshdiag = pf.get_meshdiag(mesh)\n",
    "        runid      =  self.runname\n",
    "        \n",
    "        # get depth of export production\n",
    "        i_ep_depth = pf.ind_for_depth(100,mesh)\n",
    "        nod_depth = meshdiag.zbar_n_bottom\n",
    "        ep_depth = nod_depth[i_ep_depth]\n",
    "        \n",
    "        unitsDetCalc = 'DetCalc Flux [[Pg C y$^{-1}$]'\n",
    "        \n",
    "        \n",
    "        # load data -------------------------------------------------------------------------------------\n",
    "\n",
    "#         Alkfesom = pf.get_data(resultpath, \"Alk\", years, mesh,how=\"mean\", compute=True, runid=runid, silent=True)\n",
    "        DetCalc = pf.get_data(resultpath, \"DetCalc\", years, mesh, how=None, compute=False, runid=self.runname, silent=True)\n",
    "        DetCalc = DetCalc.resample(time='YS').mean(dim='time')\n",
    "        \n",
    "        Vdet = 0.0288 * 100. + 20. ## sinking velocity\n",
    "        DetCalc = 365. * DetCalc * 12.01 * Vdet /1e18 # [mmol/m3] => [mg/m2/yr] => [Pg C/yr]\n",
    "         \n",
    "        detct=DetCalc[:,:,i_ep_depth]\n",
    "        EP_calc_timeseries = pf.areasum_data(detct,mesh,mask)    \n",
    "        \n",
    "        # Load and derive profiles\n",
    "\n",
    "        nod_area = np.ma.masked_equal(meshdiag.nod_area.values, 0)\n",
    "        mask = pf.get_mask(mesh, \"Global Ocean\")\n",
    "\n",
    "        Alkfesom_by_area = ((np.ma.masked_equal(Alkfesom[mask,:],0) * nod_area[:-1,:].T[mask]).mean(axis=0))\n",
    "        Alkglodap_by_area = ((np.ma.masked_equal(Alkglodap[mask,:],0) * nod_area[:-1,:].T[mask]).mean(axis=0))\n",
    "\n",
    "        Alkfesom_weighted_Global = Alkfesom_by_area/nod_area[:-1,:].T[mask].mean(axis=0)\n",
    "        Alkglodap_weighted_Global = Alkglodap_by_area/nod_area[:-1,:].T[mask].mean(axis=0)\n",
    "        \n",
    "        ######\n",
    "        Bias = Alkfesom_weighted_Global-Alkglodap_weighted_Global\n",
    "        ######\n",
    "        self.Bias_out = Bias"
   ]
  },
  {
   "cell_type": "code",
   "execution_count": null,
   "metadata": {},
   "outputs": [],
   "source": []
  }
 ],
 "metadata": {
  "kernelspec": {
   "display_name": "Python 3",
   "language": "python",
   "name": "python3"
  },
  "language_info": {
   "codemirror_mode": {
    "name": "ipython",
    "version": 3
   },
   "file_extension": ".py",
   "mimetype": "text/x-python",
   "name": "python",
   "nbconvert_exporter": "python",
   "pygments_lexer": "ipython3",
   "version": "3.7.7"
  }
 },
 "nbformat": 4,
 "nbformat_minor": 4
}
