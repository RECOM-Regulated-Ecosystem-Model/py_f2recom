{
 "cells": [
  {
   "cell_type": "markdown",
   "metadata": {},
   "source": [
    "### just check output calc_diss on one node for different time steps, should vary in the vertical "
   ]
  },
  {
   "cell_type": "code",
   "execution_count": 1,
   "metadata": {},
   "outputs": [
    {
     "name": "stderr",
     "output_type": "stream",
     "text": [
      "In /global/AWIsoft/intel-python/2020.2.902/lib/python3.7/site-packages/matplotlib/mpl-data/stylelib/_classic_test.mplstyle: \n",
      "The text.latex.preview rcparam was deprecated in Matplotlib 3.3 and will be removed two minor releases later.\n",
      "In /global/AWIsoft/intel-python/2020.2.902/lib/python3.7/site-packages/matplotlib/mpl-data/stylelib/_classic_test.mplstyle: \n",
      "The mathtext.fallback_to_cm rcparam was deprecated in Matplotlib 3.3 and will be removed two minor releases later.\n",
      "In /global/AWIsoft/intel-python/2020.2.902/lib/python3.7/site-packages/matplotlib/mpl-data/stylelib/_classic_test.mplstyle: Support for setting the 'mathtext.fallback_to_cm' rcParam is deprecated since 3.3 and will be removed two minor releases later; use 'mathtext.fallback : 'cm' instead.\n",
      "In /global/AWIsoft/intel-python/2020.2.902/lib/python3.7/site-packages/matplotlib/mpl-data/stylelib/_classic_test.mplstyle: \n",
      "The validate_bool_maybe_none function was deprecated in Matplotlib 3.3 and will be removed two minor releases later.\n",
      "In /global/AWIsoft/intel-python/2020.2.902/lib/python3.7/site-packages/matplotlib/mpl-data/stylelib/_classic_test.mplstyle: \n",
      "The savefig.jpeg_quality rcparam was deprecated in Matplotlib 3.3 and will be removed two minor releases later.\n",
      "In /global/AWIsoft/intel-python/2020.2.902/lib/python3.7/site-packages/matplotlib/mpl-data/stylelib/_classic_test.mplstyle: \n",
      "The keymap.all_axes rcparam was deprecated in Matplotlib 3.3 and will be removed two minor releases later.\n",
      "In /global/AWIsoft/intel-python/2020.2.902/lib/python3.7/site-packages/matplotlib/mpl-data/stylelib/_classic_test.mplstyle: \n",
      "The animation.avconv_path rcparam was deprecated in Matplotlib 3.3 and will be removed two minor releases later.\n",
      "In /global/AWIsoft/intel-python/2020.2.902/lib/python3.7/site-packages/matplotlib/mpl-data/stylelib/_classic_test.mplstyle: \n",
      "The animation.avconv_args rcparam was deprecated in Matplotlib 3.3 and will be removed two minor releases later.\n"
     ]
    }
   ],
   "source": [
    "import sys\n",
    "import os\n",
    "sys.path.append('/home/ollie/loziel/pyfesom2/codes/py_f2recom_develop/modules/')\n",
    "import pyfesom2 as pf\n",
    "import matplotlib.pyplot as plt\n",
    "import numpy as np"
   ]
  },
  {
   "cell_type": "code",
   "execution_count": 2,
   "metadata": {},
   "outputs": [],
   "source": [
    "# resultpath = '/work/ollie/chinrich/fesom2_recom/run_test_diag/'\n",
    "resultpath = '/work/ollie/chinrich/fesom2_recom/run_alk_restore_off_var_sinkvel/'\n",
    "year = 1960\n",
    "meshpath = '/work/ollie/mozeisin/mesh/mesh_fesom2.0/core2_meanz'"
   ]
  },
  {
   "cell_type": "code",
   "execution_count": 3,
   "metadata": {},
   "outputs": [
    {
     "name": "stdout",
     "output_type": "stream",
     "text": [
      "/work/ollie/mozeisin/mesh/mesh_fesom2.0/core2_meanz/pickle_mesh_py3_fesom2\n",
      "The usepickle == True)\n",
      "The pickle file for FESOM2 exists.\n",
      "The mesh will be loaded from /work/ollie/mozeisin/mesh/mesh_fesom2.0/core2_meanz/pickle_mesh_py3_fesom2\n"
     ]
    }
   ],
   "source": [
    "mesh = pf.load_mesh(meshpath)"
   ]
  },
  {
   "cell_type": "code",
   "execution_count": 4,
   "metadata": {},
   "outputs": [],
   "source": [
    "calc_diss = pf.get_data(resultpath, \"calc_diss\", year, meshpath, how=None, compute=False, \n",
    "                               runid='fesom', silent=True)"
   ]
  },
  {
   "cell_type": "code",
   "execution_count": 5,
   "metadata": {},
   "outputs": [
    {
     "data": {
      "text/plain": [
       "(5, 126858, 47)"
      ]
     },
     "execution_count": 5,
     "metadata": {},
     "output_type": "execute_result"
    }
   ],
   "source": [
    "calc_diss.shape"
   ]
  },
  {
   "cell_type": "code",
   "execution_count": 6,
   "metadata": {},
   "outputs": [
    {
     "name": "stdout",
     "output_type": "stream",
     "text": [
      "5\n"
     ]
    }
   ],
   "source": [
    "no_steps = calc_diss.shape[0]\n",
    "print(no_steps)"
   ]
  },
  {
   "cell_type": "code",
   "execution_count": 7,
   "metadata": {},
   "outputs": [],
   "source": [
    "node = 1000 #example node"
   ]
  },
  {
   "cell_type": "code",
   "execution_count": 8,
   "metadata": {},
   "outputs": [
    {
     "name": "stdout",
     "output_type": "stream",
     "text": [
      "month:  0\n",
      "calc_diss values on node  1000\n",
      "\n",
      "\n",
      "[0.00572259 0.00576365 0.00580471 0.00588681 0.0059689  0.00605102\n",
      " 0.00613313 0.00621524 0.00629733 0.00637944 0.00646156 0.00654366\n",
      " 0.00666681 0.00683102 0.00703628 0.00728263 0.00761104 0.00802157\n",
      " 0.0085142  0.00908903 0.00974569 0.01048632 0.01130928 0.01221436\n",
      " 0.0132017  0.01427147 0.01542306 0.01665758 0.01805619 0.\n",
      " 0.         0.         0.         0.         0.         0.\n",
      " 0.         0.         0.         0.         0.         0.\n",
      " 0.         0.         0.         0.         0.        ]\n",
      "\n",
      "\n",
      "month:  1\n",
      "calc_diss values on node  1000\n",
      "\n",
      "\n",
      "[0.00572245 0.00576351 0.00580457 0.00588666 0.00596877 0.00605088\n",
      " 0.006133   0.0062151  0.00629721 0.00637931 0.00646143 0.00654355\n",
      " 0.00666671 0.00683091 0.0070362  0.00728253 0.00761097 0.0080215\n",
      " 0.00851414 0.00908893 0.0097457  0.01048629 0.01130925 0.01221433\n",
      " 0.0132017  0.01427144 0.01542308 0.01665759 0.01805612 0.\n",
      " 0.         0.         0.         0.         0.         0.\n",
      " 0.         0.         0.         0.         0.         0.\n",
      " 0.         0.         0.         0.         0.        ]\n",
      "\n",
      "\n",
      "month:  2\n",
      "calc_diss values on node  1000\n",
      "\n",
      "\n",
      "[0.00572161 0.00576268 0.00580375 0.00588587 0.005968   0.00605011\n",
      " 0.00613226 0.00621436 0.0062965  0.00637863 0.00646076 0.00654287\n",
      " 0.00666607 0.00683032 0.00703564 0.00728201 0.00761051 0.00802115\n",
      " 0.0085139  0.00908876 0.00974569 0.01048632 0.01130928 0.01221436\n",
      " 0.0132017  0.01427147 0.01542306 0.01665758 0.01805619 0.\n",
      " 0.         0.         0.         0.         0.         0.\n",
      " 0.         0.         0.         0.         0.         0.\n",
      " 0.         0.         0.         0.         0.        ]\n",
      "\n",
      "\n",
      "month:  3\n",
      "calc_diss values on node  1000\n",
      "\n",
      "\n",
      "[0.00572219 0.00576325 0.0058043  0.00588641 0.00596854 0.00605065\n",
      " 0.00613276 0.00621487 0.00629699 0.00637911 0.00646122 0.00654333\n",
      " 0.0066665  0.00683073 0.00703603 0.00728238 0.00761081 0.00802137\n",
      " 0.0085141  0.00908887 0.0097457  0.01048632 0.01130927 0.01221435\n",
      " 0.0132017  0.01427146 0.01542307 0.01665761 0.01805617 0.\n",
      " 0.         0.         0.         0.         0.         0.\n",
      " 0.         0.         0.         0.         0.         0.\n",
      " 0.         0.         0.         0.         0.        ]\n",
      "\n",
      "\n",
      "month:  4\n",
      "calc_diss values on node  1000\n",
      "\n",
      "\n",
      "[0.00572229 0.00576335 0.00580441 0.00588654 0.00596866 0.00605077\n",
      " 0.00613287 0.00621497 0.00629708 0.0063792  0.00646133 0.00654344\n",
      " 0.0066666  0.00683082 0.0070361  0.00728245 0.00761089 0.00802145\n",
      " 0.0085141  0.00908891 0.00974569 0.01048632 0.01130928 0.01221436\n",
      " 0.0132017  0.01427147 0.01542306 0.01665758 0.01805619 0.\n",
      " 0.         0.         0.         0.         0.         0.\n",
      " 0.         0.         0.         0.         0.         0.\n",
      " 0.         0.         0.         0.         0.        ]\n",
      "\n",
      "\n"
     ]
    }
   ],
   "source": [
    "for ind in range(no_steps):\n",
    "    print('month: ',ind)\n",
    "    print('calc_diss values on node ', node)\n",
    "    print('\\n')\n",
    "    print(calc_diss.values[ind, node,:])\n",
    "    print('\\n')"
   ]
  },
  {
   "cell_type": "code",
   "execution_count": 9,
   "metadata": {},
   "outputs": [
    {
     "name": "stdout",
     "output_type": "stream",
     "text": [
      "(array([ 0,  1,  2,  3,  4,  5,  6,  7,  8,  9, 10, 11, 12, 13, 14, 15, 16,\n",
      "       17, 18, 19, 20, 21, 22, 23, 24, 25, 26, 27, 28]),)\n"
     ]
    }
   ],
   "source": [
    "i = np.where(calc_diss.values[ind, node,:] > 0)\n",
    "print(i)"
   ]
  },
  {
   "cell_type": "code",
   "execution_count": 10,
   "metadata": {},
   "outputs": [
    {
     "data": {
      "text/plain": [
       "<matplotlib.legend.Legend at 0x2aab0c0230d0>"
      ]
     },
     "execution_count": 10,
     "metadata": {},
     "output_type": "execute_result"
    },
    {
     "data": {
      "image/png": "[encoded data removed]",
      "text/plain": [
       "<Figure size 288x360 with 1 Axes>"
      ]
     },
     "metadata": {},
     "output_type": "display_data"
    }
   ],
   "source": [
    "fig, ax = plt.subplots(1,1, figsize=(4, 5), facecolor='w', edgecolor='k', constrained_layout=True, sharey=True)\n",
    "\n",
    "\n",
    "\n",
    "ax.plot(np.squeeze(calc_diss.values[ind, node,i]), mesh.zlev[i],label = 'calc_diss', color = 'k', lw=3)\n",
    "ax.set_ylim([-5000,0])\n",
    "ax.set_ylabel('Depth [m]',fontsize=14)\n",
    "ax.set_xlabel('calc_diss',fontsize=14)\n",
    "ax.set_title('Global Ocean',size=16, weight='bold')\n",
    "ax.tick_params(labelsize=14)\n",
    "ax.grid()\n",
    "ax.legend(loc='best', borderaxespad=0., fontsize=14)\n",
    "            "
   ]
  },
  {
   "cell_type": "code",
   "execution_count": null,
   "metadata": {},
   "outputs": [],
   "source": []
  }
 ],
 "metadata": {
  "kernelspec": {
   "display_name": "Python 3",
   "language": "python",
   "name": "python3"
  },
  "language_info": {
   "codemirror_mode": {
    "name": "ipython",
    "version": 3
   },
   "file_extension": ".py",
   "mimetype": "text/x-python",
   "name": "python",
   "nbconvert_exporter": "python",
   "pygments_lexer": "ipython3",
   "version": "3.7.7"
  }
 },
 "nbformat": 4,
 "nbformat_minor": 4
}
