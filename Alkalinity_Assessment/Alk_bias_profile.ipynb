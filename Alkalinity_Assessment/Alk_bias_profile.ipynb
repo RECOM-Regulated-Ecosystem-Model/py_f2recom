{
 "cells": [
  {
   "cell_type": "code",
   "execution_count": 1,
   "metadata": {},
   "outputs": [
    {
     "name": "stdout",
     "output_type": "stream",
     "text": [
      "[NbConvertApp] Converting notebook Alk_bias_profile.ipynb to python\n",
      "[NbConvertApp] Writing 2378 bytes to Alk_bias_profile.py\n"
     ]
    }
   ],
   "source": [
    "!jupyter nbconvert --to=python Alk_bias_profile.ipynb"
   ]
  },
  {
   "cell_type": "code",
   "execution_count": 2,
   "metadata": {},
   "outputs": [],
   "source": [
    "class Alk_bias_profile:   \n",
    "\n",
    "    def __init__(self,runname,resultpath,savepath,mesh,ncfileAlk,ncfileDIC,\n",
    "                 first_year,last_year,savefig=False, regional=False):\n",
    "\n",
    "        self.runname = runname\n",
    "        self.resultpath = resultpath\n",
    "        self.savepath = savepath\n",
    "        self.mesh = mesh\n",
    "        self.ncfileAlk = ncfileAlk\n",
    "        self.ncfileDIC = ncfileDIC\n",
    "        self.fyear = first_year\n",
    "        self.lyear = last_year\n",
    "        self.savefig = savefig\n",
    "        self.regional = regional\n",
    "        \n",
    "        import matplotlib.pyplot as plt\n",
    "        import numpy as np\n",
    "        from netCDF4 import Dataset\n",
    "        from scipy.interpolate import griddata\n",
    "        import skill_metrics as sm\n",
    "        import cartopy.crs as ccrs\n",
    "        import pyfesom2 as pf\n",
    "        \n",
    "        from load_interp_GLODAP_python3 import GLODAPdata\n",
    "        \n",
    "        years = np.arange(first_year, last_year+1,1)\n",
    "        #mesh       = pf.load_mesh(self.meshpath)\n",
    "        meshdiag = pf.get_meshdiag(mesh)\n",
    "        runid      =  self.runname\n",
    "        \n",
    "        unitsAlk = 'Alk Bias [mmol m$^{-3}$]'\n",
    "        \n",
    "        \n",
    "        # load data -------------------------------------------------------------------------------------\n",
    "\n",
    "        Alkfesom = pf.get_data(resultpath, \"Alk\", years, mesh,\n",
    "                               how=\"mean\", compute=True, runid=runid, silent=True)\n",
    "\n",
    "        Alkglodap_input = GLODAPdata(runid,resultpath,mesh,ncfileAlk,'TAlk_mmol', get_overview=False)\n",
    "\n",
    "        Alkglodap = Alkglodap_input.glodap_int\n",
    "        Alkglodap[Alkfesom == 0] = 0\n",
    "        \n",
    "        # Load and derive profiles\n",
    "\n",
    "        nod_area = np.ma.masked_equal(meshdiag.nod_area.values, 0)\n",
    "        mask = pf.get_mask(mesh, \"Global Ocean\")\n",
    "\n",
    "        Alkfesom_by_area = ((np.ma.masked_equal(Alkfesom[mask,:],0) * nod_area[:-1,:].T[mask]).mean(axis=0))\n",
    "        Alkglodap_by_area = ((np.ma.masked_equal(Alkglodap[mask,:],0) * nod_area[:-1,:].T[mask]).mean(axis=0))\n",
    "\n",
    "        Alkfesom_weighted_Global = Alkfesom_by_area/nod_area[:-1,:].T[mask].mean(axis=0)\n",
    "        Alkglodap_weighted_Global = Alkglodap_by_area/nod_area[:-1,:].T[mask].mean(axis=0)\n",
    "        \n",
    "        ######\n",
    "        Bias = Alkfesom_weighted_Global-Alkglodap_weighted_Global\n",
    "        ######\n",
    "        self.Bias_out = Bias"
   ]
  },
  {
   "cell_type": "code",
   "execution_count": null,
   "metadata": {},
   "outputs": [],
   "source": []
  }
 ],
 "metadata": {
  "kernelspec": {
   "display_name": "Python 3",
   "language": "python",
   "name": "python3"
  },
  "language_info": {
   "codemirror_mode": {
    "name": "ipython",
    "version": 3
   },
   "file_extension": ".py",
   "mimetype": "text/x-python",
   "name": "python",
   "nbconvert_exporter": "python",
   "pygments_lexer": "ipython3",
   "version": "3.7.7"
  }
 },
 "nbformat": 4,
 "nbformat_minor": 4
}
