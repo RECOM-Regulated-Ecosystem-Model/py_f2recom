{
 "cells": [
  {
   "cell_type": "code",
   "execution_count": 1,
   "metadata": {},
   "outputs": [
    {
     "name": "stdout",
     "output_type": "stream",
     "text": [
      "[NbConvertApp] Converting notebook NPPtotal_python3.ipynb to python\n",
      "[NbConvertApp] Writing 4498 bytes to NPPtotal_python3.py\n"
     ]
    }
   ],
   "source": [
    "#!jupyter nbconvert --to=python NPPtotal_python3.ipynb\n",
    "\n",
    "# After changes in the script using Jupyter notebook, save the notebook, run this line, and clear the output."
   ]
  },
  {
   "cell_type": "code",
   "execution_count": null,
   "metadata": {
    "collapsed": true
   },
   "outputs": [],
   "source": [
    "class NPPtotal_global:\n",
    "    def __init__(self,runname,resultpath,savepath,modulepath,meshpath,first_year,last_year):\n",
    "        self.runname=runname\n",
    "        self.resultpath=resultpath\n",
    "        self.savepath=savepath\n",
    "        self.modulepath=modulepath\n",
    "        self.meshpath=meshpath\n",
    "        self.first_year=first_year\n",
    "        self.last_year=last_year\n",
    "    \n",
    "    def plot(self):\n",
    "        import sys\n",
    "        sys.path.append(self.modulepath)\n",
    "        \n",
    "        import matplotlib.pyplot as plt\n",
    "        from mpl_toolkits.basemap import Basemap \n",
    "        from pylab import *\n",
    "        from load_mesh_data_new import *\n",
    "        import numpy as np\n",
    "        from netCDF4 import Dataset\n",
    "        from PiecewiseNorm import PiecewiseNorm\n",
    "        import colormaps as cmaps\n",
    "        from matplotlib.colors import ListedColormap\n",
    "\n",
    "        viridis = ListedColormap(cmaps.viridis.colors)\n",
    "\n",
    "        global_plot = True\n",
    "        arctic_plot = False\n",
    "        \n",
    "        runid='fesom'\n",
    "\n",
    "        years   = np.arange(self.first_year,self.last_year+1,1)\n",
    "        months  = np.linspace(0,11,12).astype(int)\n",
    "        \n",
    "        mesh = load_mesh(self.meshpath,abg=[0,0,0],get3d=True)\n",
    "        \n",
    "        var_id1, var_id2 = 'NPPn','NPPd'\n",
    "\n",
    "        NPP_total = np.zeros(len(mesh.x2))\n",
    "        for ind in range(0,len(years)):\n",
    "            print(years[ind])\n",
    "            ncfile1      = self.resultpath+var_id1+'_'+runid+'_'+str(years[ind])+'0101'+'.nc'\n",
    "            ncfile2      = self.resultpath+var_id2+'_'+runid+'_'+str(years[ind])+'0101'+'.nc'\n",
    "            f1           = Dataset(ncfile1, 'r')\n",
    "            f2           = Dataset(ncfile2, 'r')\n",
    "            npp1         = f1.variables[var_id1][:].mean(axis=0)\n",
    "            npp2         = f2.variables[var_id2][:].mean(axis=0)\n",
    "            NPP_total    = NPP_total + 12.01*(npp1 + npp2)\n",
    "        dataNPPtotal = NPP_total/len(years)   \n",
    "        \n",
    "        dpicnt = 200\n",
    "        if dpicnt == 600:\n",
    "            xlablesize   = 12\n",
    "            ylabelsize   = 12\n",
    "            titlesize    = 14\n",
    "            shrinkfactor = 0.9\n",
    "        elif dpicnt == 200:\n",
    "            xlablesize   = 8\n",
    "            ylabelsize   = 8\n",
    "            titlesize    = 10\n",
    "            shrinkfactor = 0.9 \n",
    "            \n",
    "        contoursNPPtotal=np.array([0,10,20,30,40,50,60,70,80,90,100,200,300,600,900])\n",
    "\n",
    "        # For a non-logarithmic colorbar setting, out-command this line and use the contours of global_plot and arctic_plot.\n",
    "        \n",
    "        if global_plot:\n",
    "            #contours=np.array([0, 125, 250, 375, 500, 625, 750, 875, 1000])\n",
    "            figNPPtotal = plt.figure(num=11, figsize=(8, 8), dpi=dpicnt, facecolor='w', edgecolor='k')\n",
    "            elem2=mesh.elem[mesh.no_cyclic_elem,:]\n",
    "            d=dataNPPtotal[elem2].mean(axis=1)\n",
    "            k = [i for (i, val) in enumerate(d) if not np.isnan(val)]\n",
    "            elem2=elem2[k,:]\n",
    "            print('ftriplot, number of dummy points:', len(d)-len(k))    \n",
    "            map = Basemap(projection='robin',lon_0=0)\n",
    "            x, y = map(mesh.x2, mesh.y2)\n",
    "            map.drawmapboundary(fill_color='0.9')\n",
    "            map.drawcoastlines()\n",
    "            mlabels=[False,False,False,False]\n",
    "            plabels=[True,True,True,True]\t\t    \n",
    "            map.drawparallels(np.arange(-90,90,30),labels=plabels) #[1,0,0,0]\n",
    "            map.drawmeridians(np.arange(map.lonmin,map.lonmax+30,60),labels=mlabels) #[0,0,0,1]\n",
    "            eps=(contoursNPPtotal.max()-contoursNPPtotal.min())/50.\n",
    "            #data2[data2<=contours.min()]=contours.min()+eps\n",
    "            #data2[data2>=contours.max()]=contours.max()-eps\n",
    "            imNPPtotal=plt.tricontourf(x, y, elem2, dataNPPtotal, levels=contoursNPPtotal, cmap=viridis, norm=PiecewiseNorm(contoursNPPtotal), extend='max')\n",
    "            labelNPPtotal = self.runname+': Total NPP ('+str(years[0])+' to '+str(years[len(years)-1])+')' # in case of multiple years, replace ('+str(years[0])+') by ('+str(years[0])+' to '+str(years[len(years)-1])+')\n",
    "            plt.title(labelNPPtotal)\n",
    "            cbarNPPtotal=map.colorbar(imNPPtotal,\"bottom\", size=\"5%\", pad=\"2%\")\n",
    "            cbarNPPtotal.set_label(r'[mg C m$^{-2}$ day$^{-1}$]') \n",
    "            plt.savefig(self.savepath+self.runname+'_'+'NPPtotalspatial'+'_'+str(years[0])+'to'+str(years[len(years)-1])+'.png', dpi = dpicnt, bbox_inches='tight')\n",
    "            plt.show(block=False)\n",
    "            "
   ]
  },
  {
   "cell_type": "code",
   "execution_count": null,
   "metadata": {
    "collapsed": true
   },
   "outputs": [],
   "source": []
  }
 ],
 "metadata": {
  "kernelspec": {
   "display_name": "Python 2",
   "language": "python",
   "name": "python2"
  },
  "language_info": {
   "codemirror_mode": {
    "name": "ipython",
    "version": 2
   },
   "file_extension": ".py",
   "mimetype": "text/x-python",
   "name": "python",
   "nbconvert_exporter": "python",
   "pygments_lexer": "ipython2",
   "version": "2.7.15"
  }
 },
 "nbformat": 4,
 "nbformat_minor": 1
}
