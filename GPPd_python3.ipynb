{
 "cells": [
  {
   "cell_type": "code",
   "execution_count": 1,
   "metadata": {},
   "outputs": [],
   "source": [
    "#!jupyter nbconvert --to=python GPPd_python3.ipynb\n",
    "\n",
    "# After changes in the script using Jupyter notebook, save the notebook, run this line, and clear the output."
   ]
  },
  {
   "cell_type": "code",
   "execution_count": null,
   "metadata": {
    "collapsed": true
   },
   "outputs": [],
   "source": [
    "class GPPd_global:\n",
    "    def __init__(self,runname,resultpath,savepath,modulepath,meshpath,first_year,last_year):\n",
    "        self.runname=runname\n",
    "        self.resultpath=resultpath\n",
    "        self.savepath=savepath\n",
    "        self.modulepath=modulepath\n",
    "        self.meshpath=meshpath\n",
    "        self.first_year=first_year\n",
    "        self.last_year=last_year\n",
    "        \n",
    "    def plot(self):\n",
    "        import sys\n",
    "        sys.path.append('../../../modules')\n",
    "        \n",
    "        import matplotlib.pyplot as plt\n",
    "        from mpl_toolkits.basemap import Basemap\n",
    "        from pylab import *\n",
    "        from load_mesh_data_new import *\n",
    "        import numpy as np\n",
    "        from netCDF4 import Dataset\n",
    "        from PiecewiseNorm import PiecewiseNorm\n",
    "        import colormaps as cmaps\n",
    "        from matplotlib.colors import ListedColormap\n",
    "\n",
    "        viridis = ListedColormap(cmaps.viridis.colors)\n",
    "\n",
    "        global_plot = True\n",
    "        arctic_plot = False\n",
    "        \n",
    "        runid='fesom'\n",
    "\n",
    "        years  = np.arange(self.first_year,self.last_year+1,1)\n",
    "        months = np.linspace(0,11,12).astype(int)\n",
    "        \n",
    "        mesh = load_mesh(self.meshpath,abg=[0,0,0],get3d=True)\n",
    "        \n",
    "        var_id ='GPPd'\n",
    "\n",
    "        GPP_Diatoms = np.zeros(len(mesh.x2))\n",
    "        for ind in range(0,len(years)):\n",
    "            print(years[ind])\n",
    "            ncfile      = self.resultpath+var_id+'_'+runid+'_'+str(years[ind])+'0101'+'.nc'\n",
    "            f           = Dataset(ncfile, 'r')    \n",
    "            gppd        = f.variables[var_id][:].mean(axis=0)\n",
    "            GPP_Diatoms = GPP_Diatoms + 12.01*gppd[0:mesh.n2d]\n",
    "        dataGPPd = GPP_Diatoms/len(years)  \n",
    "        \n",
    "        dpicnt = 200\n",
    "        if dpicnt == 600:\n",
    "            xlablesize   = 12\n",
    "            ylabelsize   = 12\n",
    "            titlesize    = 14\n",
    "            shrinkfactor = 0.9\n",
    "        elif dpicnt == 200:\n",
    "            xlablesize   = 8\n",
    "            ylabelsize   = 8\n",
    "            titlesize    = 10\n",
    "            shrinkfactor = 0.9 \n",
    "            \n",
    "        contoursGPPd=np.array([0,10,20,30,40,50,60,70,80,90,100,200,300,400,500,600,700])\n",
    "        \n",
    "        figGPPd = plt.figure(num=6, figsize=(8, 8), dpi=dpicnt, facecolor='w', edgecolor='k')\n",
    "        elem2=mesh.elem[mesh.no_cyclic_elem,:]\n",
    "        d=dataGPPd[elem2].mean(axis=1)\n",
    "        k = [i for (i, val) in enumerate(d) if not np.isnan(val)]\n",
    "        elem2=elem2[k,:]\n",
    "        print('ftriplot, number of dummy points:', len(d)-len(k))    \n",
    "        map = Basemap(projection='robin',lon_0=0)\n",
    "        x, y = map(mesh.x2, mesh.y2)\n",
    "        map.drawmapboundary(fill_color='0.9')\n",
    "        map.drawcoastlines()\n",
    "        mlabels=[False,False,False,False]\n",
    "        plabels=[True,True,True,True]\t\t    \n",
    "        map.drawparallels(np.arange(-90,90,30),labels=plabels) #[1,0,0,0]\n",
    "        map.drawmeridians(np.arange(map.lonmin,map.lonmax+30,60),labels=mlabels) #[0,0,0,1]\n",
    "        eps=(contoursGPPd.max()-contoursGPPd.min())/50.\n",
    "        imGPPd=plt.tricontourf(x, y, elem2, dataGPPd, levels=contoursGPPd, cmap=viridis, norm=PiecewiseNorm(contoursGPPd), extend='max')\n",
    "        labelGPPd = self.runname+': Diatom GPP ('+str(years[0])+' to '+str(years[len(years)-1])+')'\n",
    "        plt.title(labelGPPd)\n",
    "        cbarGPPd=map.colorbar(imGPPd,\"bottom\", size=\"5%\", pad=\"2%\")\n",
    "        cbarGPPd.set_label(r'[mg C m$^{-2}$ day$^{-1}$]') \n",
    "        plt.savefig(self.savepath+self.runname+'_'+'GPPdspatial'+'_'+str(years[0])+'to'+str(years[len(years)-1])+'.png', dpi = dpicnt, bbox_inches='tight')\n",
    "        plt.show(block=False)"
   ]
  },
  {
   "cell_type": "code",
   "execution_count": null,
   "metadata": {
    "collapsed": true
   },
   "outputs": [],
   "source": []
  }
 ],
 "metadata": {
  "kernelspec": {
   "display_name": "Python 3",
   "language": "python",
   "name": "python3"
  },
  "language_info": {
   "codemirror_mode": {
    "name": "ipython",
    "version": 3
   },
   "file_extension": ".py",
   "mimetype": "text/x-python",
   "name": "python",
   "nbconvert_exporter": "python",
   "pygments_lexer": "ipython3",
   "version": "3.8.5"
  }
 },
 "nbformat": 4,
 "nbformat_minor": 1
}
