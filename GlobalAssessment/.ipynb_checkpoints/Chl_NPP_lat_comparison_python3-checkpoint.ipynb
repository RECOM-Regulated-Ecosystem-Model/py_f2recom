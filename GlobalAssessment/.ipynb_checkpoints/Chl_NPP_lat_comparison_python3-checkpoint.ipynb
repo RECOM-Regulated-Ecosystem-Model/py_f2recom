{
 "cells": [
  {
   "cell_type": "code",
   "execution_count": 1,
   "metadata": {},
   "outputs": [],
   "source": [
    "#!jupyter nbconvert --to=python Chl_NPP_lat_comparison_python3.ipynb"
   ]
  },
  {
   "cell_type": "code",
   "execution_count": null,
   "metadata": {},
   "outputs": [],
   "source": [
    "class Chl_NPP_lat_comp:\n",
    "    '''class Chl_NPP_lat_comp(runid,resultpath,savepath,mesh,\n",
    "                            matfileChlsurf,ncfileJohnson2013,matfileNPPcpbm,matfileNPPvgpn,\n",
    "                            first_year,last_year,savefig=False, verbose=False, output=False, \n",
    "                            plotting=True, Taylor=True)\n",
    "                            \n",
    "        plot latitudinal Chl and NPP distributions\n",
    "    '''\n",
    "    def __init__(self,runid,resultpath,savepath,mesh,\n",
    "                 matfileChlsurf,ncfileJohnson2013,matfileNPPcpbm,matfileNPPvgpn,\n",
    "                 first_year,last_year,savefig=False, verbose=False, output=False,\n",
    "                 plotting=True, Taylor=True):\n",
    "        \n",
    "        import numpy as np\n",
    "        import matplotlib.pyplot as plt\n",
    "\n",
    "        lat = np.arange(-89.5,90,1)\n",
    "        lat_SO = np.arange(-89.5,-29.5,1.)\n",
    "\n",
    "        from NPPsurf_OCNPP_Comparison_python3 import NPPsurf_OCNPP_comp\n",
    "        NPPcpbm = NPPsurf_OCNPP_comp(runid,resultpath,savepath,mesh,matfileNPPcpbm,\n",
    "                              first_year,last_year,\n",
    "                              savefig=savefig,plotting=False,output=True,Taylor=False)\n",
    "        NPPvgpn = NPPsurf_OCNPP_comp(runid,resultpath,savepath,mesh,matfileNPPvgpn,\n",
    "                              first_year,last_year,\n",
    "                              savefig=savefig,plotting=False,output=True,Taylor=False)\n",
    "\n",
    "        from Chlsurf_SO_Johnson2013_Comparison_python3 import Chlsurf_SO_comp\n",
    "        CHLsouth = Chlsurf_SO_comp(runid,resultpath,savepath,mesh,ncfileJohnson2013,\n",
    "                                  first_year,last_year,\n",
    "                                  savefig=savefig,plotting=False,output=True,Taylor=False)\n",
    "\n",
    "        from Chlsurf_OCCCI_Comparison_python3 import Chlsurf_OCCCI_comp\n",
    "        CHLoccci = Chlsurf_OCCCI_comp(runid,resultpath,savepath,mesh,matfileChlsurf,\n",
    "                                  first_year,last_year,\n",
    "                                  savefig=savefig,plotting=False,output=True,Taylor=False)\n",
    "\n",
    "        CHLfesom_lat = np.nanmean(CHLoccci.chl_fesom, axis = 0)\n",
    "        CHLoccci_lat = np.nanmean(CHLoccci.chl_oc, axis = 0)\n",
    "        CHLsouth_lat = np.nanmean(CHLsouth.Chl_johnson, axis = 0)\n",
    "        NPPfesom_lat = np.nanmean(NPPcpbm.NPPt_interp, axis = 0)\n",
    "        NPPcpbm_lat = np.nanmean(NPPcpbm.NPPt_OC, axis = 0)\n",
    "        NPPvgpn_lat = np.nanmean(NPPvgpn.NPPt_OC, axis = 0)\n",
    "\n",
    "        fig, axes = plt.subplots(2,1,gridspec_kw={'hspace': 0.05, 'wspace': 0.5},\n",
    "                                         figsize=(15,10), sharex=True)\n",
    "        \n",
    "        axes[0].plot(lat,CHLfesom_lat,label='FESOM',color='C0',lw=3)\n",
    "        axes[0].plot(lat,CHLoccci_lat,label='OCCCI',color='C1',lw=3)\n",
    "        axes[0].plot(lat_SO,CHLsouth_lat,label='Johnson et al.',color='C2',lw=3)\n",
    "        axes[0].set_ylabel(CHLoccci.unit,fontsize=14)\n",
    "        axes[0].tick_params(labelsize=14)\n",
    "        axes[0].grid()\n",
    "        axes[0].legend(loc='best', borderaxespad=0., fontsize=14)\n",
    "\n",
    "        axes[1].plot(lat,NPPfesom_lat,label='FESOM',color='C0',lw=3)\n",
    "        axes[1].plot(lat,NPPcpbm_lat,label='CPBM',color='C3',lw=3)\n",
    "        axes[1].plot(lat,NPPvgpn_lat,label='VGPN',color='C4',lw=3)\n",
    "        axes[1].set_ylabel(NPPcpbm.unit,fontsize=14)\n",
    "        axes[1].set_xlabel('Latitude ($^\\circ$N)',fontsize=14)\n",
    "        axes[1].tick_params(labelsize=14)\n",
    "        axes[1].grid()\n",
    "        axes[1].legend(loc='best', borderaxespad=0., fontsize=14)"
   ]
  }
 ],
 "metadata": {
  "kernelspec": {
   "display_name": "Python 3",
   "language": "python",
   "name": "python3"
  },
  "language_info": {
   "codemirror_mode": {
    "name": "ipython",
    "version": 3
   },
   "file_extension": ".py",
   "mimetype": "text/x-python",
   "name": "python",
   "nbconvert_exporter": "python",
   "pygments_lexer": "ipython3",
   "version": "3.7.7"
  }
 },
 "nbformat": 4,
 "nbformat_minor": 4
}
