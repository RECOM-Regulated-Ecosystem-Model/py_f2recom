{
 "cells": [
  {
   "cell_type": "code",
   "execution_count": null,
   "metadata": {},
   "outputs": [],
   "source": [
    "# PAR"
   ]
  },
  {
   "cell_type": "code",
   "execution_count": null,
   "metadata": {},
   "outputs": [],
   "source": [
    "%matplotlib inline\n",
    "%autosave 5"
   ]
  },
  {
   "cell_type": "code",
   "execution_count": null,
   "metadata": {},
   "outputs": [],
   "source": [
    "# necessary modules -------------------------------------------------------------------------------------\n",
    "import pyfesom2 as pf\n",
    "import numpy as np\n",
    "import matplotlib.pyplot as plt\n",
    "import matplotlib.cm as cm\n",
    "import matplotlib.colors as colors\n",
    "\n",
    "import time\n",
    "from datetime import date\n",
    "\n",
    "import cartopy.crs as ccrs\n",
    "import cartopy.feature as cfeature\n",
    "\n",
    "# own py_recom modules ----------------------------------------------------------------------\n",
    "\n",
    "!jupyter nbconvert --to=python plot_Taylor_normalized.ipynb\n",
    "\n",
    "!jupyter nbconvert --to=python plot_Chlorophyll_FESOM_python3.ipynb\n",
    "from plot_Chlorophyll_FESOM_python3 import plot_Chl\n"
   ]
  },
  {
   "cell_type": "code",
   "execution_count": null,
   "metadata": {},
   "outputs": [],
   "source": [
    "# After changing these parameters here, save the notebook and clear the output. \n",
    "# Then run this cell and the cells with the desired parameters.\n",
    "\n",
    "# run specification -------------------------------------------------------------------------------------   \n",
    "if True:\n",
    "    runid      =  'fesom'\n",
    "    layerwise    = False\n",
    "    resultpath = '/work/ollie/mozeisin/results/f2r1.2/par_output'\n",
    "    meshpath = '/work/ollie/mozeisin/mesh/mesh_fesom2.0/core2_meanz'\n",
    "\n",
    "    # period of analysis \n",
    "    first_year = 1948\n",
    "    last_year  = 1949\n",
    "    \n",
    "    \n",
    "years = np.arange(first_year,last_year+1,1)\n",
    "\n",
    "# specification of analysis ------------------------------------------------------------------------------------\n",
    "depth = 0\n",
    "layerwise = False\n",
    "mapproj = 'pc'\n",
    "#Map projection. Options are Mercator (merc), Plate Carree (pc),\n",
    "#North Polar Stereo (np), South Polar Stereo (sp),  Robinson (rob)\n",
    "#Robinson projection is quite time consuming.\n",
    "\n",
    "# export of analysis ------------------------------------------------------------------------------------\n",
    "today = date.today().strftime(\"_%Y_%m_%d\")\n",
    "\n",
    "savepath = '/home/ollie/mozeisin/evaluation/mo_files/'\n",
    "savefig = False\n",
    "\n",
    "\n",
    "# just to check ------------------------------------------------------------------------------------\n",
    "print('Processing years {2} to {3}\\n\\nReading out of {0}\\nStoring graphs to {1}'.format(\n",
    "    resultpath, savepath,years[0],years[1]))"
   ]
  },
  {
   "cell_type": "code",
   "execution_count": null,
   "metadata": {},
   "outputs": [],
   "source": [
    "def mygrid(m,grid=False):\n",
    "    '''\n",
    "    Draw cartopy natural earth feature to axis m\n",
    "    '''\n",
    "    #m.coastlines(resolution='110m', color='black', linewidth=1)\n",
    "    land_poly = cfeature.NaturalEarthFeature('physical', 'land', '110m',edgecolor='k',facecolor=cfeature.COLORS['land'])\n",
    "    m.add_feature(land_poly)\n",
    "\n",
    "    if grid:\n",
    "        g1 = m.gridlines(draw_labels = True)\n",
    "        g1.xlabels_top = False\n",
    "        g1.xlabel_style = {'size': 16, 'color': 'gray'}\n",
    "        g1.ylabel_style = {'size': 16, 'color': 'gray'}"
   ]
  },
  {
   "cell_type": "code",
   "execution_count": null,
   "metadata": {},
   "outputs": [],
   "source": [
    "# mesh initialization -----------------------------------------------------------\n",
    "mesh = pf.load_mesh(meshpath)"
   ]
  },
  {
   "cell_type": "markdown",
   "metadata": {},
   "source": [
    "# PAR"
   ]
  },
  {
   "cell_type": "code",
   "execution_count": null,
   "metadata": {},
   "outputs": [],
   "source": [
    "# loading \n",
    "label='PAR, mean over {0}-{1}'.format(first_year,last_year)\n",
    "units = 'PAR [W m$^{-2}$]'\n",
    "\n",
    "PAR = pf.get_data(resultpath, \"PAR\", \n",
    "                   #years, \n",
    "                   [1948],\n",
    "                   mesh, runid=runid, how=\"mean\", compute=True,silent=False)\n",
    "\n",
    "PARsurf = pf.get_data(resultpath, \"PAR\", \n",
    "                   #years, \n",
    "                   [1948],\n",
    "                   mesh, depth = 0, runid=runid, how=\"mean\", compute=True,silent=False)"
   ]
  },
  {
   "cell_type": "code",
   "execution_count": null,
   "metadata": {
    "scrolled": false
   },
   "outputs": [],
   "source": [
    "# plotting\n",
    "fig = pf.plot(mesh, PARsurf, mapproj = mapproj, units=units, titles=label, \n",
    "              levels = (0,150,31),\n",
    "              cmap='viridis')"
   ]
  },
  {
   "cell_type": "markdown",
   "metadata": {},
   "source": [
    "# Transect"
   ]
  },
  {
   "cell_type": "code",
   "execution_count": null,
   "metadata": {},
   "outputs": [],
   "source": [
    "# Atlantic transect ------------------------------------------------------------------------------\n",
    "lon_start = -25\n",
    "lat_start = -80\n",
    "lon_end = -25\n",
    "lat_end = 80\n",
    "npoints   = 50\n",
    "lonlat = pf.transect_get_lonlat(lon_start, lat_start, lon_end, lat_end, npoints)\n",
    "\n",
    "print('Plotting transect at lat {0} to {1}, lon {2} to {3}'.format(lat_start,lat_end,lon_start,lon_end))\n",
    "pf.plot_transect_map(lonlat, mesh)\n",
    "\n",
    "dist, tfPAR = pf.get_transect(PAR,mesh,lonlat)\n",
    "\n",
    "\n",
    "pf.plot_xyz(mesh, \n",
    "            [tfPAR],\n",
    "            dist,\n",
    "            maxdepth=150,\n",
    "            ncols=3,\n",
    "            xlabel='Distance',\n",
    "            label=['PAR [W m$^{-2}$]'],\n",
    "            title=['Atlantic transect ({0}-{1})\\nFESOM2-REcoM PAR'.format(first_year, last_year),],\n",
    "            levels=np.linspace(0,150,31),\n",
    "            cmap='viridis',\n",
    "            figsize=(15, 6))"
   ]
  },
  {
   "cell_type": "code",
   "execution_count": null,
   "metadata": {},
   "outputs": [],
   "source": []
  }
 ],
 "metadata": {
  "kernelspec": {
   "display_name": "Python 3",
   "language": "python",
   "name": "python3"
  },
  "language_info": {
   "codemirror_mode": {
    "name": "ipython",
    "version": 3
   },
   "file_extension": ".py",
   "mimetype": "text/x-python",
   "name": "python",
   "nbconvert_exporter": "python",
   "pygments_lexer": "ipython3",
   "version": "3.8.6"
  }
 },
 "nbformat": 4,
 "nbformat_minor": 4
}
