{
 "cells": [
  {
   "cell_type": "markdown",
   "metadata": {},
   "source": [
    "<img src=\"REcoM.png\" alt=\"Drawing\" style=\"width: 900px; margin: 0 auto\">\n",
    "<p style=\"text-align: center;\">This notebook is an extensive demonstration of the *py_recom* module. *py_recom* is a tool for the evaluation of REcoM model outputs.</p>\n",
    "\n",
    "### Table of Contents\n",
    "\n",
    "* [0. Configuration](#CONFIG)\n",
    "            \n",
    "* [4 Ocean Productivity & ecosystem](#PP)\n",
    "     * [4.1 Maps](#PPMAPS)\n",
    "         * [4.1.1 Glogal Ocean Chl a](#OCCCIPPMAP)\n",
    "         * [4.1.2 Southern Ocean Chl a](#JOHNPPMAP)\n",
    "         * [4.1.3 Arctic Ocean Chl a](#ARCCHLPMAP)\n",
    "         * [4.1.4 Global Ocean NPP](#NPPGLOBAL)\n",
    "         * [4.1.5 Arctic Ocean NPP](#NPPARCTICMAP)\n",
    "         * [4.1.6 Maredat comparison](#MAREDAT)\n",
    "         * [4.1.7 Limiting Factors](#LIMFACT)\n",
    "     * [4.3 Latitudinal distributions](#LATPP)\n",
    "     * [4.2 Time-series](#TSPP)\n",
    "     * [4.4 Seasonal cycle](#SCyc)\n",
    "         * [4.4.1 Chl-a](#SCycChla)\n",
    "         * [4.4.2 NPP](#SCycNPP)"
   ]
  },
  {
   "cell_type": "markdown",
   "metadata": {},
   "source": [
    "# 0. Configuration<a class=\"anchor\" id=\"CONFIG\"></a>"
   ]
  },
  {
   "cell_type": "code",
   "execution_count": 1,
   "metadata": {
    "tags": []
   },
   "outputs": [
    {
     "data": {
      "application/javascript": "IPython.notebook.set_autosave_interval(5000)"
     },
     "metadata": {},
     "output_type": "display_data"
    },
    {
     "name": "stdout",
     "output_type": "stream",
     "text": [
      "Autosaving every 5 seconds\n",
      "osgeo is not installed, conversion to Geo formats like Geotiff (fesom2GeoFormat) will not work.\n"
     ]
    }
   ],
   "source": [
    "import warnings\n",
    "warnings.filterwarnings('ignore')\n",
    "%autosave 5\n",
    "# necessary modules -------------------------------------------------------------------------------------\n",
    "import socket\n",
    "import sys\n",
    "import os\n",
    "import io\n",
    "import contextlib\n",
    "\n",
    "home = os.path.expanduser(\"~/master_thesis\")\n",
    "sys.path.append(home+'/py_f2recom/GlobalAssessment/')\n",
    "sys.path.append(home+ '/py_f2recom/modules/')\n",
    "sys.path.append(home+ '/py_f2recom/modules/pyfesom2')\n",
    "sys.path.append(home+ '/py_f2recom/modules/cmocean-master/')\n",
    "sys.path.append(home+'/py_f2recom/modules/SkillMetrics/')\n",
    "\n",
    "import pyfesom2 as pf\n",
    "import skill_metrics as sm\n",
    "import cmocean as cmo\n",
    "import numpy as np\n",
    "import matplotlib.pyplot as plt\n",
    "import matplotlib.cm as cm\n",
    "import matplotlib.colors as colors\n",
    "import time\n",
    "from datetime import date\n",
    "import cartopy.crs as ccrs\n",
    "import cartopy.feature as cfeature\n",
    "from netCDF4 import Dataset"
   ]
  },
  {
   "cell_type": "code",
   "execution_count": 2,
   "metadata": {
    "tags": []
   },
   "outputs": [],
   "source": [
    "#    Only modify parameters and paths in this cell       #\n",
    "#  In principle, you don't have to modify anything else  #\n",
    "\n",
    "\n",
    "# run specification -------------------------------------------------------------------------------------   \n",
    "#simu_name = 'projects/MarESys/mseifert/fesom/fesom2-recom/Sina/Sina_photodamage_ON' # only usefull if you want to save figures\n",
    "simu_name = 'simuel001/blanchard_newparams_20240822'\n",
    "\n",
    "\n",
    "# defines paths ----------------------------------------------------------------------------------------- \n",
    "if socket.gethostname()[:5] == 'blogi':\n",
    "    meshpath = '/scratch/usr/hbkoziel/mesh/farc'\n",
    "    resultpath = '/scratch/projects/hbk00083/model_outputs/fesom2.1_recom'+simu_name+'/'\n",
    "    savepath = home+'/pyfesom2/codes/py_f2recom_develop/outputs/'+simu_name+'/'\n",
    "    evalpath      = '/scratch/usr/hbkoziel/evaluation/'\n",
    "    evalpath2      = '/scratch/usr/hbkoziel/corrected_input/'\n",
    "elif socket.gethostname()[:5] in ['albed','prod-']:\n",
    "    #resultpath = '/albedo/work/projects/p_bio/model_output/A_riv'\n",
    "    #resultpath = '/albedo/work/projects/MarESys/GCB2022/A'\n",
    "    #resultpath = '/albedo/work/'+simu_name+'/'                # for 3p model output\n",
    "    resultpath = '/albedo/scratch/user/'+simu_name+'/'          # for 4p model output\n",
    "    savepath = home+'/master_thesis/py_f2recom_4phy/'+simu_name+'/'\n",
    "    evalpath = '/albedo/work/projects/p_pool_recom/eval/'\n",
    "    meshpath = '/albedo/work/projects/p_bio/mesh/core2/'\n",
    "    #meshpath = '/albedo/work/user/yye/fesom2/meshes/core2_albedo/'\n",
    "else:\n",
    "    print('sorry, machine unknown, please customize your paths yourself')\n",
    "\n",
    "# period of analysis ------------------------------------------------------------------------------------\n",
    "first_year_maps = 1958\n",
    "first_year = 1974\n",
    "last_year  = 1978\n",
    "    \n",
    "years = np.arange(first_year,last_year+1,1)\n",
    "years_last10 = np.arange(first_year_maps,last_year+1,1)\n",
    "\n",
    "# specification of analysis ------------------------------------------------------------------------------------\n",
    "layerwise = False\n",
    "depths = (0,50,200,1000,2000) # If layerwise is True, you can define depths here, by defaut: (0,50,200,1000,2000,4000)\n",
    "uplow = [0, 100]\n",
    "mapproj = 'rob'\n",
    "# Map projection ptions are : Mercator (merc), Plate Carree (pc),\n",
    "# North Polar Stereo (np), South Polar Stereo (sp),  Robinson (rob)\n",
    "# Robinson projection is quite time consuming."
   ]
  },
  {
   "cell_type": "code",
   "execution_count": 3,
   "metadata": {
    "tags": []
   },
   "outputs": [
    {
     "name": "stdout",
     "output_type": "stream",
     "text": [
      "Processing years 1974 to 1978\n",
      "\n",
      "Reading out of /albedo/scratch/user/simuel001/blanchard_newparams_20240822/\n",
      "Storing graphs to /albedo/home/simuel001/master_thesis/master_thesis/py_f2recom_4phy/simuel001/blanchard_newparams_20240822/\n",
      "Storing html to /albedo/home/simuel001/master_thesis/master_thesis/py_f2recom_4phy/simuel001/blanchard_newparams_20240822/ as simuel001/blanchard_newparams_20240822__2024_09_13_eco.html\n",
      "\n",
      "Last ten years are \n",
      "[1958 1959 1960 1961 1962 1963 1964 1965 1966 1967 1968 1969 1970 1971\n",
      " 1972 1973 1974 1975 1976 1977 1978]\n",
      "/albedo/work/projects/p_bio/mesh/core2/pickle_mesh_py3_fesom2\n",
      "The usepickle == True)\n",
      "The pickle file for FESOM2 exists.\n",
      "The mesh will be loaded from /albedo/work/projects/p_bio/mesh/core2/pickle_mesh_py3_fesom2\n",
      "[NbConvertApp] Converting notebook Py_f2recom_toolbox.ipynb to python\n",
      "[NbConvertApp] Writing 48334 bytes to Py_f2recom_toolbox.py\n"
     ]
    }
   ],
   "source": [
    "# export of analysis ------------------------------------------------------------------------------------\n",
    "# Be aware that exporting figures may alter (crop) the display but the printed figures are okay\n",
    "# This is because of bugs in the 'constrained_layout' matplotlib experimental function \n",
    "# that may be fixed in the future matplotlib version but out of our control\n",
    "# If you prefer having a nice HTML, savefig must be turned off\n",
    "#--------------------------------------------------------------------------------------------------------\n",
    "today = date.today().strftime(\"_%Y_%m_%d\")\n",
    "savefig = True \n",
    "htmlname     =  simu_name+'_'+ today +'_eco.html'\n",
    "htmlpath = savepath\n",
    "verbose = True\n",
    "\n",
    "if not os.path.exists(htmlpath): # create folders if do not exist\n",
    "    os.makedirs(htmlpath)\n",
    "if not os.path.exists(savepath):\n",
    "    os.makedirs(savepath)\n",
    "    \n",
    "# initialization file specifications -----------------------------------------------------------\n",
    "\n",
    "matfileChlGloOCCCI       = evalpath+'climatology_annual_chl_1deg_OCCCI_2012_2015.mat'\n",
    "ncfileChlSouthernJohnson = evalpath+'Johnson2013_MEAN_1x1_Chl_mg_m3.npy'\n",
    "matfileNPPvgpm           = evalpath+'VGPM_CLIM.mat'\n",
    "matfileNPPcpbm           = evalpath+'CBPM_CLIM.mat'\n",
    "ncfileMaredatDia         = evalpath+'MarEDat20120716Diatoms.nc'\n",
    "ncfileMaredatCocco       = evalpath+'MarEDat20130523Coccolithophores.nc'\n",
    "ncfileMaredatPhaeo       = evalpath+'MarEDat20120424Phaeocystis_filtered.nc'\n",
    "ncfileMaredatMicro       = evalpath+'MarEDat20120424Microzooplankton.nc'\n",
    "ncfileMaredatMeso        = evalpath+'MarEDat20120524Mesozooplankton.nc'\n",
    "ncfileMaredatMacro       = evalpath+'MarEDat20120216Macrozooplankton.nc'\n",
    "ncfileChlArcLewis        = evalpath+'AO_SAT/LEWIS_CLIMATOLOGY_2003_2021_CHL.nc'\n",
    "ncfileChlArcOCCCI        = evalpath+'AO_SAT/OCCCI_CLIMATOLOGY_2000_2019_May_Sept_CHL.nc'\n",
    "npfileNPPArcLewis        = evalpath+'NPP_ARRIGO_2003_2018_reg.npy'\n",
    "npfileNPParcCMEMS        = evalpath+'NPP_CMEMS_2003_2018_reg.npy'\n",
    "\n",
    "# visual check\n",
    "if(verbose):\n",
    "    print('Processing years {4} to {5}\\n\\nReading out of {0}\\nStoring graphs to {1}\\nStoring html to {2} as {3}'.format(\n",
    "        resultpath, savepath, htmlpath, htmlname,years[0],years[-1]))\n",
    "    print('\\nLast ten years are \\n{0}'.format(years_last10))\n",
    "    \n",
    "# mesh initialization -----------------------------------------------------------\n",
    "mesh = pf.load_mesh(meshpath)\n",
    "mesh.path = meshpath\n",
    "\n",
    "# export toolbox\n",
    "!jupyter nbconvert --to=python Py_f2recom_toolbox.ipynb"
   ]
  },
  {
   "cell_type": "markdown",
   "metadata": {},
   "source": [
    "# 4. Ocean Productivity & ecosystem (NPP, Export and Chlorophyll a)<a class=\"anchor\" id=\"PP\"></a>"
   ]
  },
  {
   "cell_type": "markdown",
   "metadata": {},
   "source": [
    "## 4.1 Maps<a class=\"anchor\" id=\"PPMAPS\"></a>"
   ]
  },
  {
   "cell_type": "markdown",
   "metadata": {},
   "source": [
    "### 4.1.1 Global Ocean Chl a [OC-CCI] <a class=\"anchor\" id=\"OCCCIPPMAP\"></a>"
   ]
  },
  {
   "cell_type": "code",
   "execution_count": null,
   "metadata": {},
   "outputs": [],
   "source": [
    "!jupyter nbconvert --to=python ChlGlobal.ipynb\n",
    "from ChlGlobal import ChlGlobal\n",
    "ChlGlobal(resultpath,savepath,mesh,matfileChlGloOCCCI,\n",
    "          first_year_maps,last_year, savefig=savefig)"
   ]
  },
  {
   "cell_type": "markdown",
   "metadata": {},
   "source": [
    "### 4.1.2 Southern ocean Chl a [Johnson et al. (2013)] <a class=\"anchor\" id=\"JOHNPPMAP\"></a>"
   ]
  },
  {
   "cell_type": "code",
   "execution_count": null,
   "metadata": {},
   "outputs": [],
   "source": [
    "!jupyter nbconvert --to=python ChlSouthern.ipynb\n",
    "from ChlSouthern import ChlSouthern\n",
    "ChlSouthern(resultpath,savepath,mesh,ncfileChlSouthernJohnson,\n",
    "                          first_year_maps,last_year,\n",
    "                          savefig=savefig)"
   ]
  },
  {
   "cell_type": "markdown",
   "metadata": {},
   "source": [
    "### 4.1.3 Arctic Ocean Chl a [Lewis et al. 2020 + OC-CCI]<a class=\"anchor\" id=\"ARCCHLPMAP\"></a>"
   ]
  },
  {
   "cell_type": "code",
   "execution_count": null,
   "metadata": {},
   "outputs": [],
   "source": [
    "!jupyter nbconvert --to=python ChlArctic.ipynb\n",
    "from ChlArctic import ChlArctic\n",
    "ChlArctic(resultpath,savepath,mesh,ncfileChlArcLewis,\n",
    "                          first_year_maps,last_year,savefig=savefig)"
   ]
  },
  {
   "cell_type": "code",
   "execution_count": null,
   "metadata": {},
   "outputs": [],
   "source": [
    "!jupyter nbconvert --to=python ChlArctic.ipynb\n",
    "from ChlArctic import ChlArctic\n",
    "ChlArctic(resultpath,savepath,mesh,ncfileChlArcOCCCI,\n",
    "                          first_year_maps,last_year,savefig=savefig)"
   ]
  },
  {
   "cell_type": "markdown",
   "metadata": {},
   "source": [
    "### 4.1.4 Global Ocean NPP (cpbm & vgpn)<a class=\"anchor\" id=\"NPPGLOBAL\"></a>"
   ]
  },
  {
   "cell_type": "code",
   "execution_count": null,
   "metadata": {},
   "outputs": [],
   "source": [
    "!jupyter nbconvert --to=python NPPGlobal.ipynb\n",
    "from NPPGlobal import NPPGlobal\n",
    "\n",
    "# analyze only last 10 years\n",
    "# WARNING: here FESOM NPP is integrated and compared to Ocean Color NPP (surface)\n",
    "NPPGlobal(resultpath, savepath, mesh, matfileNPPcpbm,\n",
    "          first_year_maps, last_year, savefig=savefig)"
   ]
  },
  {
   "cell_type": "code",
   "execution_count": null,
   "metadata": {},
   "outputs": [],
   "source": [
    "!jupyter nbconvert --to=python NPPGlobal.ipynb\n",
    "from NPPGlobal import NPPGlobal\n",
    "\n",
    "NPPGlobal(resultpath, savepath, mesh, matfileNPPvgpm,\n",
    "                first_year_maps,last_year, savefig=savefig)"
   ]
  },
  {
   "cell_type": "markdown",
   "metadata": {},
   "source": [
    "### 4.1.5 Arctic Ocean NPP [Lewis et al. 2020 & Globcolour]<a class=\"anchor\" id=\"#NPPARCTICMAP\"></a>"
   ]
  },
  {
   "cell_type": "code",
   "execution_count": null,
   "metadata": {},
   "outputs": [],
   "source": [
    "!jupyter nbconvert --to=python NPPArctic.ipynb\n",
    "from NPPArctic import NPPArctic\n",
    "\n",
    "NPPArctic(resultpath,savepath,mesh,npfileNPPArcLewis,\n",
    "                          first_year_maps,last_year,savefig=savefig)"
   ]
  },
  {
   "cell_type": "code",
   "execution_count": null,
   "metadata": {},
   "outputs": [],
   "source": [
    "!jupyter nbconvert --to=python NPPArctic.ipynb\n",
    "from NPPArctic import NPPArctic\n",
    "\n",
    "NPPArctic(resultpath,savepath,mesh,npfileNPParcCMEMS,\n",
    "                          first_year_maps,last_year,savefig=savefig)"
   ]
  },
  {
   "cell_type": "markdown",
   "metadata": {
    "jp-MarkdownHeadingCollapsed": true
   },
   "source": [
    "### 4.1.6 Maredat Biomass maps <a class=\"anchor\" id=\"MAREDAT\"></a>"
   ]
  },
  {
   "cell_type": "code",
   "execution_count": null,
   "metadata": {},
   "outputs": [],
   "source": [
    "!jupyter nbconvert --to=python Biomass_maps_all_FT.ipynb\n",
    "from Biomass_maps_all_FT import Bio_map_all\n",
    "\n",
    "Bio_map_all(resultpath,savepath,mesh,meshpath,first_year_maps,last_year)"
   ]
  },
  {
   "cell_type": "code",
   "execution_count": null,
   "metadata": {},
   "outputs": [],
   "source": []
  },
  {
   "cell_type": "markdown",
   "metadata": {},
   "source": [
    "#### Diatoms"
   ]
  },
  {
   "cell_type": "code",
   "execution_count": null,
   "metadata": {},
   "outputs": [],
   "source": [
    "!jupyter nbconvert --to=python Biomass_Maredat.ipynb\n",
    "from Biomass_Maredat import Bio_comp\n",
    "\n",
    "Bio_comp(resultpath,savepath,mesh,meshpath,ncfileMaredatDia,'DiaC',\n",
    "                          first_year_maps,last_year)"
   ]
  },
  {
   "cell_type": "markdown",
   "metadata": {},
   "source": [
    "#### Coccolithophores"
   ]
  },
  {
   "cell_type": "code",
   "execution_count": null,
   "metadata": {},
   "outputs": [],
   "source": [
    "!jupyter nbconvert --to=python Biomass_Maredat.ipynb\n",
    "from Biomass_Maredat import Bio_comp\n",
    "\n",
    "from pathlib import Path\n",
    "cocco_path = Path(resultpath + '/CoccoC.fesom.'+str(years[0])+'.nc') # assuming that coccos were used for the entire simulation if they were used in the first year of simulation\n",
    "if cocco_path.is_file():\n",
    "    Bio_comp(resultpath,savepath,mesh,meshpath,ncfileMaredatCocco,'CoccoC',\n",
    "                              first_year_maps,last_year)\n",
    "else:\n",
    "    print('Sorry, model was used without coccolithophores')"
   ]
  },
  {
   "cell_type": "markdown",
   "metadata": {},
   "source": [
    "#### Phaeocystis"
   ]
  },
  {
   "cell_type": "code",
   "execution_count": null,
   "metadata": {
    "scrolled": true
   },
   "outputs": [],
   "source": [
    "!jupyter nbconvert --to=python Biomass_Maredat.ipynb\n",
    "from Biomass_Maredat import Bio_comp\n",
    "\n",
    "from pathlib import Path\n",
    "phaeo_path = Path(resultpath + '/PhaeoC.fesom.'+str(years[0])+'.nc') # assuming that coccos were used for the entire simulation if they were used in the first year of simulation\n",
    "if phaeo_path.is_file():\n",
    "    Bio_comp(resultpath,savepath,mesh,meshpath,ncfileMaredatPhaeo,'PhaeoC',\n",
    "                              first_year_maps,last_year)\n",
    "else:\n",
    "    print('Sorry, model was used without phaeocystis')"
   ]
  },
  {
   "cell_type": "markdown",
   "metadata": {},
   "source": [
    "#### Microzooplankton"
   ]
  },
  {
   "cell_type": "code",
   "execution_count": null,
   "metadata": {},
   "outputs": [],
   "source": [
    "!jupyter nbconvert --to=python Biomass_Maredat.ipynb\n",
    "from Biomass_Maredat import Bio_comp\n",
    "\n",
    "from pathlib import Path\n",
    "micro_path = Path(resultpath + '/Zoo3C.fesom.'+str(years[0])+'.nc') # assuming that microzooplankton was used for the entire simulation if it was used in the first year of simulation\n",
    "if micro_path.is_file():\n",
    "    Bio_comp(resultpath,savepath,mesh,meshpath,ncfileMaredatMicro,'Zoo3C',\n",
    "                              first_year_maps,last_year)\n",
    "else:\n",
    "    print('Sorry, model was used without microzooplankton (third zooplankton)')  "
   ]
  },
  {
   "cell_type": "markdown",
   "metadata": {},
   "source": [
    "#### Mesozooplankton"
   ]
  },
  {
   "cell_type": "code",
   "execution_count": null,
   "metadata": {},
   "outputs": [],
   "source": [
    "!jupyter nbconvert --to=python Biomass_Maredat.ipynb\n",
    "from Biomass_Maredat import Bio_comp\n",
    "\n",
    "Bio_comp(resultpath,savepath,mesh,meshpath,ncfileMaredatMeso,'HetC',\n",
    "                          first_year_maps,last_year)"
   ]
  },
  {
   "cell_type": "markdown",
   "metadata": {},
   "source": [
    "#### Mesozooplankton"
   ]
  },
  {
   "cell_type": "code",
   "execution_count": null,
   "metadata": {},
   "outputs": [],
   "source": [
    "!jupyter nbconvert --to=python Biomass_Maredat.ipynb\n",
    "from Biomass_Maredat import Bio_comp\n",
    "\n",
    "from pathlib import Path\n",
    "micro_path = Path(resultpath + '/Zoo2C.fesom.'+str(years[0])+'.nc') # assuming that macrozooplankton was used for the entire simulation if it was used in the first year of simulation\n",
    "if micro_path.is_file():\n",
    "    Bio_comp(resultpath,savepath,mesh,meshpath,ncfileMaredatMacro,'Zoo2C',\n",
    "                              first_year_maps,last_year)\n",
    "else:\n",
    "    print('Sorry, model was used without macrozooplankton (second zooplankton / krill)')  "
   ]
  },
  {
   "cell_type": "markdown",
   "metadata": {
    "jp-MarkdownHeadingCollapsed": true
   },
   "source": [
    "### 4.1.7 Limiting Factors <a class=\"anchor\" id=\"LIMFACT\"></a>"
   ]
  },
  {
   "cell_type": "raw",
   "metadata": {
    "tags": []
   },
   "source": [
    "!jupyter nbconvert --to=python LIMfactors.ipynb\n",
    "!jupyter nbconvert --to=python load_interp_WOA.ipynb\n",
    "from LIMfactors import LimFact\n",
    "limfact = LimFact(resultpath, savepath, mesh, last_year, last_year, mapproj=mapproj,\n",
    "                savefig=savefig, cmap = cmo.cm.thermal, verbose=verbose, frequency = 'yearly', plotting=True)\n",
    "# Hatched areas are aras with weak limitation (all parameters >0.5)"
   ]
  },
  {
   "cell_type": "markdown",
   "metadata": {
    "jp-MarkdownHeadingCollapsed": true
   },
   "source": [
    "## 4.2 Latitudinal distributions<a class=\"anchor\" id=\"LATPP\"></a>"
   ]
  },
  {
   "cell_type": "code",
   "execution_count": null,
   "metadata": {},
   "outputs": [],
   "source": [
    "!jupyter nbconvert --to=python Chl_NPP_latitudinal.ipynb\n",
    "!jupyter nbconvert --to=python ChlGlobal.ipynb\n",
    "!jupyter nbconvert --to=python ChlSouthern.ipynb\n",
    "!jupyter nbconvert --to=python NPPGlobal.ipynb\n",
    "from Chl_NPP_latitudinal import Chl_NPP_lat_comp\n",
    "\n",
    "Chl_NPP_lat_comp(resultpath,savepath,mesh,\n",
    "                            matfileChlGloOCCCI,ncfileChlSouthernJohnson,matfileNPPcpbm,matfileNPPvgpm,\n",
    "                            first_year_maps,last_year, savefig=savefig)"
   ]
  },
  {
   "cell_type": "markdown",
   "metadata": {},
   "source": [
    "## 4.3 Time series<a class=\"anchor\" id=\"TSPP\"></a>"
   ]
  },
  {
   "cell_type": "code",
   "execution_count": null,
   "metadata": {
    "scrolled": true,
    "tags": []
   },
   "outputs": [],
   "source": [
    "# time-series of NPP and export production\n",
    "!jupyter nbconvert --to=python NPP_timeseries.ipynb\n",
    "from NPP_timeseries import NPP_timeseries\n",
    "NPP_timeseries(resultpath,savepath,mesh,first_year_maps,last_year,savefig=savefig,mask=\"Global Ocean\")\n",
    "### export production --> gravitational sinking of detritus out of 100 m depth"
   ]
  },
  {
   "cell_type": "code",
   "execution_count": null,
   "metadata": {
    "tags": []
   },
   "outputs": [],
   "source": [
    "# Example for the Southern Ocean only\n",
    "!jupyter nbconvert --to=python NPP_timeseries.ipynb\n",
    "from NPP_timeseries import NPP_timeseries\n",
    "NPP_timeseries(resultpath,savepath,mesh,first_year_maps,last_year,savefig=savefig,mask=\"Southern_Ocean_50S\")"
   ]
  },
  {
   "cell_type": "code",
   "execution_count": null,
   "metadata": {
    "scrolled": true
   },
   "outputs": [],
   "source": [
    "!jupyter nbconvert --to=python NPP_timeseries.ipynb\n",
    "from NPP_timeseries import NPP_timeseries\n",
    "NPP_timeseries(resultpath,savepath,mesh,first_year,last_year,savefig=savefig,mask=\"Arctic_Basin\")"
   ]
  },
  {
   "cell_type": "markdown",
   "metadata": {},
   "source": [
    "## 4.4 Seasonal cycle<a class=\"anchor\" id=\"SCyc\"></a>\n",
    "\n",
    "\n"
   ]
  },
  {
   "cell_type": "markdown",
   "metadata": {},
   "source": [
    "### 4.4.1 Chl-a<a class=\"anchor\" id=\"SCycChla\"></a>"
   ]
  },
  {
   "cell_type": "code",
   "execution_count": null,
   "metadata": {},
   "outputs": [
    {
     "name": "stdout",
     "output_type": "stream",
     "text": [
      "[NbConvertApp] Converting notebook SeasonalCycle.ipynb to python\n",
      "[NbConvertApp] Writing 16889 bytes to SeasonalCycle.py\n"
     ]
    }
   ],
   "source": [
    "!jupyter nbconvert --to=python SeasonalCycle.ipynb\n",
    "from SeasonalCycle import SeasonalCycle\n",
    "\n",
    "SeasonalCycle(resultpath,savepath,mesh,first_year,last_year,type=\"Chl\",savefig=False)"
   ]
  },
  {
   "cell_type": "markdown",
   "metadata": {},
   "source": [
    "### 4.4.2 NPP<a class=\"anchor\" id=\"SCycNPP\"></a>"
   ]
  },
  {
   "cell_type": "code",
   "execution_count": null,
   "metadata": {},
   "outputs": [],
   "source": [
    "!jupyter nbconvert --to=python SeasonalCycle.ipynb\n",
    "from SeasonalCycle import SeasonalCycle\n",
    "\n",
    "SeasonalCycle(resultpath,savepath,mesh,first_year,last_year,type=\"NPP\",savefig=False)"
   ]
  },
  {
   "cell_type": "markdown",
   "metadata": {},
   "source": [
    "# Save notebook as html"
   ]
  },
  {
   "cell_type": "code",
   "execution_count": null,
   "metadata": {},
   "outputs": [],
   "source": [
    "%%javascript\n",
    "IPython.notebook.kernel.execute('nb_name = \"' + IPython.notebook.notebook_name + '\"')\n",
    "%autosave\n",
    "!jupyter nbconvert $nb_name --output-dir=$htmlpath --to html --no-input"
   ]
  },
  {
   "cell_type": "code",
   "execution_count": null,
   "metadata": {},
   "outputs": [],
   "source": []
  }
 ],
 "metadata": {
  "kernelspec": {
   "display_name": "Python 3 (ipykernel)",
   "language": "python",
   "name": "python3"
  },
  "language_info": {
   "codemirror_mode": {
    "name": "ipython",
    "version": 3
   },
   "file_extension": ".py",
   "mimetype": "text/x-python",
   "name": "python",
   "nbconvert_exporter": "python",
   "pygments_lexer": "ipython3",
   "version": "3.10.13"
  }
 },
 "nbformat": 4,
 "nbformat_minor": 4
}
