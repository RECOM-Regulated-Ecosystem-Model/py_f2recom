{
 "cells": [
  {
   "cell_type": "code",
   "execution_count": null,
   "metadata": {},
   "outputs": [],
   "source": [
    "### MASTER_Script_python3\n",
    "'''\n",
    "This is MASTER_Script_python3 for evaluation of FESOM2-REcoM output. \n",
    "Adapted from py_recom/GlobalAssesment/MASTER_Script.ipynb\n",
    "\n",
    "Please install:\n",
    "-pyfesom2\n",
    "-skillmetrics\n",
    "-cartopy\n",
    "\n",
    "Caution: As basemap gets deprecated, pyfesom2 (thus, this sript as well) use cartopy instead. \n",
    "Using Robinson projection needs more time than the standard Plate Carree projection.\n",
    "\n",
    "Tracers are calculated at midlayer depths, c.f. https://fesom2.readthedocs.io/en/latest/geometry.html\n",
    "'''"
   ]
  },
  {
   "cell_type": "markdown",
   "metadata": {},
   "source": [
    "# Run mo22\n",
    "## Chlorophyll degradation for nanophyto deg$_{Chl}$ = 0.20 and diatoms deg$_{Chl,d}$ = 0.20\n",
    "## C-specific photosynthesis rate diatoms P$_{cm,d}$ = 3.4\n"
   ]
  },
  {
   "cell_type": "code",
   "execution_count": null,
   "metadata": {},
   "outputs": [],
   "source": [
    "%matplotlib inline\n",
    "%autosave 5"
   ]
  },
  {
   "cell_type": "code",
   "execution_count": null,
   "metadata": {
    "scrolled": false
   },
   "outputs": [],
   "source": [
    "# necessary modules -------------------------------------------------------------------------------------\n",
    "import pyfesom2 as pf\n",
    "import numpy as np\n",
    "import matplotlib.pyplot as plt\n",
    "import matplotlib.cm as cm\n",
    "import matplotlib.colors as colors\n",
    "\n",
    "import time\n",
    "from datetime import date\n",
    "\n",
    "#import sys\n",
    "#sys.path.append('home/ollie/mozeisin/SkillMetrics')\n",
    "\n",
    "import cartopy.crs as ccrs\n",
    "import cartopy.feature as cfeature\n",
    "\n",
    "#import pangaeapy.pandataset as pd\n",
    "\n",
    "# own py_recom modules ----------------------------------------------------------------------\n",
    "# convert again if you changed something!\n",
    "if False:\n",
    "    #!jupyter nbconvert --to=python *.ipynb\n",
    "    !jupyter nbconvert --to=python load_interp_WOA_python3.ipynb\n",
    "    !jupyter nbconvert --to=python plot_Taylor_normalized.ipynb\n",
    "\n",
    "    !jupyter nbconvert --to=python plot_Chlorophyll_FESOM_python3.ipynb\n",
    "from plot_Chlorophyll_FESOM_python3 import plot_Chl\n"
   ]
  },
  {
   "cell_type": "code",
   "execution_count": null,
   "metadata": {},
   "outputs": [],
   "source": [
    "# After changing these parameters here, save the notebook and clear the output. \n",
    "# Then run this cell and the cells with the desired parameters.\n",
    "\n",
    "# run specification -------------------------------------------------------------------------------------   \n",
    "if True:\n",
    "    runid      =  'fesom'\n",
    "    layerwise    = False\n",
    "    resultpath = '/work/ollie/mozeisin/results/f2r1.2/mo22'\n",
    "    meshpath = '/work/ollie/mozeisin/mesh/mesh_fesom2.0/core2_meanz'\n",
    "\n",
    "    # period of analysis \n",
    "    first_year = 1948\n",
    "    last_year  = 1970\n",
    "    \n",
    "  \n",
    "if False:    \n",
    "    runid = 'fesom'\n",
    "    layerwise = False\n",
    "    resultpath = '/work/ollie/ogurses/output_f2r2/THIRD_RUN'\n",
    "    meshpath = '/work/ollie/mozeisin/mesh/mesh_fesom2.0/core2_meanz'\n",
    "    \n",
    "    # period of analysis \n",
    "    first_year = 2000\n",
    "    last_year  = 2007\n",
    "    \n",
    "years = np.arange(first_year,last_year+1,1)\n",
    "years_last10 = np.arange(last_year-10,last_year+1,1)\n",
    "\n",
    "# specification of analysis ------------------------------------------------------------------------------------\n",
    "depth = 0\n",
    "layerwise = False\n",
    "mapproj = 'rob'\n",
    "#Map projection. Options are Mercator (merc), Plate Carree (pc),\n",
    "#North Polar Stereo (np), South Polar Stereo (sp),  Robinson (rob)\n",
    "#Robinson projection is quite time consuming.\n",
    "\n",
    "# export of analysis ------------------------------------------------------------------------------------\n",
    "today = date.today().strftime(\"_%Y_%m_%d\")\n",
    "\n",
    "savepath = '/home/ollie/mozeisin/evaluation/mo_files/mo22/'\n",
    "savefig = False\n",
    "htmlname     =  'mo22' + today +'.html'\n",
    "htmlpath = '/home/ollie/mozeisin/evaluation/mo_files/html/'\n",
    "\n",
    "# initialization file specifications -----------------------------------------------------------\n",
    "\n",
    "obspath      = '/home/ollie/mseifert/py_fesom/CreateRunFiles/Initialization/Output/'\n",
    "\n",
    "ncfileAlk                = '/work/ollie/projects/MarESys/evaluation/GLODAPv2.2016b.TAlk.nc'\n",
    "ncfileDIC                = '/work/ollie/projects/MarESys/evaluation/GLODAPv2.2016b.TCO2.nc'\n",
    "ncfileDSi                = '/work/ollie/projects/MarESys/evaluation/woa13_all_i00_01.nc'\n",
    "ncfileDIN                = '/work/ollie/projects/MarESys/evaluation/woa13_all_n00_01.nc'\n",
    "ncfileDO2                = '/work/ollie/projects/MarESys/evaluation/woa18_all_o00_01.nc'\n",
    "ncfileDFe                = '/work/ollie/projects/MarESys/evaluation/fe_pisces_opa_eq_init_3D.nc' \n",
    "ncfileNPPTotalGlobal     = '/work/ollie/projects/MarESys/evaluation/'+'fesom.initial.mesh.diag.nc'\n",
    "ncfileCO2fluxTotalGlobal = '/work/ollie/projects/MarESys/evaluation/'+'fesom.initial.mesh.diag.nc'\n",
    "ncfileTemp               = '/work/ollie/projects/MarESys/evaluation/woa18_decav_t00_01.nc'\n",
    "ncfileSal                = '/work/ollie/projects/MarESys/evaluation/woa18_decav_s00_01.nc'\n",
    "ncfilepCO2               = '/work/ollie/projects/MarESys/evaluation/SOCATv6_tracks_gridded_monthly.nc'\n",
    "ncfileMLD                = '/work/ollie/projects/MarESys/evaluation/mld_DR003.nc'\n",
    "matfileChlsurf           = '/work/ollie/projects/MarESys/evaluation/climatology_annual_chl_1deg_OCCCI_2012_2015.mat'\n",
    "txtfileCO2flux           = '/work/ollie/projects/MarESys/evaluation/CO2_flux2015_Takahashietal2009_original.txt'\n",
    "\n",
    "ncfileMaredat = \"/home/ollie/mozeisin/obs/MarEDat/MarEDat20120716Diatoms.nc\"\n",
    "pathJohnson2013 = '/home/ollie/mozeisin/obs/Johnson2013_Chl_SouthernOcean/'"
   ]
  },
  {
   "cell_type": "code",
   "execution_count": null,
   "metadata": {},
   "outputs": [],
   "source": [
    "# just to check\n",
    "print('Processing years {4} to {5}\\n\\nReading out of {0}\\nStoring graphs to {1}\\nStoring html to {2} as {3}'.format(\n",
    "    resultpath, savepath, htmlpath, htmlname,years[0],years[-1]))\n",
    "\n",
    "print('\\nLast ten years are \\n{0}'.format(years_last10))"
   ]
  },
  {
   "cell_type": "code",
   "execution_count": null,
   "metadata": {},
   "outputs": [],
   "source": [
    "def mygrid(m,grid=False):\n",
    "    '''\n",
    "    Draw cartopy natural earth feature to axis m\n",
    "    '''\n",
    "    #m.coastlines(resolution='110m', color='black', linewidth=1)\n",
    "    land_poly = cfeature.NaturalEarthFeature('physical', 'land', '110m',edgecolor='k',facecolor=cfeature.COLORS['land'])\n",
    "    m.add_feature(land_poly)\n",
    "\n",
    "    if grid:\n",
    "        g1 = m.gridlines(draw_labels = True)\n",
    "        g1.xlabels_top = False\n",
    "        g1.xlabel_style = {'size': 16, 'color': 'gray'}\n",
    "        g1.ylabel_style = {'size': 16, 'color': 'gray'}"
   ]
  },
  {
   "cell_type": "code",
   "execution_count": null,
   "metadata": {
    "scrolled": false
   },
   "outputs": [],
   "source": [
    "# mesh initialization -----------------------------------------------------------\n",
    "mesh = pf.load_mesh(meshpath)\n",
    "\n",
    "if False: # check mesh setup nodal and area\n",
    "    print(mesh)\n",
    "    print('with depth levels:')\n",
    "    print(mesh.zlev)\n",
    "    \n",
    "    print('\\n\\nFESOM mesh.diag:')\n",
    "    meshdiag=resultpath+'/'+runid+'.mesh.diag.nc'\n",
    "    #!ncdump -h $meshdiag\n",
    "\n",
    "    diag = pf.get_meshdiag(mesh,meshdiag=meshdiag, runid=runid)\n",
    "    print(diag)\n",
    "    print('depth of layers:')\n",
    "    mesh_depths = diag['Z'].values\n",
    "    print(mesh_depths)\n",
    "    \n",
    "    nod_area = diag.rename_dims({\"nl\": \"nz1\", \"nod_n\": \"nod2\"}).nod_area\n",
    "    nod_area.load()\n",
    "    #print(np.shape(nod_area[:,:]), type(nod_area))\n",
    "    \n",
    "if False:    \n",
    "    # whole globe\n",
    "    pf.plot(mesh,np.array(nod_area[0,:]),units='Surface nodal area')\n",
    "    \n",
    "    # plot nodal area and mesh structure together\n",
    "    pf.tplot(mesh, np.array(nod_area[0,:]), ptype='tri', box=[-30, 30, 60, 82], mapproj='np',lw=0.5,units='nodal area')\n",
    "    pf.tplot(mesh, np.array(nod_area[0,:]), ptype='tri', box=[-30, 30, -30, 30], mapproj='merc',lw=0.5,units='nodal area')"
   ]
  },
  {
   "cell_type": "markdown",
   "metadata": {},
   "source": [
    "# Physical fields"
   ]
  },
  {
   "cell_type": "code",
   "execution_count": null,
   "metadata": {
    "scrolled": false
   },
   "outputs": [],
   "source": [
    "!jupyter nbconvert --to=python Temp_WOA_Comparison_python3.ipynb\n",
    "\n",
    "from Temp_WOA_Comparison_python3 import TEMPcomp\n",
    "test = TEMPcomp(runid,resultpath,savepath,meshpath,ncfileTemp,last_year-10,last_year,mapproj=mapproj,savefig=savefig)\n"
   ]
  },
  {
   "cell_type": "code",
   "execution_count": null,
   "metadata": {
    "scrolled": false
   },
   "outputs": [],
   "source": [
    "!jupyter nbconvert --to=python Sal_WOA_Comparison_python3.ipynb\n",
    "from Sal_WOA_Comparison_python3 import SALcomp\n",
    "\n",
    "#test = SALcomp(runid,resultpath,savepath,meshpath,ncfileSal,first_year,last_year,mapproj=mapproj,savefig=savefig)\n",
    "\n",
    "# problem: sometimes FESOM salt output (e.g Ozgur's testrun 3) includes all gridpoints in deeper depth \n",
    "# and not only ocean points!\n",
    "# figures using Robinson projections plot false results\n",
    "# solution: use only Plate Carree\n",
    "test = SALcomp(runid,resultpath,savepath,meshpath,ncfileSal,last_year-10,last_year,\n",
    "               mapproj='pc',\n",
    "               layerwise=False,savefig=savefig)"
   ]
  },
  {
   "cell_type": "code",
   "execution_count": null,
   "metadata": {},
   "outputs": [],
   "source": [
    "!jupyter nbconvert --to=python MLDspatial_python3.ipynb\n",
    "from MLDspatial_python3 import MLDspatial_global\n",
    "\n",
    "test = MLDspatial_global(runid,resultpath,savepath,meshpath,last_year-10,last_year,mapproj=mapproj,savefig=savefig)\n",
    "    \n",
    "'''\n",
    "Calculate mixed layer depth after Monterey and Levitus, (1997) who \n",
    "compute MLD as the depth at which the density over depth differsby 0.125 sigma units \n",
    "from the surface density (Griffies et al., 2009). \n",
    "This MLD definition was also supported in FESOM1.4 (-->MLD2) \n",
    "\n",
    "Definition of Large et al. (1997), who suggest to compute MLD\n",
    "as the shallowest depth where the vertical derivative of buoyancy\n",
    "is equal to a local critical buoyancy gradient (Griffies et al., 2009) (-->MLD1).\n",
    "\n",
    "C.f. oce_ale_pressure_bv.F90\n",
    "\n",
    "comp. to FESOM 1.4: \n",
    "'mlotst'  : mixed layer depth [m], computed with Levitus method (with 0.125 kg/m3 criterion)\n",
    "'omldamax': daily maximum ocean mixed layer thickness [m] defined by mixing scheme\n",
    "'''"
   ]
  },
  {
   "cell_type": "code",
   "execution_count": null,
   "metadata": {
    "scrolled": false
   },
   "outputs": [],
   "source": [
    "## Oxygen\n",
    "\n",
    "!jupyter nbconvert --to=python DO2_WOA_Comparison_python3.ipynb\n",
    "from DO2_WOA_Comparison_python3 import DO2comp\n",
    "\n",
    "test = DO2comp(runid,resultpath,savepath,meshpath,ncfileDO2,last_year-10,last_year,\n",
    "               mapproj=mapproj,layerwise=False,savefig=savefig)"
   ]
  },
  {
   "cell_type": "markdown",
   "metadata": {},
   "source": [
    "# Nutrients"
   ]
  },
  {
   "cell_type": "code",
   "execution_count": null,
   "metadata": {
    "scrolled": false
   },
   "outputs": [],
   "source": [
    "!jupyter nbconvert --to=python DIN_WOA_Comparison_python3.ipynb\n",
    "\n",
    "from DIN_WOA_Comparison_python3 import DINcomp\n",
    "test = DINcomp(runid,resultpath,savepath,meshpath,ncfileDIN,last_year-10,last_year,mapproj=mapproj,savefig=False)\n"
   ]
  },
  {
   "cell_type": "code",
   "execution_count": null,
   "metadata": {
    "scrolled": false
   },
   "outputs": [],
   "source": [
    "!jupyter nbconvert --to=python DSi_WOA_Comparison_python3.ipynb\n",
    "from DSi_WOA_Comparison_python3 import DSicomp\n",
    "\n",
    "test = DSicomp(runid,resultpath,savepath,meshpath,ncfileDSi,last_year-10,last_year,mapproj=mapproj,savefig=savefig)\n",
    "\n",
    "###############################################\n",
    "### right unit? micro or millimol ??\n",
    "###############################################"
   ]
  },
  {
   "cell_type": "code",
   "execution_count": null,
   "metadata": {
    "scrolled": false
   },
   "outputs": [],
   "source": [
    "## DSi at three different depth\n",
    "\n",
    "#from DSi_WOA_Comparison_python3 import DSicomp\n",
    "\n",
    "test = DSicomp(runid,resultpath,savepath,meshpath,ncfileDSi,last_year-10,last_year,\n",
    "               layerwise=True, depth_array = [0,1000,2000],\n",
    "               mapproj=mapproj,savefig=savefig)"
   ]
  },
  {
   "cell_type": "code",
   "execution_count": null,
   "metadata": {
    "scrolled": false
   },
   "outputs": [],
   "source": [
    "!jupyter nbconvert --to=python DFe_PISCES_Comparison_python3.ipynb\n",
    "from DFe_PISCES_Comparison_python3 import DFecomp\n",
    "\n",
    "test = DFecomp(runid,resultpath,savepath,meshpath,ncfileDFe,last_year-10,last_year,mapproj=mapproj,savefig=savefig)\n"
   ]
  },
  {
   "cell_type": "code",
   "execution_count": null,
   "metadata": {
    "scrolled": false
   },
   "outputs": [],
   "source": [
    "## Nutrients in Mixed Layer\n",
    "# --> problem: what is the corresponding FESOM2 output concerning daily max. MLD (omldamax) and mlotst?\n",
    "\n",
    "#!jupyter nbconvert --to=python Nutrients_MLD.ipynb\n",
    "#from Nutrients_MLD import nut_mld_prof\n",
    "#Test = nut_mld_prof(runname,resultpath,savepath,modulepath,meshpath,obspath,ncfileMLD,first_year,last_year)\n",
    "#Test.plot()"
   ]
  },
  {
   "cell_type": "code",
   "execution_count": null,
   "metadata": {},
   "outputs": [],
   "source": [
    "!jupyter nbconvert --to=python Nutrients_depth_python3.ipynb\n",
    "from Nutrients_depth_python3 import Nut_depth\n",
    "\n",
    "test = Nut_depth(runid,resultpath,savepath,meshpath,obspath,last_year-10,last_year,mapproj=mapproj,\n",
    "                 latminmax=[-90,90],savefig=savefig)"
   ]
  },
  {
   "cell_type": "markdown",
   "metadata": {},
   "source": [
    "# Carbonate system"
   ]
  },
  {
   "cell_type": "code",
   "execution_count": null,
   "metadata": {
    "scrolled": false
   },
   "outputs": [],
   "source": [
    "!jupyter nbconvert --to=python DIC_Glodap_Comparison_python3.ipynb\n",
    "from DIC_Glodap_Comparison_python3 import DICcomp\n",
    "\n",
    "test = DICcomp(runid,resultpath,savepath,meshpath,ncfileDIC,last_year-10,last_year,mapproj=mapproj,savefig=savefig)"
   ]
  },
  {
   "cell_type": "code",
   "execution_count": null,
   "metadata": {
    "scrolled": false
   },
   "outputs": [],
   "source": [
    "!jupyter nbconvert --to=python Alk_Glodap_Comparison_python3.ipynb\n",
    "from Alk_Glodap_Comparison_python3 import Alkcomp\n",
    "\n",
    "test = Alkcomp(runid,resultpath,savepath,meshpath,ncfileAlk,last_year-10,last_year,mapproj=mapproj,savefig=savefig)"
   ]
  },
  {
   "cell_type": "code",
   "execution_count": null,
   "metadata": {
    "scrolled": false
   },
   "outputs": [],
   "source": [
    "!jupyter nbconvert --to=python pCO2SOCAT_python3.ipynb\n",
    "from pCO2SOCAT_python3 import pCO2comp\n",
    "\n",
    "test = pCO2comp(runid,resultpath,savepath,meshpath,ncfilepCO2,last_year-10,last_year,\n",
    "                mapproj=mapproj,\n",
    "                savefig=savefig)"
   ]
  },
  {
   "cell_type": "code",
   "execution_count": null,
   "metadata": {
    "scrolled": false
   },
   "outputs": [],
   "source": [
    "# there is a change of sign in the script, so that negative is CO2 uptake and positive is CO2 outgassing\n",
    "!jupyter nbconvert --to=python CO2fluxSpatialTakahashi_python3.ipynb\n",
    "from CO2fluxSpatialTakahashi_python3 import CO2f_Takahashi_comp\n",
    "\n",
    "test = CO2f_Takahashi_comp(runid,resultpath,savepath,meshpath,txtfileCO2flux,last_year-10,last_year,\n",
    "                           mapproj=mapproj,savefig=savefig)"
   ]
  },
  {
   "cell_type": "markdown",
   "metadata": {},
   "source": [
    "# Global time-series"
   ]
  },
  {
   "cell_type": "code",
   "execution_count": null,
   "metadata": {
    "scrolled": false
   },
   "outputs": [],
   "source": [
    "# positive is CO2 uptake, negative is outgassing\n",
    "!jupyter nbconvert --to=python CO2flux_TotalGlobal_python3.ipynb\n",
    "from CO2flux_TotalGlobal_python3 import CO2flux_TotalGlobal\n",
    "\n",
    "test = CO2flux_TotalGlobal(runid,resultpath,savepath,meshpath,first_year,last_year,savefig=savefig)"
   ]
  },
  {
   "cell_type": "code",
   "execution_count": null,
   "metadata": {},
   "outputs": [],
   "source": [
    "# time-series of NPP and export production\n",
    "!jupyter nbconvert --to=python NPP_TotalGlobal_python3.ipynb\n",
    "from NPP_TotalGlobal_python3 import NPP_TotalGlobal\n",
    "\n",
    "test = NPP_TotalGlobal(runid,resultpath,savepath,meshpath,first_year,last_year,savefig=savefig)\n",
    "\n",
    "### export production --> detritus sinking out of 100 m depth       \n"
   ]
  },
  {
   "cell_type": "markdown",
   "metadata": {},
   "source": [
    "# Southern Ocean time-series"
   ]
  },
  {
   "cell_type": "code",
   "execution_count": null,
   "metadata": {},
   "outputs": [],
   "source": [
    "# Timeseries Total SouthernOcean\n",
    "\n",
    "!jupyter nbconvert --to=python NPP_TotalSouthernOcean_python3.ipynb\n",
    "from NPP_TotalSouthernOcean_python3 import NPP_TotalSO\n",
    "\n",
    "test = NPP_TotalSO(runid,resultpath,savepath,meshpath,first_year,last_year,savefig=savefig)"
   ]
  },
  {
   "cell_type": "markdown",
   "metadata": {},
   "source": [
    "# Biology - Chlorophyll, and NPP"
   ]
  },
  {
   "cell_type": "markdown",
   "metadata": {},
   "source": [
    "### OCCCI surface Chl"
   ]
  },
  {
   "cell_type": "code",
   "execution_count": null,
   "metadata": {
    "scrolled": false
   },
   "outputs": [],
   "source": [
    "!jupyter nbconvert --to=python Chlsurf_OCCCI_Comparison_python3.ipynb\n",
    "from Chlsurf_OCCCI_Comparison_python3 import Chlsurf_OCCCI_comp\n",
    "\n",
    "# analyze only last 10 years\n",
    "test = Chlsurf_OCCCI_comp(runid,resultpath,savepath,meshpath,matfileChlsurf,\n",
    "                          last_year-10,last_year,\n",
    "                          #first_year,last_year,\n",
    "                          mapproj=mapproj,savefig=savefig)\n",
    "\n",
    "########################################################\n",
    "# check OCCCI documentation on depth range of data!\n",
    "# http://www.esa-oceancolour-cci.org/\n",
    "########################################################"
   ]
  },
  {
   "cell_type": "markdown",
   "metadata": {},
   "source": [
    "### Johnson 2013 Southern ocean surface CHl"
   ]
  },
  {
   "cell_type": "code",
   "execution_count": null,
   "metadata": {},
   "outputs": [],
   "source": [
    "!jupyter nbconvert --to=python Chlsurf_SO_Johnson2013_Comparison_python3.ipynb\n",
    "from Chlsurf_SO_Johnson2013_Comparison_python3 import Chlsurf_SO_comp\n",
    "\n",
    "# analyze only last 10 years\n",
    "test = Chlsurf_SO_comp(runid,resultpath,savepath,meshpath,pathJohnson2013,\n",
    "                          last_year-10,last_year,\n",
    "                          #first_year,last_year,\n",
    "                          mapproj=mapproj,savefig=savefig)"
   ]
  },
  {
   "cell_type": "markdown",
   "metadata": {},
   "source": [
    "### diatom chlorophyll"
   ]
  },
  {
   "cell_type": "code",
   "execution_count": null,
   "metadata": {},
   "outputs": [],
   "source": [
    "# diatom chlorophyll\n",
    "\n",
    "NCfesom = resultpath + '/DiaChl.fesom.1948.nc'\n",
    "!ncdump -h $NCfesom"
   ]
  },
  {
   "cell_type": "code",
   "execution_count": null,
   "metadata": {},
   "outputs": [],
   "source": [
    "label='Diatom Chlorophyll {0}-{1} at {2} m'.format(last_year-10,last_year,depth)\n",
    "units = 'Chl.a [mg m$^{-3}$]' # is that really true?\n",
    "\n",
    "plot_Chl(resultpath,'DiaChl',\n",
    "         years_last10,\n",
    "         mesh,runid,depth,mapproj,label,units)\n",
    "\n",
    "# convert FESOM CHl.a data -------------------------------------------------------------------------------------\n",
    "#Chl.a : 893.509 g/mol\n",
    "if False:\n",
    "    conv = 893.509\n",
    "    DiaChl = np.log10(DiaChl * conv)\n",
    "    units = 'log10 Chl.a [mg m$^{-3}$]'\n",
    "    \n",
    "    fig = pf.plot(mesh, DiaChl, mapproj = mapproj, units=units, \n",
    "              #levels = (-3,3.5,66),\n",
    "              cmap='viridis',\n",
    "              titles=label)"
   ]
  },
  {
   "cell_type": "markdown",
   "metadata": {},
   "source": [
    "### nanophytoplankton chlorophyll"
   ]
  },
  {
   "cell_type": "code",
   "execution_count": null,
   "metadata": {},
   "outputs": [],
   "source": [
    "# nanophytoplankton chlorophyll\n",
    "\n",
    "# ChlA --> PhyChl: Nanophytoplankton intracellular ChlA conc.\n",
    "\n",
    "NCfesom = resultpath + '/PhyChl.fesom.1948.nc'\n",
    "!ncdump -h $NCfesom"
   ]
  },
  {
   "cell_type": "code",
   "execution_count": null,
   "metadata": {},
   "outputs": [],
   "source": [
    "label='Nanophyt. Chlorophyll {0}-{1} at {2} m'.format(last_year-10,last_year,depth)\n",
    "units = 'Chl.a [mg m$^{-3}$]'\n",
    "\n",
    "\n",
    "plot_Chl(resultpath,'PhyChl',\n",
    "         years_last10,\n",
    "         mesh,runid,depth,mapproj,label,units)\n"
   ]
  },
  {
   "cell_type": "markdown",
   "metadata": {},
   "source": [
    "### map of total Diatom NPP "
   ]
  },
  {
   "cell_type": "code",
   "execution_count": null,
   "metadata": {},
   "outputs": [],
   "source": [
    "# map of total Diatom NPP \n",
    "\n",
    "NCfesom = resultpath + '/NPPd.fesom.1948.nc'\n",
    "#!ncdump -h $NCfesom\n",
    "\n",
    "# 12.01* data --> mmolC/m2/d to mg C/m2/d\n",
    "\n",
    "label='Diatom NPP {0}-{1}'.format(last_year-10,last_year)\n",
    "units = 'Mean NPP [mg C m$^{-2}$ d$^{-1}$]'\n",
    "\n",
    "NPPd = pf.get_data(resultpath, \"NPPd\", \n",
    "                   years_last10,\n",
    "                   mesh, runid=runid, how=\"mean\", compute=True, silent=True)\n",
    "\n",
    "#print(np.shape(NPPd))\n",
    "# NPP is already vertically integrated!\n",
    "\n",
    "NPPd = NPPd * 12.01\n",
    "fig = pf.plot(mesh, NPPd, mapproj = mapproj, units=units, titles=label, \n",
    "              levels = (0,1100,56),\n",
    "              cmap='viridis')"
   ]
  },
  {
   "cell_type": "markdown",
   "metadata": {},
   "source": [
    "### map of nanophytoplankton NPP"
   ]
  },
  {
   "cell_type": "code",
   "execution_count": null,
   "metadata": {},
   "outputs": [],
   "source": [
    "# map of nanophytoplankton NPP\n",
    "\n",
    "NCfesom = resultpath + '/NPPn.fesom.1948.nc'\n",
    "#!ncdump -h $NCfesom\n",
    "\n",
    "# 12.01* data --> mg C/m2/d\n",
    "\n",
    "label='Nanophytoplankton NPP {0}-{1}'.format(last_year-10,last_year)\n",
    "units = 'Mean NPP [mg C m$^{-2}$ d$^{-1}$]'\n",
    "\n",
    "NPPn = pf.get_data(resultpath, \"NPPn\", \n",
    "                   years_last10,\n",
    "                   mesh, how=\"mean\", compute=True,silent=True)\n",
    "\n",
    "#print(np.shape(NPPn))\n",
    "# NPP is already vertically integrated!\n",
    "\n",
    "NPPn = NPPn *12.01\n",
    "\n",
    "fig = pf.plot(mesh, NPPn, mapproj = mapproj, units=units, titles=label, \n",
    "              levels = (0,1100,56),\n",
    "              cmap='viridis')"
   ]
  },
  {
   "cell_type": "markdown",
   "metadata": {},
   "source": [
    "### total NPP"
   ]
  },
  {
   "cell_type": "code",
   "execution_count": null,
   "metadata": {},
   "outputs": [],
   "source": [
    "# total NPP\n",
    "label='Total Net Primary Production {0}-{1}'.format(last_year-10,last_year)\n",
    "units = 'Mean total NPP [mg C m$^{-2}$ d$^{-1}$]'\n",
    "\n",
    "NPPtot = NPPd + NPPn\n",
    "fig = pf.plot(mesh, NPPtot, mapproj = mapproj, units=units, titles=label, \n",
    "              levels = (0,1100,56),\n",
    "              cmap='viridis')"
   ]
  },
  {
   "cell_type": "markdown",
   "metadata": {},
   "source": [
    "# Biology - MarEDAT Diatom C"
   ]
  },
  {
   "cell_type": "code",
   "execution_count": null,
   "metadata": {},
   "outputs": [],
   "source": [
    "# Diatom carbon comparison with MarEDAT\n",
    "\n",
    "!jupyter nbconvert --to=python DiaC_MarEDAT_python3.ipynb\n",
    "from DiaC_MarEDAT_python3 import DiaC_MarEDAT_comp\n",
    "\n",
    "maredat = DiaC_MarEDAT_comp(runid,resultpath,savepath,meshpath,ncfileMaredat,last_year-10,last_year,\n",
    "        mapproj='pc',\n",
    "        verbose = False,\n",
    "        savefig=savefig)"
   ]
  },
  {
   "cell_type": "markdown",
   "metadata": {},
   "source": [
    "# Biology - intracellular C, N, Si"
   ]
  },
  {
   "cell_type": "code",
   "execution_count": null,
   "metadata": {},
   "outputs": [],
   "source": [
    "# Phytplankton carbon\n",
    "\n",
    "NCfesom = resultpath + '/PhyC.fesom.1948.nc'\n",
    "#!ncdump -h $NCfesom\n",
    "\n",
    "label='Phytoplankton intracell. Carbon {0}-{1} at {2} m'.format(years_last10[0],years_last10[-1],depth)\n",
    "units = 'intracellular C [mmol C m$^{-3}$]'\n",
    "PhyC = pf.get_data(resultpath, \"PhyC\", years_last10, mesh, runid=runid, how=\"mean\", compute=True, depth = depth)\n",
    "fig = pf.plot(mesh, PhyC, mapproj = mapproj, units=units, titles=label)\n"
   ]
  },
  {
   "cell_type": "code",
   "execution_count": null,
   "metadata": {},
   "outputs": [],
   "source": [
    "# Phytplankton nitrogen\n",
    "\n",
    "NCfesom = resultpath + '/PhyN.fesom.1948.nc'\n",
    "#!ncdump -h $NCfesom\n",
    "\n",
    "label='Phytoplankton intracell. Nitrogen {0}-{1} at {2} m'.format(years_last10[0],years_last10[-1],depth)\n",
    "units = 'intracellular N [mmol C m$^{-3}$]'\n",
    "PhyN = pf.get_data(resultpath, \"PhyN\", years_last10, mesh, runid=runid, how=\"mean\", compute=True, depth=depth)\n",
    "fig = pf.plot(mesh, PhyN, mapproj = mapproj, units=units, titles=label)\n"
   ]
  },
  {
   "cell_type": "code",
   "execution_count": null,
   "metadata": {},
   "outputs": [],
   "source": [
    "# Diatom carbon\n",
    "\n",
    "NCfesom = resultpath + '/DiaC.fesom.1948.nc'\n",
    "#!ncdump -h $NCfesom\n",
    "\n",
    "label='Diatom intracell. Carbon {0}-{1} at {2} m'.format(years_last10[0],years_last10[-1],depth)\n",
    "units = 'intracellular C [mmol C m$^{-3}$]'\n",
    "DiaC = pf.get_data(resultpath, \"DiaC\", years_last10, mesh, runid=runid, how=\"mean\", compute=True, depth=depth)\n",
    "fig = pf.plot(mesh, DiaC, mapproj = mapproj, units=units, titles=label)\n"
   ]
  },
  {
   "cell_type": "code",
   "execution_count": null,
   "metadata": {
    "scrolled": false
   },
   "outputs": [],
   "source": [
    "# Diatom nitrogen\n",
    "\n",
    "NCfesom = resultpath + '/DiaN.fesom.1948.nc'\n",
    "#!ncdump -h $NCfesom\n",
    "\n",
    "label='Diatom intracell. Nitrogen {0}-{1} at {2} m'.format(years_last10[0],years_last10[-1],depth)\n",
    "units = 'intracellular N [mmol C m$^{-3}$]'\n",
    "DiaN = pf.get_data(resultpath, \"DiaN\", years_last10, mesh, runid=runid, how=\"mean\", compute=True, depth=depth)\n",
    "fig = pf.plot(mesh, DiaN, mapproj = mapproj, units=units, titles=label)\n"
   ]
  },
  {
   "cell_type": "code",
   "execution_count": null,
   "metadata": {
    "scrolled": false
   },
   "outputs": [],
   "source": [
    "# Diatom silicate\n",
    "\n",
    "#NCfesom = resultpath + '/DiaSi.fesom.1948.nc'\n",
    "#!ncdump -h $NCfesom\n",
    "\n",
    "label='Diatom intracell. Silicate {0}-{1} at {2} m'.format(years[0],years[1],depth)\n",
    "units = 'intracellular Si [mmol m$^{-3}$]'\n",
    "DiaSi = pf.get_data(resultpath, \"DiaSi\", years, mesh, runid=runid, how=\"mean\", compute=True, depth=depth)\n",
    "\n",
    "try:\n",
    "    print('DiaSi \\nmin {0} \\nmax {1} \\nmean {2} '.format(np.nanmin(DiaSi), np.nanmax(DiaSi), np.nanmean(DiaSi)))\n",
    "    fig = pf.plot(mesh, DiaSi, \n",
    "                  mapproj = mapproj, \n",
    "                  units=units, titles=label)\n",
    "except:\n",
    "    print('*** Could not print DiaSi ***')"
   ]
  },
  {
   "cell_type": "markdown",
   "metadata": {},
   "source": [
    "# extra - PCHO and TEP"
   ]
  },
  {
   "cell_type": "code",
   "execution_count": null,
   "metadata": {
    "scrolled": false
   },
   "outputs": [],
   "source": [
    "if False:\n",
    "    label='Polysaccharides {0}-{1} at {2} m'.format(last_year-10,last_year,depth)\n",
    "    units = 'org C [mmol m$^{-3}$]'\n",
    "    \n",
    "    PCHO = pf.get_data(resultpath, \"PCHO\", \n",
    "                       #years, \n",
    "                       [last_year-10,last_year],\n",
    "                       mesh, runid=runid, how=\"mean\", compute=True, depth=depth)\n",
    "    \n",
    "    fig = pf.plot(mesh, PCHO, mapproj = mapproj, units=units, titles=label)"
   ]
  },
  {
   "cell_type": "code",
   "execution_count": null,
   "metadata": {},
   "outputs": [],
   "source": [
    "if False:\n",
    "    label='TEP {0}-{1} at {2} m'.format(last_year-10,last_year,depth)\n",
    "    units = 'TEP-C [mmol m$^{-3}$]'\n",
    "    \n",
    "    TEP = pf.get_data(resultpath, \"TEP\", \n",
    "                      #years, \n",
    "                      [last_year-10,last_year],\n",
    "                      mesh, runid=runid, how=\"mean\", compute=True, depth=depth)\n",
    "    \n",
    "    fig = pf.plot(mesh, TEP, mapproj = mapproj, units=units, titles=label)"
   ]
  },
  {
   "cell_type": "markdown",
   "metadata": {},
   "source": [
    "# extra - modelled nutrients, DIC and Alk fields alone"
   ]
  },
  {
   "cell_type": "code",
   "execution_count": null,
   "metadata": {},
   "outputs": [],
   "source": [
    "# dissolved nitrogen\n",
    "\n",
    "NCfesom = resultpath + '/DIN.fesom.1948.nc'\n",
    "#!ncdump -h $NCfesom\n",
    "\n",
    "label='Dissolved inorganic Nitrogen {0}-{1} at {2} m'.format(years_last10[0],years_last10[-1],depth)\n",
    "units = 'DIN [mmol m$^{-3}$]'\n",
    "DIN = pf.get_data(resultpath, \"DIN\", years_last10, mesh, runid=runid, how=\"mean\", compute=True, depth=depth)\n",
    "fig = pf.plot(mesh, DIN, mapproj = mapproj, units=units, titles=label)\n"
   ]
  },
  {
   "cell_type": "code",
   "execution_count": null,
   "metadata": {},
   "outputs": [],
   "source": [
    "# dissolved Si\n",
    "\n",
    "NCfesom = resultpath + '/DSi.fesom.1948.nc'\n",
    "#!ncdump -h $NCfesom\n",
    "\n",
    "label='Dissolved Si {0}-{1} at {2} m'.format(years_last10[0],years_last10[-1],depth)\n",
    "units = 'DSi [mmol m$^{-3}$]'\n",
    "DSi = pf.get_data(resultpath, \"DSi\", years_last10, mesh, runid=runid, how=\"mean\", compute=True, depth=depth)\n",
    "fig = pf.plot(mesh, DSi, mapproj = mapproj, units=units, titles=label)\n"
   ]
  },
  {
   "cell_type": "code",
   "execution_count": null,
   "metadata": {},
   "outputs": [],
   "source": [
    "# dissolved Fe\n",
    "\n",
    "NCfesom = resultpath + '/DFe.fesom.1948.nc'\n",
    "#!ncdump -h $NCfesom\n",
    "\n",
    "label='Dissolved Fe {0}-{1} at {2} m'.format(years_last10[0],years_last10[-1],depth)\n",
    "units = 'DFe [mmol m$^{-3}$]'\n",
    "DFe = pf.get_data(resultpath, \"DFe\", years_last10, mesh, runid=runid, how=\"mean\", compute=True, depth=depth)\n",
    "fig = pf.plot(mesh, DFe, mapproj = mapproj, units=units, titles=label)\n"
   ]
  },
  {
   "cell_type": "code",
   "execution_count": null,
   "metadata": {},
   "outputs": [],
   "source": [
    "# DIC\n",
    "\n",
    "NCfesom = resultpath + '/DIC.fesom.1948.nc'\n",
    "#!ncdump -h $NCfesom\n",
    "\n",
    "label='Dissolved inorganic Carbon {0}-{1} at {2} m'.format(years_last10[0],years_last10[-1],depth)\n",
    "units = 'DIC [mmol  m$^{-3}$]'\n",
    "DIC = pf.get_data(resultpath, \"DIC\", years_last10, mesh, runid=runid, how=\"mean\", compute=True, depth=depth)\n",
    "fig = pf.plot(mesh, DIC, mapproj = mapproj, units=units, titles=label)\n"
   ]
  },
  {
   "cell_type": "code",
   "execution_count": null,
   "metadata": {},
   "outputs": [],
   "source": [
    "# Alkalinity\n",
    "\n",
    "NCfesom = resultpath + '/Alk.fesom.1948.nc'\n",
    "#!ncdump -h $NCfesom\n",
    "\n",
    "label='Total Alkalinity {0}-{1} at {2} m'.format(years_last10[0],years_last10[-1],depth)\n",
    "units = 'TA [mmol  m$^{-3}$]'\n",
    "Alk = pf.get_data(resultpath, \"Alk\", years_last10, mesh, runid=runid, how=\"mean\", compute=True, depth=depth)\n",
    "fig = pf.plot(mesh, Alk, mapproj = mapproj, units=units, titles=label)\n"
   ]
  },
  {
   "cell_type": "markdown",
   "metadata": {
    "collapsed": true
   },
   "source": [
    "# extra - gross primary production"
   ]
  },
  {
   "cell_type": "code",
   "execution_count": null,
   "metadata": {},
   "outputs": [],
   "source": [
    "# Diatom GPP\n",
    "\n",
    "#NCfesom = resultpath + '/GPPd.fesom.1948.nc'\n",
    "#!ncdump -h $NCfesom\n",
    "\n",
    "# 12.01* data --> mg C/m2/d\n",
    "\n",
    "label='Mean diatom GPP {0}-{1}'.format(years_last10[0],years_last10[-1])\n",
    "units = 'GPP [mg C  m$^{-2}$ d$^{-1}$]'\n",
    "GPPd = pf.get_data(resultpath, \"GPPd\", years_last10, mesh, runid=runid, how=\"mean\", compute=True, silent=True)\n",
    "GPPd = GPPd * 12.01\n",
    "\n",
    "fig = pf.plot(mesh, GPPd, mapproj = mapproj, units=units, titles=label)\n"
   ]
  },
  {
   "cell_type": "code",
   "execution_count": null,
   "metadata": {},
   "outputs": [],
   "source": [
    "# Nanophytoplankton GPP\n",
    "\n",
    "#NCfesom = resultpath + '/GPPn.fesom.1948.nc'\n",
    "#!ncdump -h $NCfesom\n",
    "\n",
    "# 12.01* data --> mg C/m2/d\n",
    "\n",
    "label='Mean nanophytoplankton GPP {0}-{1}'.format(years_last10[0],years_last10[-1])\n",
    "units = 'GPP [mg C  m$^{-2}$ d$^{-1}$]'\n",
    "GPPn = pf.get_data(resultpath, \"GPPn\", years_last10, mesh, runid=runid, how=\"mean\", compute=True, silent=True)\n",
    "GPPn = GPPn * 12.01\n",
    "\n",
    "fig = pf.plot(mesh, GPPn, mapproj = mapproj, units=units, titles=label)\n"
   ]
  },
  {
   "cell_type": "code",
   "execution_count": null,
   "metadata": {},
   "outputs": [],
   "source": [
    "# total GPP\n",
    "\n",
    "label='Mean total GPP {0}-{1}'.format(years_last10[0],years_last10[-1])\n",
    "units = 'total GPP [mg C  m$^{-2}$ d$^{-1}$]'\n",
    "\n",
    "GPPtotal = GPPn + GPPd\n",
    "fig = pf.plot(mesh, GPPtotal, mapproj = mapproj, units=units, titles=label)"
   ]
  },
  {
   "cell_type": "markdown",
   "metadata": {},
   "source": [
    "# Save notebook as html"
   ]
  },
  {
   "cell_type": "code",
   "execution_count": null,
   "metadata": {},
   "outputs": [],
   "source": [
    "%autosave 2\n",
    "\n",
    "!jupyter nbconvert MASTER_Script_python3.ipynb --output-dir=$htmlpath --output $htmlname --to html "
   ]
  },
  {
   "cell_type": "code",
   "execution_count": null,
   "metadata": {},
   "outputs": [],
   "source": []
  }
 ],
 "metadata": {
  "kernelspec": {
   "display_name": "Python 3",
   "language": "python",
   "name": "python3"
  },
  "language_info": {
   "codemirror_mode": {
    "name": "ipython",
    "version": 3
   },
   "file_extension": ".py",
   "mimetype": "text/x-python",
   "name": "python",
   "nbconvert_exporter": "python",
   "pygments_lexer": "ipython3",
   "version": "3.8.6"
  }
 },
 "nbformat": 4,
 "nbformat_minor": 1
}
