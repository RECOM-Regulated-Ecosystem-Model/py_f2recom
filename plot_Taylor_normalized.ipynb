{
 "cells": [
  {
   "cell_type": "code",
   "execution_count": 19,
   "metadata": {},
   "outputs": [
    {
     "name": "stdout",
     "output_type": "stream",
     "text": [
      "[NbConvertApp] Converting notebook plot_Taylor_normalized.ipynb to python\n",
      "[NbConvertApp] Writing 2548 bytes to plot_Taylor_normalized.py\n"
     ]
    }
   ],
   "source": [
    "#!jupyter nbconvert --to=python plot_Taylor_normalized.ipynb"
   ]
  },
  {
   "cell_type": "code",
   "execution_count": 10,
   "metadata": {},
   "outputs": [],
   "source": [
    "def plt_Taylor_norm(data_ref,data_pred,\n",
    "                mask=True,\n",
    "                title='Normalized Taylor Diagram',\n",
    "                label=['Observation', 'Model'],\n",
    "                loc='right'):\n",
    "    '''\n",
    "    Use this function to get Taylor statistics and plot them as normalized to std(reference) = 1\n",
    "    \n",
    "    Applied normalization: \n",
    "        std_normalized(ref) = std(ref) / std(ref)\n",
    "        std_normalized(pred) = std(pred) / std(ref)\n",
    "        \n",
    "    Input:\n",
    "    data_ref: array with references/observation data\n",
    "    data_pred: array with model data\n",
    "    mask: bolean if observation data should be masked with np.where(data_pred !=0)\n",
    "    title: string for plot title\n",
    "    label: list with 2 entries for label for 'Observation', 'Model'\n",
    "    loc: string, positional argument for legend\n",
    "    '''\n",
    "    import numpy as np\n",
    "    import matplotlib.pyplot as plt\n",
    "    import skill_metrics as sm\n",
    "    \n",
    "    if mask == True:\n",
    "        # get statistics only from ocean gridpoints (same mask assumption as above)\n",
    "        ind_stat = np.where(data_pred != 0)\n",
    "        taylor_stats1 = sm.taylor_statistics(data_ref[ind_stat],data_pred[ind_stat])\n",
    "    else:\n",
    "        taylor_stats1 = sm.taylor_statistics(data_ref,data_pred)\n",
    "\n",
    "        \n",
    "    sdev = np.array([taylor_stats1['sdev'][0]/taylor_stats1['sdev'][0], \n",
    "                     taylor_stats1['sdev'][1]/taylor_stats1['sdev'][0]])\n",
    "    crmsd = np.array([taylor_stats1['crmsd'][0], taylor_stats1['crmsd'][1]])\n",
    "    ccoef = np.array([taylor_stats1['ccoef'][0], taylor_stats1['ccoef'][1]])\n",
    "\n",
    "\n",
    "    fig = plt.figure(figsize=(7,7), facecolor='w', edgecolor='k')\n",
    "    sm.taylor_diagram(sdev,crmsd,ccoef, styleOBS = '-', colOBS = 'r', markerobs = 'o',\n",
    "                          titleOBS = 'observation', markerLabel = label,\n",
    "                          markerLabelColor = 'c',\n",
    "                          markerColor = 'c', markerLegend = 'on',\n",
    "                          #tickRMS = range(0,5,1),\n",
    "                          tickRMSangle = 135.0,\n",
    "                          colRMS = 'm', styleRMS = ':', widthRMS = 2.0,\n",
    "                          titleRMS = 'off', #tickSTD = np.arange(0,1.25,.25),\n",
    "                          #axismax = 1.25, \n",
    "                          colSTD = 'b', styleSTD = '-.',\n",
    "                          widthSTD = 1.0, titleSTD = 'on',\n",
    "                          colCOR = 'k', styleCOR = '--', widthCOR = 1.0,\n",
    "                          titleCOR = 'on')\n",
    "    \n",
    "    plt.title(title, loc=loc)   \n"
   ]
  },
  {
   "cell_type": "code",
   "execution_count": null,
   "metadata": {},
   "outputs": [],
   "source": []
  }
 ],
 "metadata": {
  "kernelspec": {
   "display_name": "Python 3",
   "language": "python",
   "name": "python3"
  },
  "language_info": {
   "codemirror_mode": {
    "name": "ipython",
    "version": 3
   },
   "file_extension": ".py",
   "mimetype": "text/x-python",
   "name": "python",
   "nbconvert_exporter": "python",
   "pygments_lexer": "ipython3",
   "version": "3.8.5"
  }
 },
 "nbformat": 4,
 "nbformat_minor": 4
}
