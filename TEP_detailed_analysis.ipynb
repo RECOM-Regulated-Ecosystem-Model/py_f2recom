{
 "cells": [
  {
   "cell_type": "markdown",
   "metadata": {},
   "source": [
    "# TEP detailed analysis"
   ]
  },
  {
   "cell_type": "code",
   "execution_count": null,
   "metadata": {},
   "outputs": [],
   "source": [
    "%matplotlib inline\n",
    "%autosave 5"
   ]
  },
  {
   "cell_type": "code",
   "execution_count": null,
   "metadata": {},
   "outputs": [],
   "source": [
    "# necessary modules -------------------------------------------------------------------------------------\n",
    "import pyfesom2 as pf\n",
    "import numpy as np\n",
    "from scipy import stats\n",
    "import matplotlib.pyplot as plt\n",
    "import matplotlib.cm as cm\n",
    "import matplotlib.colors as colors\n",
    "import matplotlib.patches as mpatches\n",
    "\n",
    "from netCDF4 import Dataset\n",
    "\n",
    "import time\n",
    "from datetime import date\n",
    "\n",
    "#import sys\n",
    "#sys.path.append('home/ollie/mozeisin/SkillMetrics')\n",
    "\n",
    "import cartopy.crs as ccrs\n",
    "import cartopy.feature as cfeature\n",
    "#import pangaeapy.pandataset as pd\n",
    "\n",
    "import warnings\n",
    "warnings.simplefilter(\"ignore\")\n",
    "\n",
    "# own py_recom modules ----------------------------------------------------------------------\n",
    "#!jupyter nbconvert --to=python plot_Taylor_normalized.ipynb\n",
    "\n",
    "#from load_interp_WOA_python3 import WOAdata\n",
    "from plot_Taylor_normalized import plt_Taylor_norm"
   ]
  },
  {
   "cell_type": "code",
   "execution_count": null,
   "metadata": {},
   "outputs": [],
   "source": [
    "# After changing these parameters here, save the notebook and clear the output. \n",
    "# Then run this cell and the cells with the desired parameters.\n",
    "\n",
    "# run specification -------------------------------------------------------------------------------------\n",
    "runid      =  'fesom'\n",
    "layerwise    = False\n",
    "resultpath = '/work/ollie/mozeisin/results/f2r1.2/tep1' \n",
    "meshpath = '/work/ollie/mozeisin/mesh/mesh_fesom2.0/core2_meanz'\n",
    "\n",
    "# period of analysis \n",
    "first_year = 1950\n",
    "last_year  = 1980\n",
    "    \n",
    "years = np.arange(first_year,last_year+1,1)\n",
    "years_last10 = np.arange(last_year-10,last_year+1,1)\n",
    "\n",
    "# specification of analysis ------------------------------------------------------------------------------------\n",
    "depth = 0\n",
    "\n",
    "layerwise = False\n",
    "mapproj = 'pc'\n",
    "#Map projection. Options are Mercator (merc), Plate Carree (pc),\n",
    "#North Polar Stereo (np), South Polar Stereo (sp),  Robinson (rob)\n",
    "#Robinson projection is quite time consuming.\n",
    "\n",
    "# export of analysis ------------------------------------------------------------------------------------\n",
    "today = date.today().strftime(\"_%Y_%m_%d\")\n",
    "\n",
    "savepath = '/home/ollie/mozeisin/evaluation/mo_files/tep1/'\n",
    "savefig = True\n",
    "htmlname     =  'tep1' + today +'.html'\n",
    "htmlpath = '/home/ollie/mozeisin/evaluation/mo_files/html/'\n",
    "    "
   ]
  },
  {
   "cell_type": "code",
   "execution_count": null,
   "metadata": {},
   "outputs": [],
   "source": [
    "# just to check\n",
    "print('Processing years {4} to {5}\\n\\nReading out of {0}\\nStoring graphs to {1}\\nStoring html to {2} as {3}'.format(\n",
    "    resultpath, savepath, htmlpath, htmlname,years[0],years[-1]))\n",
    "\n",
    "print('\\nLast ten years are {0}'.format(years_last10))"
   ]
  },
  {
   "cell_type": "markdown",
   "metadata": {},
   "source": [
    "# Load mesh"
   ]
  },
  {
   "cell_type": "code",
   "execution_count": null,
   "metadata": {},
   "outputs": [],
   "source": [
    "# mesh initialization -----------------------------------------------------------\n",
    "mesh = pf.load_mesh(meshpath)\n",
    "\n",
    "lon_fesom = mesh.x2\n",
    "lat_fesom = mesh.y2\n",
    "\n",
    "#print(mesh.zlev)\n",
    "\n",
    "# grid for intrpolation to 1x1 -----------------------------------------------------------\n",
    "lat         = np.arange(-89.5,90.,1.)\n",
    "lon         = np.arange(-179.5,180.,1.)\n",
    "latdic, londic = np.meshgrid(lat, lon)"
   ]
  },
  {
   "cell_type": "markdown",
   "metadata": {},
   "source": [
    "# Define regions"
   ]
  },
  {
   "cell_type": "code",
   "execution_count": null,
   "metadata": {},
   "outputs": [],
   "source": [
    "## Arctic Oean, N of 70 -------------------------------------------------------------------------------\n",
    "box_AO =[-180, 180, 70, 90] \n",
    "left, right, down, up = box_AO\n",
    "mask_AO = ((mesh.x2 >= left) & \n",
    "           (mesh.x2 <= right) & \n",
    "           (mesh.y2 >= down) & \n",
    "           (mesh.y2 <= up))\n",
    "\n",
    "mask_AO_1x1_lon = ((lon >= left) & (lon <= right))\n",
    "mask_AO_1x1_lat = ((lat >= down) & (lat <= up))\n",
    "\n",
    "#nod_area_AO = nod_area[:,mask_AO]\n",
    "#nod_area_AO_surface = nod_area[0,mask_AO]\n",
    "\n",
    "## Fram Strait -------------------------------------------------------------------------------\n",
    "box_FRAM =[-20, 10, 77, 82]\n",
    "left, right, down, up = box_FRAM\n",
    "mask_FRAM = ((mesh.x2 >= left) & \n",
    "           (mesh.x2 <= right) & \n",
    "           (mesh.y2 >= down) & \n",
    "           (mesh.y2 <= up))\n",
    "\n",
    "## Souther Oean -------------------------------------------------------------------------------\n",
    "box_SO =[-180, 180, -90, -50] \n",
    "left, right, down, up = box_SO\n",
    "mask_SO = ((mesh.x2 >= left) & \n",
    "           (mesh.x2 <= right) & \n",
    "           (mesh.y2 >= down) & \n",
    "           (mesh.y2 <= up))\n",
    "\n",
    "#nod_area_SO = nod_area[:,mask_SO]\n",
    "#nod_area_SO_surface = nod_area[0,mask_SO]\n",
    "#print(np.shape(nod_area_SO_surface))\n",
    "        "
   ]
  },
  {
   "cell_type": "markdown",
   "metadata": {},
   "source": [
    "# Functions"
   ]
  },
  {
   "cell_type": "code",
   "execution_count": null,
   "metadata": {},
   "outputs": [],
   "source": [
    "def mygrid(m,grid=False):\n",
    "    '''\n",
    "    Draw cartopy natural earth feature to axis m\n",
    "    '''\n",
    "    #m.coastlines(resolution='110m', color='black', linewidth=1)\n",
    "    land_poly = cfeature.NaturalEarthFeature('physical', 'land', '110m',edgecolor='k',facecolor=cfeature.COLORS['land'])\n",
    "    m.add_feature(land_poly)\n",
    "\n",
    "    if grid:\n",
    "        g1 = m.gridlines(draw_labels = True)\n",
    "        g1.xlabels_top = False\n",
    "        g1.ylabels_right = False\n",
    "        g1.xlabel_style = {'size': 16, 'color': 'gray'}\n",
    "        g1.ylabel_style = {'size': 16, 'color': 'gray'}"
   ]
  },
  {
   "cell_type": "markdown",
   "metadata": {},
   "source": [
    "# Chlorophyll"
   ]
  },
  {
   "cell_type": "code",
   "execution_count": null,
   "metadata": {},
   "outputs": [],
   "source": [
    "#!jupyter nbconvert --to=python Chlsurf_OCCCI_Comparison_python3.ipynb\n",
    "from Chlsurf_OCCCI_Comparison_python3 import Chlsurf_OCCCI_comp\n",
    "\n",
    "# OCCCI   \n",
    "matfileChlsurf           = '/work/ollie/projects/MarESys/evaluation/climatology_annual_chl_1deg_OCCCI_2012_2015.mat'\n",
    "\n",
    "# analyze only last 10 years, 1 uppermost depth layer\n",
    "Chl = Chlsurf_OCCCI_comp(runid,resultpath,savepath,meshpath,matfileChlsurf,\n",
    "                          last_year-10,last_year,\n",
    "                          mapproj=mapproj,savefig=savefig)\n"
   ]
  },
  {
   "cell_type": "code",
   "execution_count": null,
   "metadata": {},
   "outputs": [],
   "source": [
    "# analyze only last 10 years, 2 uppermost depth layers\n",
    "Chl_n2 = Chlsurf_OCCCI_comp(runid,resultpath,savepath,meshpath,matfileChlsurf,\n",
    "                          last_year-10,last_year,\n",
    "                         n_levels=2,\n",
    "                          mapproj=mapproj,savefig=savefig)\n",
    "\n"
   ]
  },
  {
   "cell_type": "markdown",
   "metadata": {},
   "source": [
    "# TEP"
   ]
  },
  {
   "cell_type": "code",
   "execution_count": null,
   "metadata": {},
   "outputs": [],
   "source": [
    "NCfesom = resultpath + '/TEP.fesom.1948.nc'\n",
    "!ncdump -h $NCfesom"
   ]
  },
  {
   "cell_type": "code",
   "execution_count": null,
   "metadata": {},
   "outputs": [],
   "source": [
    "# various depths\n",
    "\n",
    "units = 'TEP-C [mmol m$^{-3}$]'\n",
    "\n",
    "depthi = 0\n",
    "TEP_0 = pf.get_data(resultpath, \"TEP\", years_last10, mesh, runid=runid, how=\"mean\", compute=True, depth=depthi)\n",
    "label_0='TEP {0}-{1} at 0-5 m'.format(years_last10[0],years_last10[-1])\n",
    "\n",
    "depthi = 5\n",
    "TEP_1 = pf.get_data(resultpath, \"TEP\", years_last10, mesh, runid=runid, how=\"mean\", compute=True, depth=depthi)\n",
    "label_1='TEP {0}-{1} at 5-10 m'.format(years_last10[0],years_last10[-1])\n",
    "\n",
    "depthi = 10\n",
    "TEP_2 = pf.get_data(resultpath, \"TEP\", years_last10, mesh, runid=runid, how=\"mean\", compute=True, depth=depthi)\n",
    "label_2='TEP {0}-{1} at 10-20 m'.format(years_last10[0],years_last10[-1])\n",
    "\n",
    "depthi = 20\n",
    "TEP_3 = pf.get_data(resultpath, \"TEP\", years_last10, mesh, runid=runid, how=\"mean\", compute=True, depth=depthi)\n",
    "label_3='TEP {0}-{1} at 20-30 m'.format(years_last10[0],years_last10[-1])"
   ]
  },
  {
   "cell_type": "code",
   "execution_count": null,
   "metadata": {},
   "outputs": [],
   "source": [
    "fig = pf.plot(mesh, [TEP_0,TEP_1,TEP_2,TEP_3], mapproj =  mapproj, units=units, \n",
    "              rowscol = (2,2), figsize = (15,10),\n",
    "              levels = (0,15,61), #cmap = 'viridis',\n",
    "              titles=[label_0,label_1,label_2,label_3])\n",
    "\n",
    "if savefig:\n",
    "    plt.savefig(savepath+'TEP_distribution_multidepths.png',dpi=300)"
   ]
  },
  {
   "cell_type": "markdown",
   "metadata": {},
   "source": [
    "# integrals"
   ]
  },
  {
   "cell_type": "code",
   "execution_count": null,
   "metadata": {},
   "outputs": [],
   "source": [
    "# load nodal area -------------------------------------------------------------------------------------\n",
    "f = Dataset(resultpath + '/fesom.mesh.diag.nc', 'r')\n",
    "nod_area = f.variables['nod_area'][:] # Moritz\n",
    "nod_area_surface = nod_area[0,:]\n",
    "\n",
    "#print('shape nod_area: {0}\\nshape nod_area_surface: {1}'.format(np.shape(nod_area),np.shape(nod_area_surface)))\n",
    "        \n",
    "# calculating mean TEP per year -------------------------------------------------------------------------------\n",
    "TEP00glob_total = np.zeros(len(years))\n",
    "TEP05glob_total  = np.zeros(len(years))\n",
    "TEP10glob_total = np.zeros(len(years))\n",
    "TEP20glob_total   = np.zeros(len(years))\n",
    "\n",
    "TEP00ao_total = np.zeros(len(years))\n",
    "TEP05ao_total = np.zeros(len(years))\n",
    "TEP10ao_total = np.zeros(len(years))\n",
    "TEP20ao_total = np.zeros(len(years))\n",
    "\n",
    "TEP00FRAM_total = np.zeros(len(years))\n",
    "TEP05FRAM_total = np.zeros(len(years))\n",
    "TEP10FRAM_total = np.zeros(len(years))\n",
    "TEP20FRAM_total = np.zeros(len(years))\n",
    "\n",
    "TEP00so_total = np.zeros(len(years))\n",
    "TEP05so_total = np.zeros(len(years))\n",
    "TEP10so_total = np.zeros(len(years))\n",
    "TEP20so_total = np.zeros(len(years))\n"
   ]
  },
  {
   "cell_type": "code",
   "execution_count": null,
   "metadata": {},
   "outputs": [],
   "source": []
  },
  {
   "cell_type": "code",
   "execution_count": null,
   "metadata": {},
   "outputs": [],
   "source": [
    "for i in range(len(years)):\n",
    "    ind_year = int(years[i])\n",
    "    #print('loading {0}'.format(ind_year))\n",
    "    # TEP:units = \"mmolC/m3\"\n",
    "    \n",
    "    # 0m ############################\n",
    "    TEP00glob = pf.get_data(resultpath, \"TEP\", ind_year, mesh, how=\"mean\", \n",
    "                        depth= 0,\n",
    "                        compute=True, runid='fesom', silent=True)\n",
    "    TEP00glob_total[i] = np.nanmean(TEP00glob)#*nod_area_surface)\n",
    "    TEP00ao_total[i] = np.nanmean(TEP00glob[mask_AO])\n",
    "    #TEP00ao_total[i] = np.nanmean(TEP00ao)\n",
    "    TEP00FRAM_total[i] = np.nanmean(TEP00glob[mask_FRAM])\n",
    "    TEP00so_total[i] = np.nanmean(TEP00glob[mask_SO])\n",
    "    #TEP00so_total[i] = np.nanmean(TEP00so)\n",
    "    \n",
    "    # 5 m ############################\n",
    "    TEP05glob = pf.get_data(resultpath, \"TEP\", ind_year, mesh, how=\"mean\", \n",
    "                        depth= 5,\n",
    "                        compute=True, runid='fesom', silent=True)\n",
    "\n",
    "    TEP05glob_total[i] = np.nanmean(TEP05glob)\n",
    "    TEP05ao_total[i] = np.nanmean(TEP05glob[mask_AO])\n",
    "    TEP05FRAM_total[i] = np.nanmean(TEP05glob[mask_FRAM])\n",
    "    TEP05so_total[i] = np.nanmean(TEP05glob[mask_SO])\n",
    "\n",
    "    # 10 m ############################\n",
    "    TEP10glob = pf.get_data(resultpath, \"TEP\", ind_year, mesh, how=\"mean\", \n",
    "                        depth= 10,\n",
    "                        compute=True, runid='fesom', silent=True)\n",
    "\n",
    "    TEP10glob_total[i] = np.nanmean(TEP10glob)\n",
    "    TEP10ao_total[i] = np.nanmean(TEP10glob[mask_AO])\n",
    "    TEP10FRAM_total[i] = np.nanmean(TEP10glob[mask_FRAM])\n",
    "    TEP10so_total[i] = np.nanmean(TEP10glob[mask_SO])\n",
    "    \n",
    "    # 20 m ############################\n",
    "    TEP20glob = pf.get_data(resultpath, \"TEP\", ind_year, mesh, how=\"mean\", \n",
    "                        depth= 20,\n",
    "                        compute=True, runid='fesom', silent=True)\n",
    "\n",
    "    TEP20glob_total[i] = np.nanmean(TEP20glob)\n",
    "    TEP20ao_total[i] = np.nanmean(TEP20glob[mask_AO])\n",
    "    TEP20FRAM_total[i] = np.nanmean(TEP20glob[mask_FRAM])\n",
    "    TEP20so_total[i] = np.nanmean(TEP20glob[mask_SO])"
   ]
  },
  {
   "cell_type": "code",
   "execution_count": null,
   "metadata": {},
   "outputs": [],
   "source": [
    "# plotting total TEP -------------------------------------------------------------------------------        \n",
    "fig = plt.figure(figsize=(12,8), facecolor='w', edgecolor='k', tight_layout = True)\n",
    "ylim = (0,7)\n",
    "\n",
    "# 0 m ############################\n",
    "\n",
    "plt.subplot(2, 2, 1)\n",
    "plt.plot(years,TEP00glob_total,'.-',label='0-5 m')\n",
    "plt.plot(years,TEP05glob_total,'.-',label='5-10 m')\n",
    "plt.plot(years,TEP10glob_total,'.-',label='10-20 m')\n",
    "plt.plot(years,TEP20glob_total,'.-',label='20-30 m')\n",
    "plt.title('Global mean TEP')\n",
    "plt.ylabel(r'[mmol C m$^{-3}$]')\n",
    "plt.ylim(ylim)\n",
    "plt.legend(loc='upper right')\n",
    "\n",
    "plt.subplot(2, 2, 2)\n",
    "plt.plot(years,TEP00ao_total,'.-',label='0-5 m')\n",
    "plt.plot(years,TEP05ao_total,'.-',label='5-10 m')\n",
    "plt.plot(years,TEP10ao_total,'.-',label='10-20 m')\n",
    "plt.plot(years,TEP20ao_total,'.-',label='20-30 m')\n",
    "plt.title('N of 70N mean TEP')\n",
    "plt.ylabel(r'[mmol C m$^{-3}$]')\n",
    "plt.ylim(ylim)\n",
    "plt.legend(loc='upper right')\n",
    "\n",
    "plt.subplot(2, 2, 3)\n",
    "plt.plot(years,TEP00so_total,'.-',label='0-5 m')\n",
    "plt.plot(years,TEP05so_total,'.-',label='5-10 m')\n",
    "plt.plot(years,TEP10so_total,'.-',label='10-20 m')\n",
    "plt.plot(years,TEP20so_total,'.-',label='20-30 m')\n",
    "plt.title('S. Ocean mean TEP')\n",
    "plt.ylabel(r'[mmol C m$^{-3}$]')\n",
    "plt.ylim(ylim)\n",
    "plt.legend(loc='upper right')\n",
    "\n",
    "plt.subplot(2, 2, 4)\n",
    "plt.plot(years,TEP00FRAM_total,'.-',label='0-5 m')\n",
    "plt.plot(years,TEP05FRAM_total,'.-',label='5-10 m')\n",
    "plt.plot(years,TEP10FRAM_total,'.-',label='10-20 m')\n",
    "plt.plot(years,TEP20FRAM_total,'.-',label='20-30 m')\n",
    "plt.title('Fram Strait mean TEP')\n",
    "plt.ylabel(r'[mmol C m$^{-3}$]')\n",
    "plt.ylim(ylim)\n",
    "plt.legend(loc='upper right')\n",
    "\n",
    "if savefig:\n",
    "    plt.savefig(savepath+'TEP_timeseries.png',dpi=300)"
   ]
  },
  {
   "cell_type": "markdown",
   "metadata": {},
   "source": [
    "# Interpolation to 1x1"
   ]
  },
  {
   "cell_type": "code",
   "execution_count": null,
   "metadata": {},
   "outputs": [],
   "source": []
  },
  {
   "cell_type": "code",
   "execution_count": null,
   "metadata": {},
   "outputs": [],
   "source": [
    "TEP_0_interp = pf.fesom2regular(data = TEP_0,mesh = mesh,lons = londic,lats = latdic)\n",
    "TEP_1_interp = pf.fesom2regular(data = TEP_1,mesh = mesh,lons = londic,lats = latdic)\n",
    "TEP_2_interp = pf.fesom2regular(data = TEP_2,mesh = mesh,lons = londic,lats = latdic)\n",
    "TEP_3_interp = pf.fesom2regular(data = TEP_3,mesh = mesh,lons = londic,lats = latdic)"
   ]
  },
  {
   "cell_type": "code",
   "execution_count": null,
   "metadata": {},
   "outputs": [],
   "source": [
    "if True: # interpolation check            \n",
    "    print('\\nFESOM interpolation check:\\noriginal min {0:5.4f} max {1:5.4f} mean {2:5.4f} \\ninterpol min {3:5.4f} max {4:5.4f} mean {5:5.4f}'.format(\n",
    "        np.nanmin(TEP_0),np.nanmax(TEP_0),np.nanmean(TEP_0),\n",
    "        np.nanmin(TEP_0_interp),np.nanmax(TEP_0_interp),np.nanmean(TEP_0_interp)))\n",
    "     "
   ]
  },
  {
   "cell_type": "markdown",
   "metadata": {},
   "source": [
    "# North Polar Stereo"
   ]
  },
  {
   "cell_type": "code",
   "execution_count": null,
   "metadata": {},
   "outputs": [],
   "source": [
    "# North Polar Stereo Projection\n",
    "if False:\n",
    "    fig = plt.figure(figsize=(8,8))\n",
    "    ax1 = plt.subplot(projection = ccrs.NorthPolarStereo())\n",
    "\n",
    "    m1 = ax1.pcolormesh(londic, latdic, TEP_0_interp, \n",
    "        transform = ccrs.PlateCarree(),\n",
    "        #norm=colors.LogNorm(vmin=np.nanmin(TEP_0_interp),vmax=np.nanmax(TEP_0_interp)),\n",
    "        cmap='viridis')\n",
    "\n",
    "    #ax1.coastlines(resolution='110m', color='black', linewidth=1)\n",
    "    mygrid(ax1,grid=True)\n",
    "\n",
    "    plot_extent = [-180, 180, 70, 90]\n",
    "    ax1.set_extent(plot_extent, crs=ccrs.PlateCarree())\n",
    "\n",
    "    cbar = fig.colorbar(m1,orientation = 'horizontal',\n",
    "                        fraction=0.1, pad=0.05, shrink = 0.8) \n",
    "    cbar.set_label('[mmol C m$^{-3}$]\\n'+label_0, fontsize=20,)\n",
    "\n",
    "    #plt.title('Interpolated '+label_0)\n",
    "\n",
    "    if savefig:\n",
    "        plt.savefig(savepath+'TEP_interp_NPS.png', dpi=300)"
   ]
  },
  {
   "cell_type": "code",
   "execution_count": null,
   "metadata": {},
   "outputs": [],
   "source": [
    "# North Polar Stereo Projection\n",
    "fig = plt.figure(figsize=(20,15))\n",
    "plot_extent = [-180, 180, 70, 90]\n",
    "\n",
    "# 0 m\n",
    "ax1 = plt.subplot(1,3,1,projection = ccrs.NorthPolarStereo())\n",
    "m1 = ax1.pcolormesh(londic, latdic, TEP_0_interp, \n",
    "    transform = ccrs.PlateCarree(),\n",
    "    #norm=colors.LogNorm(vmin=np.nanmin(TEP_0_interp),vmax=np.nanmax(TEP_0_interp)),\n",
    "    cmap='viridis')\n",
    "#ax1.coastlines(resolution='110m', color='black', linewidth=1)\n",
    "mygrid(ax1,grid=True)\n",
    "ax1.set_extent(plot_extent, crs=ccrs.PlateCarree())\n",
    "ax1.set_title('Interpolated '+label_0)\n",
    "\n",
    "# 5 m\n",
    "ax2 = plt.subplot(1,3,2,projection = ccrs.NorthPolarStereo())\n",
    "m2 = ax2.pcolormesh(londic, latdic, TEP_1_interp, \n",
    "    transform = ccrs.PlateCarree(),\n",
    "    cmap='viridis')\n",
    "mygrid(ax2,grid=True)\n",
    "ax2.set_extent(plot_extent, crs=ccrs.PlateCarree())\n",
    "ax2.set_title('Interpolated '+label_1)\n",
    "\n",
    "# 10 m\n",
    "ax3 = plt.subplot(1,3,3,projection = ccrs.NorthPolarStereo())\n",
    "m3 = ax3.pcolormesh(londic, latdic, TEP_2_interp, \n",
    "    transform = ccrs.PlateCarree(),\n",
    "    cmap='viridis')\n",
    "mygrid(ax3,grid=True)\n",
    "ax3.set_extent(plot_extent, crs=ccrs.PlateCarree())\n",
    "ax3.set_title('Interpolated '+label_2)\n",
    "\n",
    "# colorbar\n",
    "cbar = fig.colorbar(m1,ax=(ax1,ax2,ax3),orientation = 'horizontal',\n",
    "                    fraction=0.1, pad=0.05, shrink = 0.5) \n",
    "cbar.set_label('TEP-C [mmol C m$^{-3}$]', fontsize=20,)\n",
    "\n",
    "if savefig:\n",
    "    plt.savefig(savepath+'TEP_interp_multidepths_NPS.png', dpi=300)"
   ]
  },
  {
   "cell_type": "markdown",
   "metadata": {},
   "source": [
    "# TEP in relation to CHl.a\n",
    "figure y= log TEP XG eq , x= log Chla cmop. Zamanillo 2019 and Yamada 2015"
   ]
  },
  {
   "cell_type": "markdown",
   "metadata": {},
   "source": [
    "### Convert TEP-C to TEP$_{color}$\n",
    "TEP-C [$\\mu$mol L$^{-1}$] = 0.05 TEP$_{color}$ [mg Xeq. L$^{-1}$]"
   ]
  },
  {
   "cell_type": "code",
   "execution_count": null,
   "metadata": {},
   "outputs": [],
   "source": [
    "TEP_0_interp_mugXeqL = TEP_0_interp * 20 * 1000\n",
    "TEP_1_interp_mugXeqL = TEP_1_interp * 20 * 1000"
   ]
  },
  {
   "cell_type": "markdown",
   "metadata": {},
   "source": [
    "### extracting regions"
   ]
  },
  {
   "cell_type": "code",
   "execution_count": null,
   "metadata": {},
   "outputs": [],
   "source": [
    "## Arctic Oean, N of 70 \n",
    "box_AO=[-180, 180, 70, 90] \n",
    "left, right, down, up = box_AO\n",
    "mask_AO_1x1_lon = ((lon >= left) & (lon <= right))\n",
    "mask_AO_1x1_lat = ((lat >= down) & (lat <= up))\n",
    "\n",
    "\n",
    "if False: # control of cuting region\n",
    "    fig = plt.figure(figsize=(10,10))\n",
    "    ax1 = plt.subplot(projection = ccrs.NorthPolarStereo())\n",
    "\n",
    "    m1 = plt.pcolormesh(londic[mask_AO_1x1_lon][:,mask_AO_1x1_lat], \n",
    "                        latdic[mask_AO_1x1_lon][:,mask_AO_1x1_lat], \n",
    "                        TEP_0_interp_mugXeqL[mask_AO_1x1_lon][:,mask_AO_1x1_lat], \n",
    "        transform = ccrs.PlateCarree(),\n",
    "        cmap='viridis')\n",
    "\n",
    "    #ax1.coastlines(resolution='110m', color='black', linewidth=1)\n",
    "    mygrid(ax1,grid=True)\n",
    "\n",
    "    cbar = fig.colorbar(m1,#orientation = 'horizontal',\n",
    "                        fraction=0.1, pad=0.1,shrink = 0.8) \n",
    "    cbar.set_label('TEP-C [mg XG eq L$^{-3}$]', fontsize=20)\n",
    "\n",
    "    plt.title('Interpolated '+label_0)"
   ]
  },
  {
   "cell_type": "markdown",
   "metadata": {},
   "source": [
    "### set Chl.a minimum to 0.01 mg/m3"
   ]
  },
  {
   "cell_type": "code",
   "execution_count": null,
   "metadata": {},
   "outputs": [],
   "source": [
    "def set_Chl_min(value,Chl_interp,TEP_interp):\n",
    "    \n",
    "    ind = np.where(Chl_interp > value)\n",
    "    Chl_interp_min = Chl_total_interp_AO[ind]\n",
    "    print('Number of Chl.a datapoints omitted: {0}'.format(len(Chl_interp) - len(Chl_interp_min) ))\n",
    "\n",
    "    # apply to TEP as well\n",
    "    TEP_interp_min = TEP_interp[ind]\n",
    "    \n",
    "    return [Chl_interp_min,TEP_interp_min]\n"
   ]
  },
  {
   "cell_type": "code",
   "execution_count": null,
   "metadata": {},
   "outputs": [],
   "source": [
    "# 1 layer data ######################\n",
    "# Chl\n",
    "Chl_total_interp_AO = Chl.Chl_total_interp[:,mask_AO_1x1_lat].ravel()\n",
    "\n",
    "# TEP\n",
    "TEP_0_interp_AO_mugXeqL = TEP_0_interp_mugXeqL[:,mask_AO_1x1_lat].ravel()\n",
    "\n",
    "# 2 layer data ######################\n",
    "# Chl\n",
    "Chl_n2_total_interp_AO = Chl_n2.Chl_total_interp[:,mask_AO_1x1_lat].ravel()\n",
    "\n",
    "# TEP\n",
    "TEP_n2_mean = (TEP_0_interp_mugXeqL + TEP_1_interp_mugXeqL)/2\n",
    "TEP_n2_interp_AO_mugXeqL = TEP_n2_mean[:,mask_AO_1x1_lat].ravel()\n",
    "\n",
    "# plotting relation ######################\n",
    "\n",
    "#x1 = np.log10(Chl_total_interp_AO_min)\n",
    "#y2 = np.log10(TEP_0_interp_AO_min_mugXeqL)\n",
    "\n",
    "x1, y1 = np.log10(set_Chl_min(0.01,Chl_total_interp_AO,TEP_0_interp_AO_mugXeqL))\n",
    "\n",
    "x2, y2 = np.log10(set_Chl_min(0.05,Chl_total_interp_AO,TEP_0_interp_AO_mugXeqL))\n",
    "\n",
    "# 2 layers ######################\n",
    "x1_n2, y1_n2 = np.log10(set_Chl_min(0.01,Chl_n2_total_interp_AO,TEP_n2_interp_AO_mugXeqL))\n",
    "x2_n2, y2_n2 = np.log10(set_Chl_min(0.05,Chl_n2_total_interp_AO,TEP_n2_interp_AO_mugXeqL))"
   ]
  },
  {
   "cell_type": "code",
   "execution_count": null,
   "metadata": {},
   "outputs": [],
   "source": [
    "# linear regression\n",
    "def get_res(x,y):\n",
    "    res = stats.linregress(x,y)\n",
    "    log = 'Regression: \\nslope = %.2f intercept = %.2f, std error = %.3f\\nR-squared = %.5f' % (\n",
    "        res.slope, res.intercept, res.stderr, res.rvalue**2)\n",
    "    print(log)\n",
    "    return res, log"
   ]
  },
  {
   "cell_type": "code",
   "execution_count": null,
   "metadata": {},
   "outputs": [],
   "source": [
    "plt.figure(figsize=(10,10))\n",
    "\n",
    "plt.subplot(2,2,1)\n",
    "plt.plot(x1,y1,'.')\n",
    "plt.ylim(0,6)\n",
    "plt.xlim(-2.5,2.5)\n",
    "plt.xlabel('log10 Chl.a [mg m$^{-3}$]\\nmin(Chl.a) = 0.01 mg m$^{-3}$')\n",
    "plt.ylabel('log10 TEP [$\\mu$g Xeq. L$^{-1}$]')\n",
    "res, log = get_res(x1,y1)\n",
    "plt.plot(x1, res.intercept + res.slope*x1, 'r', label='fitted line')\n",
    "plt.text(-2,0.5,log)\n",
    "\n",
    "plt.subplot(2,2,2)\n",
    "plt.plot(x2,y2,'.')\n",
    "plt.ylim(0,6)\n",
    "plt.xlim(-2.5,2.5)\n",
    "plt.xlabel('log10 Chl.a [mg m$^{-3}$]\\nmin(Chl.a) = 0.1 mg m$^{-3}$')\n",
    "#plt.ylabel('log10 TEP [$\\mu$g Xeq. L$^{-1}$]')\n",
    "res, log = get_res(x2,y2)\n",
    "plt.plot(x2, res.intercept + res.slope*x2, 'r', label='fitted line')\n",
    "plt.text(-2,0.5,log)\n",
    "\n",
    "# 2 layer data ################\n",
    "plt.subplot(2,2,3)\n",
    "plt.plot(x1_n2,y1_n2,'.')\n",
    "plt.ylim(0,6)\n",
    "plt.xlim(-2.5,2.5)\n",
    "plt.xlabel('log10 Chl.a [mg m$^{-3}$]\\nmin(Chl.a) = 0.01 mg m$^{-3}$\\nn_layer = 2')\n",
    "plt.ylabel('log10 TEP [$\\mu$g Xeq. L$^{-1}$]')\n",
    "res, log = get_res(x1_n2,y1_n2)\n",
    "plt.plot(x1, res.intercept + res.slope*x1, 'r', label='fitted line')\n",
    "plt.text(-2,0.5,log)\n",
    "\n",
    "plt.subplot(2,2,4)\n",
    "plt.plot(x2_n2,y2_n2,'.')\n",
    "plt.ylim(0,6)\n",
    "plt.xlim(-2.5,2.5)\n",
    "plt.xlabel('log10 Chl.a [mg m$^{-3}$]\\nmin(Chl.a) = 0.1 mg m$^{-3}$\\nn_layer = 2')\n",
    "#plt.ylabel('log10 TEP [$\\mu$g Xeq. L$^{-1}$]')\n",
    "res, log = get_res(x2_n2,y2_n2)\n",
    "plt.plot(x2, res.intercept + res.slope*x2, 'r', label='fitted line')\n",
    "plt.text(-2,0.5,log)\n",
    "\n",
    "plt.tight_layout()\n",
    "if savefig:\n",
    "    plt.savefig(savepath+'Chl_TEP_regression.png', dpi=300)\n"
   ]
  },
  {
   "cell_type": "markdown",
   "metadata": {},
   "source": [
    "# Fram Strait Chl.a - TEP relation"
   ]
  },
  {
   "cell_type": "markdown",
   "metadata": {},
   "source": [
    "### Extracting regions"
   ]
  },
  {
   "cell_type": "code",
   "execution_count": null,
   "metadata": {},
   "outputs": [],
   "source": [
    "## Fram Strait \n",
    "# box_FRAM =[-20, 10, 77, 82] # see above\n",
    "left, right, down, up = box_FRAM\n",
    "mask_FRAM_1x1_lon = ((lon >= left) & (lon <= right))\n",
    "mask_FRAM_1x1_lat = ((lat >= down) & (lat <= up))\n",
    "\n",
    "if False:\n",
    "    print(np.shape(mask_FRAM_1x1_lat))\n",
    "    print(np.shape(mask_FRAM_1x1_lon))\n",
    "    print(np.shape(TEP_0_interp))\n",
    "\n",
    "if True: # control of cuting region\n",
    "    fig = plt.figure(figsize=(20,10))\n",
    "    \n",
    "    ax1 = plt.subplot(1,2,1,projection = ccrs.NorthPolarStereo())\n",
    "    m1 = plt.pcolormesh(londic[mask_FRAM_1x1_lon][:,mask_FRAM_1x1_lat], \n",
    "                        latdic[mask_FRAM_1x1_lon][:,mask_FRAM_1x1_lat], \n",
    "                        TEP_0_interp_mugXeqL[mask_FRAM_1x1_lon][:,mask_FRAM_1x1_lat], \n",
    "        transform = ccrs.PlateCarree(),\n",
    "        cmap='viridis')\n",
    "    mygrid(ax1,grid=True)\n",
    "    cbar = fig.colorbar(m1,\n",
    "                        orientation = 'horizontal',\n",
    "                        fraction=0.1, pad=0.1,shrink = 0.8) \n",
    "    cbar.set_label('TEP-C [mg XG eq L$^{-3}$]', fontsize=20)\n",
    "    plt.title('Interpolated '+label_0)\n",
    "    \n",
    "    # chlorophyll\n",
    "    ax2 = plt.subplot(1,2,2,projection = ccrs.NorthPolarStereo())\n",
    "    m2 = plt.pcolormesh(londic[mask_FRAM_1x1_lon][:,mask_FRAM_1x1_lat], \n",
    "                        latdic[mask_FRAM_1x1_lon][:,mask_FRAM_1x1_lat], \n",
    "                        Chl.Chl_total_interp[mask_FRAM_1x1_lon][:,mask_FRAM_1x1_lat], \n",
    "        transform = ccrs.PlateCarree(),\n",
    "        cmap='viridis')\n",
    "    mygrid(ax2,grid=True)\n",
    "    cbar = fig.colorbar(m2,\n",
    "                        orientation = 'horizontal',\n",
    "                        fraction=0.1, pad=0.1,shrink = 0.8) \n",
    "    cbar.set_label('Chl.a [mg L$^{-3}$]', fontsize=20)\n",
    "\n",
    "    plt.title('Interpolated Chl.a')"
   ]
  },
  {
   "cell_type": "code",
   "execution_count": null,
   "metadata": {},
   "outputs": [],
   "source": [
    "# 1 layer data ######################\n",
    "# Chl\n",
    "#Chl_total_interp_FRAM = Chl.Chl_total_interp[:,mask_FRAM_1x1_lat].ravel()\n",
    "Chl_total_interp_FRAM = Chl.Chl_total_interp[mask_FRAM_1x1_lon][:,mask_FRAM_1x1_lat].ravel()\n",
    "\n",
    "# TEP\n",
    "TEP_0_interp_FRAM_mugXeqL = TEP_0_interp_mugXeqL[mask_FRAM_1x1_lon][:,mask_FRAM_1x1_lat].ravel()\n",
    "\n",
    "# 2 layer data ######################\n",
    "# Chl\n",
    "Chl_n2_total_interp_FRAM = Chl_n2.Chl_total_interp[mask_FRAM_1x1_lon][:,mask_FRAM_1x1_lat].ravel()\n",
    "\n",
    "# TEP\n",
    "TEP_n2_mean = (TEP_0_interp_mugXeqL + TEP_1_interp_mugXeqL)/2\n",
    "TEP_n2_interp_FRAM_mugXeqL = TEP_n2_mean[mask_FRAM_1x1_lon][:,mask_FRAM_1x1_lat].ravel()\n",
    "\n",
    "# plotting relation ######################\n",
    "x1, y1 = np.log10(set_Chl_min(0.01,Chl_total_interp_FRAM,TEP_0_interp_FRAM_mugXeqL))\n",
    "\n",
    "x2, y2 = np.log10(set_Chl_min(0.05,Chl_total_interp_FRAM,TEP_0_interp_FRAM_mugXeqL))\n",
    "\n",
    "# 2 layers ######################\n",
    "x1_n2, y1_n2 = np.log10(set_Chl_min(0.01,Chl_n2_total_interp_FRAM,TEP_n2_interp_FRAM_mugXeqL))\n",
    "x2_n2, y2_n2 = np.log10(set_Chl_min(0.05,Chl_n2_total_interp_FRAM,TEP_n2_interp_FRAM_mugXeqL))"
   ]
  },
  {
   "cell_type": "code",
   "execution_count": null,
   "metadata": {},
   "outputs": [],
   "source": [
    "plt.figure(figsize=(10,10))\n",
    "\n",
    "plt.subplot(2,2,1)\n",
    "plt.plot(x1,y1,'.')\n",
    "plt.ylim(0,6)\n",
    "plt.xlim(-2.5,2.5)\n",
    "plt.xlabel('log10 Chl.a [mg m$^{-3}$]\\nmin(Chl.a) = 0.01 mg m$^{-3}$\\nFram Strait')\n",
    "plt.ylabel('log10 TEP [$\\mu$g Xeq. L$^{-1}$]')\n",
    "res, log = get_res(x1,y1)\n",
    "plt.plot(x1, res.intercept + res.slope*x1, 'r', label='fitted line')\n",
    "plt.text(-2,0.5,log)\n",
    "\n",
    "plt.subplot(2,2,2)\n",
    "plt.plot(x2,y2,'.')\n",
    "plt.ylim(0,6)\n",
    "plt.xlim(-2.5,2.5)\n",
    "plt.xlabel('log10 Chl.a [mg m$^{-3}$]\\nmin(Chl.a) = 0.1 mg m$^{-3}$\\nFram Strait')\n",
    "#plt.ylabel('log10 TEP [$\\mu$g Xeq. L$^{-1}$]')\n",
    "res, log = get_res(x2,y2)\n",
    "plt.plot(x2, res.intercept + res.slope*x2, 'r', label='fitted line')\n",
    "plt.text(-2,0.5,log)\n",
    "\n",
    "# 2 layer data ################\n",
    "plt.subplot(2,2,3)\n",
    "plt.plot(x1_n2,y1_n2,'.')\n",
    "plt.ylim(0,6)\n",
    "plt.xlim(-2.5,2.5)\n",
    "plt.xlabel('log10 Chl.a [mg m$^{-3}$]\\nmin(Chl.a) = 0.01 mg m$^{-3}$\\nn_layer = 2\\nFram Strait')\n",
    "plt.ylabel('log10 TEP [$\\mu$g Xeq. L$^{-1}$]')\n",
    "res, log = get_res(x1_n2,y1_n2)\n",
    "plt.plot(x1, res.intercept + res.slope*x1, 'r', label='fitted line')\n",
    "plt.text(-2,0.5,log)\n",
    "\n",
    "plt.subplot(2,2,4)\n",
    "plt.plot(x2_n2,y2_n2,'.')\n",
    "plt.ylim(0,6)\n",
    "plt.xlim(-2.5,2.5)\n",
    "plt.xlabel('log10 Chl.a [mg m$^{-3}$]\\nmin(Chl.a) = 0.1 mg m$^{-3}$\\nn_layer = 2\\nFram Strait')\n",
    "#plt.ylabel('log10 TEP [$\\mu$g Xeq. L$^{-1}$]')\n",
    "res, log = get_res(x2_n2,y2_n2)\n",
    "plt.plot(x2, res.intercept + res.slope*x2, 'r', label='fitted line')\n",
    "plt.text(-2,0.5,log)\n",
    "\n",
    "plt.tight_layout()\n",
    "if savefig:\n",
    "    plt.savefig(savepath+'Chl_TEP_FRAM_regression.png', dpi=300)\n",
    "\n"
   ]
  },
  {
   "cell_type": "code",
   "execution_count": null,
   "metadata": {},
   "outputs": [],
   "source": []
  },
  {
   "cell_type": "markdown",
   "metadata": {},
   "source": [
    "# Seasonal cycle"
   ]
  },
  {
   "cell_type": "markdown",
   "metadata": {},
   "source": [
    "### calculating"
   ]
  },
  {
   "cell_type": "code",
   "execution_count": null,
   "metadata": {},
   "outputs": [],
   "source": [
    "### calculating mean TEP per month \n",
    "months = np.arange(1,13,1)\n",
    "depth_list = (0,5,10,20)\n",
    "verbose = True"
   ]
  },
  {
   "cell_type": "code",
   "execution_count": null,
   "metadata": {
    "scrolled": false
   },
   "outputs": [],
   "source": [
    "\n",
    "\n",
    "# define storage containers for mean data in shape (months, depths)\n",
    "TEP_glob_total_m = np.zeros((len(months),len(depth_list)))\n",
    "TEP_ao_total_m = np.zeros((len(months),len(depth_list)))\n",
    "TEP_FRAM_total_m = np.zeros((len(months),len(depth_list)))\n",
    "TEP_so_total_m = np.zeros((len(months),len(depth_list)))\n",
    "\n",
    "TEP_glob_aux = np.zeros((len(years_last10),len(months)))\n",
    "TEP_so_aux = np.zeros((len(years_last10),len(months)))\n",
    "TEP_FRAM_aux = np.zeros((len(years_last10),len(months)))\n",
    "TEP_ao_aux = np.zeros((len(years_last10),len(months)))\n",
    "\n",
    "for idepth in range(len(depth_list)):\n",
    "    if verbose:\n",
    "        print('Processing depth = {} m'.format(depth_list[idepth]))\n",
    "    \n",
    "    # load data for one depth and calculate monthly mean\n",
    "    for i in range(len(years_last10)):\n",
    "        ind_year = int(years_last10[i])\n",
    "        \n",
    "        if verbose:\n",
    "            print('loading {0}'.format(ind_year))\n",
    "\n",
    "        TEP_raw = pf.get_data(resultpath, \"TEP\", ind_year, mesh, how=\"ori\", \n",
    "                            depth=int(depth_list[idepth]), compute=False,  silent=True)#np.invert(verbose))\n",
    "        # TEP:units = \"mmolC/m3\"\n",
    "        \n",
    "        TEP_glob_aux[i,:] = np.nanmean(TEP_raw,axis=1)\n",
    "        TEP_ao_aux[i,:] = np.nanmean(TEP_raw[:,mask_AO],axis=1)\n",
    "        TEP_FRAM_aux[i,:] = np.nanmean(TEP_raw[:,mask_FRAM],axis=1)\n",
    "        TEP_so_aux[i,:] = np.nanmean(TEP_raw[:,mask_SO],axis=1)\n",
    "        \n",
    "    #TEP_mmean = np.nanmean(TEP_glob_aux,axis=0)\n",
    "    TEP_glob_total_m[:,idepth] = np.nanmean(TEP_glob_aux,axis=0)\n",
    "    TEP_ao_total_m[:,idepth] = np.nanmean(TEP_ao_aux,axis=0)\n",
    "    TEP_FRAM_total_m[:,idepth] = np.nanmean(TEP_FRAM_aux,axis=0)\n",
    "    TEP_so_total_m[:,idepth] = np.nanmean(TEP_so_aux,axis=0)"
   ]
  },
  {
   "cell_type": "markdown",
   "metadata": {},
   "source": [
    "### plotting"
   ]
  },
  {
   "cell_type": "code",
   "execution_count": null,
   "metadata": {},
   "outputs": [],
   "source": [
    "# plotting total TEP -------------------------------------------------------------------------------        \n",
    "fig = plt.figure(figsize=(10,7), facecolor='w', edgecolor='k', tight_layout = True)\n",
    "ylim = (0,15.5)\n",
    "\n",
    "plt.subplot(2, 2, 1)\n",
    "plt.plot(months,TEP_glob_total_m[:,0],'.-',label='0-5 m')\n",
    "plt.plot(months,TEP_glob_total_m[:,1],'.-',label='5-10 m')\n",
    "plt.plot(months,TEP_glob_total_m[:,2],'.-',label='10-20 m')\n",
    "plt.plot(months,TEP_glob_total_m[:,3],'.-',label='20-30 m')\n",
    "plt.title('Global mean TEP ({0}-{1})'.format(years_last10[0],years_last10[-1]))\n",
    "plt.ylabel(r'[mmol C m$^{-3}$]')\n",
    "plt.ylim(ylim)\n",
    "plt.legend(loc='upper right')\n",
    "\n",
    "plt.subplot(2, 2, 2)\n",
    "plt.plot(months,TEP_ao_total_m[:,0],'.-',label='0-5 m')\n",
    "plt.plot(months,TEP_ao_total_m[:,1],'.-',label='5-10 m')\n",
    "plt.plot(months,TEP_ao_total_m[:,2],'.-',label='10-20 m')\n",
    "plt.plot(months,TEP_ao_total_m[:,3],'.-',label='20-30 m')\n",
    "plt.title('North of 70 N: mean monthly TEP')\n",
    "#plt.ylabel(r'[mmol C m$^{-3}$]')\n",
    "plt.ylim(ylim)\n",
    "plt.legend(loc='upper right')\n",
    "\n",
    "plt.subplot(2, 2, 3)\n",
    "plt.plot(months,TEP_so_total_m[:,0],'.-',label='0-5 m')\n",
    "plt.plot(months,TEP_so_total_m[:,1],'o',label='5-10 m')\n",
    "plt.plot(months,TEP_so_total_m[:,2],'*',label='10-20 m')\n",
    "plt.plot(months,TEP_so_total_m[:,3],'*',label='20-30 m')\n",
    "plt.title('S of -50 mean TEP')\n",
    "plt.ylabel(r'[mmol C m$^{-3}$]')\n",
    "plt.ylim(ylim)\n",
    "plt.legend(loc='upper right')\n",
    "\n",
    "plt.subplot(2, 2, 4)\n",
    "plt.plot(months,TEP_FRAM_total_m[:,0],'.-',label='0-5 m')\n",
    "plt.plot(months,TEP_FRAM_total_m[:,1],'.-',label='5-10 m')\n",
    "plt.plot(months,TEP_FRAM_total_m[:,2],'.-',label='10-20 m')\n",
    "plt.plot(months,TEP_FRAM_total_m[:,3],'.-',label='20-30 m')\n",
    "plt.title('Fram Strait mean TEP')\n",
    "#plt.ylabel(r'[mmol C m$^{-3}$]')\n",
    "plt.ylim(ylim)\n",
    "plt.legend(loc='upper right')\n",
    "\n",
    "\n",
    "if savefig:\n",
    "    plt.savefig(savepath+'TEP_monthly_multipledepths.png',dpi=300)"
   ]
  },
  {
   "cell_type": "code",
   "execution_count": null,
   "metadata": {},
   "outputs": [],
   "source": [
    "# plotting Arctic TEP [mug /L]    \n",
    "\n",
    "conv = 12.01 # [mmol C/m3] -> [mug /L]  \n",
    "\n",
    "fig = plt.figure(figsize=(5,4), facecolor='w', edgecolor='k', tight_layout = True)\n",
    "ylim = (0,190)\n",
    "\n",
    "plt.plot(months,TEP_FRAM_total_m[:,0]*conv,'.-',label='0-5 m')\n",
    "plt.plot(months,TEP_FRAM_total_m[:,1]*conv,'.-',label='5-10 m')\n",
    "plt.plot(months,TEP_FRAM_total_m[:,2]*conv,'.-',label='10-20 m')\n",
    "plt.plot(months,TEP_FRAM_total_m[:,3]*conv,'.-',label='20-30 m')\n",
    "\n",
    "# adding observation data\n",
    "plt.axvline(x=6, linewidth=.70, linestyle='--', color='black')\n",
    "plt.axvline(x=7, linewidth=.70, linestyle='--', color='black')\n",
    "plt.axvline(x=9, linewidth=.70, linestyle='--', color='black')\n",
    "plt.scatter(6,8.4, marker='s', color='k', label='E2020')\n",
    "plt.scatter((7,9),(21,7), marker='D', color='k', label='J2020')\n",
    "\n",
    "plt.xlabel('Month\\n\\nMonthly TEP conc. in Fram Strait\\nMean of {0}-{1}'.format(\n",
    "    years_last10[0],years_last10[-1]),fontsize=13)\n",
    "plt.ylabel(r'TEP [$\\mu$g C L$^{-1}$]',fontsize=13)\n",
    "plt.ylim(ylim)\n",
    "plt.legend(loc='upper left',fontsize=13)\n",
    "\n",
    "if True:\n",
    "    plt.savefig(savepath+'TEP_monthly_multipledepths_FRAM_{0}_{1}.png'.format(\n",
    "    years_last10[0],years_last10[-1]),dpi=300)"
   ]
  },
  {
   "cell_type": "code",
   "execution_count": null,
   "metadata": {},
   "outputs": [],
   "source": [
    "### differences in Southern Ocean\n",
    "fig = plt.figure(figsize=(12,8), facecolor='w', edgecolor='k', tight_layout = True)\n",
    "ylim = (-0.01,0.01)\n",
    "\n",
    "plt.subplot(2, 3, 3)\n",
    "plt.plot(months,TEP_so_total_m[:,0]-TEP_so_total_m[:,0],'.-',label='0 m')\n",
    "plt.plot(months,TEP_so_total_m[:,1]-TEP_so_total_m[:,0],'o-',label='5 m')\n",
    "plt.plot(months,TEP_so_total_m[:,2]-TEP_so_total_m[:,0],'*-',label='10 m')\n",
    "plt.plot(months,(TEP_so_total_m[:,3]-TEP_so_total_m[:,0])/50,'*-',label='0.02*(20 m)')\n",
    "plt.title('S of -50 mean TEP')\n",
    "plt.xlabel('months\\nSurface layer - layer at certain depth')\n",
    "plt.ylabel(r'[mmol C m$^{-3}$]')\n",
    "plt.ylim(ylim)\n",
    "plt.legend(loc='upper right')\n",
    "\n"
   ]
  },
  {
   "cell_type": "markdown",
   "metadata": {},
   "source": [
    "# Monthly map"
   ]
  },
  {
   "cell_type": "code",
   "execution_count": null,
   "metadata": {},
   "outputs": [],
   "source": [
    "def get_monthly_data(var_name, years=years_last10, verbose=True): \n",
    "    TEP_monthly_aux = np.zeros((len(years),len(months),len(mesh.x2),len(mesh.zlev)-1))\n",
    "\n",
    "    if verbose:\n",
    "        print('Processing all depths vor variable \"{}\"'.format(var_name))\n",
    "\n",
    "    # load data for one depth and calculate monthly mean\n",
    "    for i in range(len(years)):\n",
    "        ind_year = int(years[i])\n",
    "\n",
    "        if verbose:\n",
    "            print('loading {0}'.format(ind_year))\n",
    "\n",
    "        TEP_raw = pf.get_data(resultpath, var_name, ind_year, mesh, how=\"ori\", \n",
    "                            #depth=depth, \n",
    "                            compute=False,  silent=True)#np.invert(verbose))\n",
    "        # TEP:units = \"mmolC/m3\"\n",
    "        #print(np.shape(TEP_raw))\n",
    "\n",
    "        for m in range(len(months)):\n",
    "            TEP_monthly_aux[i,m,:,:] = TEP_raw[m,:,:]\n",
    "\n",
    "    if verbose:\n",
    "        print('Processed {0} years of input data\\nResulting shape: {1}'.format(\n",
    "            len(years_last10),np.shape(TEP_monthly_aux)))\n",
    "\n",
    "    # monthly average over years\n",
    "    var_monthly_alldepths = np.nanmean(TEP_monthly_aux,axis=0)\n",
    "    print('\\nMonthly mean over years \\nResulting shape {0}'.format(np.shape(var_monthly_alldepths)))\n",
    "\n",
    "    return var_monthly_alldepths"
   ]
  },
  {
   "cell_type": "code",
   "execution_count": null,
   "metadata": {},
   "outputs": [],
   "source": [
    "# get TEP data\n",
    "TEP_monthly_alldepths = get_monthly_data('TEP', years=years_last10, verbose=True)"
   ]
  },
  {
   "cell_type": "code",
   "execution_count": null,
   "metadata": {},
   "outputs": [],
   "source": []
  },
  {
   "cell_type": "markdown",
   "metadata": {},
   "source": [
    "### interpolating and converting"
   ]
  },
  {
   "cell_type": "code",
   "execution_count": null,
   "metadata": {},
   "outputs": [],
   "source": [
    "# interpolating and converting Arctic TEP [mug /L]    \n",
    "\n",
    "conv = 12.01 # [mmol C/m3] -> [mug /L]  \n",
    "\n",
    "# surface layer\n",
    "TEP_monthly_0 = TEP_monthly_alldepths[:,:,0]\n",
    "\n",
    "# July\n",
    "TEP_monthly_0_interp_JUL = pf.fesom2regular(data = TEP_monthly_0[6,:],mesh = mesh,lons = londic,lats = latdic)\n",
    "TEP_monthly_0_interp_JUL = TEP_monthly_0_interp_JUL * conv\n",
    "\n",
    "# September\n",
    "TEP_monthly_0_interp_SEP = pf.fesom2regular(data = TEP_monthly_0[8,:],mesh = mesh,lons = londic,lats = latdic)\n",
    "TEP_monthly_0_interp_SEP = TEP_monthly_0_interp_SEP * conv\n"
   ]
  },
  {
   "cell_type": "markdown",
   "metadata": {},
   "source": [
    "### plotting"
   ]
  },
  {
   "cell_type": "code",
   "execution_count": null,
   "metadata": {},
   "outputs": [],
   "source": [
    "from shapely.geometry.polygon import LinearRing\n",
    "\n",
    "ring1 = LinearRing(list(zip([-20,-20,10,10], [77,82,82,77])))\n",
    "\n",
    "#box_FRAM =[-20, 10, 77, 82] ## see above\n"
   ]
  },
  {
   "cell_type": "code",
   "execution_count": null,
   "metadata": {},
   "outputs": [],
   "source": [
    "# North Polar Stereo Projection\n",
    "fig = plt.figure(figsize=(15,10))\n",
    "plot_extent = [-180, 180, 70, 90]\n",
    "\n",
    "ax1 = plt.subplot(1,2,1,projection = ccrs.NorthPolarStereo())\n",
    "m1 = ax1.pcolormesh(londic, latdic, TEP_monthly_0_interp_JUL, \n",
    "    transform = ccrs.PlateCarree(),\n",
    "    #norm=colors.LogNorm(vmin=np.nanmin(TEP_0_interp),vmax=np.nanmax(TEP_0_interp)),\n",
    "    cmap='viridis')\n",
    "mygrid(ax1,grid=True)\n",
    "ax1.set_extent(plot_extent, crs=ccrs.PlateCarree())\n",
    "ax1.set_title('July',fontsize=20)\n",
    "ax1.add_geometries([ring1], ccrs.PlateCarree(), facecolor='None', alpha=1, edgecolor='red',linewidth = 3)\n",
    "\n",
    "ax2 = plt.subplot(1,2,2,projection = ccrs.NorthPolarStereo())\n",
    "m2 = ax2.pcolormesh(londic, latdic, TEP_monthly_0_interp_SEP, \n",
    "    transform = ccrs.PlateCarree(),\n",
    "    #norm=colors.LogNorm(vmin=np.nanmin(TEP_0_interp),vmax=np.nanmax(TEP_0_interp)),\n",
    "    cmap='viridis')\n",
    "mygrid(ax2,grid=True)\n",
    "ax2.set_extent(plot_extent, crs=ccrs.PlateCarree())\n",
    "ax2.set_title('September',fontsize=20)\n",
    "ax2.add_geometries([ring1], ccrs.PlateCarree(), facecolor='None', alpha=1, edgecolor='red',linewidth = 3)\n",
    "\n",
    "\n",
    "# colorbar\n",
    "cbar = fig.colorbar(m1, ax=[ax1,ax2],orientation = 'horizontal',\n",
    "                    fraction=0.1, pad=0.05, shrink = 0.8) \n",
    "cbar.set_label('[$\\mu$g C L$^{{-1}}$]\\nMonthly mean TEP conc. at 0-5 m ({0}-{1})'.format(\n",
    "    years_last10[0],years_last10[-1]), \n",
    "               fontsize=20)\n",
    "\n",
    "plt.tight_layout()\n",
    "\n",
    "if True:\n",
    "    plt.savefig(savepath+'TEP_interp_NPS_JUL_SEP_{0}_{1}.png'.format(\n",
    "    years_last10[0],years_last10[-1]), dpi=300)"
   ]
  },
  {
   "cell_type": "markdown",
   "metadata": {},
   "source": [
    "# Fram Strait Transect"
   ]
  },
  {
   "cell_type": "code",
   "execution_count": null,
   "metadata": {},
   "outputs": [],
   "source": [
    "#box_FRAM =[-20, 10, 77, 82] ## see above\n",
    "\n",
    "lon_start = 0\n",
    "lon_end = 5\n",
    "lat_start = 75\n",
    "lat_end = 83\n",
    "npoints   = 50\n",
    "lonlat = pf.transect_get_lonlat(lon_start, lat_start, lon_end, lat_end, npoints)\n",
    "\n",
    "if True:\n",
    "    pf.plot_transect_map(lonlat, mesh)\n",
    "\n",
    "print('Plotting transect at lat {0} to {1}, lon {2} to {3}'.format(lat_start,lat_end,lon_start,lon_end))\n",
    "#pf.plot_transect_map(lonlat, mesh)"
   ]
  },
  {
   "cell_type": "code",
   "execution_count": null,
   "metadata": {},
   "outputs": [],
   "source": [
    "# get data\n",
    "TEPall = pf.get_data(resultpath, \"TEP\", years_last10, mesh=mesh, runid=runid, how=\"mean\")#, depth=depth)\n",
    "\n",
    "#print(np.shape(TEPall))\n",
    "\n",
    "print('TEP loaded for years {0}-{1}\\nmin = {3:4.4f}, max = {4:4.4f}, mean = {5:4.4f} [mmol/m3]'.format(\n",
    "    last_year-10,last_year,depth, np.nanmin(TEPall), np.nanmax(TEPall), np.nanmean(TEPall)))\n",
    "\n",
    "dist_label= 'Fram Strait \\nTransect at lat {0}-{1}, lon {2}-{3}'.format(lat_start,lat_end,lon_start,lon_end)\n",
    "print(dist_label)\n",
    "#pf.plot_transect_map(lonlat, mesh)\n",
    "\n",
    "# extract transect data\n",
    "dist, tfTEP = pf.get_transect(TEPall,mesh,lonlat)\n"
   ]
  },
  {
   "cell_type": "code",
   "execution_count": null,
   "metadata": {},
   "outputs": [],
   "source": [
    "# get PCHO data\n",
    "PCHO = pf.get_data(resultpath, \"PCHO\", years_last10, mesh=mesh, runid=runid, how=\"mean\")#, depth=depth)\n",
    "\n",
    "#print(np.shape(TEPall))\n",
    "\n",
    "print('PCHO loaded for years {0}-{1}\\nmin = {3:4.4f}, max = {4:4.4f}, mean = {5:4.4f} [mmol/m3]'.format(\n",
    "    last_year-10,last_year,depth, np.nanmin(PCHO), np.nanmax(PCHO), np.nanmean(PCHO)))\n",
    "\n",
    "dist_label= 'Fram Strait \\nTransect at lat {0}-{1}, lon {2}-{3}'.format(lat_start,lat_end,lon_start,lon_end)\n",
    "print(dist_label)\n",
    "#pf.plot_transect_map(lonlat, mesh)\n",
    "\n",
    "# extract transect data\n",
    "dist, tfPCHO = pf.get_transect(PCHO,mesh,lonlat)\n",
    "\n"
   ]
  },
  {
   "cell_type": "code",
   "execution_count": null,
   "metadata": {},
   "outputs": [],
   "source": [
    "# get CHLOROPHYLL data\n",
    "PhyChl_Fram = pf.get_data(resultpath, \"PhyChl\", years_last10, mesh=mesh, runid=runid, how=\"mean\")#, depth=depth)\n",
    "DiaChl_Fram = pf.get_data(resultpath, \"PhyChl\", years_last10, mesh=mesh, runid=runid, how=\"mean\")#, depth=depth)\n",
    "\n",
    "Chl_SUM_Fram = PhyChl_Fram + DiaChl_Fram\n",
    "\n",
    "print('Chlorophyll data loaded for years {0}-{1}\\nmin = {3:4.4f}, max = {4:4.4f}, mean = {5:4.4f} [mg/m3]'.format(\n",
    "    last_year-10,last_year,depth, np.nanmin(Chl_SUM_Fram), np.nanmax(Chl_SUM_Fram), np.nanmean(Chl_SUM_Fram)))\n",
    "\n",
    "dist_label= 'Fram Strait \\nTransect at lat {0}-{1}, lon {2}-{3}'.format(lat_start,lat_end,lon_start,lon_end)\n",
    "print(dist_label)\n",
    "#pf.plot_transect_map(lonlat, mesh)\n",
    "\n",
    "# extract transect data\n",
    "dist, tfChl = pf.get_transect(Chl_SUM_Fram,mesh,lonlat)"
   ]
  },
  {
   "cell_type": "markdown",
   "metadata": {},
   "source": [
    "#### plotting all together"
   ]
  },
  {
   "cell_type": "code",
   "execution_count": null,
   "metadata": {},
   "outputs": [],
   "source": [
    "time_label = '\\nMean over {0}-{1}'.format(last_year-10,last_year)\n",
    "\n",
    "#pf.plot_xyz?\n",
    "pf.plot_xyz(mesh, \n",
    "            [tfChl,tfPCHO,tfTEP],\n",
    "            dist,\n",
    "            maxdepth=100,\n",
    "            ncols=3,\n",
    "            xlabel='Distance\\n',\n",
    "            title=['Chl.a','Fram Strait Transect\\nPCHO','TEP'],\n",
    "            label=['Chl.a [mg/m3]'+time_label,'PCHO-C [mmol/m3]'+time_label,'TEP-C [mmol/m3]'+time_label],\n",
    "            #levels=np.linspace(0,5,10),\n",
    "            figsize=(15,6),\n",
    "            cmap='viridis')\n",
    "\n",
    "\n",
    "if True:\n",
    "    plt.savefig(savepath+'TEP_Fram_Transect_{0}_{1}.png'.format(\n",
    "    years_last10[0],years_last10[-1]), dpi=300)"
   ]
  },
  {
   "cell_type": "code",
   "execution_count": null,
   "metadata": {},
   "outputs": [],
   "source": []
  },
  {
   "cell_type": "markdown",
   "metadata": {},
   "source": [
    "# Atlantic Transect"
   ]
  },
  {
   "cell_type": "code",
   "execution_count": null,
   "metadata": {},
   "outputs": [],
   "source": [
    "lon_start = -60\n",
    "lat_start = -80\n",
    "lon_end = 10\n",
    "lat_end = 83\n",
    "npoints   = 100\n",
    "lonlat = pf.transect_get_lonlat(lon_start, lat_start, lon_end, lat_end, npoints)\n",
    "\n",
    "if True:\n",
    "    pf.plot_transect_map(lonlat, mesh)\n",
    "\n",
    "print('Plotting transect at lat {0} to {1}, lon {2} to {3}'.format(lat_start,lat_end,lon_start,lon_end))\n",
    "#pf.plot_transect_map(lonlat, mesh)"
   ]
  },
  {
   "cell_type": "code",
   "execution_count": null,
   "metadata": {},
   "outputs": [],
   "source": [
    "# get data\n",
    "TEPall = pf.get_data(resultpath, \"TEP\", years_last10, mesh=mesh, runid=runid, how=\"mean\")#, depth=depth)\n",
    "\n",
    "#print(np.shape(TEPall))\n",
    "\n",
    "print('TEP loaded for years {0}-{1}\\nmin = {3}, max = {4}, mean = {5} [mmol/m3]'.format(\n",
    "    last_year-10,last_year,depth, np.nanmin(TEPall), np.nanmax(TEPall), np.nanmean(TEPall)))\n",
    "\n",
    "print('Plotting transect at lat {0} to {1}, lon {2} to {3}'.format(lat_start,lat_end,lon_start,lon_end))\n",
    "#pf.plot_transect_map(lonlat, mesh)\n",
    "\n",
    "# extract transect data\n",
    "dist, tfTEP = pf.get_transect(TEPall,mesh,lonlat)\n",
    "\n",
    "pf.plot_xyz(mesh, \n",
    "            tfTEP,\n",
    "            dist,\n",
    "            maxdepth=600,\n",
    "            ncols=1,\n",
    "            xlabel='Distance',\n",
    "            label='TEP-C [mmol/m3]',\n",
    "            #levels=np.linspace(-2,2, 41),\n",
    "            cmap='viridis')"
   ]
  },
  {
   "cell_type": "markdown",
   "metadata": {},
   "source": [
    "# PCHO"
   ]
  },
  {
   "cell_type": "code",
   "execution_count": null,
   "metadata": {},
   "outputs": [],
   "source": [
    "units = 'org C [mmol m$^{-3}$]'\n",
    "label='Polysaccharides {0}-{1} at {2} m'.format(last_year-10,last_year,depth)\n",
    "\n",
    "PCHO = pf.get_data(resultpath, \"PCHO\", years=years_last10, \n",
    "                   mesh = mesh, runid=runid, how=\"mean\", compute=True, depth=depth)\n",
    "\n",
    "fig = pf.plot(mesh, PCHO, mapproj = mapproj, units=units, titles=label)"
   ]
  },
  {
   "cell_type": "code",
   "execution_count": null,
   "metadata": {},
   "outputs": [],
   "source": [
    "# Atlantic transect \n",
    "\n",
    "# load data\n",
    "PCHOall = pf.get_data(resultpath, \"PCHO\", years=years_last10, mesh=mesh, runid=runid, how=\"mean\")#, depth=depth)\n",
    "\n",
    "#print(np.shape(PCHO))\n",
    "\n",
    "print('PCHO loaded for years {0}-{1}\\nmin = {3}, max = {4}, mean = {5} [mmol/m3]'.format(\n",
    "    years_last10[0],years_last10[-1],depth, np.nanmin(PCHOall), np.nanmax(PCHOall), np.nanmean(PCHOall)))\n",
    "\n",
    "# extract transect data\n",
    "dist, tfPCHO = pf.get_transect(PCHOall,mesh,lonlat)\n",
    "\n",
    "pf.plot_xyz(mesh, \n",
    "            tfPCHO,\n",
    "            dist,\n",
    "            maxdepth=600,\n",
    "            ncols=1,\n",
    "            xlabel='Distance',\n",
    "            label='PCHO [mmol/m3]',\n",
    "            #levels=np.linspace(-2,2, 41),\n",
    "            cmap='viridis',\n",
    "            figsize=(15, 6))"
   ]
  },
  {
   "cell_type": "markdown",
   "metadata": {},
   "source": [
    "# Intracellular Carbon"
   ]
  },
  {
   "cell_type": "code",
   "execution_count": null,
   "metadata": {},
   "outputs": [],
   "source": [
    "# Diatom carbon\n",
    "depth = 0\n",
    "NCfesom = resultpath + '/DiaC.fesom.1948.nc'\n",
    "#!ncdump -h $NCfesom\n",
    "\n",
    "label='Diatom intracell. Carbon {0}-{1} at {2} m'.format(last_year-10,last_year,depth)\n",
    "units = 'intracellular C [mmol C m$^{-3}$]'\n",
    "\n",
    "DiaC = pf.get_data(resultpath, \"DiaC\", years=years_last10,\n",
    "                   mesh=mesh, runid=runid, how=\"mean\", depth=depth)\n",
    "fig = pf.plot(mesh, DiaC, mapproj = mapproj, units=units, titles=label)"
   ]
  },
  {
   "cell_type": "code",
   "execution_count": null,
   "metadata": {},
   "outputs": [],
   "source": [
    "# Phytplankton carbon\n",
    "\n",
    "NCfesom = resultpath + '/PhyC.fesom.1948.nc'\n",
    "#!ncdump -h $NCfesom\n",
    "\n",
    "label='Phytoplankton intracell. Carbon {0}-{1} at {2} m'.format(last_year-10,last_year,depth)\n",
    "units = 'intracellular C [mmol C m$^{-3}$]'\n",
    "\n",
    "PhyC = pf.get_data(resultpath, \"PhyC\", years=years_last10,\n",
    "                   mesh=mesh, runid=runid, how=\"mean\", depth = depth)\n",
    "\n",
    "fig = pf.plot(mesh, PhyC, mapproj = mapproj, units=units, titles=label)"
   ]
  },
  {
   "cell_type": "markdown",
   "metadata": {},
   "source": [
    "# Detritus Carbon"
   ]
  },
  {
   "cell_type": "code",
   "execution_count": null,
   "metadata": {},
   "outputs": [],
   "source": [
    "NCfesom = resultpath + '/DetC.fesom.1948.nc'\n",
    "#!ncdump -h $NCfesom\n",
    "\n",
    "label='DetC {0}-{1} at {2} m'.format(last_year-10,last_year,depth)\n",
    "units = 'Detritus C [mmol m$^{-3}$]'\n",
    "\n",
    "DetC = pf.get_data(resultpath, \"DetC\", years_last10, mesh, runid=runid, how=\"mean\", compute=True, depth=depth)\n",
    "fig = pf.plot(mesh, DetC, mapproj = mapproj, units=units, titles=label)"
   ]
  },
  {
   "cell_type": "markdown",
   "metadata": {},
   "source": [
    "# extracellular carbon"
   ]
  },
  {
   "cell_type": "code",
   "execution_count": null,
   "metadata": {},
   "outputs": [],
   "source": [
    "NCfesom = resultpath + '/EOC.fesom.1948.nc'\n",
    "!ncdump -h $NCfesom\n",
    "\n",
    "#label='TEP {0}-{1} at {2} m'.format(years_last10[0],years_last10[-1],depth)\n",
    "#units = 'TEP-C [mmol m$^{-3}$]'\n",
    "#TEP = pf.get_data(resultpath, \"EOC\", years_last10, mesh, runid=runid, how=\"mean\", compute=True, depth=depth)\n",
    "#fig = pf.plot(mesh, TEP, mapproj = mapproj, units=units, titles=label)"
   ]
  },
  {
   "cell_type": "markdown",
   "metadata": {},
   "source": [
    "# NPP"
   ]
  },
  {
   "cell_type": "code",
   "execution_count": null,
   "metadata": {},
   "outputs": [],
   "source": [
    "# map of total Diatom NPP \n",
    "\n",
    "NCfesom = resultpath + '/NPPd.fesom.1948.nc'\n",
    "#!ncdump -h $NCfesom\n",
    "\n",
    "# 12.01* data --> mmolC/m2/d to mg C/m2/d\n",
    "\n",
    "label='Diatom NPP {0}-{1}'.format(last_year-10,last_year)\n",
    "units = 'Mean NPP [mg C m$^{-2}$ d$^{-1}$]'\n",
    "\n",
    "NPPd = pf.get_data(resultpath, \"NPPd\", \n",
    "                   years_last10,\n",
    "                   mesh, runid=runid, how=\"mean\", compute=True, silent=True)\n",
    "\n",
    "#print(np.shape(NPPd))\n",
    "# NPP is already vertically integrated!\n",
    "\n",
    "NPPd = NPPd * 12.01\n",
    "fig = pf.plot(mesh, NPPd, mapproj = mapproj, units=units, titles=label, \n",
    "              levels = (0,1100,56),\n",
    "              cmap='viridis')"
   ]
  },
  {
   "cell_type": "code",
   "execution_count": null,
   "metadata": {},
   "outputs": [],
   "source": [
    "# map of nanophytoplankton NPP\n",
    "\n",
    "NCfesom = resultpath + '/NPPn.fesom.1948.nc'\n",
    "#!ncdump -h $NCfesom\n",
    "\n",
    "# 12.01* data --> mg C/m2/d\n",
    "\n",
    "label='Nanophytoplankton NPP {0}-{1}'.format(last_year-10,last_year)\n",
    "units = 'Mean NPP [mg C m$^{-2}$ d$^{-1}$]'\n",
    "\n",
    "NPPn = pf.get_data(resultpath, \"NPPn\", \n",
    "                   years_last10,\n",
    "                   mesh, runid=runid, how=\"mean\", compute=True,silent=True)\n",
    "\n",
    "#print(np.shape(NPPn))\n",
    "# NPP is already vertically integrated!\n",
    "\n",
    "NPPn = NPPn *12.01\n",
    "\n",
    "fig = pf.plot(mesh, NPPn, mapproj = mapproj, units=units, titles=label, \n",
    "              levels = (0,1100,56),\n",
    "              cmap='viridis')"
   ]
  },
  {
   "cell_type": "code",
   "execution_count": null,
   "metadata": {},
   "outputs": [],
   "source": [
    "# total NPP\n",
    "label='Total Net Primary Production {0}-{1}'.format(last_year-10,last_year)\n",
    "units = 'Mean total NPP [mg C m$^{-2}$ d$^{-1}$]'\n",
    "\n",
    "NPPtot = NPPd + NPPn\n",
    "fig = pf.plot(mesh, NPPtot, mapproj = mapproj, units=units, titles=label, \n",
    "              levels = (0,1100,56),\n",
    "              cmap='viridis')"
   ]
  },
  {
   "cell_type": "markdown",
   "metadata": {},
   "source": [
    "# DIC"
   ]
  },
  {
   "cell_type": "code",
   "execution_count": null,
   "metadata": {},
   "outputs": [],
   "source": [
    "# DIC\n",
    "depth = 0\n",
    "NCfesom = resultpath + '/DIC.fesom.1948.nc'\n",
    "#!ncdump -h $NCfesom\n",
    "\n",
    "label='Dissolved inorganic Carbon {0}-{1} at {2} m'.format(last_year-10,last_year,depth)\n",
    "units = 'DIC [mmol  m$^{-3}$]'\n",
    "DIC = pf.get_data(resultpath, \"DIC\", years_last10,mesh, how=\"mean\", compute=True, depth=depth)\n",
    "fig = pf.plot(mesh, DIC, mapproj = mapproj, units=units, titles=label)\n"
   ]
  },
  {
   "cell_type": "markdown",
   "metadata": {},
   "source": [
    "# export to html"
   ]
  },
  {
   "cell_type": "code",
   "execution_count": null,
   "metadata": {},
   "outputs": [],
   "source": [
    "stop"
   ]
  },
  {
   "cell_type": "code",
   "execution_count": null,
   "metadata": {},
   "outputs": [],
   "source": [
    "!jupyter nbconvert TEP_detailed_analysis.ipynb --output-dir=$htmlpath --output $htmlname --to html --TemplateExporter.exclude_input=True\n"
   ]
  },
  {
   "cell_type": "markdown",
   "metadata": {},
   "source": [
    "# Backup"
   ]
  },
  {
   "cell_type": "code",
   "execution_count": null,
   "metadata": {},
   "outputs": [],
   "source": [
    "### old/backup\n",
    "TEP_monthly_aux = np.zeros((len(years_last10),len(months),len(mesh.x2),len(mesh.zlev)-1))\n",
    "\n",
    "var_name = 'TEP'\n",
    "verbose = True\n",
    "\n",
    "if verbose:\n",
    "    print('Processing all depths vor variable \"{}\"'.format(var_name))\n",
    "\n",
    "# load data for one depth and calculate monthly mean\n",
    "for i in range(len(years_last10)):\n",
    "    ind_year = int(years_last10[i])\n",
    "\n",
    "    if verbose:\n",
    "        print('loading {0}'.format(ind_year))\n",
    "\n",
    "    TEP_raw = pf.get_data(resultpath, var_name, ind_year, mesh, how=\"ori\", \n",
    "                        #depth=depth, \n",
    "                        compute=False,  silent=True)#np.invert(verbose))\n",
    "    # TEP:units = \"mmolC/m3\"\n",
    "    #print(np.shape(TEP_raw))\n",
    "\n",
    "    for m in range(len(months)):\n",
    "        TEP_monthly_aux[i,m,:,:] = TEP_raw[m,:,:]\n",
    "\n",
    "if verbose:\n",
    "    print('Processed {0} years of input data\\nResulting shape: {1}'.format(\n",
    "        len(years_last10),np.shape(TEP_monthly_aux)))\n",
    "    \n",
    "# monthly average over years\n",
    "TEP_monthly_alldepths = np.nanmean(TEP_monthly_aux,axis=0)\n",
    "print('Monthly mean over years \\nResulting shape {0}'.format(np.shape(TEP_monthly_alldepths)))\n",
    "\n"
   ]
  }
 ],
 "metadata": {
  "kernelspec": {
   "display_name": "Python 3",
   "language": "python",
   "name": "python3"
  },
  "language_info": {
   "codemirror_mode": {
    "name": "ipython",
    "version": 3
   },
   "file_extension": ".py",
   "mimetype": "text/x-python",
   "name": "python",
   "nbconvert_exporter": "python",
   "pygments_lexer": "ipython3",
   "version": "3.8.6"
  }
 },
 "nbformat": 4,
 "nbformat_minor": 4
}
