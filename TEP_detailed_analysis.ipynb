{
 "cells": [
  {
   "cell_type": "code",
   "execution_count": null,
   "metadata": {},
   "outputs": [],
   "source": [
    "%matplotlib inline\n",
    "%autosave 5"
   ]
  },
  {
   "cell_type": "code",
   "execution_count": null,
   "metadata": {},
   "outputs": [],
   "source": [
    "# necessary modules -------------------------------------------------------------------------------------\n",
    "import pyfesom2 as pf\n",
    "import numpy as np\n",
    "import matplotlib.pyplot as plt\n",
    "import matplotlib.cm as cm\n",
    "from netCDF4 import Dataset\n",
    "\n",
    "import time\n",
    "from datetime import date\n",
    "\n",
    "#import sys\n",
    "#sys.path.append('home/ollie/mozeisin/SkillMetrics')\n",
    "\n",
    "import cartopy.crs as ccrs\n",
    "#import pangaeapy.pandataset as pd\n",
    "\n",
    "# own py_recom modules ----------------------------------------------------------------------\n",
    "#!jupyter nbconvert --to=python plot_Taylor_normalized.ipynb\n",
    "\n",
    "#from load_interp_WOA_python3 import WOAdata\n",
    "from plot_Taylor_normalized import plt_Taylor_norm"
   ]
  },
  {
   "cell_type": "code",
   "execution_count": null,
   "metadata": {},
   "outputs": [],
   "source": [
    "# After changing these parameters here, save the notebook and clear the output. \n",
    "# Then run this cell and the cells with the desired parameters.\n",
    "\n",
    "# run specification -------------------------------------------------------------------------------------\n",
    "runid      =  'fesom'\n",
    "layerwise    = False\n",
    "resultpath = '/work/ollie/mozeisin/results/f2r1.2/tep1' \n",
    "meshpath = '/work/ollie/mozeisin/mesh/mesh_fesom2.0/core2_meanz'\n",
    "\n",
    "# period of analysis \n",
    "first_year = 1950\n",
    "last_year  = 1980\n",
    "    \n",
    "years = [first_year, last_year]\n",
    "\n",
    "# specification of analysis ------------------------------------------------------------------------------------\n",
    "depth = 5\n",
    "layerwise = False\n",
    "mapproj = 'pc'\n",
    "#Map projection. Options are Mercator (merc), Plate Carree (pc),\n",
    "#North Polar Stereo (np), South Polar Stereo (sp),  Robinson (rob)\n",
    "#Robinson projection is quite time consuming.\n",
    "\n",
    "# export of analysis ------------------------------------------------------------------------------------\n",
    "today = date.today().strftime(\"_%Y_%m_%d\")\n",
    "\n",
    "savepath = '/home/ollie/mozeisin/evaluation/mo_files/tep1/'\n",
    "savefig = False\n",
    "htmlname     =  'tep1' + today +'.html'\n",
    "htmlpath = '/home/ollie/mozeisin/evaluation/mo_files/html/'\n",
    "    "
   ]
  },
  {
   "cell_type": "code",
   "execution_count": null,
   "metadata": {},
   "outputs": [],
   "source": [
    "# mesh initialization -----------------------------------------------------------\n",
    "mesh = pf.load_mesh(meshpath)"
   ]
  },
  {
   "cell_type": "markdown",
   "metadata": {},
   "source": [
    "# Chlorophyll"
   ]
  },
  {
   "cell_type": "code",
   "execution_count": null,
   "metadata": {},
   "outputs": [],
   "source": [
    "!jupyter nbconvert --to=python Chlsurf_OCCCI_Comparison_python3.ipynb\n",
    "from Chlsurf_OCCCI_Comparison_python3 import Chlsurf_OCCCI_comp\n",
    "\n",
    "# OCCCI   \n",
    "matfileChlsurf           = '/work/ollie/projects/MarESys/evaluation/climatology_annual_chl_1deg_OCCCI_2012_2015.mat'\n",
    "\n",
    "# analyze only last 10 years\n",
    "test = Chlsurf_OCCCI_comp(runid,resultpath,savepath,meshpath,matfileChlsurf,\n",
    "                          last_year-10,last_year,\n",
    "                          #first_year,last_year,\n",
    "                          mapproj=mapproj,savefig=savefig)\n"
   ]
  },
  {
   "cell_type": "markdown",
   "metadata": {},
   "source": [
    "# Intracellular carbon"
   ]
  },
  {
   "cell_type": "code",
   "execution_count": null,
   "metadata": {},
   "outputs": [],
   "source": [
    "# Diatom carbon\n",
    "\n",
    "NCfesom = resultpath + '/DiaC.fesom.1948.nc'\n",
    "#!ncdump -h $NCfesom\n",
    "\n",
    "label='Diatom intracell. Carbon {0}-{1} at {2} m'.format(years[0],years[1],depth)\n",
    "units = 'intracellular C [mmol C m$^{-3}$]'\n",
    "\n",
    "DiaC = pf.get_data(resultpath, \"DiaC\", years=1950, mesh=mesh, runid=runid, how=\"mean\", depth=depth)\n",
    "fig = pf.plot(mesh, DiaC, mapproj = mapproj, units=units, titles=label)\n"
   ]
  },
  {
   "cell_type": "code",
   "execution_count": null,
   "metadata": {},
   "outputs": [],
   "source": [
    "# Phytplankton carbon\n",
    "\n",
    "NCfesom = resultpath + '/PhyC.fesom.1948.nc'\n",
    "#!ncdump -h $NCfesom\n",
    "\n",
    "label='Phytoplankton intracell. Carbon {0}-{1} at {2} m'.format(years[0],years[1],depth)\n",
    "units = 'intracellular C [mmol C m$^{-3}$]'\n",
    "\n",
    "PhyC = pf.get_data(resultpath, \"PhyC\", years=1950, mesh=mesh, runid=runid, how=\"mean\", depth = depth)\n",
    "fig = pf.plot(mesh, PhyC, mapproj = mapproj, units=units, titles=label)\n"
   ]
  },
  {
   "cell_type": "markdown",
   "metadata": {},
   "source": [
    "# PCHO"
   ]
  },
  {
   "cell_type": "code",
   "execution_count": null,
   "metadata": {},
   "outputs": [],
   "source": [
    "units = 'org C [mmol m$^{-3}$]'\n",
    "label='Polysaccharides {0}-{1} at {2} m'.format(years[0],years[1],depth)\n",
    "\n",
    "PCHO = pf.get_data(resultpath, \"PCHO\", years, mesh, runid=runid, how=\"mean\", compute=True, depth=depth)\n",
    "\n",
    "fig = pf.plot(mesh, PCHO, mapproj = mapproj, units=units, titles=label)"
   ]
  },
  {
   "cell_type": "code",
   "execution_count": null,
   "metadata": {},
   "outputs": [],
   "source": [
    "# Atlantic transect ------------------------------------------------------------------------------\n",
    "lon_start = -60\n",
    "lat_start = -80\n",
    "lon_end = 10\n",
    "lat_end = 83\n",
    "npoints   = 50\n",
    "lonlat = pf.transect_get_lonlat(lon_start, lat_start, lon_end, lat_end, npoints)\n",
    "\n",
    "pf.plot_transect_map(lonlat, mesh)\n",
    "\n",
    "print('Plotting transect at lat {0} to {1}, lon {2} to {3}'.format(lat_start,lat_end,lon_start,lon_end))\n",
    "#pf.plot_transect_map(lonlat, mesh)"
   ]
  },
  {
   "cell_type": "code",
   "execution_count": null,
   "metadata": {
    "scrolled": false
   },
   "outputs": [],
   "source": [
    "# load data\n",
    "PCHOall = pf.get_data(resultpath, \"PCHO\", years=years, mesh=mesh, runid=runid, how=\"mean\")#, depth=depth)\n",
    "\n",
    "#print(np.shape(PCHO))\n",
    "\n",
    "print('PCHO loaded for years {0}-{1}\\nmin = {3}, max = {4}, mean = {5} [mmol/m3]'.format(\n",
    "    years[0],years[1],depth, np.nanmin(PCHOall), np.nanmax(PCHOall), np.nanmean(PCHOall)))\n",
    "\n",
    "# extract transect data\n",
    "dist, tfPCHO = pf.get_transect(PCHOall,mesh,lonlat)\n",
    "\n",
    "pf.plot_xyz(mesh, \n",
    "            tfPCHO,\n",
    "            dist,\n",
    "            maxdepth=600,\n",
    "            ncols=1,\n",
    "            xlabel='Distance',\n",
    "            label='PCHO [mmol/m3]',\n",
    "            #levels=np.linspace(-2,2, 41),\n",
    "            cmap='viridis',\n",
    "            figsize=(15, 6))"
   ]
  },
  {
   "cell_type": "code",
   "execution_count": null,
   "metadata": {},
   "outputs": [],
   "source": []
  },
  {
   "cell_type": "markdown",
   "metadata": {},
   "source": [
    "# TEP"
   ]
  },
  {
   "cell_type": "code",
   "execution_count": null,
   "metadata": {},
   "outputs": [],
   "source": [
    "NCfesom = resultpath + '/TEP.fesom.1948.nc'\n",
    "!ncdump -h $NCfesom"
   ]
  },
  {
   "cell_type": "code",
   "execution_count": null,
   "metadata": {},
   "outputs": [],
   "source": [
    "depth = depth\n",
    "\n",
    "label='TEP {0}-{1} at {2} m'.format(years[0],years[1],depth)\n",
    "units = 'TEP-C [mmol m$^{-3}$]'\n",
    "\n",
    "TEP = pf.get_data(resultpath, \"TEP\", years, mesh, runid=runid, how=\"mean\", compute=True, depth=depth)\n",
    "fig = pf.plot(mesh, TEP, mapproj = mapproj, units=units, titles=label)"
   ]
  },
  {
   "cell_type": "code",
   "execution_count": null,
   "metadata": {},
   "outputs": [],
   "source": [
    "# various depths\n",
    "\n",
    "units = 'TEP-C [mmol m$^{-3}$]'\n",
    "years1 = [1970,1980]\n",
    "\n",
    "depth = 0\n",
    "TEP_0 = pf.get_data(resultpath, \"TEP\", years1, mesh, runid=runid, how=\"mean\", compute=True, depth=depth)\n",
    "label_0='TEP {0}-{1} at {2} m'.format(years1[0],years1[1],depth)\n",
    "\n",
    "depth = 5\n",
    "TEP_1 = pf.get_data(resultpath, \"TEP\", years1, mesh, runid=runid, how=\"mean\", compute=True, depth=depth)\n",
    "label_1='TEP {0}-{1} at {2} m'.format(years1[0],years1[1],depth)\n",
    "\n",
    "depth = 10\n",
    "TEP_2 = pf.get_data(resultpath, \"TEP\", years1, mesh, runid=runid, how=\"mean\", compute=True, depth=depth)\n",
    "label_2='TEP {0}-{1} at {2} m'.format(years1[0],years1[1],depth)\n",
    "\n",
    "depth = 20\n",
    "TEP_3 = pf.get_data(resultpath, \"TEP\", years1, mesh, runid=runid, how=\"mean\", compute=True, depth=depth)\n",
    "label_3='TEP {0}-{1} at {2} m'.format(years1[0],years1[1],depth)"
   ]
  },
  {
   "cell_type": "code",
   "execution_count": null,
   "metadata": {},
   "outputs": [],
   "source": [
    "fig = pf.plot(mesh, [TEP_0,TEP_1,TEP_2,TEP_3], mapproj = mapproj, units=units, \n",
    "              rowscol = (2,2), figsize = (15,10),\n",
    "              levels = (0,15,61), #cmap = 'viridis',\n",
    "              titles=[label_0,label_1,label_2,label_3])"
   ]
  },
  {
   "cell_type": "markdown",
   "metadata": {},
   "source": [
    "# integrals"
   ]
  },
  {
   "cell_type": "code",
   "execution_count": null,
   "metadata": {},
   "outputs": [],
   "source": [
    "# load nodal area -------------------------------------------------------------------------------------\n",
    "f = Dataset(resultpath + '/fesom.mesh.diag.nc', 'r')\n",
    "nod_area = f.variables['nod_area'][:] # Moritz\n",
    "nod_area_surface = nod_area[0,:]\n",
    "\n",
    "#print('shape nod_area: {0}\\nshape nod_area_surface: {1}'.format(np.shape(nod_area),np.shape(nod_area_surface)))\n",
    "   \n",
    "years2 = np.arange(years[0],years[1]+1,1)\n",
    "print(years2)\n",
    "        \n",
    "# calculating mean TEP per year -------------------------------------------------------------------------------\n",
    "TEP00glob_total = np.zeros(len(years2))\n",
    "TEP05glob_total  = np.zeros(len(years2))\n",
    "TEP10glob_total = np.zeros(len(years2))\n",
    "#TEP20glob_total   = np.zeros(len(years2))\n",
    "\n",
    "TEP00ao_total = np.zeros(len(years2))\n",
    "TEP05ao_total = np.zeros(len(years2))\n",
    "TEP10ao_total = np.zeros(len(years2))\n",
    "\n",
    "TEP00so_total = np.zeros(len(years2))\n",
    "TEP05so_total = np.zeros(len(years2))\n",
    "TEP10so_total = np.zeros(len(years2))\n"
   ]
  },
  {
   "cell_type": "code",
   "execution_count": null,
   "metadata": {},
   "outputs": [],
   "source": [
    "## Arctic Oean, N of 70 -------------------------------------------------------------------------------\n",
    "box=[-180, 180, 70, 90] \n",
    "left, right, down, up = box\n",
    "mask_AO = ((mesh.x2 >= left) & \n",
    "           (mesh.x2 <= right) & \n",
    "           (mesh.y2 >= down) & \n",
    "           (mesh.y2 <= up))\n",
    "\n",
    "#nod_area_AO = nod_area[:,mask_AO]\n",
    "#nod_area_AO_surface = nod_area[0,mask_AO]\n",
    "\n",
    "## Souther Oean -------------------------------------------------------------------------------\n",
    "box=[-180, 180, -90, -50] \n",
    "left, right, down, up = box\n",
    "mask_SO = ((mesh.x2 >= left) & \n",
    "           (mesh.x2 <= right) & \n",
    "           (mesh.y2 >= down) & \n",
    "           (mesh.y2 <= up))\n",
    "\n",
    "#nod_area_SO = nod_area[:,mask_SO]\n",
    "#nod_area_SO_surface = nod_area[0,mask_SO]\n",
    "#print(np.shape(nod_area_SO_surface))\n",
    "        "
   ]
  },
  {
   "cell_type": "code",
   "execution_count": null,
   "metadata": {},
   "outputs": [],
   "source": [
    "for i in range(len(years2)):\n",
    "    ind_year = int(years2[i])\n",
    "    print('loading {0}'.format(ind_year))\n",
    "    # TEP:units = \"mmolC/m3\"\n",
    "    \n",
    "    # 0m ############################\n",
    "    TEP00glob = pf.get_data(resultpath, \"TEP\", ind_year, mesh, how=\"mean\", \n",
    "                        depth= 0,\n",
    "                        compute=True, runid='fesom', silent=True)\n",
    "    TEP00glob_total[i] = np.nanmean(TEP00glob)#*nod_area_surface)\n",
    "\n",
    "    TEP00ao_total[i] = np.nanmean(TEP00glob[mask_AO])\n",
    "    #TEP00ao_total[i] = np.nanmean(TEP00ao)\n",
    "    \n",
    "    TEP00so_total[i] = np.nanmean(TEP00glob[mask_SO])\n",
    "    #TEP00so_total[i] = np.nanmean(TEP00so)\n",
    "    \n",
    "    # 5 m ############################\n",
    "    TEP05glob = pf.get_data(resultpath, \"TEP\", ind_year, mesh, how=\"mean\", \n",
    "                        depth= 5,\n",
    "                        compute=True, runid='fesom', silent=True)\n",
    "\n",
    "    TEP05glob_total[i] = np.nanmean(TEP05glob)\n",
    "\n",
    "    TEP05ao_total[i] = np.nanmean(TEP05glob[mask_AO])\n",
    "    \n",
    "    TEP05so_total[i] = np.nanmean(TEP05glob[mask_SO])\n",
    "\n",
    "    # 10 m ############################\n",
    "    TEP10glob = pf.get_data(resultpath, \"TEP\", ind_year, mesh, how=\"mean\", \n",
    "                        depth= 10,\n",
    "                        compute=True, runid='fesom', silent=True)\n",
    "\n",
    "    TEP10glob_total[i] = np.nanmean(TEP10glob)\n",
    "\n",
    "    TEP10ao_total[i] = np.nanmean(TEP10glob[mask_AO])\n",
    "    \n",
    "    TEP10so_total[i] = np.nanmean(TEP10glob[mask_SO])"
   ]
  },
  {
   "cell_type": "code",
   "execution_count": null,
   "metadata": {},
   "outputs": [],
   "source": [
    "# plotting total TEP -------------------------------------------------------------------------------        \n",
    "fig = plt.figure(figsize=(12,8), facecolor='w', edgecolor='k', tight_layout = True)\n",
    "ylim = (0,5)\n",
    "\n",
    "# 0 m ############################\n",
    "\n",
    "plt.subplot(2, 3, 1)\n",
    "plt.plot(years2,TEP00glob_total,'.-',label='0 m')\n",
    "plt.plot(years2,TEP05glob_total,'.-',label='5 m')\n",
    "plt.plot(years2,TEP10glob_total,'.-',label='10 m')\n",
    "plt.title('Global mean TEP')\n",
    "plt.ylabel(r'[mmol C m$^{-3}$]')\n",
    "plt.ylim(ylim)\n",
    "plt.legend(loc='upper right')\n",
    "\n",
    "plt.subplot(2, 3, 2)\n",
    "plt.plot(years2,TEP00ao_total,'.-',label='0 m')\n",
    "plt.plot(years2,TEP05ao_total,'.-',label='5 m')\n",
    "plt.plot(years2,TEP10ao_total,'.-',label='10 m')\n",
    "plt.title('N of 70N mean TEP')\n",
    "plt.ylabel(r'[mmol C m$^{-3}$]')\n",
    "plt.ylim(ylim)\n",
    "plt.legend(loc='upper right')\n",
    "\n",
    "plt.subplot(2, 3, 3)\n",
    "plt.plot(years2,TEP00so_total,'.-',label='0 m')\n",
    "plt.plot(years2,TEP05so_total,'.-',label='5 m')\n",
    "plt.plot(years2,TEP10so_total,'.-',label='10 m')\n",
    "plt.title('S. Ocean mean TEP')\n",
    "plt.ylabel(r'[mmol C m$^{-3}$]')\n",
    "plt.ylim(ylim)\n",
    "plt.legend(loc='upper right')\n",
    "\n"
   ]
  },
  {
   "cell_type": "markdown",
   "metadata": {},
   "source": [
    "# Atlantic Transect"
   ]
  },
  {
   "cell_type": "code",
   "execution_count": null,
   "metadata": {},
   "outputs": [],
   "source": [
    "# get data\n",
    "TEPall = pf.get_data(resultpath, \"TEP\", [last_year-10,last_year], mesh=mesh, runid=runid, how=\"mean\")#, depth=depth)\n",
    "\n",
    "#print(np.shape(TEPall))\n",
    "\n",
    "print('TEP loaded for years {0}-{1}\\nmin = {3}, max = {4}, mean = {5} [mmol/m3]'.format(\n",
    "    last_year-10,last_year,depth, np.nanmin(TEPall), np.nanmax(TEPall), np.nanmean(TEPall)))\n",
    "\n",
    "print('Plotting transect at lat {0} to {1}, lon {2} to {3}'.format(lat_start,lat_end,lon_start,lon_end))\n",
    "#pf.plot_transect_map(lonlat, mesh)\n",
    "\n",
    "# extract transect data\n",
    "dist, tfTEP = pf.get_transect(TEPall,mesh,lonlat)\n",
    "\n",
    "pf.plot_xyz(mesh, \n",
    "            tfTEP,\n",
    "            dist,\n",
    "            maxdepth=600,\n",
    "            ncols=1,\n",
    "            xlabel='Distance',\n",
    "            label='TEP-C [mmol/m3]',\n",
    "            #levels=np.linspace(-2,2, 41),\n",
    "            cmap='viridis',\n",
    "            figsize=(15, 6))"
   ]
  },
  {
   "cell_type": "markdown",
   "metadata": {},
   "source": [
    "# Detritus Carbon"
   ]
  },
  {
   "cell_type": "code",
   "execution_count": null,
   "metadata": {},
   "outputs": [],
   "source": [
    "NCfesom = resultpath + '/DetC.fesom.1948.nc'\n",
    "#!ncdump -h $NCfesom\n",
    "\n",
    "label='DetC {0}-{1} at {2} m'.format(last_year-10,last_year,depth)\n",
    "units = 'Detritus C [mmol m$^{-3}$]'\n",
    "\n",
    "DetC = pf.get_data(resultpath, \"DetC\", [last_year-10,last_year], mesh, runid=runid, how=\"mean\", compute=True, depth=depth)\n",
    "fig = pf.plot(mesh, DetC, mapproj = mapproj, units=units, titles=label)"
   ]
  },
  {
   "cell_type": "markdown",
   "metadata": {},
   "source": [
    "# extracellular carbon"
   ]
  },
  {
   "cell_type": "code",
   "execution_count": null,
   "metadata": {
    "scrolled": false
   },
   "outputs": [],
   "source": [
    "NCfesom = resultpath + '/EOC.fesom.1948.nc'\n",
    "!ncdump -h $NCfesom\n",
    "\n",
    "#label='TEP {0}-{1} at {2} m'.format(years[0],years[1],depth)\n",
    "#units = 'TEP-C [mmol m$^{-3}$]'\n",
    "#TEP = pf.get_data(resultpath, \"EOC\", years, mesh, runid=runid, how=\"mean\", compute=True, depth=depth)\n",
    "#fig = pf.plot(mesh, TEP, mapproj = mapproj, units=units, titles=label)"
   ]
  },
  {
   "cell_type": "markdown",
   "metadata": {},
   "source": [
    "# NPP"
   ]
  },
  {
   "cell_type": "code",
   "execution_count": null,
   "metadata": {},
   "outputs": [],
   "source": [
    "# map of total Diatom NPP \n",
    "\n",
    "NCfesom = resultpath + '/NPPd.fesom.1948.nc'\n",
    "#!ncdump -h $NCfesom\n",
    "\n",
    "# 12.01* data --> mmolC/m2/d to mg C/m2/d\n",
    "\n",
    "label='Diatom NPP {0}-{1}'.format(last_year-10,last_year)\n",
    "units = 'Mean NPP [mg C m$^{-2}$ d$^{-1}$]'\n",
    "\n",
    "NPPd = pf.get_data(resultpath, \"NPPd\", \n",
    "                   #years, \n",
    "                   [last_year-10,last_year],\n",
    "                   mesh, runid=runid, how=\"mean\", compute=True, silent=True)\n",
    "\n",
    "#print(np.shape(NPPd))\n",
    "# NPP is already vertically integrated!\n",
    "\n",
    "NPPd = NPPd * 12.01\n",
    "fig = pf.plot(mesh, NPPd, mapproj = mapproj, units=units, titles=label, \n",
    "              levels = (0,1100,56),\n",
    "              cmap='viridis')"
   ]
  },
  {
   "cell_type": "code",
   "execution_count": null,
   "metadata": {},
   "outputs": [],
   "source": [
    "# map of nanophytoplankton NPP\n",
    "\n",
    "NCfesom = resultpath + '/NPPn.fesom.1948.nc'\n",
    "#!ncdump -h $NCfesom\n",
    "\n",
    "# 12.01* data --> mg C/m2/d\n",
    "\n",
    "label='Nanophytoplankton NPP {0}-{1}'.format(last_year-10,last_year)\n",
    "units = 'Mean NPP [mg C m$^{-2}$ d$^{-1}$]'\n",
    "\n",
    "NPPn = pf.get_data(resultpath, \"NPPn\", \n",
    "                   #years, \n",
    "                   [last_year-10,last_year],\n",
    "                   mesh, runid=runid, how=\"mean\", compute=True,silent=True)\n",
    "\n",
    "#print(np.shape(NPPn))\n",
    "# NPP is already vertically integrated!\n",
    "\n",
    "NPPn = NPPn *12.01\n",
    "\n",
    "fig = pf.plot(mesh, NPPn, mapproj = mapproj, units=units, titles=label, \n",
    "              levels = (0,1100,56),\n",
    "              cmap='viridis')"
   ]
  },
  {
   "cell_type": "code",
   "execution_count": null,
   "metadata": {},
   "outputs": [],
   "source": [
    "# total NPP\n",
    "label='Total Net Primary Production {0}-{1}'.format(last_year-10,last_year)\n",
    "units = 'Mean total NPP [mg C m$^{-2}$ d$^{-1}$]'\n",
    "\n",
    "NPPtot = NPPd + NPPn\n",
    "fig = pf.plot(mesh, NPPtot, mapproj = mapproj, units=units, titles=label, \n",
    "              levels = (0,1100,56),\n",
    "              cmap='viridis')"
   ]
  },
  {
   "cell_type": "markdown",
   "metadata": {},
   "source": [
    "# DIC"
   ]
  },
  {
   "cell_type": "code",
   "execution_count": null,
   "metadata": {},
   "outputs": [],
   "source": [
    "# DIC\n",
    "\n",
    "NCfesom = resultpath + '/DIC.fesom.1948.nc'\n",
    "#!ncdump -h $NCfesom\n",
    "\n",
    "label='Dissolved inorganic Carbon {0}-{1} at {2} m'.format(years[0],years[1],depth)\n",
    "units = 'DIC [mmol  m$^{-3}$]'\n",
    "DIC = pf.get_data(resultpath, \"DIC\", years, mesh, runid=runid, how=\"mean\", compute=True, depth=depth)\n",
    "fig = pf.plot(mesh, DIC, mapproj = mapproj, units=units, titles=label)\n"
   ]
  },
  {
   "cell_type": "markdown",
   "metadata": {},
   "source": [
    "# export to html"
   ]
  },
  {
   "cell_type": "code",
   "execution_count": null,
   "metadata": {},
   "outputs": [],
   "source": [
    "%autosave 2\n",
    "\n",
    "#time.sleep(15)\n",
    "\n",
    "!jupyter nbconvert MASTER_Script_python3.ipynb --output-dir=$htmlpath --output $htmlname --to html "
   ]
  }
 ],
 "metadata": {
  "kernelspec": {
   "display_name": "Python 3",
   "language": "python",
   "name": "python3"
  },
  "language_info": {
   "codemirror_mode": {
    "name": "ipython",
    "version": 3
   },
   "file_extension": ".py",
   "mimetype": "text/x-python",
   "name": "python",
   "nbconvert_exporter": "python",
   "pygments_lexer": "ipython3",
   "version": "3.8.6"
  }
 },
 "nbformat": 4,
 "nbformat_minor": 4
}
