{
 "cells": [
  {
   "cell_type": "code",
   "execution_count": null,
   "metadata": {},
   "outputs": [],
   "source": [
    "%matplotlib inline\n",
    "%autosave 5"
   ]
  },
  {
   "cell_type": "code",
   "execution_count": null,
   "metadata": {},
   "outputs": [],
   "source": [
    "# necessary modules -------------------------------------------------------------------------------------\n",
    "import pyfesom2 as pf\n",
    "import numpy as np\n",
    "import matplotlib.pyplot as plt\n",
    "import matplotlib.cm as cm\n",
    "\n",
    "import time\n",
    "from datetime import date\n",
    "\n",
    "#import sys\n",
    "#sys.path.append('home/ollie/mozeisin/SkillMetrics')\n",
    "\n",
    "#import cartopy.crs as ccrs\n",
    "#import pangaeapy.pandataset as pd\n",
    "\n",
    "# own py_recom modules ----------------------------------------------------------------------\n",
    "#!jupyter nbconvert --to=python plot_Taylor_normalized.ipynb\n",
    "\n",
    "#from load_interp_WOA_python3 import WOAdata\n",
    "from plot_Taylor_normalized import plt_Taylor_norm"
   ]
  },
  {
   "cell_type": "code",
   "execution_count": null,
   "metadata": {},
   "outputs": [],
   "source": [
    "# After changing these parameters here, save the notebook and clear the output. \n",
    "# Then run this cell and the cells with the desired parameters.\n",
    "\n",
    "# run specification -------------------------------------------------------------------------------------\n",
    "runid      =  'fesom'\n",
    "layerwise    = False\n",
    "resultpath = '/work/ollie/mozeisin/results/f2r1.2/20201015_tep_test' \n",
    "meshpath = '/work/ollie/mozeisin/mesh/mesh_fesom2.0/core2_meanz'\n",
    "\n",
    "# period of analysis \n",
    "first_year = 1949\n",
    "last_year  = 1950\n",
    "    \n",
    "years = [first_year, last_year]\n",
    "\n",
    "# specification of analysis ------------------------------------------------------------------------------------\n",
    "depth = 5\n",
    "layerwise = False\n",
    "mapproj = 'pc'\n",
    "#Map projection. Options are Mercator (merc), Plate Carree (pc),\n",
    "#North Polar Stereo (np), South Polar Stereo (sp),  Robinson (rob)\n",
    "#Robinson projection is quite time consuming.\n",
    "\n",
    "# export of analysis ------------------------------------------------------------------------------------\n",
    "today = date.today().strftime(\"_%Y_%m_%d\")\n",
    "\n",
    "savepath = '/home/ollie/mozeisin/evaluation/mo_files/tep_test/'\n",
    "savefig = False\n",
    "htmlname     =  runid + today +'.html'\n",
    "htmlpath = '/home/ollie/mozeisin/evaluation/mo_files/html/'\n",
    "    "
   ]
  },
  {
   "cell_type": "code",
   "execution_count": null,
   "metadata": {},
   "outputs": [],
   "source": [
    "# mesh initialization -----------------------------------------------------------\n",
    "mesh = pf.load_mesh(meshpath)"
   ]
  },
  {
   "cell_type": "markdown",
   "metadata": {},
   "source": [
    "# Intracellular carbon"
   ]
  },
  {
   "cell_type": "code",
   "execution_count": null,
   "metadata": {},
   "outputs": [],
   "source": [
    "# Diatom carbon\n",
    "\n",
    "NCfesom = resultpath + '/DiaC.fesom.1948.nc'\n",
    "#!ncdump -h $NCfesom\n",
    "\n",
    "label='Diatom intracell. Carbon {0}-{1} at {2} m'.format(years[0],years[1],depth)\n",
    "units = 'intracellular C [mmol C m$^{-3}$]'\n",
    "DiaC = pf.get_data(resultpath, \"DiaC\", years=1950, mesh=mesh, runid=runid, how=\"mean\", depth=depth)\n",
    "fig = pf.plot(mesh, DiaC, mapproj = mapproj, units=units, titles=label)\n"
   ]
  },
  {
   "cell_type": "code",
   "execution_count": null,
   "metadata": {},
   "outputs": [],
   "source": [
    "# Phytplankton carbon\n",
    "\n",
    "NCfesom = resultpath + '/PhyC.fesom.1948.nc'\n",
    "#!ncdump -h $NCfesom\n",
    "\n",
    "label='Phytoplankton intracell. Carbon {0}-{1} at {2} m'.format(years[0],years[1],depth)\n",
    "units = 'intracellular C [mmol C m$^{-3}$]'\n",
    "PhyC = pf.get_data(resultpath, \"PhyC\", years=1950, mesh=mesh, runid=runid, how=\"mean\", depth = depth)\n",
    "fig = pf.plot(mesh, PhyC, mapproj = mapproj, units=units, titles=label)\n"
   ]
  },
  {
   "cell_type": "markdown",
   "metadata": {},
   "source": [
    "# TEP stuff"
   ]
  },
  {
   "cell_type": "code",
   "execution_count": null,
   "metadata": {},
   "outputs": [],
   "source": [
    "label='Polysaccharides {0}-{1} at {2} m'.format(years[0],years[1],depth)\n",
    "units = 'org C [mmol m$^{-3}$]'\n",
    "PCHO = pf.get_data(resultpath, \"PCHO\", years=years, mesh=mesh, runid=runid, how=\"mean\")#, depth=depth)\n",
    "\n",
    "print(np.shape(PCHO))\n",
    "print('PCHO loaded for years {0}-{1}\\nmin = {3}, max = {4}, mean = {5} [mmol/m3]'.format(\n",
    "    years[0],years[1],depth, np.nanmin(PCHO), np.nanmax(PCHO), np.nanmean(PCHO)))"
   ]
  },
  {
   "cell_type": "code",
   "execution_count": null,
   "metadata": {},
   "outputs": [],
   "source": [
    "# Atlantic transect ------------------------------------------------------------------------------\n",
    "lon_start = -25\n",
    "lat_start = -80\n",
    "lon_end = -25\n",
    "lat_end = 80\n",
    "npoints   = 50\n",
    "lonlat = pf.transect_get_lonlat(lon_start, lat_start, lon_end, lat_end, npoints)\n",
    "\n",
    "print('Plotting transect at lat {0} to {1}, lon {2} to {3}'.format(lat_start,lat_end,lon_start,lon_end))\n",
    "#pf.plot_transect_map(lonlat, mesh)\n",
    "\n",
    "dist, tfPCHO = pf.get_transect(PCHO,mesh,lonlat)\n",
    "\n",
    "pf.plot_xyz(mesh, \n",
    "            tfPCHO,\n",
    "            dist,\n",
    "            maxdepth=6000,\n",
    "            ncols=1,\n",
    "            xlabel='Distance',\n",
    "            label='PCHO [mmol/m3]',\n",
    "            #levels=np.linspace(-2,2, 41),\n",
    "            cmap='viridis',\n",
    "            figsize=(15, 6))"
   ]
  },
  {
   "cell_type": "code",
   "execution_count": null,
   "metadata": {},
   "outputs": [],
   "source": [
    "fig = pf.plot(mesh, PCHO[:,2], mapproj = mapproj, units=units, titles=label)"
   ]
  },
  {
   "cell_type": "code",
   "execution_count": null,
   "metadata": {},
   "outputs": [],
   "source": [
    "label='TEP {0}-{1} at {2} m'.format(years[0],years[1],depth)\n",
    "units = 'TEP-C [mmol m$^{-3}$]'\n",
    "TEP = pf.get_data(resultpath, \"TEP\", years, mesh, runid=runid, how=\"mean\", compute=True, depth=5)\n",
    "fig = pf.plot(mesh, TEP, mapproj = mapproj, units=units, titles=label)"
   ]
  },
  {
   "cell_type": "markdown",
   "metadata": {},
   "source": [
    "# GPP"
   ]
  },
  {
   "cell_type": "code",
   "execution_count": null,
   "metadata": {},
   "outputs": [],
   "source": [
    "# Diatom GPP\n",
    "\n",
    "NCfesom = resultpath + '/GPPd.fesom.1948.nc'\n",
    "#!ncdump -h $NCfesom\n",
    "\n",
    "# 12.01* data --> mg C/m2/d\n",
    "\n",
    "label='Mean diatom GPP {0}-{1}'.format(years[0],years[1])\n",
    "units = 'GPP [mg C  m$^{-2}$ d$^{-1}$]'\n",
    "GPPd = pf.get_data(resultpath, \"GPPd\", years, mesh, runid=runid, how=\"mean\", compute=True, depth=depth)\n",
    "GPPd = GPPd * 12.01\n",
    "fig = pf.plot(mesh, GPPd, mapproj = mapproj, units=units, titles=label)\n"
   ]
  },
  {
   "cell_type": "markdown",
   "metadata": {},
   "source": [
    "# DIC"
   ]
  },
  {
   "cell_type": "code",
   "execution_count": null,
   "metadata": {},
   "outputs": [],
   "source": [
    "# DIC\n",
    "\n",
    "NCfesom = resultpath + '/DIC.fesom.1948.nc'\n",
    "#!ncdump -h $NCfesom\n",
    "\n",
    "label='Dissolved inorganic Carbon {0}-{1} at {2} m'.format(years[0],years[1],depth)\n",
    "units = 'DIC [mmol  m$^{-3}$]'\n",
    "DIC = pf.get_data(resultpath, \"DIC\", years, mesh, runid=runid, how=\"mean\", compute=True, depth=depth)\n",
    "fig = pf.plot(mesh, DIC, mapproj = mapproj, units=units, titles=label)\n"
   ]
  },
  {
   "cell_type": "markdown",
   "metadata": {},
   "source": [
    "# export to html"
   ]
  },
  {
   "cell_type": "code",
   "execution_count": null,
   "metadata": {},
   "outputs": [],
   "source": [
    "%autosave 2\n",
    "\n",
    "time.sleep(15)\n",
    "\n",
    "!jupyter nbconvert MASTER_Script_python3.ipynb --output-dir=$htmlpath --output $htmlname --to html "
   ]
  }
 ],
 "metadata": {
  "kernelspec": {
   "display_name": "Python 3",
   "language": "python",
   "name": "python3"
  },
  "language_info": {
   "codemirror_mode": {
    "name": "ipython",
    "version": 3
   },
   "file_extension": ".py",
   "mimetype": "text/x-python",
   "name": "python",
   "nbconvert_exporter": "python",
   "pygments_lexer": "ipython3",
   "version": "3.8.6"
  }
 },
 "nbformat": 4,
 "nbformat_minor": 4
}
