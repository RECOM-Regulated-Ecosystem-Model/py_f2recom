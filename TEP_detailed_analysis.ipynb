{
 "cells": [
  {
   "cell_type": "markdown",
   "metadata": {},
   "source": [
    "# TEP detailed analysis"
   ]
  },
  {
   "cell_type": "code",
   "execution_count": null,
   "metadata": {},
   "outputs": [],
   "source": [
    "%matplotlib inline\n",
    "%autosave 5"
   ]
  },
  {
   "cell_type": "code",
   "execution_count": null,
   "metadata": {},
   "outputs": [],
   "source": [
    "# necessary modules -------------------------------------------------------------------------------------\n",
    "import pyfesom2 as pf\n",
    "import numpy as np\n",
    "from scipy import stats\n",
    "import matplotlib.pyplot as plt\n",
    "import matplotlib.cm as cm\n",
    "import matplotlib.colors as colors\n",
    "from netCDF4 import Dataset\n",
    "\n",
    "import time\n",
    "from datetime import date\n",
    "\n",
    "#import sys\n",
    "#sys.path.append('home/ollie/mozeisin/SkillMetrics')\n",
    "\n",
    "import cartopy.crs as ccrs\n",
    "import cartopy.feature as cfeature\n",
    "#import pangaeapy.pandataset as pd\n",
    "\n",
    "import warnings\n",
    "warnings.simplefilter(\"ignore\")\n",
    "\n",
    "# own py_recom modules ----------------------------------------------------------------------\n",
    "#!jupyter nbconvert --to=python plot_Taylor_normalized.ipynb\n",
    "\n",
    "#from load_interp_WOA_python3 import WOAdata\n",
    "from plot_Taylor_normalized import plt_Taylor_norm"
   ]
  },
  {
   "cell_type": "code",
   "execution_count": null,
   "metadata": {},
   "outputs": [],
   "source": [
    "# After changing these parameters here, save the notebook and clear the output. \n",
    "# Then run this cell and the cells with the desired parameters.\n",
    "\n",
    "# run specification -------------------------------------------------------------------------------------\n",
    "runid      =  'fesom'\n",
    "layerwise    = False\n",
    "resultpath = '/work/ollie/mozeisin/results/f2r1.2/tep1' \n",
    "meshpath = '/work/ollie/mozeisin/mesh/mesh_fesom2.0/core2_meanz'\n",
    "\n",
    "# period of analysis \n",
    "first_year = 1950\n",
    "last_year  = 1980\n",
    "    \n",
    "years = np.arange(first_year,last_year+1,1)\n",
    "years_last10 = np.arange(last_year-10,last_year+1,1)\n",
    "\n",
    "# specification of analysis ------------------------------------------------------------------------------------\n",
    "depth = 0\n",
    "\n",
    "layerwise = False\n",
    "mapproj = 'pc'\n",
    "#Map projection. Options are Mercator (merc), Plate Carree (pc),\n",
    "#North Polar Stereo (np), South Polar Stereo (sp),  Robinson (rob)\n",
    "#Robinson projection is quite time consuming.\n",
    "\n",
    "# export of analysis ------------------------------------------------------------------------------------\n",
    "today = date.today().strftime(\"_%Y_%m_%d\")\n",
    "\n",
    "savepath = '/home/ollie/mozeisin/evaluation/mo_files/tep1/'\n",
    "savefig = False\n",
    "htmlname     =  'tep1' + today +'.html'\n",
    "htmlpath = '/home/ollie/mozeisin/evaluation/mo_files/html/'\n",
    "    "
   ]
  },
  {
   "cell_type": "code",
   "execution_count": null,
   "metadata": {},
   "outputs": [],
   "source": [
    "# just to check\n",
    "print('Processing years {4} to {5}\\n\\nReading out of {0}\\nStoring graphs to {1}\\nStoring html to {2} as {3}'.format(\n",
    "    resultpath, savepath, htmlpath, htmlname,years[0],years[-1]))\n",
    "\n",
    "print('\\nLast ten years are {0}'.format(years_last10))"
   ]
  },
  {
   "cell_type": "markdown",
   "metadata": {},
   "source": [
    "# Load mesh"
   ]
  },
  {
   "cell_type": "code",
   "execution_count": null,
   "metadata": {},
   "outputs": [],
   "source": [
    "# mesh initialization -----------------------------------------------------------\n",
    "mesh = pf.load_mesh(meshpath)\n",
    "\n",
    "lon_fesom = mesh.x2\n",
    "lat_fesom = mesh.y2"
   ]
  },
  {
   "cell_type": "code",
   "execution_count": null,
   "metadata": {},
   "outputs": [],
   "source": [
    "def mygrid(m,grid=False):\n",
    "    '''\n",
    "    Draw cartopy natural earth feature to axis m\n",
    "    '''\n",
    "    #m.coastlines(resolution='110m', color='black', linewidth=1)\n",
    "    land_poly = cfeature.NaturalEarthFeature('physical', 'land', '110m',edgecolor='k',facecolor=cfeature.COLORS['land'])\n",
    "    m.add_feature(land_poly)\n",
    "\n",
    "    if grid:\n",
    "        g1 = m.gridlines(draw_labels = True)\n",
    "        g1.xlabels_top = False\n",
    "        g1.ylabels_right = False\n",
    "        g1.xlabel_style = {'size': 16, 'color': 'gray'}\n",
    "        g1.ylabel_style = {'size': 16, 'color': 'gray'}"
   ]
  },
  {
   "cell_type": "markdown",
   "metadata": {},
   "source": [
    "# Chlorophyll"
   ]
  },
  {
   "cell_type": "code",
   "execution_count": null,
   "metadata": {},
   "outputs": [],
   "source": [
    "#!jupyter nbconvert --to=python Chlsurf_OCCCI_Comparison_python3.ipynb\n",
    "from Chlsurf_OCCCI_Comparison_python3 import Chlsurf_OCCCI_comp\n",
    "\n",
    "# OCCCI   \n",
    "matfileChlsurf           = '/work/ollie/projects/MarESys/evaluation/climatology_annual_chl_1deg_OCCCI_2012_2015.mat'\n",
    "\n",
    "# analyze only last 10 years\n",
    "Chl = Chlsurf_OCCCI_comp(runid,resultpath,savepath,meshpath,matfileChlsurf,\n",
    "                          years_last10,\n",
    "                          mapproj=mapproj,savefig=savefig)\n"
   ]
  },
  {
   "cell_type": "markdown",
   "metadata": {},
   "source": [
    "# TEP"
   ]
  },
  {
   "cell_type": "code",
   "execution_count": null,
   "metadata": {},
   "outputs": [],
   "source": [
    "NCfesom = resultpath + '/TEP.fesom.1948.nc'\n",
    "!ncdump -h $NCfesom"
   ]
  },
  {
   "cell_type": "code",
   "execution_count": null,
   "metadata": {},
   "outputs": [],
   "source": []
  },
  {
   "cell_type": "code",
   "execution_count": null,
   "metadata": {},
   "outputs": [],
   "source": [
    "# various depths\n",
    "\n",
    "units = 'TEP-C [mmol m$^{-3}$]'\n",
    "\n",
    "depthi = 0\n",
    "TEP_0 = pf.get_data(resultpath, \"TEP\", years_last10, mesh, runid=runid, how=\"mean\", compute=True, depth=depthi)\n",
    "label_0='TEP {0}-{1} at {2} m'.format(years_last10[0],years_last10[-1],depthi)\n",
    "\n",
    "depthi = 5\n",
    "TEP_1 = pf.get_data(resultpath, \"TEP\", years_last10, mesh, runid=runid, how=\"mean\", compute=True, depth=depthi)\n",
    "label_1='TEP {0}-{1} at {2} m'.format(years_last10[0],years_last10[-1],depthi)\n",
    "\n",
    "depthi = 10\n",
    "TEP_2 = pf.get_data(resultpath, \"TEP\", years_last10, mesh, runid=runid, how=\"mean\", compute=True, depth=depthi)\n",
    "label_2='TEP {0}-{1} at {2} m'.format(years_last10[0],years_last10[-1],depthi)\n",
    "\n",
    "depthi = 20\n",
    "TEP_3 = pf.get_data(resultpath, \"TEP\", years_last10, mesh, runid=runid, how=\"mean\", compute=True, depth=depthi)\n",
    "label_3='TEP {0}-{1} at {2} m'.format(years_last10[0],years_last10[-1],depthi)"
   ]
  },
  {
   "cell_type": "code",
   "execution_count": null,
   "metadata": {},
   "outputs": [],
   "source": [
    "fig = pf.plot(mesh, [TEP_0,TEP_1,TEP_2,TEP_3], mapproj =  mapproj, units=units, \n",
    "              rowscol = (2,2), figsize = (15,10),\n",
    "              levels = (0,15,61), #cmap = 'viridis',\n",
    "              titles=[label_0,label_1,label_2,label_3])\n",
    "\n",
    "if savefig:\n",
    "    plt.savefig(savepath+'TEP_distribution_multidepths.png',dpi=300)"
   ]
  },
  {
   "cell_type": "markdown",
   "metadata": {},
   "source": [
    "# integrals"
   ]
  },
  {
   "cell_type": "code",
   "execution_count": null,
   "metadata": {},
   "outputs": [],
   "source": [
    "# load nodal area -------------------------------------------------------------------------------------\n",
    "f = Dataset(resultpath + '/fesom.mesh.diag.nc', 'r')\n",
    "nod_area = f.variables['nod_area'][:] # Moritz\n",
    "nod_area_surface = nod_area[0,:]\n",
    "\n",
    "#print('shape nod_area: {0}\\nshape nod_area_surface: {1}'.format(np.shape(nod_area),np.shape(nod_area_surface)))\n",
    "        \n",
    "# calculating mean TEP per year -------------------------------------------------------------------------------\n",
    "TEP00glob_total = np.zeros(len(years))\n",
    "TEP05glob_total  = np.zeros(len(years))\n",
    "TEP10glob_total = np.zeros(len(years))\n",
    "#TEP20glob_total   = np.zeros(len(years))\n",
    "\n",
    "TEP00ao_total = np.zeros(len(years))\n",
    "TEP05ao_total = np.zeros(len(years))\n",
    "TEP10ao_total = np.zeros(len(years))\n",
    "\n",
    "TEP00so_total = np.zeros(len(years))\n",
    "TEP05so_total = np.zeros(len(years))\n",
    "TEP10so_total = np.zeros(len(years))\n"
   ]
  },
  {
   "cell_type": "code",
   "execution_count": null,
   "metadata": {},
   "outputs": [],
   "source": [
    "## Arctic Oean, N of 70 -------------------------------------------------------------------------------\n",
    "box_AO=[-180, 180, 70, 90] \n",
    "left, right, down, up = box_AO\n",
    "mask_AO = ((mesh.x2 >= left) & \n",
    "           (mesh.x2 <= right) & \n",
    "           (mesh.y2 >= down) & \n",
    "           (mesh.y2 <= up))\n",
    "\n",
    "#nod_area_AO = nod_area[:,mask_AO]\n",
    "#nod_area_AO_surface = nod_area[0,mask_AO]\n",
    "\n",
    "## Souther Oean -------------------------------------------------------------------------------\n",
    "box_SO =[-180, 180, -90, -50] \n",
    "left, right, down, up = box_SO\n",
    "mask_SO = ((mesh.x2 >= left) & \n",
    "           (mesh.x2 <= right) & \n",
    "           (mesh.y2 >= down) & \n",
    "           (mesh.y2 <= up))\n",
    "\n",
    "#nod_area_SO = nod_area[:,mask_SO]\n",
    "#nod_area_SO_surface = nod_area[0,mask_SO]\n",
    "#print(np.shape(nod_area_SO_surface))\n",
    "        "
   ]
  },
  {
   "cell_type": "code",
   "execution_count": null,
   "metadata": {},
   "outputs": [],
   "source": [
    "for i in range(len(years2)):\n",
    "    ind_year = int(years2[i])\n",
    "    #print('loading {0}'.format(ind_year))\n",
    "    # TEP:units = \"mmolC/m3\"\n",
    "    \n",
    "    # 0m ############################\n",
    "    TEP00glob = pf.get_data(resultpath, \"TEP\", ind_year, mesh, how=\"mean\", \n",
    "                        depth= 0,\n",
    "                        compute=True, runid='fesom', silent=True)\n",
    "    TEP00glob_total[i] = np.nanmean(TEP00glob)#*nod_area_surface)\n",
    "\n",
    "    TEP00ao_total[i] = np.nanmean(TEP00glob[mask_AO])\n",
    "    #TEP00ao_total[i] = np.nanmean(TEP00ao)\n",
    "    \n",
    "    TEP00so_total[i] = np.nanmean(TEP00glob[mask_SO])\n",
    "    #TEP00so_total[i] = np.nanmean(TEP00so)\n",
    "    \n",
    "    # 5 m ############################\n",
    "    TEP05glob = pf.get_data(resultpath, \"TEP\", ind_year, mesh, how=\"mean\", \n",
    "                        depth= 5,\n",
    "                        compute=True, runid='fesom', silent=True)\n",
    "\n",
    "    TEP05glob_total[i] = np.nanmean(TEP05glob)\n",
    "\n",
    "    TEP05ao_total[i] = np.nanmean(TEP05glob[mask_AO])\n",
    "    \n",
    "    TEP05so_total[i] = np.nanmean(TEP05glob[mask_SO])\n",
    "\n",
    "    # 10 m ############################\n",
    "    TEP10glob = pf.get_data(resultpath, \"TEP\", ind_year, mesh, how=\"mean\", \n",
    "                        depth= 10,\n",
    "                        compute=True, runid='fesom', silent=True)\n",
    "\n",
    "    TEP10glob_total[i] = np.nanmean(TEP10glob)\n",
    "\n",
    "    TEP10ao_total[i] = np.nanmean(TEP10glob[mask_AO])\n",
    "    \n",
    "    TEP10so_total[i] = np.nanmean(TEP10glob[mask_SO])"
   ]
  },
  {
   "cell_type": "code",
   "execution_count": null,
   "metadata": {},
   "outputs": [],
   "source": [
    "# plotting total TEP -------------------------------------------------------------------------------        \n",
    "fig = plt.figure(figsize=(12,8), facecolor='w', edgecolor='k', tight_layout = True)\n",
    "ylim = (0,5)\n",
    "\n",
    "# 0 m ############################\n",
    "\n",
    "plt.subplot(2, 3, 1)\n",
    "plt.plot(years2,TEP00glob_total,'.-',label='0 m')\n",
    "plt.plot(years2,TEP05glob_total,'.-',label='5 m')\n",
    "plt.plot(years2,TEP10glob_total,'.-',label='10 m')\n",
    "plt.title('Global mean TEP')\n",
    "plt.ylabel(r'[mmol C m$^{-3}$]')\n",
    "plt.ylim(ylim)\n",
    "plt.legend(loc='upper right')\n",
    "\n",
    "plt.subplot(2, 3, 2)\n",
    "plt.plot(years2,TEP00ao_total,'.-',label='0 m')\n",
    "plt.plot(years2,TEP05ao_total,'.-',label='5 m')\n",
    "plt.plot(years2,TEP10ao_total,'.-',label='10 m')\n",
    "plt.title('N of 70N mean TEP')\n",
    "plt.ylabel(r'[mmol C m$^{-3}$]')\n",
    "plt.ylim(ylim)\n",
    "plt.legend(loc='upper right')\n",
    "\n",
    "plt.subplot(2, 3, 3)\n",
    "plt.plot(years2,TEP00so_total,'.-',label='0 m')\n",
    "plt.plot(years2,TEP05so_total,'.-',label='5 m')\n",
    "plt.plot(years2,TEP10so_total,'.-',label='10 m')\n",
    "plt.title('S. Ocean mean TEP')\n",
    "plt.ylabel(r'[mmol C m$^{-3}$]')\n",
    "plt.ylim(ylim)\n",
    "plt.legend(loc='upper right')\n",
    "\n",
    "if savefig:\n",
    "    plt.savefig(savepath+'TEP_timeseries.png',dpi=300)"
   ]
  },
  {
   "cell_type": "markdown",
   "metadata": {},
   "source": [
    "# Interpolation to 1x1"
   ]
  },
  {
   "cell_type": "code",
   "execution_count": null,
   "metadata": {},
   "outputs": [],
   "source": [
    "# intrpolation to 1x1\n",
    "lat         = np.arange(-89.5,90.,1.)\n",
    "lon         = np.arange(-179.5,180.,1.)\n",
    "latdic, londic = np.meshgrid(lat, lon)\n",
    "\n",
    "print(label_0)\n",
    "\n",
    "\n",
    "TEP_0_interp = pf.fesom2regular(\n",
    "            data = TEP_0,\n",
    "            mesh = mesh,\n",
    "            lons = londic, \n",
    "            lats = latdic)"
   ]
  },
  {
   "cell_type": "code",
   "execution_count": null,
   "metadata": {},
   "outputs": [],
   "source": [
    "if True: # interpolation check            \n",
    "    print('\\nFESOM interpolation check:\\noriginal min {0:5.4f} max {1:5.4f} mean {2:5.4f} \\ninterpol min {3:5.4f} max {4:5.4f} mean {5:5.4f}'.format(\n",
    "        np.nanmin(TEP_0),np.nanmax(TEP_0),np.nanmean(TEP_0),\n",
    "        np.nanmin(TEP_0_interp),np.nanmax(TEP_0_interp),np.nanmean(TEP_0_interp)))\n",
    "     "
   ]
  },
  {
   "cell_type": "markdown",
   "metadata": {},
   "source": [
    "# North Polar Stereo"
   ]
  },
  {
   "cell_type": "code",
   "execution_count": null,
   "metadata": {},
   "outputs": [],
   "source": [
    "# North Polar Stereo Projection\n",
    "fig = plt.figure(figsize=(10,10))\n",
    "ax1 = plt.subplot(projection = ccrs.NorthPolarStereo())\n",
    "\n",
    "m1 = ax1.pcolormesh(londic, latdic, TEP_0_interp, \n",
    "    transform = ccrs.PlateCarree(),\n",
    "    #norm=colors.LogNorm(vmin=np.nanmin(TEP_0_interp),vmax=np.nanmax(TEP_0_interp)),\n",
    "    cmap='viridis')\n",
    "\n",
    "#ax1.coastlines(resolution='110m', color='black', linewidth=1)\n",
    "mygrid(ax1,grid=True)\n",
    "\n",
    "plot_extent = [-180, 180, 70, 90]\n",
    "ax1.set_extent(plot_extent, crs=ccrs.PlateCarree())\n",
    "\n",
    "cbar = fig.colorbar(m1,#orientation = 'horizontal',\n",
    "                    fraction=0.1, pad=0.1, shrink = 0.8) \n",
    "cbar.set_label('TEP-C [mmol C m$^{-3}$]', fontsize=20,)\n",
    "\n",
    "plt.title('Interpolated '+label_0)\n",
    "\n",
    "if savefig:\n",
    "    plt.savefig(savepath+'TEP_interp_NPS.png', dpi=300)"
   ]
  },
  {
   "cell_type": "markdown",
   "metadata": {},
   "source": [
    "# TEP in relation to CHl.a\n",
    "figure y= log TEP XG eq , x= log Chla cmop. Zamanillo 2019 and Yamada 2015"
   ]
  },
  {
   "cell_type": "markdown",
   "metadata": {},
   "source": [
    "### Convert TEP-C to TEP$_{color}$\n",
    "TEP-C [$\\mu$mol L$^{-1}$] = 0.05 TEP$_{color}$ [mg Xeq. L$^{-1}$]"
   ]
  },
  {
   "cell_type": "code",
   "execution_count": null,
   "metadata": {},
   "outputs": [],
   "source": [
    "TEP_0_interp_mugXeqL = TEP_0_interp * 20 * 1000"
   ]
  },
  {
   "cell_type": "markdown",
   "metadata": {},
   "source": [
    "### extracting regions"
   ]
  },
  {
   "cell_type": "code",
   "execution_count": null,
   "metadata": {},
   "outputs": [],
   "source": [
    "## Arctic Oean, N of 70 \n",
    "box_AO=[-180, 180, 70, 90] \n",
    "left, right, down, up = box_AO\n",
    "mask_AO_1x1_lon = ((lon >= left) & (lon <= right))\n",
    "mask_AO_1x1_lat = ((lat >= down) & (lat <= up))\n",
    "\n",
    "if False:\n",
    "    print(np.shape(mask_AO_1x1_lat))\n",
    "    print(np.shape(mask_AO_1x1_lon))\n",
    "    print(np.shape(TEP_0_interp))\n",
    "\n",
    "if False: # control of cuting region\n",
    "    fig = plt.figure(figsize=(10,10))\n",
    "    ax1 = plt.subplot(projection = ccrs.NorthPolarStereo())\n",
    "\n",
    "    m1 = plt.pcolormesh(londic[mask_AO_1x1_lon][:,mask_AO_1x1_lat], \n",
    "                        latdic[mask_AO_1x1_lon][:,mask_AO_1x1_lat], \n",
    "                        TEP_0_interp[mask_AO_1x1_lon][:,mask_AO_1x1_lat], \n",
    "        transform = ccrs.PlateCarree(),\n",
    "        cmap='viridis')\n",
    "\n",
    "    #ax1.coastlines(resolution='110m', color='black', linewidth=1)\n",
    "    mygrid(ax1,grid=True)\n",
    "\n",
    "    cbar = fig.colorbar(m1,#orientation = 'horizontal',\n",
    "                        fraction=0.1, pad=0.1,shrink = 0.8) \n",
    "    cbar.set_label('TEP-C [mmol C m$^{-3}$]', fontsize=20)\n",
    "\n",
    "    plt.title('Interpolated '+label_0)"
   ]
  },
  {
   "cell_type": "code",
   "execution_count": null,
   "metadata": {},
   "outputs": [],
   "source": [
    "Chl_total_interp_AO = Chl.Chl_total_interp[:,mask_AO_1x1_lat].ravel()\n",
    "TEP_0_interp_AO_mugXeqL = TEP_0_interp_mugXeqL[:,mask_AO_1x1_lat].ravel()"
   ]
  },
  {
   "cell_type": "markdown",
   "metadata": {},
   "source": [
    "### set Chl.a minimum to 0.01 mg/m3"
   ]
  },
  {
   "cell_type": "code",
   "execution_count": null,
   "metadata": {},
   "outputs": [],
   "source": [
    "def set_Chl_min(value):\n",
    "    ind = np.where(Chl_total_interp_AO > value)\n",
    "    Chl_total_interp_AO_min = Chl_total_interp_AO[ind]\n",
    "    print('Number of Chl.a datapoints omitted: {0}'.format(len(Chl_total_interp_AO) - len(Chl_total_interp_AO_min) ))\n",
    "\n",
    "    # apply to TEP as well\n",
    "    TEP_0_interp_AO_min_mugXeqL = TEP_0_interp_AO_mugXeqL[ind]\n",
    "    \n",
    "    return [Chl_total_interp_AO_min,TEP_0_interp_AO_min_mugXeqL]"
   ]
  },
  {
   "cell_type": "markdown",
   "metadata": {},
   "source": [
    "### plotting relation"
   ]
  },
  {
   "cell_type": "code",
   "execution_count": null,
   "metadata": {},
   "outputs": [],
   "source": [
    "#x1 = np.log10(Chl_total_interp_AO_min)\n",
    "#y2 = np.log10(TEP_0_interp_AO_min_mugXeqL)\n",
    "\n",
    "x1, y1 = np.log10(set_Chl_min(0.01))\n",
    "\n",
    "x2, y2 = np.log10(set_Chl_min(0.05))"
   ]
  },
  {
   "cell_type": "code",
   "execution_count": null,
   "metadata": {},
   "outputs": [],
   "source": [
    "# linear regression\n",
    "def get_res(x,y):\n",
    "    res = stats.linregress(x,y)\n",
    "    log = 'Regression: \\nslope = %.2f intercept = %.2f, std error = %.3f\\nR-squared = %.5f' % (\n",
    "        res.slope, res.intercept, res.stderr, res.rvalue**2)\n",
    "    print(log)\n",
    "    return res, log"
   ]
  },
  {
   "cell_type": "code",
   "execution_count": null,
   "metadata": {},
   "outputs": [],
   "source": [
    "plt.figure(figsize=(10,5))\n",
    "\n",
    "plt.subplot(1,2,1)\n",
    "plt.plot(x1,y1,'.')\n",
    "plt.ylim(0,6)\n",
    "plt.xlim(-2.5,2.5)\n",
    "plt.xlabel('log10 Chl.a [mg m$^{-3}$]\\nmin(Chl.a) = 0.01 mg m$^{-3}$')\n",
    "plt.ylabel('log10 TEP [$\\mu$g Xeq. L$^{-1}$]')\n",
    "res, log = get_res(x1,y1)\n",
    "plt.plot(x1, res.intercept + res.slope*x1, 'r', label='fitted line')\n",
    "plt.text(-2,0.5,log)\n",
    "\n",
    "plt.subplot(1,2,2)\n",
    "plt.plot(x2,y2,'.')\n",
    "plt.ylim(0,6)\n",
    "plt.xlim(-2.5,2.5)\n",
    "plt.xlabel('log10 Chl.a [mg m$^{-3}$]\\nmin(Chl.a) = 0.1 mg m$^{-3}$')\n",
    "#plt.ylabel('log10 TEP [$\\mu$g Xeq. L$^{-1}$]')\n",
    "res, log = get_res(x2,y2)\n",
    "plt.plot(x2, res.intercept + res.slope*x2, 'r', label='fitted line')\n",
    "plt.text(-2,0.5,log)\n",
    "\n",
    "plt.tight_layout()\n",
    "if savefig:\n",
    "    plt.savefig(savepath+'Chl_TEP_regression.png', dpi=300)\n"
   ]
  },
  {
   "cell_type": "markdown",
   "metadata": {},
   "source": [
    "# Seasonal cycle"
   ]
  },
  {
   "cell_type": "code",
   "execution_count": null,
   "metadata": {},
   "outputs": [],
   "source": [
    "TEP00_sc_raw = pf.get_data(resultpath, \"TEP\", years, mesh, depth = 0, how=\"ori\", compute=False)\n",
    "print(np.shape(TEP00_sc_raw))\n",
    "\n",
    "months = np.arange(0,13,1)\n",
    "depth_list = (0,5,10)"
   ]
  },
  {
   "cell_type": "code",
   "execution_count": null,
   "metadata": {},
   "outputs": [],
   "source": [
    "# calculating mean TEP per month -------------------------------------------------------------------------------\n",
    "TEP_glob_total_m = np.zeros((len(months),len(depth_list)))\n",
    "#TEP05glob_total_m  = np.zeros((len(months),len(depth_list)))\n",
    "#TEP10glob_total_m = np.zeros((len(months),len(depth_list)))\n",
    "\n",
    "TEP_ao_total_m = np.zeros((len(months),len(depth_list)))\n",
    "#TEP05ao_total_m = np.zeros((len(months),len(depth_list)))\n",
    "#TEP10ao_total_m = np.zeros((len(months),len(depth_list)))\n",
    "\n",
    "TEP_so_total_m = np.zeros((len(months),len(depth_list)))\n",
    "#TEP05so_total_m = np.zeros((len(months),len(depth_list)))\n",
    "#TEP10so_total_m = np.zeros((len(months),len(depth_list)))"
   ]
  },
  {
   "cell_type": "code",
   "execution_count": null,
   "metadata": {},
   "outputs": [],
   "source": [
    "for i in range(len(years2)):\n",
    "    ind_year = int(years2[i])\n",
    "    print('loading {0}'.format(ind_year))\n",
    "    # TEP:units = \"mmolC/m3\"\n",
    "    \n",
    "    # 0m ############################\n",
    "    TEP_raw = pf.get_data(resultpath, \"TEP\", ind_year, mesh, how=\"ori\", \n",
    "                        depth= 0,compute=False,  silent=True)\n",
    "    \n",
    "    TEP_glob_total_m[i] = np.nanmean(TEP_raw)\n",
    "\n",
    "    ##TEP00ao_total[i] = np.nanmean(TEP00glob[mask_AO])\n",
    "    \n",
    "    #TEP00so_total[i] = np.nanmean(TEP00glob[mask_SO])\n",
    "    \n",
    "    # 5 m ############################\n",
    "    \n",
    "\n",
    "    # 10 m ############################\n",
    "    "
   ]
  },
  {
   "cell_type": "markdown",
   "metadata": {},
   "source": [
    "# Atlantic Transect"
   ]
  },
  {
   "cell_type": "code",
   "execution_count": null,
   "metadata": {},
   "outputs": [],
   "source": [
    "lon_start = -60\n",
    "lat_start = -80\n",
    "lon_end = 10\n",
    "lat_end = 83\n",
    "npoints   = 50\n",
    "lonlat = pf.transect_get_lonlat(lon_start, lat_start, lon_end, lat_end, npoints)\n",
    "\n",
    "if True:\n",
    "    pf.plot_transect_map(lonlat, mesh)\n",
    "\n",
    "print('Plotting transect at lat {0} to {1}, lon {2} to {3}'.format(lat_start,lat_end,lon_start,lon_end))\n",
    "#pf.plot_transect_map(lonlat, mesh)\n",
    "\n"
   ]
  },
  {
   "cell_type": "code",
   "execution_count": null,
   "metadata": {},
   "outputs": [],
   "source": [
    "# get data\n",
    "TEPall = pf.get_data(resultpath, \"TEP\", years_last10, mesh=mesh, runid=runid, how=\"mean\")#, depth=depth)\n",
    "\n",
    "#print(np.shape(TEPall))\n",
    "\n",
    "print('TEP loaded for years {0}-{1}\\nmin = {3}, max = {4}, mean = {5} [mmol/m3]'.format(\n",
    "    last_year-10,last_year,depth, np.nanmin(TEPall), np.nanmax(TEPall), np.nanmean(TEPall)))\n",
    "\n",
    "print('Plotting transect at lat {0} to {1}, lon {2} to {3}'.format(lat_start,lat_end,lon_start,lon_end))\n",
    "#pf.plot_transect_map(lonlat, mesh)\n",
    "\n",
    "# extract transect data\n",
    "dist, tfTEP = pf.get_transect(TEPall,mesh,lonlat)\n",
    "\n",
    "pf.plot_xyz(mesh, \n",
    "            tfTEP,\n",
    "            dist,\n",
    "            maxdepth=600,\n",
    "            ncols=1,\n",
    "            xlabel='Distance',\n",
    "            label='TEP-C [mmol/m3]',\n",
    "            #levels=np.linspace(-2,2, 41),\n",
    "            cmap='viridis')"
   ]
  },
  {
   "cell_type": "markdown",
   "metadata": {},
   "source": [
    "# PCHO"
   ]
  },
  {
   "cell_type": "code",
   "execution_count": null,
   "metadata": {},
   "outputs": [],
   "source": [
    "units = 'org C [mmol m$^{-3}$]'\n",
    "label='Polysaccharides {0}-{1} at {2} m'.format(last_year-10,last_year,depth)\n",
    "\n",
    "PCHO = pf.get_data(resultpath, \"PCHO\", years=years_last10, \n",
    "                   mesh = mesh, runid=runid, how=\"mean\", compute=True, depth=depth)\n",
    "\n",
    "fig = pf.plot(mesh, PCHO, mapproj = mapproj, units=units, titles=label)"
   ]
  },
  {
   "cell_type": "code",
   "execution_count": null,
   "metadata": {},
   "outputs": [],
   "source": [
    "# Atlantic transect \n",
    "\n",
    "# load data\n",
    "PCHOall = pf.get_data(resultpath, \"PCHO\", years=years_last10, mesh=mesh, runid=runid, how=\"mean\")#, depth=depth)\n",
    "\n",
    "#print(np.shape(PCHO))\n",
    "\n",
    "print('PCHO loaded for years {0}-{1}\\nmin = {3}, max = {4}, mean = {5} [mmol/m3]'.format(\n",
    "    years_last10[0],years_last10[-1],depth, np.nanmin(PCHOall), np.nanmax(PCHOall), np.nanmean(PCHOall)))\n",
    "\n",
    "# extract transect data\n",
    "dist, tfPCHO = pf.get_transect(PCHOall,mesh,lonlat)\n",
    "\n",
    "pf.plot_xyz(mesh, \n",
    "            tfPCHO,\n",
    "            dist,\n",
    "            maxdepth=600,\n",
    "            ncols=1,\n",
    "            xlabel='Distance',\n",
    "            label='PCHO [mmol/m3]',\n",
    "            #levels=np.linspace(-2,2, 41),\n",
    "            cmap='viridis',\n",
    "            figsize=(15, 6))"
   ]
  },
  {
   "cell_type": "markdown",
   "metadata": {},
   "source": [
    "# Intracellular Carbon"
   ]
  },
  {
   "cell_type": "code",
   "execution_count": null,
   "metadata": {},
   "outputs": [],
   "source": [
    "# Diatom carbon\n",
    "depth = 0\n",
    "NCfesom = resultpath + '/DiaC.fesom.1948.nc'\n",
    "#!ncdump -h $NCfesom\n",
    "\n",
    "label='Diatom intracell. Carbon {0}-{1} at {2} m'.format(last_year-10,last_year,depth)\n",
    "units = 'intracellular C [mmol C m$^{-3}$]'\n",
    "\n",
    "DiaC = pf.get_data(resultpath, \"DiaC\", years=years_last10,\n",
    "                   mesh=mesh, runid=runid, how=\"mean\", depth=depth)\n",
    "fig = pf.plot(mesh, DiaC, mapproj = mapproj, units=units, titles=label)"
   ]
  },
  {
   "cell_type": "code",
   "execution_count": null,
   "metadata": {},
   "outputs": [],
   "source": [
    "# Phytplankton carbon\n",
    "\n",
    "NCfesom = resultpath + '/PhyC.fesom.1948.nc'\n",
    "#!ncdump -h $NCfesom\n",
    "\n",
    "label='Phytoplankton intracell. Carbon {0}-{1} at {2} m'.format(last_year-10,last_year,depth)\n",
    "units = 'intracellular C [mmol C m$^{-3}$]'\n",
    "\n",
    "PhyC = pf.get_data(resultpath, \"PhyC\", years=years_last10,\n",
    "                   mesh=mesh, runid=runid, how=\"mean\", depth = depth)\n",
    "\n",
    "fig = pf.plot(mesh, PhyC, mapproj = mapproj, units=units, titles=label)"
   ]
  },
  {
   "cell_type": "markdown",
   "metadata": {},
   "source": [
    "# Detritus Carbon"
   ]
  },
  {
   "cell_type": "code",
   "execution_count": null,
   "metadata": {},
   "outputs": [],
   "source": [
    "NCfesom = resultpath + '/DetC.fesom.1948.nc'\n",
    "#!ncdump -h $NCfesom\n",
    "\n",
    "label='DetC {0}-{1} at {2} m'.format(last_year-10,last_year,depth)\n",
    "units = 'Detritus C [mmol m$^{-3}$]'\n",
    "\n",
    "DetC = pf.get_data(resultpath, \"DetC\", years_last10, mesh, runid=runid, how=\"mean\", compute=True, depth=depth)\n",
    "fig = pf.plot(mesh, DetC, mapproj = mapproj, units=units, titles=label)"
   ]
  },
  {
   "cell_type": "markdown",
   "metadata": {},
   "source": [
    "# extracellular carbon"
   ]
  },
  {
   "cell_type": "code",
   "execution_count": null,
   "metadata": {},
   "outputs": [],
   "source": [
    "NCfesom = resultpath + '/EOC.fesom.1948.nc'\n",
    "!ncdump -h $NCfesom\n",
    "\n",
    "#label='TEP {0}-{1} at {2} m'.format(years_last10[0],years_last10[-1],depth)\n",
    "#units = 'TEP-C [mmol m$^{-3}$]'\n",
    "#TEP = pf.get_data(resultpath, \"EOC\", years_last10, mesh, runid=runid, how=\"mean\", compute=True, depth=depth)\n",
    "#fig = pf.plot(mesh, TEP, mapproj = mapproj, units=units, titles=label)"
   ]
  },
  {
   "cell_type": "markdown",
   "metadata": {},
   "source": [
    "# NPP"
   ]
  },
  {
   "cell_type": "code",
   "execution_count": null,
   "metadata": {},
   "outputs": [],
   "source": [
    "# map of total Diatom NPP \n",
    "\n",
    "NCfesom = resultpath + '/NPPd.fesom.1948.nc'\n",
    "#!ncdump -h $NCfesom\n",
    "\n",
    "# 12.01* data --> mmolC/m2/d to mg C/m2/d\n",
    "\n",
    "label='Diatom NPP {0}-{1}'.format(last_year-10,last_year)\n",
    "units = 'Mean NPP [mg C m$^{-2}$ d$^{-1}$]'\n",
    "\n",
    "NPPd = pf.get_data(resultpath, \"NPPd\", \n",
    "                   years_last10,\n",
    "                   mesh, runid=runid, how=\"mean\", compute=True, silent=True)\n",
    "\n",
    "#print(np.shape(NPPd))\n",
    "# NPP is already vertically integrated!\n",
    "\n",
    "NPPd = NPPd * 12.01\n",
    "fig = pf.plot(mesh, NPPd, mapproj = mapproj, units=units, titles=label, \n",
    "              levels = (0,1100,56),\n",
    "              cmap='viridis')"
   ]
  },
  {
   "cell_type": "code",
   "execution_count": null,
   "metadata": {},
   "outputs": [],
   "source": [
    "# map of nanophytoplankton NPP\n",
    "\n",
    "NCfesom = resultpath + '/NPPn.fesom.1948.nc'\n",
    "#!ncdump -h $NCfesom\n",
    "\n",
    "# 12.01* data --> mg C/m2/d\n",
    "\n",
    "label='Nanophytoplankton NPP {0}-{1}'.format(last_year-10,last_year)\n",
    "units = 'Mean NPP [mg C m$^{-2}$ d$^{-1}$]'\n",
    "\n",
    "NPPn = pf.get_data(resultpath, \"NPPn\", \n",
    "                   years_last10,\n",
    "                   mesh, runid=runid, how=\"mean\", compute=True,silent=True)\n",
    "\n",
    "#print(np.shape(NPPn))\n",
    "# NPP is already vertically integrated!\n",
    "\n",
    "NPPn = NPPn *12.01\n",
    "\n",
    "fig = pf.plot(mesh, NPPn, mapproj = mapproj, units=units, titles=label, \n",
    "              levels = (0,1100,56),\n",
    "              cmap='viridis')"
   ]
  },
  {
   "cell_type": "code",
   "execution_count": null,
   "metadata": {},
   "outputs": [],
   "source": [
    "# total NPP\n",
    "label='Total Net Primary Production {0}-{1}'.format(last_year-10,last_year)\n",
    "units = 'Mean total NPP [mg C m$^{-2}$ d$^{-1}$]'\n",
    "\n",
    "NPPtot = NPPd + NPPn\n",
    "fig = pf.plot(mesh, NPPtot, mapproj = mapproj, units=units, titles=label, \n",
    "              levels = (0,1100,56),\n",
    "              cmap='viridis')"
   ]
  },
  {
   "cell_type": "markdown",
   "metadata": {},
   "source": [
    "# DIC"
   ]
  },
  {
   "cell_type": "code",
   "execution_count": null,
   "metadata": {},
   "outputs": [],
   "source": [
    "# DIC\n",
    "depth = 0\n",
    "NCfesom = resultpath + '/DIC.fesom.1948.nc'\n",
    "#!ncdump -h $NCfesom\n",
    "\n",
    "label='Dissolved inorganic Carbon {0}-{1} at {2} m'.format(last_year-10,last_year,depth)\n",
    "units = 'DIC [mmol  m$^{-3}$]'\n",
    "DIC = pf.get_data(resultpath, \"DIC\", years_last10,mesh, how=\"mean\", compute=True, depth=depth)\n",
    "fig = pf.plot(mesh, DIC, mapproj = mapproj, units=units, titles=label)\n"
   ]
  },
  {
   "cell_type": "markdown",
   "metadata": {},
   "source": [
    "# export to html"
   ]
  },
  {
   "cell_type": "code",
   "execution_count": null,
   "metadata": {},
   "outputs": [],
   "source": [
    "#!jupyter nbconvert TEP_detailed_analysis.ipynb --output-dir=$htmlpath --output $htmlname --to html --TemplateExporter.exclude_input=True"
   ]
  },
  {
   "cell_type": "code",
   "execution_count": null,
   "metadata": {},
   "outputs": [],
   "source": []
  }
 ],
 "metadata": {
  "kernelspec": {
   "display_name": "Python 3",
   "language": "python",
   "name": "python3"
  },
  "language_info": {
   "codemirror_mode": {
    "name": "ipython",
    "version": 3
   },
   "file_extension": ".py",
   "mimetype": "text/x-python",
   "name": "python",
   "nbconvert_exporter": "python",
   "pygments_lexer": "ipython3",
   "version": "3.8.6"
  }
 },
 "nbformat": 4,
 "nbformat_minor": 4
}
