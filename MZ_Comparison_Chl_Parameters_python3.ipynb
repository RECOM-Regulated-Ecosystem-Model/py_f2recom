{
 "cells": [
  {
   "cell_type": "code",
   "execution_count": null,
   "metadata": {},
   "outputs": [],
   "source": [
    "### MZ_Comparison_Chl_Parameters_python3"
   ]
  },
  {
   "cell_type": "markdown",
   "metadata": {},
   "source": [
    "# Control mo12\n",
    "# mo17 - mo20"
   ]
  },
  {
   "cell_type": "markdown",
   "metadata": {},
   "source": [
    "### Chlorophyll degradation for nanophyto deg$_{Chl}$ \n",
    "mo12 = 0.25 \n",
    "\n",
    "mo17 = 0.3\n",
    "\n",
    "mo18 = 0.25 \n",
    "\n",
    "mo19 = 0.3\n",
    "\n",
    "mo20 = 0.2\n",
    "\n",
    "### Chlorophyll degradation for diatoms deg$_{Chl,d}$ \n",
    "mo12 = 0.15\n",
    "\n",
    "mo17 = 0.3\n",
    "\n",
    "mo18 = 0.15\n",
    "\n",
    "mo19 = 0.3\n",
    "\n",
    "mo20 = 0.2\n",
    "\n",
    "### C-specific photosynthesis rate diatoms P$_{cm,d}$ \n",
    "mo12 = 3.5\n",
    "\n",
    "mo17 = 3.5\n",
    "\n",
    "mo18 = 3.0\n",
    "\n",
    "mo19 = 3.0\n",
    "\n",
    "mo20 = 3.2"
   ]
  },
  {
   "cell_type": "code",
   "execution_count": null,
   "metadata": {},
   "outputs": [],
   "source": [
    "%matplotlib inline\n",
    "%autosave 5"
   ]
  },
  {
   "cell_type": "code",
   "execution_count": null,
   "metadata": {},
   "outputs": [],
   "source": [
    "# necessary modules -------------------------------------------------------------------------------------\n",
    "import pyfesom2 as pf\n",
    "import numpy as np\n",
    "import matplotlib.pyplot as plt\n",
    "import matplotlib.cm as cm\n",
    "import matplotlib.colors as colors\n",
    "\n",
    "import time\n",
    "from datetime import date\n",
    "\n",
    "#import sys\n",
    "#sys.path.append('home/ollie/mozeisin/SkillMetrics')\n",
    "\n",
    "import cartopy.crs as ccrs\n",
    "import cartopy.feature as cfeature\n",
    "\n",
    "#import pangaeapy.pandataset as pd\n",
    "\n",
    "# own py_recom modules ----------------------------------------------------------------------\n",
    "# convert again if you changed something!\n",
    "if False:\n",
    "    #!jupyter nbconvert --to=python *.ipynb\n",
    "    !jupyter nbconvert --to=python load_interp_WOA_python3.ipynb\n",
    "    !jupyter nbconvert --to=python plot_Taylor_normalized.ipynb\n",
    "\n",
    "    !jupyter nbconvert --to=python plot_Chlorophyll_FESOM_python3.ipynb\n",
    "from plot_Chlorophyll_FESOM_python3 import plot_Chl\n"
   ]
  },
  {
   "cell_type": "code",
   "execution_count": null,
   "metadata": {},
   "outputs": [],
   "source": [
    "# After changing these parameters here, save the notebook and clear the output. \n",
    "# Then run this cell and the cells with the desired parameters.\n",
    "\n",
    "# run specification -------------------------------------------------------------------------------------   \n",
    "if True:\n",
    "    runid      =  'fesom'\n",
    "    layerwise    = False\n",
    "    meshpath = '/work/ollie/mozeisin/mesh/mesh_fesom2.0/core2_meanz'\n",
    "    \n",
    "    resultpath12 = '/work/ollie/mozeisin/results/f2r1.2/mo12'\n",
    "    #resultpath16 = '/work/ollie/mozeisin/results/f2r1.2/mo16'\n",
    "    resultpath17 = '/work/ollie/mozeisin/results/f2r1.2/mo17'\n",
    "    resultpath18 = '/work/ollie/mozeisin/results/f2r1.2/mo18'\n",
    "    resultpath19 = '/work/ollie/mozeisin/results/f2r1.2/mo19'\n",
    "    resultpath20 = '/work/ollie/mozeisin/results/f2r1.2/mo20'\n",
    "\n",
    "    # period of analysis \n",
    "    first_year = 1960\n",
    "    last_year  = 1970\n",
    "    \n",
    "    \n",
    "years = np.arange(first_year, last_year+1,1)\n",
    "\n",
    "# specification of analysis ------------------------------------------------------------------------------------\n",
    "depth = 0\n",
    "\n",
    "# export of analysis ------------------------------------------------------------------------------------\n",
    "today = date.today().strftime(\"_%Y_%m_%d\")\n",
    "\n",
    "savepath = '/home/ollie/mozeisin/evaluation/mo_files/test/'\n",
    "savefig = False\n",
    "htmlname     =  'comparison' + today +'.html'\n",
    "htmlpath = '/home/ollie/mozeisin/evaluation/mo_files/html/'\n"
   ]
  },
  {
   "cell_type": "code",
   "execution_count": null,
   "metadata": {},
   "outputs": [],
   "source": [
    "# just to check\n",
    "print('Processing years {4} to {5}\\n\\nReading out of {0}\\nStoring graphs to {1}\\nStoring html to {2} as {3}'.format(\n",
    "    resultpath12, savepath, htmlpath, htmlname,years[0],years[1]))"
   ]
  },
  {
   "cell_type": "code",
   "execution_count": null,
   "metadata": {},
   "outputs": [],
   "source": [
    "def mygrid(m,grid=False):\n",
    "    '''\n",
    "    Draw cartopy natural earth feature to axis m\n",
    "    '''\n",
    "    #m.coastlines(resolution='110m', color='black', linewidth=1)\n",
    "    land_poly = cfeature.NaturalEarthFeature('physical', 'land', '110m',edgecolor='k',facecolor=cfeature.COLORS['land'])\n",
    "    m.add_feature(land_poly)\n",
    "\n",
    "    if grid:\n",
    "        g1 = m.gridlines(draw_labels = True)\n",
    "        g1.xlabels_top = False\n",
    "        g1.xlabel_style = {'size': 16, 'color': 'gray'}\n",
    "        g1.ylabel_style = {'size': 16, 'color': 'gray'}"
   ]
  },
  {
   "cell_type": "code",
   "execution_count": null,
   "metadata": {},
   "outputs": [],
   "source": [
    "# years as array for x axis\n",
    "xyears = range(first_year, last_year+1)"
   ]
  },
  {
   "cell_type": "code",
   "execution_count": null,
   "metadata": {},
   "outputs": [],
   "source": [
    "# mesh initialization \n",
    "mesh = pf.load_mesh(meshpath)"
   ]
  },
  {
   "cell_type": "markdown",
   "metadata": {},
   "source": [
    "# Total NPP"
   ]
  },
  {
   "cell_type": "code",
   "execution_count": null,
   "metadata": {
    "scrolled": true
   },
   "outputs": [],
   "source": [
    "# time-series of NPP and export production\n",
    "!jupyter nbconvert --to=python NPP_TotalGlobal_python3.ipynb\n",
    "from NPP_TotalGlobal_python3 import NPP_TotalGlobal\n",
    "\n",
    "NPP_mo12 = NPP_TotalGlobal(runid,resultpath12,savepath,meshpath,first_year,last_year,do_plot=False)\n",
    "NPP_mo17 = NPP_TotalGlobal(runid,resultpath17,savepath,meshpath,first_year,last_year,do_plot=False)\n",
    "NPP_mo18 = NPP_TotalGlobal(runid,resultpath18,savepath,meshpath,first_year,last_year,do_plot=False)\n",
    "NPP_mo19 = NPP_TotalGlobal(runid,resultpath19,savepath,meshpath,first_year,last_year,do_plot=False)\n",
    "NPP_mo20 = NPP_TotalGlobal(runid,resultpath20,savepath,meshpath,first_year,last_year,do_plot=False)\n",
    "\n",
    "### NPP [Pg C/year]\n",
    "\n",
    "### export production --> detritus sinking out of 100 m depth       \n"
   ]
  },
  {
   "cell_type": "code",
   "execution_count": null,
   "metadata": {},
   "outputs": [],
   "source": [
    "# plotting total NPP         \n",
    "fig = plt.figure(figsize=(12,8), facecolor='w', edgecolor='k', tight_layout = True)\n",
    "\n",
    "plt.subplot(2, 3, 1)\n",
    "plt.plot(xyears,NPP_mo12.NPPtotal/365,'.-',label='mo12')\n",
    "plt.plot(xyears,NPP_mo17.NPPtotal,'.-',label='mo17')\n",
    "plt.plot(xyears,NPP_mo18.NPPtotal,'.-',label='mo18')\n",
    "plt.plot(xyears,NPP_mo19.NPPtotal,'.-',label='mo19')\n",
    "plt.plot(xyears,NPP_mo20.NPPtotal,'.-',label='mo20')\n",
    "plt.title('Global total NPP')\n",
    "plt.ylabel(r'[Pg C yr$^{-1}$]')\n",
    "plt.legend(loc='upper right')\n",
    "\n",
    "plt.subplot(2, 3, 2)\n",
    "plt.plot(xyears,NPP_mo12.PhyTotal,'.-',label='mo12')\n",
    "plt.plot(xyears,NPP_mo17.PhyTotal,'.-',label='mo17')\n",
    "plt.plot(xyears,NPP_mo18.PhyTotal,'.-',label='mo18')\n",
    "plt.plot(xyears,NPP_mo19.PhyTotal,'.-',label='mo19')\n",
    "plt.plot(xyears,NPP_mo20.PhyTotal,'.-',label='mo20')\n",
    "plt.title('Global NPP: nanophytoplankton')\n",
    "#plt.ylabel(r'[Pg C yr$^{-1}$]')\n",
    "plt.legend(loc='upper right')\n",
    "\n",
    "plt.subplot(2, 3, 3)\n",
    "plt.plot(xyears,NPP_mo12.DiaTotal,'.-',label='mo12')\n",
    "plt.plot(xyears,NPP_mo17.DiaTotal,'.-',label='mo17')\n",
    "plt.plot(xyears,NPP_mo18.DiaTotal,'.-',label='mo18')\n",
    "plt.plot(xyears,NPP_mo19.DiaTotal,'.-',label='mo19')\n",
    "plt.plot(xyears,NPP_mo20.DiaTotal,'.-',label='mo20')\n",
    "plt.title('Global NPP: diatoms')\n",
    "#plt.ylabel(r'[Pg C yr$^{-1}$]')\n",
    "plt.legend(loc='upper right')\n",
    "\n",
    "# Export production\n",
    "plt.subplot(2, 3, 4)\n",
    "plt.plot(xyears,NPP_mo12.EPtotal,'.-', label='mo12')\n",
    "plt.plot(xyears,NPP_mo17.EPtotal,'.-', label='mo17')\n",
    "plt.plot(xyears,NPP_mo18.EPtotal,'.-', label='mo18')\n",
    "plt.plot(xyears,NPP_mo19.EPtotal,'.-', label='mo19')\n",
    "plt.plot(xyears,NPP_mo20.EPtotal,'.-',label='mo20')\n",
    "plt.title('Global EP')\n",
    "plt.ylabel(r'[Pg C yr$^{-1}$]')\n",
    "plt.legend(loc='upper right')\n",
    "\n",
    "# Si export\n",
    "plt.subplot(2, 3, 5)\n",
    "plt.plot(xyears,NPP_mo12.SiEtotal,'.-',label='mo12')\n",
    "plt.plot(xyears,NPP_mo17.SiEtotal,'.-',label='mo17')\n",
    "plt.plot(xyears,NPP_mo18.SiEtotal,'.-',label='mo18')\n",
    "plt.plot(xyears,NPP_mo19.SiEtotal,'.-',label='mo19')\n",
    "plt.plot(xyears,NPP_mo20.SiEtotal,'.-',label='mo20')\n",
    "plt.title('Global Si export')\n",
    "plt.ylabel(r'[Tmol Si yr$^{-1}$]')\n",
    "plt.legend(loc='upper right')"
   ]
  },
  {
   "cell_type": "markdown",
   "metadata": {},
   "source": [
    "# Southern Ocean time-series"
   ]
  },
  {
   "cell_type": "code",
   "execution_count": null,
   "metadata": {
    "scrolled": true
   },
   "outputs": [],
   "source": [
    "# Timeseries Total SouthernOcean\n",
    "\n",
    "!jupyter nbconvert --to=python NPP_TotalSouthernOcean_python3.ipynb\n",
    "from NPP_TotalSouthernOcean_python3 import NPP_TotalSO\n",
    "\n",
    "NPP_SO_mo12 = NPP_TotalSO(runid,resultpath12,savepath,meshpath,first_year,last_year,do_plot=False)\n",
    "NPP_SO_mo17 = NPP_TotalSO(runid,resultpath17,savepath,meshpath,first_year,last_year,do_plot=False)\n",
    "NPP_SO_mo18 = NPP_TotalSO(runid,resultpath18,savepath,meshpath,first_year,last_year,do_plot=False)\n",
    "NPP_SO_mo19 = NPP_TotalSO(runid,resultpath19,savepath,meshpath,first_year,last_year,do_plot=False)\n",
    "NPP_SO_mo20 = NPP_TotalSO(runid,resultpath20,savepath,meshpath,first_year,last_year,do_plot=False)"
   ]
  },
  {
   "cell_type": "markdown",
   "metadata": {},
   "source": [
    "### plotting"
   ]
  },
  {
   "cell_type": "code",
   "execution_count": null,
   "metadata": {},
   "outputs": [],
   "source": [
    "# plotting total NPP SO        \n",
    "fig = plt.figure(figsize=(12,8), facecolor='w', edgecolor='k', tight_layout = True)\n",
    "\n",
    "plt.subplot(2, 3, 1)\n",
    "plt.plot(xyears,NPP_SO_mo12.NPPtotal,'.-',label='mo12')\n",
    "plt.plot(xyears,NPP_SO_mo17.NPPtotal,'.-',label='mo17')\n",
    "plt.plot(xyears,NPP_SO_mo18.NPPtotal,'.-',label='mo18')\n",
    "plt.plot(xyears,NPP_SO_mo19.NPPtotal,'.-',label='mo19')\n",
    "plt.plot(xyears,NPP_SO_mo20.NPPtotal,'.-',label='mo20')\n",
    "plt.title('Southern Ocean total NPP')\n",
    "plt.ylabel(r'[Pg C yr$^{-1}$]')\n",
    "plt.legend(loc='upper right')\n",
    "\n",
    "plt.subplot(2, 3, 2)\n",
    "plt.plot(xyears,NPP_SO_mo12.PhyTotal,'.-',label='mo12')\n",
    "plt.plot(xyears,NPP_SO_mo17.PhyTotal,'.-',label='mo17')\n",
    "plt.plot(xyears,NPP_SO_mo18.PhyTotal,'.-',label='mo18')\n",
    "plt.plot(xyears,NPP_SO_mo19.PhyTotal,'.-',label='mo19')\n",
    "plt.plot(xyears,NPP_SO_mo20.PhyTotal,'.-',label='mo20')\n",
    "plt.title('SO NPP: nanophytoplankton')\n",
    "#plt.ylabel(r'[Pg C yr$^{-1}$]')\n",
    "plt.legend(loc='upper right')\n",
    "\n",
    "plt.subplot(2, 3, 3)\n",
    "plt.plot(xyears,NPP_SO_mo12.DiaTotal,'.-',label='mo12')\n",
    "plt.plot(xyears,NPP_SO_mo17.DiaTotal,'.-',label='mo17')\n",
    "plt.plot(xyears,NPP_SO_mo18.DiaTotal,'.-',label='mo18')\n",
    "plt.plot(xyears,NPP_SO_mo19.DiaTotal,'.-',label='mo19')\n",
    "plt.plot(xyears,NPP_SO_mo20.DiaTotal,'.-',label='mo20')\n",
    "plt.title('SO NPP: diatoms')\n",
    "#plt.ylabel(r'[Pg C yr$^{-1}$]')\n",
    "plt.legend(loc='upper right')\n",
    "\n",
    "# Export production\n",
    "plt.subplot(2, 3, 4)\n",
    "plt.plot(xyears,NPP_SO_mo12.EPtotal,'.-', label='mo12')\n",
    "plt.plot(xyears,NPP_SO_mo17.EPtotal,'.-', label='mo17')\n",
    "plt.plot(xyears,NPP_SO_mo18.EPtotal,'.-', label='mo18')\n",
    "plt.plot(xyears,NPP_SO_mo19.EPtotal,'.-', label='mo19')\n",
    "plt.plot(xyears,NPP_SO_mo20.EPtotal,'.-', label='mo20')\n",
    "plt.title('Southern Ocean EP')\n",
    "plt.ylabel(r'[Pg C yr$^{-1}$]')\n",
    "plt.legend(loc='upper right')\n",
    "\n",
    "# Si export\n",
    "plt.subplot(2, 3, 5)\n",
    "plt.plot(xyears,NPP_SO_mo12.SiEtotal,'.-',label='mo12')\n",
    "plt.plot(xyears,NPP_SO_mo17.SiEtotal,'.-',label='mo17')\n",
    "plt.plot(xyears,NPP_SO_mo18.SiEtotal,'.-',label='mo18')\n",
    "plt.plot(xyears,NPP_SO_mo19.SiEtotal,'.-',label='mo19')\n",
    "plt.plot(xyears,NPP_SO_mo20.SiEtotal,'.-',label='mo20')\n",
    "plt.title('Southern Ocean Si export')\n",
    "plt.ylabel(r'[Tmol Si yr$^{-1}$]')\n",
    "plt.legend(loc='upper right')"
   ]
  },
  {
   "cell_type": "markdown",
   "metadata": {},
   "source": [
    "# diatom chlorophyll"
   ]
  },
  {
   "cell_type": "code",
   "execution_count": null,
   "metadata": {},
   "outputs": [],
   "source": [
    "# load data\n",
    "DiaChl12 = pf.get_data(resultpath12, \"DiaChl\",years,mesh,'fesom', how=\"mean\", compute=True, depth=depth)\n",
    "DiaChl17 = pf.get_data(resultpath17, \"DiaChl\",years,mesh,'fesom', how=\"mean\", compute=True, depth=depth)\n",
    "DiaChl18 = pf.get_data(resultpath18, \"DiaChl\",years,mesh,'fesom', how=\"mean\", compute=True, depth=depth)\n",
    "DiaChl19 = pf.get_data(resultpath19, \"DiaChl\",years,mesh,'fesom', how=\"mean\", compute=True, depth=depth)\n",
    "DiaChl20 = pf.get_data(resultpath20, \"DiaChl\",years,mesh,'fesom', how=\"mean\", compute=True, depth=depth)\n",
    "\n",
    "label='Diatom Chlorophyll {0}-{1} at {2} m'.format(first_year,last_year,depth)\n",
    "units = 'Chl.a [mg m$^{-3}$]'\n"
   ]
  },
  {
   "cell_type": "code",
   "execution_count": null,
   "metadata": {},
   "outputs": [],
   "source": [
    "# interpolation\n",
    "lat         = np.arange(-89.5,90.,1.)\n",
    "lon         = np.arange(-179.5,180.,1.)\n",
    "latdic, londic = np.meshgrid(lat, lon)\n",
    "\n",
    "DiaChl12_interp = pf.fesom2regular(data = DiaChl12,mesh = mesh,lons = londic,lats = latdic)\n",
    "DiaChl17_interp = pf.fesom2regular(data = DiaChl17,mesh = mesh,lons = londic,lats = latdic)\n",
    "DiaChl18_interp = pf.fesom2regular(data = DiaChl18,mesh = mesh,lons = londic,lats = latdic)\n",
    "DiaChl19_interp = pf.fesom2regular(data = DiaChl19,mesh = mesh,lons = londic,lats = latdic)\n",
    "DiaChl20_interp = pf.fesom2regular(data = DiaChl20,mesh = mesh,lons = londic,lats = latdic)"
   ]
  },
  {
   "cell_type": "code",
   "execution_count": null,
   "metadata": {},
   "outputs": [],
   "source": [
    "# plotting\n",
    "levels = np.array([0,0.01,0.02,0.03,0.04,0.05,0.06,0.07,0.08,0.09,\n",
    "                           0.1,0.2,0.3,0.4,0.5,0.6,0.7,0.8,0.9,\n",
    "                           1,2,3,4,5,7])\n",
    "ticks = [0,0.01,0.03,0.05,0.07,0.1,0.3,0.5,0.7,1,3,5,7]\n",
    "ticks_label = ['0','0.01','0.03','0.05','0.07','0.1','0.3','0.5','0.7','1','3','5','7']    \n",
    "\n",
    "\n",
    "fig, axes = plt.subplots(3,2, \n",
    "         subplot_kw=dict(projection=ccrs.PlateCarree()),\n",
    "         gridspec_kw={'hspace': 0.001, 'wspace': 0.1},\n",
    "         figsize=(15,15))\n",
    "\n",
    "#mo12\n",
    "m = axes[0,0]\n",
    "f2 = m.pcolormesh(londic, latdic, DiaChl12_interp, \n",
    "                   transform = ccrs.PlateCarree(),\n",
    "                   norm=colors.BoundaryNorm(boundaries=levels, ncolors=256))\n",
    "m.set_title('mo12', fontsize=12)\n",
    "mygrid(m)\n",
    "\n",
    "#mo17\n",
    "m = axes[0,1]\n",
    "f2 = m.pcolormesh(londic, latdic, DiaChl17_interp, \n",
    "                   transform = ccrs.PlateCarree(),\n",
    "                   norm=colors.BoundaryNorm(boundaries=levels, ncolors=256))\n",
    "m.set_title('mo17', fontsize=12)\n",
    "mygrid(m)\n",
    "\n",
    "#mo18\n",
    "m = axes[1,0]\n",
    "f2 = m.pcolormesh(londic, latdic, DiaChl18_interp, \n",
    "                   transform = ccrs.PlateCarree(),\n",
    "                   norm=colors.BoundaryNorm(boundaries=levels, ncolors=256))\n",
    "m.set_title('mo18', fontsize=12)\n",
    "mygrid(m)\n",
    "\n",
    "#mo19\n",
    "m = axes[1,1]\n",
    "f2 = m.pcolormesh(londic, latdic, DiaChl19_interp, \n",
    "                   transform = ccrs.PlateCarree(),\n",
    "                   norm=colors.BoundaryNorm(boundaries=levels, ncolors=256))\n",
    "m.set_title('mo19', fontsize=12)\n",
    "mygrid(m)\n",
    "\n",
    "#mo20\n",
    "m = axes[2,0]\n",
    "f2 = m.pcolormesh(londic, latdic, DiaChl20_interp, \n",
    "                   transform = ccrs.PlateCarree(),\n",
    "                   norm=colors.BoundaryNorm(boundaries=levels, ncolors=256))\n",
    "m.set_title('mo20', fontsize=12)\n",
    "mygrid(m)\n",
    "\n",
    "# add one colorbar for first row plots below figure\n",
    "cbar = fig.colorbar(f2,\n",
    "                    ax = axes[2,:], \n",
    "                    #location ='bottom',\n",
    "                    orientation = 'horizontal',\n",
    "                    ticks = ticks,\n",
    "                    fraction=0.1, pad=0.1) \n",
    "#cbar.ax.tick_params(labelsize=14)\n",
    "cbar.ax.set_xticklabels(ticks_label, fontsize=16) \n",
    "cbar.set_label(units+'\\n'+label, fontsize=16)\n",
    "\n",
    "        "
   ]
  },
  {
   "cell_type": "markdown",
   "metadata": {},
   "source": [
    "# nanophytoplankton chlorophyll"
   ]
  },
  {
   "cell_type": "code",
   "execution_count": null,
   "metadata": {},
   "outputs": [],
   "source": [
    "# load data\n",
    "PhyChl12 = pf.get_data(resultpath12, \"ChlA\",years,mesh,'fesom', how=\"mean\", compute=True, depth=depth)\n",
    "PhyChl17 = pf.get_data(resultpath17, \"ChlA\",years,mesh,'fesom', how=\"mean\", compute=True, depth=depth)\n",
    "PhyChl18 = pf.get_data(resultpath18, \"ChlA\",years,mesh,'fesom', how=\"mean\", compute=True, depth=depth)\n",
    "PhyChl19 = pf.get_data(resultpath19, \"ChlA\",years,mesh,'fesom', how=\"mean\", compute=True, depth=depth)\n",
    "PhyChl20 = pf.get_data(resultpath20, \"PhyChl\",years,mesh,'fesom', how=\"mean\", compute=True, depth=depth)\n",
    "\n",
    "label='Nanophyt. Chlorophyll {0}-{1} at {2} m'.format(last_year-10,last_year,depth)\n",
    "units = 'Chl.a [mmol m$^{-3}$]'\n"
   ]
  },
  {
   "cell_type": "code",
   "execution_count": null,
   "metadata": {},
   "outputs": [],
   "source": [
    "# interpolation\n",
    "\n",
    "PhyChl12_interp = pf.fesom2regular(data = PhyChl12,mesh = mesh,lons = londic,lats = latdic)\n",
    "PhyChl17_interp = pf.fesom2regular(data = PhyChl17,mesh = mesh,lons = londic,lats = latdic)\n",
    "PhyChl18_interp = pf.fesom2regular(data = PhyChl18,mesh = mesh,lons = londic,lats = latdic)\n",
    "PhyChl19_interp = pf.fesom2regular(data = PhyChl19,mesh = mesh,lons = londic,lats = latdic)\n",
    "PhyChl19_interp = pf.fesom2regular(data = PhyChl19,mesh = mesh,lons = londic,lats = latdic)"
   ]
  },
  {
   "cell_type": "code",
   "execution_count": null,
   "metadata": {},
   "outputs": [],
   "source": [
    "# plotting\n",
    "levels = np.array([0,0.01,0.02,0.03,0.04,0.05,0.06,0.07,0.08,0.09,\n",
    "                           0.1,0.2,0.3,0.4,0.5,0.6,0.7,0.8,0.9,\n",
    "                           1,2,3,4,5,7])\n",
    "ticks = [0,0.01,0.03,0.05,0.07,0.1,0.3,0.5,0.7,1,3,5,7]\n",
    "ticks_label = ['0','0.01','0.03','0.05','0.07','0.1','0.3','0.5','0.7','1','3','5','7']    \n",
    "\n",
    "\n",
    "fig, axes = plt.subplots(3,2, \n",
    "         subplot_kw=dict(projection=ccrs.PlateCarree()),\n",
    "         gridspec_kw={'hspace': 0.001, 'wspace': 0.1},\n",
    "         figsize=(15,15))\n",
    "\n",
    "#mo12\n",
    "m = axes[0,0]\n",
    "f2 = m.pcolormesh(londic, latdic, PhyChl12_interp, \n",
    "                   transform = ccrs.PlateCarree(),\n",
    "                   norm=colors.BoundaryNorm(boundaries=levels, ncolors=256))\n",
    "m.set_title('mo12', fontsize=12)\n",
    "mygrid(m)\n",
    "\n",
    "#mo17\n",
    "m = axes[0,1]\n",
    "f2 = m.pcolormesh(londic, latdic,PhyChl17_interp, \n",
    "                   transform = ccrs.PlateCarree(),\n",
    "                   norm=colors.BoundaryNorm(boundaries=levels, ncolors=256))\n",
    "m.set_title('mo17', fontsize=12)\n",
    "mygrid(m)\n",
    "\n",
    "#mo18\n",
    "m = axes[1,0]\n",
    "f2 = m.pcolormesh(londic, latdic, PhyChl18_interp, \n",
    "                   transform = ccrs.PlateCarree(),\n",
    "                   norm=colors.BoundaryNorm(boundaries=levels, ncolors=256))\n",
    "m.set_title('mo18', fontsize=12)\n",
    "mygrid(m)\n",
    "\n",
    "#mo19\n",
    "m = axes[1,1]\n",
    "f2 = m.pcolormesh(londic, latdic, PhyChl19_interp, \n",
    "                   transform = ccrs.PlateCarree(),\n",
    "                   norm=colors.BoundaryNorm(boundaries=levels, ncolors=256))\n",
    "m.set_title('mo19', fontsize=12)\n",
    "mygrid(m)\n",
    "\n",
    "#mo20\n",
    "m = axes[2,0]\n",
    "f2 = m.pcolormesh(londic, latdic, PhyChl19_interp, \n",
    "                   transform = ccrs.PlateCarree(),\n",
    "                   norm=colors.BoundaryNorm(boundaries=levels, ncolors=256))\n",
    "m.set_title('mo20', fontsize=12)\n",
    "mygrid(m)\n",
    "\n",
    "# add one colorbar for first row plots below figure\n",
    "cbar = fig.colorbar(f2,\n",
    "                    ax = axes[2,:], \n",
    "                    #location ='bottom',\n",
    "                    orientation = 'horizontal',\n",
    "                    ticks = ticks,\n",
    "                    fraction=0.1, pad=0.1) \n",
    "#cbar.ax.tick_params(labelsize=14)\n",
    "cbar.ax.set_xticklabels(ticks_label, fontsize=16) \n",
    "cbar.set_label(units+'\\n'+label, fontsize=16)\n",
    "\n",
    "        "
   ]
  },
  {
   "cell_type": "markdown",
   "metadata": {},
   "source": [
    "# map of total Diatom NPP "
   ]
  },
  {
   "cell_type": "code",
   "execution_count": null,
   "metadata": {},
   "outputs": [],
   "source": [
    "if True:\n",
    "    NCfesom = resultpath12 + '/NPPd.fesom.1948.nc'\n",
    "    !ncdump -h $NCfesom"
   ]
  },
  {
   "cell_type": "code",
   "execution_count": null,
   "metadata": {},
   "outputs": [],
   "source": [
    "#NCfesom = resultpath + '/NPPd.fesom.1948.nc'\n",
    "#!ncdump -h $NCfesom\n",
    "\n",
    "# 12.01 *  data --> mmolC/m2/d to mg C/m2/d\n",
    "conv = 12.01  \n",
    "\n",
    "label='Diatom NPP {0}-{1}'.format(last_year-10,last_year)\n",
    "units = 'Mean NPP [mg C m$^{-2}$ d$^{-1}$]'\n",
    "\n",
    "NPPd_mo12 = pf.get_data(resultpath12, \"NPPd\",years,mesh, runid=runid, how=\"mean\", compute=True, silent=True) * conv\n",
    "NPPd_mo17 = pf.get_data(resultpath17, \"NPPd\",years,mesh, runid=runid, how=\"mean\", compute=True, silent=True) * conv\n",
    "NPPd_mo18 = pf.get_data(resultpath18, \"NPPd\",years,mesh, runid=runid, how=\"mean\", compute=True, silent=True) * conv\n",
    "NPPd_mo19 = pf.get_data(resultpath19, \"NPPd\",years,mesh, runid=runid, how=\"mean\", compute=True, silent=True) * conv\n",
    "NPPd_mo20 = pf.get_data(resultpath20, \"NPPd\",years,mesh, runid=runid, how=\"mean\", compute=True, silent=True) * conv\n",
    "\n",
    "\n",
    "\n",
    "# NPP is already vertically integrated!"
   ]
  },
  {
   "cell_type": "code",
   "execution_count": null,
   "metadata": {},
   "outputs": [],
   "source": [
    "fig = pf.plot(mesh, [NPPd_mo12,NPPd_mo17,NPPd_mo18,NPPd_mo19,NPPd_mo20], \n",
    "              rowscol=(3,2),\n",
    "              mapproj = 'pc',\n",
    "              units=units + '\\n'+label, \n",
    "              titles=['mo12','mo17','mo18','mo19','mo20'], \n",
    "              #levels = (0,400,41), # g C /m2 /year\n",
    "              levels = (0,1000,51), # mg C /m2 /day\n",
    "              figsize=(15,15),\n",
    "              cmap='viridis')"
   ]
  },
  {
   "cell_type": "code",
   "execution_count": null,
   "metadata": {},
   "outputs": [],
   "source": [
    "diff = pf.plot(mesh, [NPPd_mo19-NPPd_mo20], \n",
    "              rowscol=(1,1),\n",
    "              mapproj = 'pc',\n",
    "              units=units + '\\n'+label, \n",
    "              titles=['mo19 - mo20'], \n",
    "              levels = (-60,60,121),\n",
    "              figsize=(10,10),\n",
    "              #cmap='plasma'\n",
    "              )"
   ]
  },
  {
   "cell_type": "markdown",
   "metadata": {},
   "source": [
    "# map of nanophytoplankton NPP"
   ]
  },
  {
   "cell_type": "code",
   "execution_count": null,
   "metadata": {},
   "outputs": [],
   "source": [
    "# load data\n",
    "# conv mmol C/m2/d --> mg C/m2/day\n",
    "conv = 12.01  \n",
    "\n",
    "label='Nanophytoplankton NPP {0}-{1}'.format(first_year,last_year)\n",
    "units = 'Mean NPP [mg C m$^{-2}$ d$^{-1}$]'\n",
    "\n",
    "NPPn_mo12 = pf.get_data(resultpath12, \"NPPn\",years,mesh, runid=runid, how=\"mean\", compute=True, silent=True) * conv\n",
    "NPPn_mo17 = pf.get_data(resultpath17, \"NPPn\",years,mesh, runid=runid, how=\"mean\", compute=True, silent=True) * conv\n",
    "NPPn_mo18 = pf.get_data(resultpath18, \"NPPn\",years,mesh, runid=runid, how=\"mean\", compute=True, silent=True) * conv\n",
    "NPPn_mo19 = pf.get_data(resultpath19, \"NPPn\",years,mesh, runid=runid, how=\"mean\", compute=True, silent=True) * conv\n",
    "NPPn_mo20 = pf.get_data(resultpath20, \"NPPn\",years,mesh, runid=runid, how=\"mean\", compute=True, silent=True) * conv"
   ]
  },
  {
   "cell_type": "code",
   "execution_count": null,
   "metadata": {},
   "outputs": [],
   "source": [
    "fig = pf.plot(mesh, [NPPn_mo12,NPPn_mo17,NPPn_mo18,NPPn_mo19,NPPn_mo20], \n",
    "              rowscol=(3,2),\n",
    "              mapproj = 'pc',\n",
    "              units=units + '\\n'+label, \n",
    "              titles=['mo12','mo17','mo18','mo19','mo20'], \n",
    "              #levels = (0,400,41), # g C /m2 /year\n",
    "              levels = (0,1000,51), # mg C /m2 /day\n",
    "              figsize=(15,15),\n",
    "              cmap='viridis')"
   ]
  },
  {
   "cell_type": "code",
   "execution_count": null,
   "metadata": {},
   "outputs": [],
   "source": [
    "diff = pf.plot(mesh, [NPPn_mo19-NPPn_mo20], \n",
    "              rowscol=(1,1),\n",
    "              mapproj = 'pc',\n",
    "              units=units + '\\n'+label, \n",
    "              titles=['mo19 - mo20'], \n",
    "              levels = (-60,60,121),\n",
    "              figsize=(10,10),\n",
    "              #cmap='plasma'\n",
    "              )"
   ]
  },
  {
   "cell_type": "markdown",
   "metadata": {},
   "source": [
    "# total NPP"
   ]
  },
  {
   "cell_type": "code",
   "execution_count": null,
   "metadata": {},
   "outputs": [],
   "source": [
    "# total NPP\n",
    "label='Total Net Primary Production {0}-{1}'.format(first_year,last_year)\n",
    "units = 'Mean total NPP [mg C m$^{-2}$ d$^{-1}$]'\n",
    "\n",
    "NPPtot_mo12 = NPPd_mo12 + NPPn_mo12\n",
    "NPPtot_mo17 = NPPd_mo17 + NPPn_mo17\n",
    "NPPtot_mo18 = NPPd_mo18 + NPPn_mo18\n",
    "NPPtot_mo19 = NPPd_mo19 + NPPn_mo19\n",
    "NPPtot_mo20 = NPPd_mo20 + NPPn_mo20\n",
    "\n",
    "fig = pf.plot(mesh, [NPPtot_mo12,NPPtot_mo17,NPPtot_mo18,NPPtot_mo19,NPPtot_mo20], \n",
    "              rowscol=(3,2),\n",
    "              mapproj = 'pc',\n",
    "              units=units + '\\n'+label, \n",
    "              titles=['mo12','mo17','mo18','mo19','mo20'], \n",
    "              #levels = (0,400,41), # g C /m2 /year\n",
    "              levels = (0,1000,51), # mg C /m2 /day\n",
    "              figsize=(15,15),\n",
    "              cmap='viridis')"
   ]
  },
  {
   "cell_type": "code",
   "execution_count": null,
   "metadata": {},
   "outputs": [],
   "source": [
    "diff = pf.plot(mesh, [NPPtot_mo19-NPPtot_mo20], \n",
    "              rowscol=(1,1),\n",
    "              mapproj = 'pc',\n",
    "              units=units + '\\n'+label, \n",
    "              titles=['mo19 - mo20'], \n",
    "              levels = (-60,60,121),\n",
    "              figsize=(10,10),\n",
    "              #cmap='plasma'\n",
    "              )"
   ]
  },
  {
   "cell_type": "markdown",
   "metadata": {},
   "source": [
    "# biomass integration over depth"
   ]
  },
  {
   "cell_type": "code",
   "execution_count": null,
   "metadata": {},
   "outputs": [],
   "source": [
    "if True:\n",
    "    NCfesom = resultpath12 + '/DiaC.fesom.1948.nc'\n",
    "    !ncdump -h $NCfesom"
   ]
  },
  {
   "cell_type": "code",
   "execution_count": null,
   "metadata": {},
   "outputs": [],
   "source": [
    "# load FESOM mesh \n",
    "level_depths = -mesh.zlev[:-1] # depth of levels\n",
    "      \n",
    "# load FESOM diag \n",
    "meshdiag=resultpath12+'/fesom.mesh.diag.nc'\n",
    "diag = pf.get_meshdiag(mesh,meshdiag=meshdiag)   \n",
    "\n",
    "# nodal area\n",
    "nod_area = diag.rename_dims({\"nl\": \"nz1\", \"nod_n\": \"nod2\"}).nod_area\n",
    "nod_area.load()\n",
    "nod_area = np.swapaxes(np.array(nod_area.data),0,1)\n",
    "\n",
    "# level depth  \n",
    "# c.f. Danilov et al. (2017)\n",
    "# \"in the vertical direction, the horizontal velocities and scalars are located at mid-levels\" \n",
    "layer_depths = -diag['Z'].values # depth of layers\n",
    "layer_depths = layer_depths[:-1] # lowest depth seems to be benthic?!\n",
    "\n",
    "# --> layer thickness\n",
    "delta_z = np.abs(np.diff(mesh.zlev))\n",
    "delta_aux = np.tile(delta_z,(126858,1))\n",
    "\n",
    "#print(mesh.zlev)\n",
    "print(delta_z)"
   ]
  },
  {
   "cell_type": "code",
   "execution_count": null,
   "metadata": {},
   "outputs": [],
   "source": [
    "def get_integrated_C_data(resultpath,var_name,log=False):\n",
    "    # load data\n",
    "    DiaC12_column = pf.get_data(resultpath, var_name,years,mesh,'fesom', how=\"mean\", compute=True, silent =True)\n",
    "    #print(np.shape(DiaC12_column))\n",
    "    \n",
    "    # process data per layer\n",
    "    DiaC12_i = np.zeros((len(mesh.y2),len(layer_depths)))\n",
    "\n",
    "    for k in range(0,len(layer_depths)): \n",
    "        i_depth = np.where(mesh.zlev == mesh.zlev[k])\n",
    "        #print(i_depth)\n",
    "        \n",
    "        # find curent depth for data\n",
    "        DiaC12_aux = np.squeeze(DiaC12_column[:,i_depth])\n",
    "\n",
    "        # find current layer thickness\n",
    "        delta_aux2 = np.squeeze(delta_aux[:,i_depth])\n",
    "        #print(delta_aux2[0])\n",
    "        \n",
    "        # apply: Conc * delta_z -> [mmol/m3] * [m] = [mmol/m2]\n",
    "        DiaC12_i[:,k] = DiaC12_aux * delta_aux2\n",
    "\n",
    "    # integrate over water column\n",
    "    # convert [mmol C/m2] * [12 g/mol] * [0.001 g/mg] = [g C/m2] \n",
    "    conv = 12.01 * 0.001\n",
    "\n",
    "    C_integrated = np.nansum(DiaC12_i,axis=1) * conv \n",
    "\n",
    "    if log:\n",
    "        print('\\nLog for \"{3}\" in {4} \\nmean {0:4.3f}, min {1:4.3f}, max {2:4.3f}'.format(\n",
    "            np.nanmean(C_integrated), np.nanmin(C_integrated), np.nanmax(C_integrated),\n",
    "            var_name,resultpath))\n",
    "    \n",
    "    return C_integrated\n"
   ]
  },
  {
   "cell_type": "code",
   "execution_count": null,
   "metadata": {},
   "outputs": [],
   "source": [
    "#DiaC12_integrated = get_integrated_C_data(resultpath12, \"DiaC\",log=True)"
   ]
  },
  {
   "cell_type": "code",
   "execution_count": null,
   "metadata": {},
   "outputs": [],
   "source": [
    "DiaC12_integrated = get_integrated_C_data(resultpath12, \"DiaC\")\n",
    "DiaC17_integrated = get_integrated_C_data(resultpath17, \"DiaC\")\n",
    "DiaC18_integrated = get_integrated_C_data(resultpath18, \"DiaC\")\n",
    "DiaC19_integrated = get_integrated_C_data(resultpath19, \"DiaC\")\n",
    "DiaC20_integrated = get_integrated_C_data(resultpath20, \"DiaC\")"
   ]
  },
  {
   "cell_type": "code",
   "execution_count": null,
   "metadata": {},
   "outputs": [],
   "source": [
    "PhyC12_integrated = get_integrated_C_data(resultpath12, \"PhyC\")\n",
    "PhyC17_integrated = get_integrated_C_data(resultpath17, \"PhyC\")\n",
    "PhyC18_integrated = get_integrated_C_data(resultpath18, \"PhyC\")\n",
    "PhyC19_integrated = get_integrated_C_data(resultpath19, \"PhyC\")\n",
    "PhyC20_integrated = get_integrated_C_data(resultpath20, \"PhyC\")"
   ]
  },
  {
   "cell_type": "markdown",
   "metadata": {},
   "source": [
    "### Integrated biomass over whole globe"
   ]
  },
  {
   "cell_type": "code",
   "execution_count": null,
   "metadata": {},
   "outputs": [],
   "source": [
    "#print(np.shape(DiaC20_integrated))\n",
    "\n",
    "def log_biomass(run,Dia_depth_integrated,Phy_depth_integrated):\n",
    "    # input as [g C/m2]\n",
    "    # area integral [g C]\n",
    "    DiaC20_integrated_global = Dia_depth_integrated * nod_area[:,0]\n",
    "    PhyC20_integrated_global = Phy_depth_integrated * nod_area[:,0]\n",
    "\n",
    "    # summing up and converting [g C] to [Pg C]\n",
    "    DiaC20_sum = np.nansum(DiaC20_integrated_global) /1e15  \n",
    "    PhyC20_sum = np.nansum(PhyC20_integrated_global) /1e15  \n",
    "\n",
    "    # sum of dia+phyto\n",
    "    C20_sum = DiaC20_sum + PhyC20_sum\n",
    "    \n",
    "    unit = 'biomass [Pg C]'\n",
    "\n",
    "    print('\"{0}\" Global {1}: {2:4.2f}, diatom C: {3:4.2f} ({5:3.2f}%), nanophyto C: {4:4.2f} ({6:3.2f}%)'.format(\n",
    "        run,unit,C20_sum,DiaC20_sum, PhyC20_sum, (DiaC20_sum/C20_sum)*100, (PhyC20_sum/C20_sum)*100 ))\n",
    "\n",
    "    \n",
    "run = 'mo12'\n",
    "log_biomass(run,DiaC12_integrated,PhyC12_integrated)\n",
    "\n",
    "run = 'mo17'\n",
    "log_biomass(run,DiaC17_integrated,PhyC17_integrated)\n",
    "\n",
    "run = 'mo18'\n",
    "log_biomass(run,DiaC18_integrated,PhyC18_integrated)\n",
    "\n",
    "run = 'mo19'\n",
    "log_biomass(run,DiaC19_integrated,PhyC19_integrated)\n",
    "\n",
    "run = 'mo20'\n",
    "log_biomass(run,DiaC20_integrated,PhyC20_integrated)\n",
    "\n",
    "\n"
   ]
  },
  {
   "cell_type": "markdown",
   "metadata": {},
   "source": [
    "### interpolation"
   ]
  },
  {
   "cell_type": "code",
   "execution_count": null,
   "metadata": {},
   "outputs": [],
   "source": [
    "# interpolation\n",
    "lat         = np.arange(-89.5,90.,1.)\n",
    "lon         = np.arange(-179.5,180.,1.)\n",
    "latdic, londic = np.meshgrid(lat, lon)\n",
    "\n",
    "DiaC12_integrated_interp = pf.fesom2regular(data = DiaC12_integrated,mesh = mesh,lons = londic,lats = latdic)\n",
    "#print(np.shape(DiaC12_integrated_interp))\n",
    "\n",
    "DiaC17_integrated_interp = pf.fesom2regular(data = DiaC17_integrated,mesh = mesh,lons = londic,lats = latdic)\n",
    "DiaC18_integrated_interp = pf.fesom2regular(data = DiaC18_integrated,mesh = mesh,lons = londic,lats = latdic)\n",
    "DiaC19_integrated_interp = pf.fesom2regular(data = DiaC19_integrated,mesh = mesh,lons = londic,lats = latdic)\n",
    "DiaC20_integrated_interp = pf.fesom2regular(data = DiaC20_integrated,mesh = mesh,lons = londic,lats = latdic)\n",
    "\n",
    "\n",
    "PhyC12_integrated_interp = pf.fesom2regular(data = PhyC12_integrated,mesh = mesh,lons = londic,lats = latdic)\n",
    "PhyC17_integrated_interp = pf.fesom2regular(data = PhyC17_integrated,mesh = mesh,lons = londic,lats = latdic)\n",
    "PhyC18_integrated_interp = pf.fesom2regular(data = PhyC18_integrated,mesh = mesh,lons = londic,lats = latdic)\n",
    "PhyC19_integrated_interp = pf.fesom2regular(data = PhyC19_integrated,mesh = mesh,lons = londic,lats = latdic)\n",
    "PhyC20_integrated_interp = pf.fesom2regular(data = PhyC20_integrated,mesh = mesh,lons = londic,lats = latdic)"
   ]
  },
  {
   "cell_type": "code",
   "execution_count": null,
   "metadata": {},
   "outputs": [],
   "source": [
    "# NPP\n",
    "NPPd_mo12_interp = pf.fesom2regular(data = NPPd_mo12,mesh = mesh,lons = londic,lats = latdic)\n",
    "NPPd_mo17_interp = pf.fesom2regular(data = NPPd_mo17,mesh = mesh,lons = londic,lats = latdic)\n",
    "NPPd_mo18_interp = pf.fesom2regular(data = NPPd_mo18,mesh = mesh,lons = londic,lats = latdic)\n",
    "NPPd_mo19_interp = pf.fesom2regular(data = NPPd_mo19,mesh = mesh,lons = londic,lats = latdic)\n",
    "NPPd_mo20_interp = pf.fesom2regular(data = NPPd_mo20,mesh = mesh,lons = londic,lats = latdic)\n",
    "\n",
    "\n",
    "NPPn_mo12_interp = pf.fesom2regular(data = NPPn_mo12,mesh = mesh,lons = londic,lats = latdic)\n",
    "NPPn_mo17_interp = pf.fesom2regular(data = NPPn_mo17,mesh = mesh,lons = londic,lats = latdic)\n",
    "NPPn_mo18_interp = pf.fesom2regular(data = NPPn_mo18,mesh = mesh,lons = londic,lats = latdic)\n",
    "NPPn_mo19_interp = pf.fesom2regular(data = NPPn_mo19,mesh = mesh,lons = londic,lats = latdic)\n",
    "NPPn_mo20_interp = pf.fesom2regular(data = NPPn_mo20,mesh = mesh,lons = londic,lats = latdic)"
   ]
  },
  {
   "cell_type": "markdown",
   "metadata": {},
   "source": [
    "#### control interpolation"
   ]
  },
  {
   "cell_type": "code",
   "execution_count": null,
   "metadata": {},
   "outputs": [],
   "source": [
    "# before\n",
    "pf.plot(mesh,DiaC12_integrated,cmap='viridis',figsize=(8,7))\n",
    "\n",
    "# after\n",
    "plt.figure(figsize=(10,7))\n",
    "plt.pcolormesh(londic,latdic,DiaC12_integrated_interp)\n",
    "plt.colorbar(orientation='horizontal')\n",
    "plt.show()"
   ]
  },
  {
   "cell_type": "markdown",
   "metadata": {},
   "source": [
    "### mean over latitude"
   ]
  },
  {
   "cell_type": "code",
   "execution_count": null,
   "metadata": {},
   "outputs": [],
   "source": [
    "DiaC12_latmean = np.nanmean(DiaC12_integrated_interp, axis=0)\n",
    "print('DiaC mo12 mean {0:4.3f}, min {1:4.3f}, max {2:4.3f}'.format(np.nanmean(DiaC12_latmean), np.nanmin(DiaC12_latmean), np.nanmax(DiaC12_latmean)))\n"
   ]
  },
  {
   "cell_type": "code",
   "execution_count": null,
   "metadata": {},
   "outputs": [],
   "source": [
    "# mean over latitude\n",
    "DiaC12_latmean = np.nanmean(DiaC12_integrated_interp, axis=0)\n",
    "#print('DiaC mo12 mean {0:4.3f}, min {1:4.3f}, max {2:4.3f}'.format(np.nanmean(DiaC12_latmean), np.nanmin(DiaC12_latmean), np.nanmax(DiaC12_latmean)))\n",
    "DiaC17_latmean = np.nanmean(DiaC17_integrated_interp, axis=0)\n",
    "DiaC18_latmean = np.nanmean(DiaC18_integrated_interp, axis=0)\n",
    "DiaC19_latmean = np.nanmean(DiaC19_integrated_interp, axis=0)\n",
    "DiaC20_latmean = np.nanmean(DiaC20_integrated_interp, axis=0)\n",
    "\n",
    "\n",
    "PhyC12_latmean = np.nanmean(PhyC12_integrated_interp, axis=0)\n",
    "PhyC17_latmean = np.nanmean(PhyC17_integrated_interp, axis=0)\n",
    "PhyC18_latmean = np.nanmean(PhyC18_integrated_interp, axis=0)\n",
    "PhyC19_latmean = np.nanmean(PhyC19_integrated_interp, axis=0)\n",
    "PhyC20_latmean = np.nanmean(PhyC20_integrated_interp, axis=0)"
   ]
  },
  {
   "cell_type": "code",
   "execution_count": null,
   "metadata": {},
   "outputs": [],
   "source": [
    "# NPP, convert mg -> g\n",
    "conv = 0.001 \n",
    "\n",
    "NPPd_mo12_latmean = np.nanmean(NPPd_mo12_interp,axis = 0) * conv\n",
    "NPPd_mo17_latmean = np.nanmean(NPPd_mo17_interp,axis = 0) * conv\n",
    "NPPd_mo18_latmean = np.nanmean(NPPd_mo18_interp,axis = 0) * conv\n",
    "NPPd_mo19_latmean = np.nanmean(NPPd_mo19_interp,axis = 0) * conv\n",
    "NPPd_mo20_latmean = np.nanmean(NPPd_mo20_interp,axis = 0) * conv\n",
    "\n",
    "\n",
    "NPPn_mo12_latmean = np.nanmean(NPPn_mo12_interp,axis = 0) * conv\n",
    "NPPn_mo17_latmean = np.nanmean(NPPn_mo17_interp,axis = 0) * conv\n",
    "NPPn_mo18_latmean = np.nanmean(NPPn_mo18_interp,axis = 0) * conv\n",
    "NPPn_mo19_latmean = np.nanmean(NPPn_mo19_interp,axis = 0) * conv\n",
    "NPPn_mo20_latmean = np.nanmean(NPPn_mo20_interp,axis = 0) * conv"
   ]
  },
  {
   "cell_type": "markdown",
   "metadata": {},
   "source": [
    "### plot"
   ]
  },
  {
   "cell_type": "code",
   "execution_count": null,
   "metadata": {},
   "outputs": [],
   "source": [
    "# plot\n",
    "fig = plt.figure(figsize=(15,10), facecolor='w', edgecolor='k', tight_layout = True)\n",
    "ylim = (0,4.5)\n",
    "xlim = (-90,95)\n",
    "\n",
    "plt.subplot(2,2,1)\n",
    "plt.plot(lat, DiaC12_latmean,label='mo12')\n",
    "plt.plot(lat, DiaC17_latmean,label='mo17')\n",
    "plt.plot(lat, DiaC18_latmean,label='mo18')\n",
    "plt.plot(lat, DiaC19_latmean,label='mo19')\n",
    "plt.plot(lat, DiaC20_latmean,label='mo20')\n",
    "plt.legend()\n",
    "plt.xlabel('Latitude')\n",
    "plt.ylabel('Biomass [g C m$^{-2}$]')\n",
    "plt.ylim(ylim)\n",
    "plt.xlim(xlim)\n",
    "plt.title('Mean diatom biomass per latitude, \\nintegrated over depth')\n",
    "\n",
    "plt.subplot(2,2,2)\n",
    "plt.plot(lat, PhyC12_latmean,label='mo12')\n",
    "plt.plot(lat, PhyC17_latmean,label='mo17')\n",
    "plt.plot(lat, PhyC18_latmean,label='mo18')\n",
    "plt.plot(lat, PhyC19_latmean,label='mo19')\n",
    "plt.plot(lat, PhyC20_latmean,label='mo20')\n",
    "plt.legend()\n",
    "plt.xlabel('Latitude')\n",
    "#plt.ylabel('Biomass [g C m$^{-2}$]')\n",
    "plt.ylim(ylim)\n",
    "plt.xlim(xlim)\n",
    "plt.title('Mean nanophytoplankton biomass per latitude, \\nintegrated over depth')\n",
    "\n",
    "# NPP\n",
    "ylim_npp = (0,0.35)\n",
    "\n",
    "plt.subplot(2,2,3)\n",
    "plt.plot(lat,NPPd_mo12_latmean, label='mo12')\n",
    "plt.plot(lat,NPPd_mo17_latmean, label='mo17')\n",
    "plt.plot(lat,NPPd_mo18_latmean, label='mo18')\n",
    "plt.plot(lat,NPPd_mo19_latmean, label='mo19')\n",
    "plt.plot(lat,NPPd_mo20_latmean, label='mo20')\n",
    "plt.ylabel('NPP [g C m$^{-2}$ d$^{-1}$]')\n",
    "plt.xlabel('Latitude')\n",
    "plt.xlim(xlim)\n",
    "plt.ylim(ylim_npp)\n",
    "plt.legend()\n",
    "plt.title('Mean diatom NPP')\n",
    "\n",
    "plt.subplot(2,2,4)\n",
    "plt.plot(lat,NPPn_mo12_latmean, label='mo12')\n",
    "plt.plot(lat,NPPn_mo17_latmean, label='mo17')\n",
    "plt.plot(lat,NPPn_mo18_latmean, label='mo18')\n",
    "plt.plot(lat,NPPn_mo19_latmean, label='mo19')\n",
    "plt.plot(lat,NPPn_mo20_latmean, label='mo20')\n",
    "#plt.ylabel('NPP [g C m$^{-2}$ d$^{-1}$]')\n",
    "plt.xlabel('Latitude')\n",
    "plt.xlim(xlim)\n",
    "plt.ylim(ylim_npp)\n",
    "plt.legend()\n",
    "plt.title('Mean nanophyto NPP')\n",
    "\n",
    "plt.show()"
   ]
  },
  {
   "cell_type": "code",
   "execution_count": null,
   "metadata": {},
   "outputs": [],
   "source": []
  },
  {
   "cell_type": "markdown",
   "metadata": {},
   "source": [
    "# Export"
   ]
  },
  {
   "cell_type": "code",
   "execution_count": null,
   "metadata": {},
   "outputs": [],
   "source": [
    "# Save notebook as html\n",
    "%autosave 2\n",
    "\n",
    "#!jupyter nbconvert MZ_Comparison_Chl_Parameters_python3.ipynb --output-dir=$htmlpath --output $htmlname --to html --TemplateExporter.exclude_input=True"
   ]
  },
  {
   "cell_type": "code",
   "execution_count": null,
   "metadata": {},
   "outputs": [],
   "source": []
  }
 ],
 "metadata": {
  "kernelspec": {
   "display_name": "Python 3",
   "language": "python",
   "name": "python3"
  },
  "language_info": {
   "codemirror_mode": {
    "name": "ipython",
    "version": 3
   },
   "file_extension": ".py",
   "mimetype": "text/x-python",
   "name": "python",
   "nbconvert_exporter": "python",
   "pygments_lexer": "ipython3",
   "version": "3.8.6"
  },
  "toc-showmarkdowntxt": false,
  "toc-showtags": false
 },
 "nbformat": 4,
 "nbformat_minor": 4
}
