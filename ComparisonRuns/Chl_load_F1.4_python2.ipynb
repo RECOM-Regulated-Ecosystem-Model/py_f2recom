{
 "cells": [
  {
   "cell_type": "code",
   "execution_count": null,
   "metadata": {},
   "outputs": [],
   "source": [
    "# Chl_load_F1.4_python2"
   ]
  },
  {
   "cell_type": "code",
   "execution_count": null,
   "metadata": {},
   "outputs": [],
   "source": [
    "import matplotlib.pyplot as plt\n",
    "import matplotlib.colors as colors\n",
    "\n",
    "import numpy as np\n",
    "from netCDF4 import Dataset\n",
    "from scipy.interpolate import griddata\n",
    "from mpl_toolkits.basemap import Basemap\n",
    "\n",
    "#from PiecewiseNorm import PiecewiseNorm\n",
    "#import os.path\n",
    "#import scipy.io as spio\n",
    "#import pickle\n",
    "\n",
    "modulepath   = '/home/ollie/mozeisin/pyfesom/'\n",
    "\n",
    "import sys\n",
    "sys.path.append(modulepath)\n",
    "\n",
    "import pyfesom as pf1"
   ]
  },
  {
   "cell_type": "markdown",
   "metadata": {},
   "source": [
    "# load FESOM 1.4 data"
   ]
  },
  {
   "cell_type": "code",
   "execution_count": null,
   "metadata": {},
   "outputs": [],
   "source": [
    "resultpath = '/work/ollie/ncara/fesom/fesom-1.4-recom/v3/reccap_A_varCO2_varclim_1958_2019/'\n",
    "\n",
    "#meshpath     = '/work/ollie/jhauck/input/meshes/CORE2/'\n",
    "meshpath     = '/work/ollie/jhauck/input/meshes/core_new_288/'\n",
    "#meshpath     = '/work/ollie/jhauck/input/meshes/core_new_384/'\n",
    "\n",
    "# period of analysis \n",
    "first_year = 1960\n",
    "last_year  = 1970\n",
    "    \n",
    "# number of upper ocean layers for surface mean\n",
    "n_levels = 1\n",
    "\n",
    "years = [first_year,last_year]\n",
    "years_list      = np.arange(first_year,last_year+1,1)\n",
    "months     = np.linspace(0,11,12).astype(int)\n",
    "\n",
    "# dump data to this folder\n",
    "dump = True\n",
    "dumppath = '/work/ollie/mozeisin/evaluation/temp_data/FESOM1.4_'+str(first_year)+'_'+str(last_year)+'_'"
   ]
  },
  {
   "cell_type": "code",
   "execution_count": null,
   "metadata": {},
   "outputs": [],
   "source": [
    "# load mesh --------------------------------------------------------------------------------------------\n",
    "mesh = pf1.load_mesh(meshpath,abg=[0,0,0],get3d=True,usepickle=False)"
   ]
  },
  {
   "cell_type": "code",
   "execution_count": null,
   "metadata": {},
   "outputs": [],
   "source": [
    "print(mesh.n2d)\n",
    "#print(len(mesh.x2))"
   ]
  },
  {
   "cell_type": "code",
   "execution_count": null,
   "metadata": {},
   "outputs": [],
   "source": [
    "# define FESOM output variables to use --------------------------------------------------------------------------------------------\n",
    "runid='fesom'\n",
    "\n",
    "var_PhyChl = 'bgc06' # [mg Chl m$^{-3}$]\n",
    "var_PhyC = 'bgc05' # [mmol C m$^{-3}$]\n",
    "\n",
    "var_DiaChl = 'bgc15' # [mg Chl m$^{-3}$]\n",
    "var_DiaC = 'bgc14' # [mmol C m$^{-3}$]\n",
    "\n",
    "# define storage arrays --------------------------------------------------------------------------------------------\n",
    "PhyChl2D = np.zeros(len(mesh.x2))\n",
    "PhyC2D = np.zeros(len(mesh.x2))\n",
    "DiaChl2D = np.zeros(len(mesh.x2))\n",
    "DiaC2D = np.zeros(len(mesh.x2))\n",
    "#chl2D = np.zeros(len(mesh.x2))\n",
    "\n",
    "#print(np.shape(PhyChl2D))\n",
    "\n",
    "# load data --------------------------------------------------------------------------------------------\n",
    "for ind in range(0,len(years_list)):\n",
    "    print(years_list[ind])\n",
    "    \n",
    "    # Nanophyto Chl\n",
    "    ncfilePhyChl = resultpath+var_PhyChl+'_'+runid+'_'+str(years_list[ind])+'0101.nc'\n",
    "    f      = Dataset(ncfilePhyChl, 'r')\n",
    "    phychl    = f.variables[var_PhyChl][:].mean(axis=0) # annual mean\n",
    "    #print(np.shape(phychl[0:mesh.n2d]))\n",
    "    PhyChl2D  = PhyChl2D + phychl[0,0:mesh.n2d] # select only surface layer\n",
    "    #print(np.shape(PhyChl2D))\n",
    "\n",
    "    if True: # set to False for test runs only! \n",
    "        # Nanophyto C\n",
    "        ncfilePhyC = resultpath+var_PhyC+'_'+runid+'_'+str(years_list[ind])+'0101.nc'\n",
    "        f      = Dataset(ncfilePhyC, 'r')\n",
    "        phyc    = f.variables[var_PhyC][:].mean(axis=0)\n",
    "        PhyC2D  = PhyC2D + phyc[0,0:mesh.n2d]\n",
    "\n",
    "        # Diatom Chl\n",
    "        ncfileDiaChl= resultpath+var_DiaChl+'_'+runid+'_'+str(years_list[ind])+'0101.nc'\n",
    "        f     = Dataset(ncfileDiaChl, 'r')\n",
    "        diachl    = f.variables[var_DiaChl][:].mean(axis=0)\n",
    "        DiaChl2D  = DiaChl2D +diachl[0,0:mesh.n2d]\n",
    "\n",
    "        # Diatom C\n",
    "        ncfileDiaC= resultpath+var_DiaC+'_'+runid+'_'+str(years_list[ind])+'0101.nc'\n",
    "        f     = Dataset(ncfileDiaC, 'r')\n",
    "        diac    = f.variables[var_DiaC][:].mean(axis=0)\n",
    "        DiaC2D  = DiaC2D +diac[0,0:mesh.n2d]\n",
    "\n",
    "        # write sum of Chl storage arrays\n",
    "        #chl2D  = chl2D + phy[0,0:mesh.n2d]+dia[0,0:mesh.n2d]\n",
    "    \n",
    "    \n",
    "# data means --------------------------------------------------------------------------------------------    \n",
    "PhyC2D_mean = PhyC2D/len(years_list)\n",
    "PhyChl2D_mean = PhyChl2D/len(years_list)\n",
    "\n",
    "DiaC2D_mean = DiaC2D/len(years_list)\n",
    "DiaChl2D_mean = DiaChl2D/len(years_list)\n",
    "\n",
    "#Chl2D_mean = chl2D/len(years_list)\n",
    "\n",
    "#print(np.shape(PhyC2D_mean))\n"
   ]
  },
  {
   "cell_type": "markdown",
   "metadata": {},
   "source": [
    "# Control: Plotting on original grid (basemap)"
   ]
  },
  {
   "cell_type": "code",
   "execution_count": null,
   "metadata": {},
   "outputs": [],
   "source": [
    "elem2=mesh.elem[mesh.no_cyclic_elem,:]\n",
    "d=PhyChl2D_mean[elem2].mean(axis=1)\n",
    "k = [i for (i, val) in enumerate(d) if not np.isnan(val)]\n",
    "elem2=elem2[k,:]\n",
    "print 'ftriplot, number of dummy points:', len(d)-len(k) \n",
    "\n",
    "figDChl = plt.figure(num=18, figsize=(8, 8), dpi=300, facecolor='w', edgecolor='k')\n",
    "   \n",
    "map = Basemap(projection='robin',lon_0=0)\n",
    "x, y = map(mesh.x2, mesh.y2)\n",
    "map.drawmapboundary(fill_color='0.9')\n",
    "map.drawcoastlines()\n",
    "mlabels=[False,False,False,False]\n",
    "plabels=[True,True,True,True]\n",
    "map.drawparallels(np.arange(-90,90,30),labels=plabels) #[1,0,0,0]\n",
    "map.drawmeridians(np.arange(map.lonmin,map.lonmax+30,60),labels=mlabels) #[0,0,0,1]\n",
    "\n",
    "contoursDChl=np.array([0,0.02,0.04,0.06,0.08,0.1,0.12,0.14,0.16,0.18,0.2,0.22,0.24,0.26,0.28,0.3,0.32,0.34,0.36,0.38,0.4,0.42,0.44,0.46,0.48,0.5,0.52,0.54,0.56,0.58,0.6])\n",
    "eps=(contoursDChl.max()-contoursDChl.min())/50.\n",
    "#data2[data2<=contours.min()]=contours.min()+eps\n",
    "#data2[data2>=contours.max()]=contours.max()-eps\n",
    "\n",
    "imDChl=plt.tricontourf(x, y, elem2, PhyChl2D_mean, levels=contoursDChl, cmap='viridis', \n",
    "                       #norm=PiecewiseNorm(contoursDChl), \n",
    "                       extend='max')\n",
    "\n",
    "labelDChl = 'Nanophyto Chlorophyll a ('+str(years[0])+' to '+str(years[len(years)-1])+')' # in case of multiple years, replace ('+str(years[0])+') by ('+str(years[0])+' to '+str(years[len(years)-1])+')\n",
    "plt.title(labelDChl)\n",
    "cbarDChl=map.colorbar(imDChl,\"bottom\", size=\"5%\", pad=\"2%\")\n",
    "cbarDChl.set_label(r'[mg Chl m$^{-3}$]') "
   ]
  },
  {
   "cell_type": "markdown",
   "metadata": {},
   "source": [
    "# Interpolation to regular grid"
   ]
  },
  {
   "cell_type": "code",
   "execution_count": null,
   "metadata": {},
   "outputs": [],
   "source": [
    "lat         = np.arange(-89.5,90.,1.)\n",
    "lon         = np.arange(-179.5,180.,1.)\n",
    "latdic, londic = np.meshgrid(lat, lon)\n",
    "\n",
    "lon_fesom = mesh.x2\n",
    "lat_fesom = mesh.y2\n",
    "\n",
    "print(np.shape(lon_fesom), np.shape(lat_fesom))"
   ]
  },
  {
   "cell_type": "markdown",
   "metadata": {},
   "source": [
    "# Phyto Chl"
   ]
  },
  {
   "cell_type": "code",
   "execution_count": null,
   "metadata": {},
   "outputs": [],
   "source": [
    "PhyChl2D_mean_interp = griddata( (lon_fesom, lat_fesom), PhyChl2D_mean.ravel(),\n",
    "                              (londic, latdic), method='nearest')\n",
    "\n",
    "PhyChl2D_mean_interp = np.ma.filled(PhyChl2D_mean_interp, np.nan)\n",
    "\n",
    "print('\\nFESOM PhyChl interpolation check [mg Chl/m3]:\\noriginal min {0:5.4f} max {1:5.4f} mean {2:5.4f} \\ninterpol min {3:5.4f} max {4:5.4f} mean {5:5.4f}'.format(\n",
    "                np.nanmin(PhyChl2D_mean),np.nanmax(PhyChl2D_mean),np.nanmean(PhyChl2D_mean),\n",
    "                np.nanmin(PhyChl2D_mean_interp),np.nanmax(PhyChl2D_mean_interp),np.nanmean(PhyChl2D_mean_interp)))\n",
    "    "
   ]
  },
  {
   "cell_type": "code",
   "execution_count": null,
   "metadata": {
    "scrolled": false
   },
   "outputs": [],
   "source": [
    "### Interpolation check\n",
    "figDChl = plt.figure(num=18, figsize=(8, 8), dpi=300, facecolor='w', edgecolor='k')\n",
    "   \n",
    "map = Basemap(projection='robin',lon_0=0)\n",
    "x, y = map(londic, latdic)\n",
    "map.drawmapboundary(fill_color='0.9')\n",
    "map.drawcoastlines()\n",
    "mlabels=[False,False,False,False]\n",
    "plabels=[True,True,True,True]\n",
    "map.drawparallels(np.arange(-90,90,30),labels=plabels) #[1,0,0,0]\n",
    "map.drawmeridians(np.arange(map.lonmin,map.lonmax+30,60),labels=mlabels) #[0,0,0,1]\n",
    "\n",
    "contoursDChl=np.array([0,0.02,0.04,0.06,0.08,0.1,0.12,0.14,0.16,0.18,0.2,0.22,0.24,0.26,0.28,0.3,0.32,0.34,0.36,0.38,0.4,0.42,0.44,0.46,0.48,0.5,0.52,0.54,0.56,0.58,0.6])\n",
    "eps=(contoursDChl.max()-contoursDChl.min())/50.\n",
    "#data2[data2<=contours.min()]=contours.min()+eps\n",
    "#data2[data2>=contours.max()]=contours.max()-eps\n",
    "\n",
    "imDChl=plt.pcolormesh(x, y, PhyChl2D_mean_interp, \n",
    "                      norm=colors.BoundaryNorm(boundaries=contoursDChl, ncolors=256), \n",
    "                      cmap='viridis', \n",
    "                       #norm=PiecewiseNorm(contoursDChl), \n",
    "                       )\n",
    "\n",
    "labelDChl = 'Nanophyto Chlorophyll a ('+str(years[0])+' to '+str(years[len(years)-1])+')' # in case of multiple years, replace ('+str(years[0])+') by ('+str(years[0])+' to '+str(years[len(years)-1])+')\n",
    "plt.title(labelDChl)\n",
    "cbarDChl=map.colorbar(imDChl,\"bottom\", size=\"5%\", pad=\"2%\")\n",
    "cbarDChl.set_label(r'[mg Chl m$^{-3}$]')"
   ]
  },
  {
   "cell_type": "markdown",
   "metadata": {},
   "source": [
    "# Phyto C"
   ]
  },
  {
   "cell_type": "code",
   "execution_count": null,
   "metadata": {},
   "outputs": [],
   "source": [
    "PhyC2D_mean_interp = griddata( (lon_fesom, lat_fesom), PhyC2D_mean.ravel(),\n",
    "                              (londic, latdic), method='nearest')\n",
    "\n",
    "PhyC2D_mean_interp = np.ma.filled(PhyC2D_mean_interp, np.nan)\n",
    "\n",
    "print('\\nFESOM PhyC interpolation check [mmol C/m3]:\\noriginal min {0:5.4f} max {1:5.4f} mean {2:5.4f} \\ninterpol min {3:5.4f} max {4:5.4f} mean {5:5.4f}'.format(\n",
    "            np.nanmin(PhyC2D_mean),np.nanmax(PhyC2D_mean),np.nanmean(PhyC2D_mean),\n",
    "            np.nanmin(PhyC2D_mean_interp),np.nanmax(PhyC2D_mean_interp),np.nanmean(PhyC2D_mean_interp)))\n",
    "    "
   ]
  },
  {
   "cell_type": "code",
   "execution_count": null,
   "metadata": {},
   "outputs": [],
   "source": [
    "### Interpolation check\n",
    "figDChl = plt.figure(num=18, figsize=(8, 8), dpi=300, facecolor='w', edgecolor='k')\n",
    "   \n",
    "map = Basemap(projection='robin',lon_0=0)\n",
    "x, y = map(londic, latdic)\n",
    "map.drawmapboundary(fill_color='0.9')\n",
    "map.drawcoastlines()\n",
    "mlabels=[False,False,False,False]\n",
    "plabels=[True,True,True,True]\n",
    "map.drawparallels(np.arange(-90,90,30),labels=plabels) #[1,0,0,0]\n",
    "map.drawmeridians(np.arange(map.lonmin,map.lonmax+30,60),labels=mlabels) #[0,0,0,1]\n",
    "\n",
    "#contoursDChl=np.array([0,0.02,0.04,0.06,0.08,0.1,0.12,0.14,0.16,0.18,0.2,0.22,0.24,0.26,0.28,0.3,0.32,0.34,0.36,0.38,0.4,0.42,0.44,0.46,0.48,0.5,0.52,0.54,0.56,0.58,0.6])\n",
    "eps=(contoursDChl.max()-contoursDChl.min())/50.\n",
    "#data2[data2<=contours.min()]=contours.min()+eps\n",
    "#data2[data2>=contours.max()]=contours.max()-eps\n",
    "\n",
    "imDChl=plt.pcolormesh(x, y, PhyC2D_mean_interp, \n",
    "                      #norm=colors.BoundaryNorm(boundaries=contoursDChl, ncolors=256), \n",
    "                      cmap='viridis', \n",
    "                       #norm=PiecewiseNorm(contoursDChl), \n",
    "                       )\n",
    "\n",
    "labelDChl = 'Nanophyto Carbon ('+str(years[0])+' to '+str(years[len(years)-1])+')' # in case of multiple years, replace ('+str(years[0])+') by ('+str(years[0])+' to '+str(years[len(years)-1])+')\n",
    "plt.title(labelDChl)\n",
    "cbarDChl=map.colorbar(imDChl,\"bottom\", size=\"5%\", pad=\"2%\")\n",
    "cbarDChl.set_label(r'[mmol C m$^{-3}$]')"
   ]
  },
  {
   "cell_type": "markdown",
   "metadata": {},
   "source": [
    "# Diatom Chl"
   ]
  },
  {
   "cell_type": "code",
   "execution_count": null,
   "metadata": {},
   "outputs": [],
   "source": [
    "DiaChl2D_mean_interp = griddata( (lon_fesom, lat_fesom), DiaChl2D_mean.ravel(),\n",
    "                              (londic, latdic), method='nearest')\n",
    "\n",
    "DiaChl2D_mean_interp = np.ma.filled(DiaChl2D_mean_interp, np.nan)\n",
    "\n",
    "print('\\nFESOM DiaChl interpolation check [mg Chl/m3]:\\noriginal min {0:5.4f} max {1:5.4f} mean {2:5.4f} \\ninterpol min {3:5.4f} max {4:5.4f} mean {5:5.4f}'.format(\n",
    "            np.nanmin(DiaChl2D_mean),np.nanmax(DiaChl2D_mean),np.nanmean(DiaChl2D_mean),\n",
    "            np.nanmin(DiaChl2D_mean_interp),np.nanmax(DiaChl2D_mean_interp),np.nanmean(DiaChl2D_mean_interp)))\n",
    " "
   ]
  },
  {
   "cell_type": "code",
   "execution_count": null,
   "metadata": {},
   "outputs": [],
   "source": []
  },
  {
   "cell_type": "markdown",
   "metadata": {},
   "source": [
    "# Diatom C"
   ]
  },
  {
   "cell_type": "code",
   "execution_count": null,
   "metadata": {},
   "outputs": [],
   "source": [
    "DiaC2D_mean_interp = griddata( (lon_fesom, lat_fesom), DiaC2D_mean.ravel(),\n",
    "                              (londic, latdic), method='nearest')\n",
    "\n",
    "DiaC2D_mean_interp = np.ma.filled(DiaC2D_mean_interp, np.nan)\n",
    "\n",
    "print('\\nFESOM DiaC interpolation check [mmol C/m3]:\\noriginal min {0:5.4f} max {1:5.4f} mean {2:5.4f} \\ninterpol min {3:5.4f} max {4:5.4f} mean {5:5.4f}'.format(\n",
    "            np.nanmin(DiaC2D_mean),np.nanmax(DiaC2D_mean),np.nanmean(DiaC2D_mean),\n",
    "            np.nanmin(DiaC2D_mean_interp),np.nanmax(DiaC2D_mean_interp),np.nanmean(DiaC2D_mean_interp)))\n",
    " "
   ]
  },
  {
   "cell_type": "code",
   "execution_count": null,
   "metadata": {},
   "outputs": [],
   "source": []
  },
  {
   "cell_type": "markdown",
   "metadata": {},
   "source": [
    "# export data to temp_data"
   ]
  },
  {
   "cell_type": "code",
   "execution_count": null,
   "metadata": {},
   "outputs": [],
   "source": [
    "if dump:\n",
    "    np.save(dumppath + 'PhyChl_mg_m3.npy', PhyChl2D_mean_interp, allow_pickle=False)\n",
    "    np.save(dumppath + 'PhyC_mmol_m3.npy', PhyC2D_mean_interp, allow_pickle=False)\n",
    "    \n",
    "    np.save(dumppath + 'DiaChl_mg_m3.npy', DiaChl2D_mean_interp, allow_pickle=False)\n",
    "    np.save(dumppath + 'DiaC_mmol_m3.npy', DiaC2D_mean_interp, allow_pickle=False)"
   ]
  },
  {
   "cell_type": "code",
   "execution_count": null,
   "metadata": {},
   "outputs": [],
   "source": []
  }
 ],
 "metadata": {
  "kernelspec": {
   "display_name": "Python 3",
   "language": "python",
   "name": "python3"
  },
  "language_info": {
   "codemirror_mode": {
    "name": "ipython",
    "version": 3
   },
   "file_extension": ".py",
   "mimetype": "text/x-python",
   "name": "python",
   "nbconvert_exporter": "python",
   "pygments_lexer": "ipython3",
   "version": "3.8.6"
  }
 },
 "nbformat": 4,
 "nbformat_minor": 2
}
