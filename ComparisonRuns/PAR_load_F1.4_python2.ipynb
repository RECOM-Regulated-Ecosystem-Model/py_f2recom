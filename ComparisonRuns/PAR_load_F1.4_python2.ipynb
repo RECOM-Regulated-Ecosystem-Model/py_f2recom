{
 "cells": [
  {
   "cell_type": "code",
   "execution_count": null,
   "metadata": {},
   "outputs": [],
   "source": [
    "# PAR_load_F1.4_python2"
   ]
  },
  {
   "cell_type": "code",
   "execution_count": null,
   "metadata": {},
   "outputs": [],
   "source": [
    "import matplotlib.pyplot as plt\n",
    "import matplotlib.colors as colors\n",
    "\n",
    "import numpy as np\n",
    "from netCDF4 import Dataset\n",
    "from scipy.interpolate import griddata\n",
    "from mpl_toolkits.basemap import Basemap\n",
    "\n",
    "#from PiecewiseNorm import PiecewiseNorm\n",
    "#import os.path\n",
    "#import scipy.io as spio\n",
    "#import pickle\n",
    "\n",
    "modulepath   = '/home/ollie/mozeisin/pyfesom/'\n",
    "\n",
    "import sys\n",
    "sys.path.append(modulepath)\n",
    "\n",
    "import pyfesom as pf1"
   ]
  },
  {
   "cell_type": "markdown",
   "metadata": {},
   "source": [
    "# load FESOM 1.4 data"
   ]
  },
  {
   "cell_type": "code",
   "execution_count": null,
   "metadata": {},
   "outputs": [],
   "source": [
    "resultpath = '/work/ollie/ncara/fesom/fesom-1.4-recom/v3/reccap_A_varCO2_varclim_1958_2019/'\n",
    "\n",
    "#meshpath     = '/work/ollie/jhauck/input/meshes/CORE2/'\n",
    "meshpath     = '/work/ollie/jhauck/input/meshes/core_new_288/'\n",
    "#meshpath     = '/work/ollie/jhauck/input/meshes/core_new_384/'\n",
    "\n",
    "# period of analysis \n",
    "first_year = 1960\n",
    "last_year  = 1970\n",
    "    \n",
    "# number of upper ocean layers for surface mean\n",
    "n_levels = 1\n",
    "\n",
    "years = [first_year,last_year]\n",
    "years_list      = np.arange(first_year,last_year+1,1)\n",
    "months     = np.linspace(0,11,12).astype(int)\n",
    "\n",
    "# dump data to this folder\n",
    "dump = False\n",
    "dumppath = '/work/ollie/mozeisin/evaluation/temp_data/FESOM1.4_'+str(first_year)+'_'+str(last_year)+'_'"
   ]
  },
  {
   "cell_type": "code",
   "execution_count": null,
   "metadata": {},
   "outputs": [],
   "source": [
    "# load mesh --------------------------------------------------------------------------------------------\n",
    "mesh = pf1.load_mesh(meshpath,abg=[0,0,0],get3d=True,usepickle=False)"
   ]
  },
  {
   "cell_type": "code",
   "execution_count": null,
   "metadata": {},
   "outputs": [],
   "source": [
    "print(mesh.n2d)\n",
    "#print(len(mesh.x2))"
   ]
  },
  {
   "cell_type": "code",
   "execution_count": null,
   "metadata": {},
   "outputs": [],
   "source": [
    "# overview nc variables\n",
    "ncfilePhyChl = resultpath+var_PhyChl+'_'+runid+'_'+str(years_list[ind])+'0101.nc'"
   ]
  },
  {
   "cell_type": "code",
   "execution_count": null,
   "metadata": {},
   "outputs": [],
   "source": [
    "# define FESOM output variables to use --------------------------------------------------------------------------------------------\n",
    "runid='fesom'\n",
    "\n",
    "var_PAR = '' # []\n",
    "\n",
    "# define storage arrays --------------------------------------------------------------------------------------------\n",
    "PAR = np.zeros(len(mesh.x2))\n",
    "\n",
    "\n",
    "#print(np.shape(PAR))\n",
    "\n",
    "# load data --------------------------------------------------------------------------------------------\n",
    "for ind in range(0,len(years_list)):\n",
    "    print(years_list[ind])\n",
    "    \n",
    "    # PAR\n",
    "    ncfile = resultpath+var_PAR+'_'+runid+'_'+str(years_list[ind])+'0101.nc'\n",
    "    f      = Dataset(ncfile, 'r')\n",
    "    PARaux    = f.variables[var_PAR][:].mean(axis=0) # annual mean\n",
    "    #print(np.shape(PARaux[0:mesh.n2d]))\n",
    "    PAR  = PAR + PARaux[0,0:mesh.n2d] # select only surface layer\n",
    "    #print(np.shape(PAR))\n",
    "\n",
    "   \n",
    "    \n",
    "# data means --------------------------------------------------------------------------------------------    \n",
    "PAR_mean = PAR/len(years_list)\n",
    "\n",
    "\n",
    "#print(np.shape(PAR_mean))\n"
   ]
  },
  {
   "cell_type": "markdown",
   "metadata": {},
   "source": [
    "# Control: Plotting on original grid (basemap)"
   ]
  },
  {
   "cell_type": "code",
   "execution_count": null,
   "metadata": {},
   "outputs": [],
   "source": [
    "elem2=mesh.elem[mesh.no_cyclic_elem,:]\n",
    "d=PhyChl2D_mean[elem2].mean(axis=1)\n",
    "k = [i for (i, val) in enumerate(d) if not np.isnan(val)]\n",
    "elem2=elem2[k,:]\n",
    "print 'ftriplot, number of dummy points:', len(d)-len(k) \n",
    "\n",
    "fig = plt.figure(num=18, figsize=(8, 8), dpi=300, facecolor='w', edgecolor='k')\n",
    "   \n",
    "map = Basemap(projection='robin',lon_0=0)\n",
    "x, y = map(mesh.x2, mesh.y2)\n",
    "map.drawmapboundary(fill_color='0.9')\n",
    "map.drawcoastlines()\n",
    "mlabels=[False,False,False,False]\n",
    "plabels=[True,True,True,True]\n",
    "map.drawparallels(np.arange(-90,90,30),labels=plabels) #[1,0,0,0]\n",
    "map.drawmeridians(np.arange(map.lonmin,map.lonmax+30,60),labels=mlabels) #[0,0,0,1]\n",
    "\n",
    "contoursDChl=np.array([0,0.02,0.04,0.06,0.08,0.1,0.12,0.14,0.16,0.18,0.2,0.22,0.24,0.26,0.28,0.3,0.32,0.34,0.36,0.38,0.4,0.42,0.44,0.46,0.48,0.5,0.52,0.54,0.56,0.58,0.6])\n",
    "eps=(contoursDChl.max()-contoursDChl.min())/50.\n",
    "#data2[data2<=contours.min()]=contours.min()+eps\n",
    "#data2[data2>=contours.max()]=contours.max()-eps\n",
    "\n",
    "imDChl=plt.tricontourf(x, y, elem2, PAR_mean, \n",
    "                       #levels=contoursDChl, \n",
    "                       cmap='viridis', \n",
    "                       #norm=PiecewiseNorm(contoursDChl), \n",
    "                       extend='max')\n",
    "\n",
    "labelPAR = 'PAR ('+str(years[0])+' to '+str(years[len(years)-1])+')' # in case of multiple years, replace ('+str(years[0])+') by ('+str(years[0])+' to '+str(years[len(years)-1])+')\n",
    "plt.title(labelPAR)\n",
    "cbarDChl=map.colorbar(imDChl,\"bottom\", size=\"5%\", pad=\"2%\")\n",
    "cbarDChl.set_label(r'[]') "
   ]
  },
  {
   "cell_type": "markdown",
   "metadata": {},
   "source": [
    "# Interpolation to regular grid"
   ]
  },
  {
   "cell_type": "code",
   "execution_count": null,
   "metadata": {},
   "outputs": [],
   "source": [
    "lat         = np.arange(-89.5,90.,1.)\n",
    "lon         = np.arange(-179.5,180.,1.)\n",
    "latdic, londic = np.meshgrid(lat, lon)\n",
    "\n",
    "lon_fesom = mesh.x2\n",
    "lat_fesom = mesh.y2\n",
    "\n",
    "print(np.shape(lon_fesom), np.shape(lat_fesom))"
   ]
  },
  {
   "cell_type": "markdown",
   "metadata": {},
   "source": [
    "# PAR check"
   ]
  },
  {
   "cell_type": "code",
   "execution_count": null,
   "metadata": {},
   "outputs": [],
   "source": [
    "PAR_mean_interp = griddata( (lon_fesom, lat_fesom), PAR_mean.ravel(),\n",
    "                              (londic, latdic), method='nearest')\n",
    "\n",
    "PAR_mean_interp = np.ma.filled(PAR_mean_interp, np.nan)\n",
    "\n",
    "print('\\nFESOM PAR interpolation check [?]:\\noriginal min {0:5.4f} max {1:5.4f} mean {2:5.4f} \\ninterpol min {3:5.4f} max {4:5.4f} mean {5:5.4f}'.format(\n",
    "                np.nanmin(PAR_mean),np.nanmax(PAR_mean),np.nanmean(PAR_mean),\n",
    "                np.nanmin(PAR_mean_interp),np.nanmax(PAR_mean_interp),np.nanmean(PAR_mean_interp)))\n",
    "    "
   ]
  },
  {
   "cell_type": "code",
   "execution_count": null,
   "metadata": {
    "scrolled": false
   },
   "outputs": [],
   "source": [
    "### Interpolation check\n",
    "figDChl = plt.figure(num=18, figsize=(8, 8), dpi=300, facecolor='w', edgecolor='k')\n",
    "   \n",
    "map = Basemap(projection='robin',lon_0=0)\n",
    "x, y = map(londic, latdic)\n",
    "map.drawmapboundary(fill_color='0.9')\n",
    "map.drawcoastlines()\n",
    "mlabels=[False,False,False,False]\n",
    "plabels=[True,True,True,True]\n",
    "map.drawparallels(np.arange(-90,90,30),labels=plabels) #[1,0,0,0]\n",
    "map.drawmeridians(np.arange(map.lonmin,map.lonmax+30,60),labels=mlabels) #[0,0,0,1]\n",
    "\n",
    "#contoursDChl=np.array([0,0.02,0.04,0.06,0.08,0.1,0.12,0.14,0.16,0.18,0.2,0.22,0.24,0.26,0.28,0.3,0.32,0.34,0.36,0.38,0.4,0.42,0.44,0.46,0.48,0.5,0.52,0.54,0.56,0.58,0.6])\n",
    "eps=(contoursDChl.max()-contoursDChl.min())/50.\n",
    "#data2[data2<=contours.min()]=contours.min()+eps\n",
    "#data2[data2>=contours.max()]=contours.max()-eps\n",
    "\n",
    "imDChl=plt.pcolormesh(x, y, PAR_mean, \n",
    "                      #norm=colors.BoundaryNorm(boundaries=contoursDChl, ncolors=256), \n",
    "                      cmap='viridis', \n",
    "                       #norm=PiecewiseNorm(contoursDChl), \n",
    "                       )\n",
    "\n",
    "labelDChl = 'PAR ('+str(years[0])+' to '+str(years[len(years)-1])+')' # in case of multiple years, replace ('+str(years[0])+') by ('+str(years[0])+' to '+str(years[len(years)-1])+')\n",
    "plt.title(labelDChl)\n",
    "cbarDChl=map.colorbar(imDChl,\"bottom\", size=\"5%\", pad=\"2%\")\n",
    "cbarDChl.set_label(r'[]')"
   ]
  },
  {
   "cell_type": "markdown",
   "metadata": {},
   "source": [
    "# export data to temp_data"
   ]
  },
  {
   "cell_type": "code",
   "execution_count": null,
   "metadata": {},
   "outputs": [],
   "source": [
    "if dump:\n",
    "    np.save(dumppath + 'PAR.npy',PAR_mean_interp, allow_pickle=False)\n",
    "    "
   ]
  },
  {
   "cell_type": "code",
   "execution_count": null,
   "metadata": {},
   "outputs": [],
   "source": []
  }
 ],
 "metadata": {
  "kernelspec": {
   "display_name": "Python 3",
   "language": "python",
   "name": "python3"
  },
  "language_info": {
   "codemirror_mode": {
    "name": "ipython",
    "version": 3
   },
   "file_extension": ".py",
   "mimetype": "text/x-python",
   "name": "python",
   "nbconvert_exporter": "python",
   "pygments_lexer": "ipython3",
   "version": "3.8.6"
  }
 },
 "nbformat": 4,
 "nbformat_minor": 2
}
