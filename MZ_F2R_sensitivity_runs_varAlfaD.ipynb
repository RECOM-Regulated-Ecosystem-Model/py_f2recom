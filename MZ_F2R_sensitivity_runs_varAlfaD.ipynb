{
 "cells": [
  {
   "cell_type": "markdown",
   "metadata": {},
   "source": [
    "# Evaluation of $\\alpha_{d}$ parameter variation\n",
    "# Light-harvesting efficiency diatoms\n",
    "\n",
    "#### Control: run 'mo5', $\\alpha_{d}$ = 0.19, pacific hydrothermal vent masked\n",
    "\n",
    "run 'mo4', $\\alpha_{d}$ = 0.19, pacific hydrothermal vent NOT masked\n",
    "\n",
    "run 'mo8', $\\alpha_{d}$ = 0.18, pacific hydrothermal vent masked\n",
    "\n",
    "run 'mo9', $\\alpha_{d}$ = 0.20, pacific hydrothermal vent masked"
   ]
  },
  {
   "cell_type": "code",
   "execution_count": null,
   "metadata": {},
   "outputs": [],
   "source": [
    "%autosave 5\n",
    "%matplotlib inline"
   ]
  },
  {
   "cell_type": "markdown",
   "metadata": {},
   "source": [
    "# To do\n",
    "#### Include Datasets\n",
    "isibhv/projects: OCCCI\n"
   ]
  },
  {
   "cell_type": "code",
   "execution_count": null,
   "metadata": {},
   "outputs": [],
   "source": [
    "import pyfesom2 as pf\n",
    "import math\n",
    "import numpy as np\n",
    "import matplotlib.pylab as plt\n",
    "import matplotlib.cm as cm\n",
    "from matplotlib import gridspec\n",
    "from netCDF4 import Dataset\n",
    "import time\n",
    "from datetime import date\n",
    "import cartopy.crs as ccrs\n",
    "import pangaeapy.pandataset as pd\n",
    "\n",
    "import skill_metrics as sm\n",
    "from plot_Taylor_normalized import plt_Taylor_norm\n",
    "\n",
    "!jupyter nbconvert --to=python F2R_sensitivity_toolbox.ipynb\n",
    "import F2R_sensitivity_toolbox as stx\n",
    "\n",
    "import warnings\n",
    "warnings.filterwarnings('ignore')"
   ]
  },
  {
   "cell_type": "code",
   "execution_count": null,
   "metadata": {},
   "outputs": [],
   "source": [
    "# mesh ------------------------------------------------------------------------------------\n",
    "meshpath = '/work/ollie/mozeisin/mesh/mesh_fesom2.0/core2_meanz'\n",
    "\n",
    "# list of runs ------------------------------------------------------------------------------------\n",
    "# first run speciefied is used as control run\n",
    "resultpath = '/work/ollie/mozeisin/results/f2r1.2'\n",
    "path_list = '/mo5', '/mo4', '/mo8', '/mo9'\n",
    "resultpath = [resultpath +i for i in path_list]\n",
    "\n",
    "# corresponding runid of FESOM runs\n",
    "idlist = ('fesom', 'fesom', 'fesom', 'fesom') \n",
    "# see corresponding plotting labels below\n",
    "\n",
    "# props of analysis ------------------------------------------------------------------------------------\n",
    "# analysing fesom parameter\n",
    "fesom_parameter = 'AlfaD'\n",
    "\n",
    "first_year = 1951\n",
    "last_year = 1957\n",
    "years = [first_year, last_year]\n",
    "\n",
    "depth=0\n",
    "\n",
    "# props of plotting ------------------------------------------------------------------------------------\n",
    "#pc = ccrs.PlateCarree()\n",
    "#rob = ccrs.Robinson()\n",
    "mapproj = 'pc'\n",
    "\n",
    "# label used for plotting\n",
    "figlabel = ('CTRL ($\\\\alpha_{d}$ = 0.19)', 'CTRL (without mask)', '$\\\\alpha_{d}$ = 0.18', '$\\\\alpha_{d}$ = 0.20') \n",
    "\n",
    "# labels used for saving output\n",
    "savelabel = ('CTRL_AlfaD_19','CTRL_woMask_AlfaD_19','AlfaD_18','AlfaD_20')\n",
    "\n",
    "# rows and columns for subplots\n",
    "rowscol = (2,2)\n",
    "\n",
    "# export of analysis ------------------------------------------------------------------------------------\n",
    "savefig = True\n",
    "\n",
    "savepath = '/home/ollie/mozeisin/evaluation/mo_files/F2R_sensitivity/'\n",
    "\n",
    "today = date.today().strftime(\"_%Y_%m_%d\")\n",
    "htmlname     =  'F2R_sensitivity_' + fesom_parameter + '_' + today +'.html'\n",
    "htmlpath = '/home/ollie/mozeisin/evaluation/mo_files/html/'\n",
    "\n",
    "# initialization file specifications -----------------------------------------------------------\n",
    "ncfileMaredat = \"/home/ollie/mozeisin/obs/MarEDat/MarEDat20120716Diatoms.nc\"\n",
    "\n",
    "#obspath      = '/home/ollie/mseifert/py_fesom/CreateRunFiles/Initialization/Output/'\n",
    "\n",
    "#ncfileAlk                = '/work/ollie/projects/MarESys/evaluation/GLODAPv2.2016b.TAlk.nc'\n",
    "#ncfileDIC                = '/work/ollie/projects/MarESys/evaluation/GLODAPv2.2016b.TCO2.nc'\n",
    "#ncfileDSi                = '/work/ollie/projects/MarESys/evaluation/woa13_all_i00_01.nc'\n",
    "ncfileDIN                = '/work/ollie/projects/MarESys/evaluation/woa13_all_n00_01.nc'\n",
    "#ncfileDO2                = '/work/ollie/projects/MarESys/evaluation/woa18_all_o00_01.nc'\n",
    "#ncfileDFe                = '/work/ollie/projects/MarESys/evaluation/fe_pisces_opa_eq_init_3D.nc' \n",
    "#ncfileNPPTotalGlobal     = '/work/ollie/projects/MarESys/evaluation/'+'fesom.initial.mesh.diag.nc'\n",
    "#ncfileCO2fluxTotalGlobal = '/work/ollie/projects/MarESys/evaluation/'+'fesom.initial.mesh.diag.nc'\n",
    "#ncfileTemp               = '/work/ollie/projects/MarESys/evaluation/woa18_decav_t00_01.nc'\n",
    "#ncfileSal                = '/work/ollie/projects/MarESys/evaluation/woa18_decav_s00_01.nc'\n",
    "#ncfilepCO2               = '/work/ollie/projects/MarESys/evaluation/SOCATv6_tracks_gridded_monthly.nc'\n",
    "#ncfileMLD                = '/work/ollie/projects/MarESys/evaluation/mld_DR003.nc'\n",
    "matfileChlsurf           = '/work/ollie/projects/MarESys/evaluation/climatology_annual_chl_1deg_OCCCI_2012_2015.mat'\n",
    "#txtfileCO2flux           = '/work/ollie/projects/MarESys/evaluation/CO2_flux2015_Takahashietal2009_original.txt'\n"
   ]
  },
  {
   "cell_type": "markdown",
   "metadata": {},
   "source": [
    "#### quickly check input"
   ]
  },
  {
   "cell_type": "code",
   "execution_count": null,
   "metadata": {},
   "outputs": [],
   "source": [
    "resultpath"
   ]
  },
  {
   "cell_type": "code",
   "execution_count": null,
   "metadata": {},
   "outputs": [],
   "source": [
    "print('Period: {0} to {1}'.format(years[0],years[1]))"
   ]
  },
  {
   "cell_type": "code",
   "execution_count": null,
   "metadata": {
    "scrolled": false
   },
   "outputs": [],
   "source": [
    "# mesh initialization -----------------------------------------------------------\n",
    "mesh = pf.load_mesh(meshpath)\n",
    "\n",
    "# load FESOM mesh diag -------------------------------------------------------------------------------\n",
    "meshdiag= meshpath +'fesom.mesh.diag.nc'\n",
    "#!ncdump -h $meshdiag\n",
    "\n",
    "diag = pf.get_meshdiag(mesh)\n",
    "#print(diag)\n",
    "#print(diag['Z']) # depth of layers\n",
    "mesh_depths = diag['Z'].values\n",
    "\n",
    "stx.check_plot_mesh(mesh, plot_globe = False)"
   ]
  },
  {
   "cell_type": "markdown",
   "metadata": {},
   "source": [
    "# MarEDAT"
   ]
  },
  {
   "cell_type": "code",
   "execution_count": null,
   "metadata": {},
   "outputs": [],
   "source": [
    "#!ncdump -h $ncfileMaredat"
   ]
  },
  {
   "cell_type": "code",
   "execution_count": null,
   "metadata": {},
   "outputs": [],
   "source": [
    "# load maredat\n",
    "lat_maredat, lon_maredat, maredat_layered = stx.maredat_load(ncfileMaredat)"
   ]
  },
  {
   "cell_type": "code",
   "execution_count": null,
   "metadata": {},
   "outputs": [],
   "source": [
    "# maredat mean min max of 0-5m\n",
    "print('MarEDAT mean min max at 0-5m:')\n",
    "np.nanmean(maredat_layered[0]), np.nanmin(maredat_layered[0]), np.nanmax(maredat_layered[0])"
   ]
  },
  {
   "cell_type": "code",
   "execution_count": null,
   "metadata": {},
   "outputs": [],
   "source": [
    "# overview plot: maredat\n",
    "fig = stx.maredat_overview_plot(maredat_layered,lon_maredat, lat_maredat,mapproj)"
   ]
  },
  {
   "cell_type": "markdown",
   "metadata": {},
   "source": [
    "# FESOM Diatom carbon"
   ]
  },
  {
   "cell_type": "markdown",
   "metadata": {},
   "source": [
    "#### - load FESOM data for all specified runs\n",
    "#### - plot comparison graph for one depth"
   ]
  },
  {
   "cell_type": "code",
   "execution_count": null,
   "metadata": {
    "scrolled": false
   },
   "outputs": [],
   "source": [
    "#NCfesom = resultpath[0] + '/DiaC.'+idlist[0]+'.1948.nc' # DiaC:units = \"[mmol/m3]\"\n",
    "#!ncdump -h $NCfesom\n",
    "\n",
    "units = 'Diatom intracell. Carbon [mg C m$^{{-3}}$]\\n{0}-{1} at {2} m'.format(years[0],years[1],depth)\n",
    "#units = 'Intracellular C [mg C m$^{-3}$]'\n",
    "\n",
    "DiaC = [0]*len(idlist)\n",
    "\n",
    "for i in range(len(idlist)):\n",
    "    print(resultpath[i])\n",
    "    DiaC[i] = pf.get_data(resultpath[i], \"DiaC\", years, mesh, runid=idlist[i], how=\"mean\", compute=True, depth=depth)\n",
    "    DiaC[i] = DiaC[i] * 12.01\n",
    "\n",
    "fig = pf.plot(mesh, [data for data in DiaC], mapproj = mapproj, units=units, cmap = 'viridis',\n",
    "              rowscol = rowscol, #(math.ceil(len(idlist)/3), 3), \n",
    "              figsize = (15,10),\n",
    "              titles=[title for title in figlabel])\n",
    "\n",
    "## differences\n",
    "fig = pf.plot(mesh, [data-DiaC[0] for data in DiaC], mapproj = mapproj, units='MODEL - CTRL\\n'+units, \n",
    "              rowscol = rowscol, #(math.ceil(len(idlist)/3), 3), \n",
    "              figsize = (15,10),\n",
    "              #levels = (-2.5e-2,2.5e-2, 30), \n",
    "              cmap = 'RdBu',\n",
    "              titles=[title for title in figlabel])"
   ]
  },
  {
   "cell_type": "markdown",
   "metadata": {},
   "source": [
    "# FESOM comparison to MarEDat"
   ]
  },
  {
   "cell_type": "code",
   "execution_count": null,
   "metadata": {},
   "outputs": [],
   "source": [
    "if False:\n",
    "    print(np.shape(mesh.zlev)) # levels\n",
    "    print(np.shape(mesh_depths)) # layers\n",
    "\n",
    "    print(mesh.zlev)\n",
    "    print(mesh_depths)"
   ]
  },
  {
   "cell_type": "markdown",
   "metadata": {},
   "source": [
    "#### Interpolating FESOM depth-range-means to 1x1 grid"
   ]
  },
  {
   "cell_type": "code",
   "execution_count": null,
   "metadata": {
    "scrolled": false
   },
   "outputs": [],
   "source": [
    "mo5 = stx.fesom_to_maredat_levels(resultpath[0], idlist[0], years, mesh, lon_maredat, lat_maredat)\n",
    "mo4 = stx.fesom_to_maredat_levels(resultpath[1], idlist[1], years, mesh, lon_maredat, lat_maredat)\n",
    "mo6 = stx.fesom_to_maredat_levels(resultpath[2], idlist[2], years, mesh, lon_maredat, lat_maredat)\n",
    "mo7 = stx.fesom_to_maredat_levels(resultpath[3], idlist[3], years, mesh, lon_maredat, lat_maredat)"
   ]
  },
  {
   "cell_type": "markdown",
   "metadata": {},
   "source": [
    "#### Plot runs"
   ]
  },
  {
   "cell_type": "code",
   "execution_count": null,
   "metadata": {},
   "outputs": [],
   "source": [
    "stx.fesom_plot_depths(mo5, figlabel[0], savelabel[0], lon_maredat, lat_maredat, \n",
    "                      mapproj, years, savefig=savefig, savepath=savepath)"
   ]
  },
  {
   "cell_type": "code",
   "execution_count": null,
   "metadata": {},
   "outputs": [],
   "source": [
    "stx.fesom_plot_depths(mo4, figlabel[1], savelabel[1], lon_maredat, lat_maredat, \n",
    "                      mapproj, years, savefig=savefig, savepath=savepath)"
   ]
  },
  {
   "cell_type": "code",
   "execution_count": null,
   "metadata": {},
   "outputs": [],
   "source": [
    "stx.fesom_plot_depths(mo6, figlabel[2], savelabel[2], lon_maredat, lat_maredat, \n",
    "                      mapproj, years, savefig=savefig, savepath=savepath)"
   ]
  },
  {
   "cell_type": "code",
   "execution_count": null,
   "metadata": {},
   "outputs": [],
   "source": [
    "stx.fesom_plot_depths(mo7, figlabel[3], savelabel[3], lon_maredat, lat_maredat, \n",
    "                      mapproj, years, savefig=savefig, savepath=savepath)"
   ]
  },
  {
   "cell_type": "markdown",
   "metadata": {},
   "source": [
    "# MarEDAT and FESOM side by side"
   ]
  },
  {
   "cell_type": "code",
   "execution_count": null,
   "metadata": {},
   "outputs": [],
   "source": [
    "stx.plot_2cols(mo5,figlabel[0],savelabel[0], maredat_layered, lon_maredat, lat_maredat, mapproj, years, savefig, savepath)"
   ]
  },
  {
   "cell_type": "code",
   "execution_count": null,
   "metadata": {},
   "outputs": [],
   "source": [
    "stx.plot_2cols(mo4,figlabel[1],savelabel[1], maredat_layered, lon_maredat, lat_maredat, mapproj, years, savefig, savepath)"
   ]
  },
  {
   "cell_type": "code",
   "execution_count": null,
   "metadata": {},
   "outputs": [],
   "source": [
    "stx.plot_2cols(mo6,figlabel[2],savelabel[2], maredat_layered, lon_maredat, lat_maredat, mapproj, years, savefig, savepath)"
   ]
  },
  {
   "cell_type": "code",
   "execution_count": null,
   "metadata": {},
   "outputs": [],
   "source": [
    "stx.plot_2cols(mo7,figlabel[3],savelabel[3], maredat_layered, lon_maredat, lat_maredat, mapproj, years, savefig, savepath)"
   ]
  },
  {
   "cell_type": "markdown",
   "metadata": {},
   "source": [
    "# Prepare for statistics"
   ]
  },
  {
   "cell_type": "markdown",
   "metadata": {},
   "source": [
    "### apply mask"
   ]
  },
  {
   "cell_type": "code",
   "execution_count": null,
   "metadata": {},
   "outputs": [],
   "source": [
    "# mask model where MarEDAT not available\n",
    "mo5_ma = stx.mask_model_with_maredat(mo5,maredat_layered)\n",
    "mo4_ma = stx.mask_model_with_maredat(mo4,maredat_layered)\n",
    "mo6_ma = stx.mask_model_with_maredat(mo6,maredat_layered)\n",
    "mo7_ma = stx.mask_model_with_maredat(mo7,maredat_layered)"
   ]
  },
  {
   "cell_type": "markdown",
   "metadata": {},
   "source": [
    "#### CONTROL of masking for 0-5 m \n"
   ]
  },
  {
   "cell_type": "code",
   "execution_count": null,
   "metadata": {},
   "outputs": [],
   "source": [
    "if True:\n",
    "    fig, axes = plt.subplots(1,2, \n",
    "                             subplot_kw=dict(projection=ccrs.Robinson()),\n",
    "                             gridspec_kw={'hspace': 0.001, 'wspace': 0.1},\n",
    "                             figsize=(20,20))\n",
    "    # 0-5 m maredat \n",
    "    m1 = axes[0]\n",
    "    f1 = m1.pcolormesh(lon_maredat, lat_maredat, np.log10(maredat_layered[0]), \n",
    "                       transform = ccrs.PlateCarree(),\n",
    "                        shading='flat', vmin=np.log10(0.001), vmax=np.log10(200), \n",
    "                        cmap=plt.cm.viridis)\n",
    "    stx.mygrid(m1)\n",
    "    m1.set_title('MarEDAT 0-5 m', fontsize=20)\n",
    "\n",
    "    # FESOM \n",
    "    m1 = axes[1]\n",
    "    f1 = m1.pcolormesh(lon_maredat, lat_maredat, np.log10(mo5_ma[0]), \n",
    "                       transform = ccrs.PlateCarree(),\n",
    "                        shading='flat', vmin=np.log10(0.001), vmax=np.log10(200), \n",
    "                        cmap=plt.cm.viridis)\n",
    "    stx.mygrid(m1)\n",
    "    m1.set_title('FESOM 0-5 m', fontsize=20)"
   ]
  },
  {
   "cell_type": "markdown",
   "metadata": {},
   "source": [
    "# Taylor statistics"
   ]
  },
  {
   "cell_type": "code",
   "execution_count": null,
   "metadata": {},
   "outputs": [],
   "source": [
    "depth_range = [0,5,25,100,'bot']"
   ]
  },
  {
   "cell_type": "code",
   "execution_count": null,
   "metadata": {},
   "outputs": [],
   "source": [
    "if False: #old\n",
    "    fig, sdev, crmsd, ccoef = stx.plot_Taylor(maredat_layered[0],mo5_ma[0],\n",
    "                        plot_depth = '0-5m')"
   ]
  },
  {
   "cell_type": "code",
   "execution_count": null,
   "metadata": {
    "scrolled": false
   },
   "outputs": [],
   "source": [
    "# print all runs at once\n",
    "# mo5\n",
    "fig, sdev, crmsd, ccoef_mo5 = stx.plot_Taylor_all_depths(maredat_layered,mo5_ma,depth_range)"
   ]
  },
  {
   "cell_type": "code",
   "execution_count": null,
   "metadata": {
    "scrolled": false
   },
   "outputs": [],
   "source": [
    "# mo4\n",
    "fig, sdev, crmsd, ccoef_mo4 = stx.plot_Taylor_all_depths(maredat_layered,mo4_ma,depth_range)"
   ]
  },
  {
   "cell_type": "code",
   "execution_count": null,
   "metadata": {
    "scrolled": false
   },
   "outputs": [],
   "source": [
    "# mo6\n",
    "fig, sdev, crmsd, ccoef_mo6 = stx.plot_Taylor_all_depths(maredat_layered,mo6_ma,depth_range)"
   ]
  },
  {
   "cell_type": "code",
   "execution_count": null,
   "metadata": {
    "scrolled": false
   },
   "outputs": [],
   "source": [
    "# mo7\n",
    "fig, sdev, crmsd, ccoef_mo7 = stx.plot_Taylor_all_depths(maredat_layered,mo7_ma,depth_range)"
   ]
  },
  {
   "cell_type": "markdown",
   "metadata": {},
   "source": [
    "# Scatter plots (as Miriam)"
   ]
  },
  {
   "cell_type": "code",
   "execution_count": null,
   "metadata": {},
   "outputs": [],
   "source": [
    "stx.plot_scatter(mo5_ma, figlabel[0], savelabel[0], maredat_layered, years, savefig, savepath, ccoef_mo5)"
   ]
  },
  {
   "cell_type": "code",
   "execution_count": null,
   "metadata": {},
   "outputs": [],
   "source": [
    "stx.plot_scatter(mo4_ma, figlabel[1], savelabel[1], maredat_layered, years, savefig, savepath, ccoef_mo4)\n"
   ]
  },
  {
   "cell_type": "code",
   "execution_count": null,
   "metadata": {},
   "outputs": [],
   "source": [
    "stx.plot_scatter(mo6_ma, figlabel[2], savelabel[2], maredat_layered, years, savefig, savepath, ccoef_mo6)\n"
   ]
  },
  {
   "cell_type": "code",
   "execution_count": null,
   "metadata": {},
   "outputs": [],
   "source": [
    "stx.plot_scatter(mo7_ma, figlabel[3], savelabel[3], maredat_layered, years, savefig, savepath, ccoef_mo7)\n"
   ]
  },
  {
   "cell_type": "markdown",
   "metadata": {},
   "source": [
    "# Diatom silicate"
   ]
  },
  {
   "cell_type": "code",
   "execution_count": null,
   "metadata": {
    "scrolled": false
   },
   "outputs": [],
   "source": [
    "units = 'Diatom intracell. Silicate [mmol m$^{{-3}}$]\\n{0}-{1}'.format(years[0],years[1])\n",
    "#units = 'intracellular Si [mmol m$^{-3}$]'\n",
    "\n",
    "DiaSi = [0]*len(idlist)\n",
    "\n",
    "for i in range(len(idlist)):\n",
    "    DiaSi[i] = pf.get_data(resultpath[i], \"DiaSi\", years, mesh, runid=idlist[i], how=\"mean\", compute=True, depth=depth)\n",
    "\n",
    "fig = pf.plot(mesh, [data for data in DiaSi], mapproj = mapproj, units=units, cmap = 'viridis',\n",
    "              rowscol = rowscol, #(math.ceil(len(idlist)/3), 3), \n",
    "              figsize = (15,10),\n",
    "              titles=[title for title in figlabel])\n",
    "\n",
    "## differences\n",
    "fig = pf.plot(mesh, [data-DiaSi[0] for data in DiaSi], mapproj = mapproj, units='MODEL - CTRL\\n'+units, \n",
    "              rowscol = rowscol, #(math.ceil(len(idlist)/3), 3), \n",
    "              figsize = (15,10),\n",
    "              #levels = (-2.5e-2,2.5e-2, 30), \n",
    "              cmap = 'RdBu',\n",
    "              titles=[title for title in figlabel])"
   ]
  },
  {
   "cell_type": "markdown",
   "metadata": {},
   "source": [
    "# Chl a"
   ]
  },
  {
   "cell_type": "code",
   "execution_count": null,
   "metadata": {},
   "outputs": [],
   "source": [
    "# diatom chlorophyll\n",
    "#!ncdump -h $NCfesom\n",
    "depth = 0\n",
    "\n",
    "DiaChl = [0]*len(idlist)\n",
    "\n",
    "units ='Diatom Chl [mmol m$^{{-3}}$]\\n{0}-{1} at {2} m'.format(years[0],years[1],depth)\n",
    "#units = 'Chl.a [mmol m$^{-3}$]'\n",
    "\n",
    "for i in range(len(idlist)):\n",
    "    DiaChl[i] = pf.get_data(resultpath[i], \"DiaChl\", years, mesh, runid=idlist[i], how=\"mean\", \n",
    "                            compute=True, depth=depth)\n",
    "\n",
    "fig = pf.plot(mesh, [data for data in DiaChl], mapproj = mapproj, units=units, cmap = 'viridis',\n",
    "              rowscol = rowscol, #(math.ceil(len(idlist)/3), 3), \n",
    "              figsize = (15,10),\n",
    "              titles=[title for title in figlabel])\n",
    "\n",
    "fig = pf.plot(mesh, [data-DiaChl[0] for data in DiaChl], mapproj = mapproj, units='MODEL - CTRL\\n'+units, \n",
    "              rowscol = rowscol, #(math.ceil(len(idlist)/3), 3), \n",
    "              figsize = (15,10),\n",
    "              #levels = (-2.5e-5,2.5e-5, 30), \n",
    "              cmap = 'RdBu',\n",
    "              titles=[title for title in figlabel])"
   ]
  },
  {
   "cell_type": "markdown",
   "metadata": {},
   "source": [
    "# Map of total Diatom NPP "
   ]
  },
  {
   "cell_type": "code",
   "execution_count": null,
   "metadata": {},
   "outputs": [],
   "source": [
    "#NCfesom = resultpath + '/NPPd.mo1.1948.nc'\n",
    "#!ncdump -h $NCfesom\n",
    "\n",
    "depth = 0\n",
    "\n",
    "# 12.01* data --> mg C/m2/d\n",
    "\n",
    "units ='Mean Diatom NPP [mg C m$^{{-2}}$ d$^{{-1}}$]\\n{0}-{1} at {2} m'.format(years[0],years[1],depth)\n",
    "#units = 'Mean NPP [mg C m$^{-2}$ d$^{-1}$]'\n",
    "\n",
    "NPPd = [0]*len(idlist)\n",
    "\n",
    "for i in range(len(idlist)):\n",
    "    NPPd[i] = pf.get_data(resultpath[i], \"NPPd\", years, mesh, runid=idlist[i], how=\"mean\", compute=True, depth=depth)\n",
    "    NPPd[i] = NPPd[i] * 12.01\n",
    "\n",
    "fig = pf.plot(mesh, [data for data in NPPd], mapproj = mapproj, units=units, cmap = 'viridis',\n",
    "              rowscol = rowscol, #(math.ceil(len(idlist)/3), 3), \n",
    "              figsize = (15,10),\n",
    "              titles=[title for title in figlabel])\n",
    "\n",
    "## differences\n",
    "fig = pf.plot(mesh, [data-NPPd[0] for data in NPPd], mapproj = mapproj, units='MODEL - CTRL\\n'+units, \n",
    "              rowscol = rowscol, #(math.ceil(len(idlist)/3), 3), \n",
    "              figsize = (15,10),\n",
    "              #levels = (-2.5e-2,2.5e-2, 30), \n",
    "              cmap = 'RdBu',\n",
    "              titles=[title for title in figlabel])"
   ]
  },
  {
   "cell_type": "markdown",
   "metadata": {},
   "source": [
    "# Map of nanophytoplankton NPP"
   ]
  },
  {
   "cell_type": "code",
   "execution_count": null,
   "metadata": {},
   "outputs": [],
   "source": [
    "#NCfesom = resultpath + '/NPPn.mo1.1948.nc'\n",
    "#!ncdump -h $NCfesom\n",
    "\n",
    "# 12.01* data --> mg C/m2/d\n",
    "\n",
    "units = 'Nanophytoplankton NPP [mg C m$^{{-2}}$ d$^{{-1}}$]\\n{0}-{1} at {2} m'.format(years[0],years[1],depth)\n",
    "#units = 'Mean NPP [mg C m$^{-2}$ d$^{-1}$]'\n",
    "\n",
    "NPPn = [0]*len(idlist)\n",
    "\n",
    "for i in range(len(idlist)):\n",
    "    NPPn[i] = pf.get_data(resultpath[i], \"NPPn\", years, mesh, runid=idlist[i], how=\"mean\", compute=True, depth=depth)\n",
    "    NPPn[i] = NPPn[i] * 12.01\n",
    "\n",
    "fig = pf.plot(mesh, [data for data in NPPn], mapproj = mapproj, units=units, cmap = 'viridis',\n",
    "              rowscol = rowscol, #(math.ceil(len(idlist)/3), 3), \n",
    "              figsize = (15,10),\n",
    "              titles=[title for title in figlabel])\n",
    "\n",
    "## differences\n",
    "fig = pf.plot(mesh, [data-NPPn[0] for data in NPPn], mapproj = mapproj, units='MODEL - CTRL\\n'+units, \n",
    "              rowscol = rowscol, #(math.ceil(len(idlist)/3), 3), \n",
    "              figsize = (15,10),\n",
    "              #levels = (-30,30, 30), \n",
    "              cmap = 'RdBu',\n",
    "              titles=[title for title in figlabel])"
   ]
  },
  {
   "cell_type": "markdown",
   "metadata": {},
   "source": [
    "# Total NPP"
   ]
  },
  {
   "cell_type": "code",
   "execution_count": null,
   "metadata": {},
   "outputs": [],
   "source": [
    "units ='Total Net Primary Production [mg C m$^{{-2}}$ d$^{{-1}}$]\\n{0}-{1}  at {2} m'.format(years[0],years[1],depth)\n",
    "#units = 'Mean total NPP [mg C m$^{-2}$ d$^{-1}$]'\n",
    "\n",
    "NPPtot = [NPPd[i] + NPPn[i] for i in range(len(idlist))]\n",
    "\n",
    "fig = pf.plot(mesh, [data for data in NPPtot], mapproj = mapproj, units=units, cmap = 'viridis',\n",
    "              rowscol = rowscol, #(math.ceil(len(idlist)/3), 3), \n",
    "              figsize = (15,10),\n",
    "              titles=[title for title in figlabel])\n",
    "\n",
    "## differences\n",
    "fig = pf.plot(mesh, [data-NPPtot[0] for data in NPPtot], mapproj = mapproj, units='MODEL - CTRL\\n'+units, \n",
    "              rowscol = rowscol, #(math.ceil(len(idlist)/3), 3), \n",
    "              figsize = (15,10),\n",
    "              #levels = (-2.5e-1,2.5e-1, 30), \n",
    "              cmap = 'RdBu',\n",
    "              titles=[title for title in figlabel])"
   ]
  },
  {
   "cell_type": "markdown",
   "metadata": {},
   "source": [
    "# Nutrients"
   ]
  },
  {
   "cell_type": "code",
   "execution_count": null,
   "metadata": {},
   "outputs": [],
   "source": [
    "from DIN_WOA_Comparison_python3 import DINcomp"
   ]
  },
  {
   "cell_type": "code",
   "execution_count": null,
   "metadata": {
    "scrolled": false
   },
   "outputs": [],
   "source": [
    "# check DIN comp to WOA FOR CONTROL RUN\n",
    "\n",
    "#ctrl = DINcomp('fesom',resultpath[0],savepath,meshpath,ncfileDIN,first_year,last_year,mapproj=mapproj)"
   ]
  },
  {
   "cell_type": "markdown",
   "metadata": {},
   "source": [
    "#### compare each FESOM run with WOA DIN"
   ]
  },
  {
   "cell_type": "code",
   "execution_count": null,
   "metadata": {
    "scrolled": false
   },
   "outputs": [],
   "source": [
    "# run DINcomp for each result\n",
    "if True:\n",
    "    for i in range(len(resultpath)):\n",
    "        print('\\n****************************** \\nANALYSING {0} \\n******************************'.format(resultpath[i]))\n",
    "        fig = DINcomp(idlist[i],resultpath[i],savepath,meshpath,ncfileDIN,first_year,last_year,mapproj=mapproj)"
   ]
  },
  {
   "cell_type": "markdown",
   "metadata": {},
   "source": [
    "## Transect"
   ]
  },
  {
   "cell_type": "markdown",
   "metadata": {},
   "source": [
    "#### Atlantic :  Diatom Chl"
   ]
  },
  {
   "cell_type": "code",
   "execution_count": null,
   "metadata": {},
   "outputs": [],
   "source": [
    "lon_start = -25\n",
    "lat_start = -50\n",
    "lon_end = -25\n",
    "lat_end = 65\n",
    "npoints   = 50\n",
    "lonlat = pf.transect_get_lonlat(lon_start, lat_start, lon_end, lat_end, npoints)\n",
    "\n",
    "pf.plot_transect_map(lonlat, mesh)"
   ]
  },
  {
   "cell_type": "markdown",
   "metadata": {},
   "source": [
    "#### load FESOM 3d DiaC data"
   ]
  },
  {
   "cell_type": "code",
   "execution_count": null,
   "metadata": {},
   "outputs": [],
   "source": [
    "#load 3D data\n",
    "DiaC_3d = [0]*len(idlist)\n",
    "\n",
    "for i in range(len(idlist)):\n",
    "    print(resultpath[i])\n",
    "    DiaC_3d_aux = pf.get_data(resultpath[i], \"DiaC\", years, mesh, runid=idlist[i], how=\"mean\")\n",
    "    DiaC_3d[i] = DiaC_3d_aux * 12.01\n"
   ]
  },
  {
   "cell_type": "code",
   "execution_count": null,
   "metadata": {},
   "outputs": [],
   "source": [
    "print('Atlantic Transect, mean of {0}-{1}'.format(years[0],years[1]))\n",
    "\n",
    "dist, transect_data = pf.get_transect(DiaC_3d[0],mesh,lonlat)\n",
    "dist2, transect_data2 = pf.get_transect(DiaC_3d[1],mesh,lonlat)\n",
    "dist3, transect_data3 = pf.get_transect(DiaC_3d[2],mesh,lonlat)\n",
    "dist4, transect_data4 = pf.get_transect(DiaC_3d[3],mesh,lonlat)\n",
    "\n",
    "\n",
    "pf.plot_xyz(mesh, \n",
    "            [transect_data,transect_data2,transect_data3,transect_data4],\n",
    "            dist,\n",
    "            maxdepth=500,\n",
    "            ncols=2,\n",
    "            xlabel='Distance',\n",
    "            label='Diatom Chl',\n",
    "            title=[l for l in figlabel],\n",
    "            levels=np.linspace(0,40,41),#cmap=cm.hot_r,\n",
    "            figsize=(15, 15))\n"
   ]
  },
  {
   "cell_type": "code",
   "execution_count": null,
   "metadata": {},
   "outputs": [],
   "source": []
  },
  {
   "cell_type": "markdown",
   "metadata": {},
   "source": [
    "# Other evaluation"
   ]
  },
  {
   "cell_type": "markdown",
   "metadata": {},
   "source": [
    "## Bracher et al. (2019) PS106\n"
   ]
  },
  {
   "cell_type": "code",
   "execution_count": null,
   "metadata": {
    "scrolled": false
   },
   "outputs": [],
   "source": [
    "if False:\n",
    "    # import from PANGAEA\n",
    "    ds= pd.PanDataSet(899284)\n",
    "    print(ds.title)\n",
    "    # Chl a in µg/L\n",
    "\n",
    "    PS106 = ds.data\n",
    "\n",
    "    #print(np.shape(PS106), type(PS106))\n",
    "\n",
    "    if False: # first overview plot\n",
    "        fig_PS106 = PS106.plot(kind='scatter', x='Longitude', y='Latitude',\n",
    "              c='Chl a diatoms', cmap=plt.get_cmap(\"jet\"), colorbar=True,\n",
    "              figsize = (10,7))\n",
    "\n",
    "    #### plot with cartopy\n",
    "\n",
    "    # defining projections\n",
    "    og = ccrs.Orthographic(0,90)\n",
    "    pc = ccrs.PlateCarree()\n",
    "\n",
    "    PS106_Chla_dia = PS106['Chl a diatoms']\n",
    "    lat, lon = PS106['Latitude'], PS106['Longitude']\n",
    "\n",
    "    fig = plt.figure(figsize=(20, 16))\n",
    "    ax = plt.axes(projection=og)\n",
    "    ax.coastlines()\n",
    "    ax.gridlines()\n",
    "    plt.scatter(lon, lat, transform = pc, \n",
    "        c=PS106_Chla_dia, cmap=plt.get_cmap(\"jet\"))\n",
    "    ax.set_extent([-20, 50, 60, 90])\n",
    "    ax.stock_img()\n",
    "    plt.xlabel('longitude')\n",
    "    plt.ylabel('latitude')\n",
    "    plt.title('PS106 Diatom Chlorophyll a  (Bracher et al., 2019)')\n",
    "    plt.colorbar(label='Diatom Chl.a [µg/L]')\n",
    "    #plt.clim(0, 10)"
   ]
  },
  {
   "cell_type": "code",
   "execution_count": null,
   "metadata": {},
   "outputs": [],
   "source": []
  },
  {
   "cell_type": "markdown",
   "metadata": {},
   "source": [
    "## Evaluation scripts from pyfesom 2"
   ]
  },
  {
   "cell_type": "markdown",
   "metadata": {},
   "source": [
    "#### Diatom Chla integrals"
   ]
  },
  {
   "cell_type": "code",
   "execution_count": null,
   "metadata": {},
   "outputs": [],
   "source": [
    "DiaChl = pf.get_data(resultpath[0], 'DiaChl', years, mesh, runid=idlist[0], how=None, compute=False)"
   ]
  },
  {
   "cell_type": "code",
   "execution_count": null,
   "metadata": {},
   "outputs": [],
   "source": [
    "#pf.volmean_data?\n",
    "DiaChl_volmean = pf.volmean_data(DiaChl, mesh)"
   ]
  },
  {
   "cell_type": "code",
   "execution_count": null,
   "metadata": {},
   "outputs": [],
   "source": [
    "DiaChl_volmean.plot()"
   ]
  },
  {
   "cell_type": "code",
   "execution_count": null,
   "metadata": {},
   "outputs": [],
   "source": []
  },
  {
   "cell_type": "markdown",
   "metadata": {},
   "source": [
    "# Export to HTML"
   ]
  },
  {
   "cell_type": "code",
   "execution_count": null,
   "metadata": {},
   "outputs": [],
   "source": [
    "%autosave 2\n",
    "\n",
    "time.sleep(15)\n",
    "\n",
    "# convert without input (code)\n",
    "!jupyter nbconvert MZ_F2R_sensitivity_runs_varAlfaD.ipynb --output-dir=$htmlpath --output $htmlname --to html --no-input"
   ]
  },
  {
   "cell_type": "code",
   "execution_count": null,
   "metadata": {},
   "outputs": [],
   "source": []
  }
 ],
 "metadata": {
  "kernelspec": {
   "display_name": "Python 3",
   "language": "python",
   "name": "python3"
  },
  "language_info": {
   "codemirror_mode": {
    "name": "ipython",
    "version": 3
   },
   "file_extension": ".py",
   "mimetype": "text/x-python",
   "name": "python",
   "nbconvert_exporter": "python",
   "pygments_lexer": "ipython3",
   "version": "3.8.5"
  }
 },
 "nbformat": 4,
 "nbformat_minor": 2
}
