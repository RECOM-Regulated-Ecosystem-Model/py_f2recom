{
 "cells": [
  {
   "cell_type": "code",
   "execution_count": null,
   "metadata": {},
   "outputs": [],
   "source": [
    "### MZ_pyfesom_overview"
   ]
  },
  {
   "cell_type": "markdown",
   "metadata": {},
   "source": [
    "\n",
    "This is an example for evaluation of FESOM2-REcoM output. \n",
    "Adapted from py_recom/GlobalAssesment/MASTER_Script.ipynb\n",
    "\n",
    "Please install:\n",
    "- pyfesom2\n",
    "- skillmetrics\n",
    "- cartopy\n",
    "\n",
    "link to the official pyfesom2 documentation:\n",
    "https://pyfesom2.readthedocs.io/en/latest/index.html\n",
    "\n"
   ]
  },
  {
   "cell_type": "code",
   "execution_count": null,
   "metadata": {},
   "outputs": [],
   "source": [
    "%matplotlib inline\n",
    "%autosave 5"
   ]
  },
  {
   "cell_type": "code",
   "execution_count": null,
   "metadata": {
    "scrolled": false
   },
   "outputs": [],
   "source": [
    "# necessary modules -------------------------------------------------------------------------------------\n",
    "import pyfesom2 as pf\n",
    "import numpy as np\n",
    "import matplotlib.pyplot as plt\n",
    "import matplotlib.cm as cm\n",
    "import cartopy.crs as ccrs\n",
    "\n",
    "# own py_recom modules ----------------------------------------------------------------------\n",
    "!jupyter nbconvert --to=python load_interp_WOA_python3.ipynb\n",
    "!jupyter nbconvert --to=python plot_Taylor_normalized.ipynb\n",
    "\n",
    "#from load_interp_WOA_python3 import WOAdata\n",
    "#from plot_Taylor_normalized import plt_Taylor_norm"
   ]
  },
  {
   "cell_type": "markdown",
   "metadata": {},
   "source": [
    "# Settings"
   ]
  },
  {
   "cell_type": "code",
   "execution_count": null,
   "metadata": {},
   "outputs": [],
   "source": [
    "# run specification -------------------------------------------------------------------------------------\n",
    "runid      =  'fesom'\n",
    "layerwise    = False\n",
    "resultpath = '/work/ollie/mozeisin/results/f2r1.2/mo5'\n",
    "meshpath = '/work/ollie/mozeisin/mesh/mesh_fesom2.0/core2_meanz'\n",
    "\n",
    "# period of analysis \n",
    "first_year = 1955\n",
    "last_year  = 1957\n",
    "    \n",
    "years = [first_year, last_year]\n",
    "\n",
    "# specification of analysis ------------------------------------------------------------------------------------\n",
    "depth = 0\n",
    "layerwise = False\n",
    "mapproj = 'pc'\n",
    "#Map projection. Options are Mercator (merc), Plate Carree (pc),\n",
    "#North Polar Stereo (np), South Polar Stereo (sp),  Robinson (rob)\n",
    "#Robinson projection is quite time consuming.\n",
    "\n",
    "# export of analysis ------------------------------------------------------------------------------------\n",
    "savepath = ''\n",
    "savefig = False\n",
    "htmlname     =  'TEST_' + runid +'.html'\n",
    "htmlpath = '/home/ollie/mozeisin/evaluation/mo_files/html/'\n",
    "\n",
    "# initialization file specifications -----------------------------------------------------------\n",
    "ncfileDIN                = '/work/ollie/projects/MarESys/evaluation/woa13_all_n00_01.nc'\n",
    "ncfileTemp               = '/work/ollie/projects/MarESys/evaluation/woa18_decav_t00_01.nc'\n"
   ]
  },
  {
   "cell_type": "markdown",
   "metadata": {},
   "source": [
    "# Load FESOM mesh"
   ]
  },
  {
   "cell_type": "markdown",
   "metadata": {},
   "source": [
    "### pf.load_mesh(meshpath)"
   ]
  },
  {
   "cell_type": "code",
   "execution_count": null,
   "metadata": {},
   "outputs": [],
   "source": [
    "# mesh initialization \n",
    "mesh = pf.load_mesh(meshpath)"
   ]
  },
  {
   "cell_type": "code",
   "execution_count": null,
   "metadata": {},
   "outputs": [],
   "source": [
    "# check mesh setup nodal and area\n",
    "\n",
    "meshdiag=resultpath+'/'+runid+'.mesh.diag.nc'\n",
    "#!ncdump -h $meshdiag"
   ]
  },
  {
   "cell_type": "markdown",
   "metadata": {},
   "source": [
    "### pf.get_meshdiag()"
   ]
  },
  {
   "cell_type": "code",
   "execution_count": null,
   "metadata": {},
   "outputs": [],
   "source": [
    "diag = pf.get_meshdiag(mesh,meshdiag=meshdiag, runid=runid)"
   ]
  },
  {
   "cell_type": "code",
   "execution_count": null,
   "metadata": {},
   "outputs": [],
   "source": [
    "# depth of layers\n",
    "\n",
    "mesh_depths = diag['Z'].values\n",
    "print(mesh_depths)"
   ]
  },
  {
   "cell_type": "code",
   "execution_count": null,
   "metadata": {},
   "outputs": [],
   "source": [
    "# Nodal area\n",
    "\n",
    "nod_area = diag.rename_dims({\"nl\": \"nz1\", \"nod_n\": \"nod2\"}).nod_area\n",
    "nod_area.load()\n",
    "\n",
    "print(np.shape(nod_area[:,:]), type(nod_area))\n",
    "    "
   ]
  },
  {
   "cell_type": "markdown",
   "metadata": {},
   "source": [
    "### pf.plot()"
   ]
  },
  {
   "cell_type": "code",
   "execution_count": null,
   "metadata": {},
   "outputs": [],
   "source": [
    "# whole globe\n",
    "pf.plot(mesh,np.array(nod_area[0,:]),units='Surface nodal area')"
   ]
  },
  {
   "cell_type": "markdown",
   "metadata": {},
   "source": [
    "### pf.tplot()"
   ]
  },
  {
   "cell_type": "code",
   "execution_count": null,
   "metadata": {
    "scrolled": false
   },
   "outputs": [],
   "source": [
    "# plot nodal area and mesh structure together\n",
    "pf.tplot(mesh, np.array(nod_area[0,:]), ptype='tri', box=[-30, 30, 60, 82], mapproj='np',lw=0.5,units='nodal area')\n",
    "pf.tplot(mesh, np.array(nod_area[0,:]), ptype='tri', box=[-30, 30, -30, 30], mapproj='merc',lw=0.5,units='nodal area')"
   ]
  },
  {
   "cell_type": "markdown",
   "metadata": {},
   "source": [
    "# Physical fields"
   ]
  },
  {
   "cell_type": "code",
   "execution_count": null,
   "metadata": {},
   "outputs": [],
   "source": [
    "NCfesom = resultpath + '/DIC.fesom.1948.nc'\n",
    "#!ncdump -h $NCfesom\n",
    "\n",
    "label='Dissolved inorganic Carbon {0}-{1} at {2} m'.format(years[0],years[1],depth)\n",
    "units = 'DIC [mmol  m$^{-3}$]'"
   ]
  },
  {
   "cell_type": "markdown",
   "metadata": {},
   "source": [
    "### pf.get_data()"
   ]
  },
  {
   "cell_type": "code",
   "execution_count": null,
   "metadata": {},
   "outputs": [],
   "source": [
    "DIC = pf.get_data(resultpath, \"DIC\", years, mesh, runid=runid, how=\"mean\", compute=True, depth=depth)"
   ]
  },
  {
   "cell_type": "markdown",
   "metadata": {},
   "source": [
    "### output shape"
   ]
  },
  {
   "cell_type": "code",
   "execution_count": null,
   "metadata": {},
   "outputs": [],
   "source": [
    "print(np.shape(DIC))"
   ]
  },
  {
   "cell_type": "markdown",
   "metadata": {},
   "source": [
    "### pf.plot()"
   ]
  },
  {
   "cell_type": "code",
   "execution_count": null,
   "metadata": {},
   "outputs": [],
   "source": [
    "fig = pf.plot(mesh, DIC, mapproj = mapproj, units=units, titles=label)"
   ]
  },
  {
   "cell_type": "markdown",
   "metadata": {},
   "source": [
    "### switch projection"
   ]
  },
  {
   "cell_type": "markdown",
   "metadata": {},
   "source": [
    "#### mapproj: str\n",
    "Map projection. \n",
    "\n",
    "Options are Mercator (merc), Plate Carree (pc), North Polar Stereo (np), South Polar Stereo (sp),  Robinson (rob)\n",
    "\n",
    "Help: pf.plot?"
   ]
  },
  {
   "cell_type": "code",
   "execution_count": null,
   "metadata": {},
   "outputs": [],
   "source": [
    "fig = pf.plot(mesh, DIC, mapproj = 'rob', units=units, titles=label)"
   ]
  },
  {
   "cell_type": "markdown",
   "metadata": {},
   "source": [
    "# Biology"
   ]
  },
  {
   "cell_type": "markdown",
   "metadata": {},
   "source": [
    "# Diatom carbon"
   ]
  },
  {
   "cell_type": "code",
   "execution_count": null,
   "metadata": {},
   "outputs": [],
   "source": [
    "NCfesom = resultpath + '/DiaC.fesom.1957.nc'\n",
    "!ncdump -h $NCfesom"
   ]
  },
  {
   "cell_type": "markdown",
   "metadata": {},
   "source": [
    "### pf.get_data()"
   ]
  },
  {
   "cell_type": "code",
   "execution_count": null,
   "metadata": {},
   "outputs": [],
   "source": [
    "label='Diatom intracell. Carbon {0}-{1} at {2} m'.format(years[0],years[1],depth)\n",
    "units = 'intracellular C [mmol C m$^{-3}$]'\n",
    "\n",
    "DiaC = pf.get_data(resultpath, \"DiaC\", years, mesh, runid=runid, how=\"mean\", compute=True, depth=depth)\n",
    "\n",
    "fig = pf.plot(mesh, DiaC, mapproj = mapproj, units=units, titles=label)"
   ]
  },
  {
   "cell_type": "markdown",
   "metadata": {},
   "source": [
    "### compare runs"
   ]
  },
  {
   "cell_type": "code",
   "execution_count": null,
   "metadata": {},
   "outputs": [],
   "source": [
    "# define various runs at once\n",
    "resultpath_base = '/work/ollie/mozeisin/results/f2r1.2'\n",
    "path_list = '/mo4', '/mo5', '/mo6', '/mo7'\n",
    "resultpath_list = [resultpath_base +i for i in path_list]\n",
    "\n",
    "# corresponding runid of FESOM runs\n",
    "idlist = ('fesom', 'fesom', 'fesom', 'fesom') "
   ]
  },
  {
   "cell_type": "code",
   "execution_count": null,
   "metadata": {},
   "outputs": [],
   "source": [
    "# load various runs at once\n",
    "DiaC = [0]*len(idlist)\n",
    "\n",
    "for i in range(len(idlist)):\n",
    "    print(resultpath_list[i])\n",
    "    DiaC[i] = pf.get_data(resultpath_list[i], \"DiaC\", years, mesh, runid=idlist[i], how=\"mean\", compute=True, depth=depth)\n",
    "    DiaC[i] = DiaC[i] * 12.01"
   ]
  },
  {
   "cell_type": "code",
   "execution_count": null,
   "metadata": {},
   "outputs": [],
   "source": [
    "# plot various runs at once\n",
    "units = 'Diatom intracell. Carbon [mg C m$^{{-3}}$]\\n{0}-{1} at {2} m'.format(years[0],years[1],depth)\n",
    "\n",
    "figlabel = ('mo4', 'mo5', 'mo6', 'mo7')\n",
    "\n",
    "fig = pf.plot(mesh, [data for data in DiaC], mapproj = mapproj, units=units, cmap = 'viridis',\n",
    "              rowscol = (2,2),\n",
    "              figsize = (15,10),\n",
    "              titles=[title for title in figlabel])"
   ]
  },
  {
   "cell_type": "code",
   "execution_count": null,
   "metadata": {},
   "outputs": [],
   "source": [
    "## differences\n",
    "fig = pf.plot(mesh, [data-DiaC[0] for data in DiaC], mapproj = mapproj, units='MODEL - CTRL\\n'+units, \n",
    "              rowscol = (2,2),  \n",
    "              figsize = (15,10),\n",
    "              #levels = (-2.5e-2,2.5e-2, 30), \n",
    "              cmap = 'RdBu',\n",
    "              titles=[title for title in figlabel])"
   ]
  },
  {
   "cell_type": "markdown",
   "metadata": {},
   "source": [
    "# Dissolved inorganic Nitrogen"
   ]
  },
  {
   "cell_type": "code",
   "execution_count": null,
   "metadata": {},
   "outputs": [],
   "source": [
    "NCfesom = resultpath + '/DIN.fesom.1957.nc'\n",
    "!ncdump -h $NCfesom"
   ]
  },
  {
   "cell_type": "markdown",
   "metadata": {},
   "source": [
    "### pf.get_data(silent = True)"
   ]
  },
  {
   "cell_type": "code",
   "execution_count": null,
   "metadata": {},
   "outputs": [],
   "source": [
    "DIN = pf.get_data(resultpath, \"DIN\", years, mesh, runid=runid, how=\"mean\", compute=True, depth=depth)"
   ]
  },
  {
   "cell_type": "code",
   "execution_count": null,
   "metadata": {},
   "outputs": [],
   "source": [
    "label='Dissolved inorganic Nitrogen {0}-{1} at {2} m'.format(years[0],years[1],depth)\n",
    "units = 'DIN [mmol m$^{-3}$]'\n",
    "\n",
    "fig = pf.plot(mesh, DIN, mapproj = mapproj, units=units, titles=label)"
   ]
  },
  {
   "cell_type": "markdown",
   "metadata": {},
   "source": [
    "# Comparison scripts"
   ]
  },
  {
   "cell_type": "markdown",
   "metadata": {},
   "source": [
    "### WOA: temperature"
   ]
  },
  {
   "cell_type": "code",
   "execution_count": null,
   "metadata": {
    "scrolled": false
   },
   "outputs": [],
   "source": [
    "!jupyter nbconvert --to=python Temp_WOA_Comparison_python3.ipynb\n",
    "\n",
    "from Temp_WOA_Comparison_python3 import TEMPcomp\n",
    "test = TEMPcomp(runid,resultpath,savepath,meshpath,ncfileTemp,first_year,last_year,mapproj=mapproj,savefig=savefig)\n"
   ]
  },
  {
   "cell_type": "markdown",
   "metadata": {},
   "source": [
    "# Transect"
   ]
  },
  {
   "cell_type": "code",
   "execution_count": null,
   "metadata": {},
   "outputs": [],
   "source": [
    "# define Atlantic transect\n",
    "lon_start = -25\n",
    "lat_start = -50\n",
    "lon_end = -25\n",
    "lat_end = 65\n",
    "npoints   = 50"
   ]
  },
  {
   "cell_type": "markdown",
   "metadata": {},
   "source": [
    "### pf.transect_get_lonlat()"
   ]
  },
  {
   "cell_type": "code",
   "execution_count": null,
   "metadata": {},
   "outputs": [],
   "source": [
    "lonlat = pf.transect_get_lonlat(lon_start, lat_start, lon_end, lat_end, npoints)"
   ]
  },
  {
   "cell_type": "markdown",
   "metadata": {},
   "source": [
    "### pf.plot_transect_map()"
   ]
  },
  {
   "cell_type": "code",
   "execution_count": null,
   "metadata": {},
   "outputs": [],
   "source": [
    "pf.plot_transect_map(lonlat, mesh)"
   ]
  },
  {
   "cell_type": "markdown",
   "metadata": {},
   "source": [
    "### load 3d data"
   ]
  },
  {
   "cell_type": "code",
   "execution_count": null,
   "metadata": {},
   "outputs": [],
   "source": [
    "#load 3D data\n",
    "DiaC_3d = pf.get_data(resultpath, \"DiaC\", years, mesh, how=\"mean\")\n",
    "\n",
    "DiaC_3d = DiaC_3d * 12.01\n",
    "\n",
    "print(np.shape(DiaC_3d))"
   ]
  },
  {
   "cell_type": "markdown",
   "metadata": {},
   "source": [
    "### pf.get_transect()"
   ]
  },
  {
   "cell_type": "code",
   "execution_count": null,
   "metadata": {},
   "outputs": [],
   "source": [
    "dist, transect_data = pf.get_transect(DiaC_3d,mesh,lonlat)"
   ]
  },
  {
   "cell_type": "markdown",
   "metadata": {},
   "source": [
    "### pf.plot_xyz()"
   ]
  },
  {
   "cell_type": "code",
   "execution_count": null,
   "metadata": {},
   "outputs": [],
   "source": [
    "units = 'Diatom [mg C m$^{{-3}}$]'\n",
    "title = 'Atlantic Transect, \\nmean of {0}-{1} at {2} m'.format(years[0],years[1],depth)\n",
    "\n",
    "pf.plot_xyz(mesh, \n",
    "            transect_data,\n",
    "            dist,\n",
    "            maxdepth=500,\n",
    "            ncols=2,\n",
    "            xlabel='Distance',\n",
    "            label=units,\n",
    "            title=title,\n",
    "            levels=np.linspace(0,40,41),#cmap=cm.hot_r,\n",
    "            )"
   ]
  },
  {
   "cell_type": "markdown",
   "metadata": {},
   "source": [
    "# Interpolation to 1x1 grid"
   ]
  },
  {
   "cell_type": "code",
   "execution_count": null,
   "metadata": {},
   "outputs": [],
   "source": [
    "# interpolation prep\n",
    "\n",
    "lat = np.arange(-90,90,1)\n",
    "#print(lats)\n",
    "lon = np.arange(-180,180,1)\n",
    "\n",
    "lons, lats = np.meshgrid(lon, lat)\n",
    "\n",
    "print('Original variable shape on FESOM mesh:')\n",
    "print(np.shape(DIC))"
   ]
  },
  {
   "cell_type": "markdown",
   "metadata": {},
   "source": [
    "### pf.fesom2regular()"
   ]
  },
  {
   "cell_type": "code",
   "execution_count": null,
   "metadata": {},
   "outputs": [],
   "source": [
    "#pf.fesom2regular?"
   ]
  },
  {
   "cell_type": "code",
   "execution_count": null,
   "metadata": {},
   "outputs": [],
   "source": [
    "DIC_interp = pf.fesom2regular(\n",
    "        data = DIC,\n",
    "        mesh = mesh,\n",
    "        lons = lons, \n",
    "        lats = lats)"
   ]
  },
  {
   "cell_type": "code",
   "execution_count": null,
   "metadata": {},
   "outputs": [],
   "source": [
    "print('Interpolated variable shape on regular grid:')\n",
    "print(np.shape(DIC_interp))"
   ]
  },
  {
   "cell_type": "markdown",
   "metadata": {},
   "source": [
    "### now normal plotting is possible"
   ]
  },
  {
   "cell_type": "code",
   "execution_count": null,
   "metadata": {},
   "outputs": [],
   "source": [
    "fig = plt.figure(figsize=(10,10))\n",
    "ax1 = plt.subplot(projection =  ccrs.Robinson())\n",
    "\n",
    "m1 = plt.pcolormesh(lon, lat, DIC_interp, \n",
    "    transform = ccrs.PlateCarree(),\n",
    "    cmap=plt.cm.viridis)\n",
    "\n",
    "ax1.coastlines(resolution='110m', color='black', linewidth=1)\n",
    "\n",
    "cbar = fig.colorbar(m1,orientation = 'horizontal',fraction=0.1, pad=0.1) \n",
    "cbar.set_label('Dissolved Inorganic Carbon [mmol  m$^{-3}$]', fontsize=20)"
   ]
  },
  {
   "cell_type": "code",
   "execution_count": null,
   "metadata": {},
   "outputs": [],
   "source": []
  }
 ],
 "metadata": {
  "kernelspec": {
   "display_name": "Python 3",
   "language": "python",
   "name": "python3"
  },
  "language_info": {
   "codemirror_mode": {
    "name": "ipython",
    "version": 3
   },
   "file_extension": ".py",
   "mimetype": "text/x-python",
   "name": "python",
   "nbconvert_exporter": "python",
   "pygments_lexer": "ipython3",
   "version": "3.8.6"
  }
 },
 "nbformat": 4,
 "nbformat_minor": 1
}
