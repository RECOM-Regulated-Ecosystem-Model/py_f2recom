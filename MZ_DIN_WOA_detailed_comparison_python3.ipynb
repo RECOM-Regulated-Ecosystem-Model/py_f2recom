{
 "cells": [
  {
   "cell_type": "code",
   "execution_count": null,
   "metadata": {},
   "outputs": [],
   "source": [
    "#!jupyter nbconvert --to=python MZ_DIN_WOA_detailed_comparison_python3.ipynb\n",
    "\n",
    "# After changes in the script using Jupyter notebook, save the notebook, run this line, and clear the output."
   ]
  },
  {
   "cell_type": "code",
   "execution_count": null,
   "metadata": {},
   "outputs": [],
   "source": [
    "import matplotlib.pyplot as plt\n",
    "import numpy as np\n",
    "from netCDF4 import Dataset\n",
    "from scipy.interpolate import griddata\n",
    "import skill_metrics as sm\n",
    "import cartopy.crs as ccrs\n",
    "import pickle\n",
    "\n",
    "import pyfesom2 as pf\n",
    "\n",
    "\n",
    "#import sys\n",
    "#sys.path.append('home/ollie/mozeisin/')\n",
    "#from PiecewiseNorm import PiecewiseNorm\n",
    "#modulepath = '/home/ollie/mozeisin/py_recom/GlobalAssessment'\n",
    "#sys.path.append('/home/ollie/mozeisin/pyfesom2/pyfesom2/')\n"
   ]
  },
  {
   "cell_type": "code",
   "execution_count": null,
   "metadata": {},
   "outputs": [],
   "source": [
    "# cartopy specification -------------------------------------------------------------------------------------\n",
    "#p_PC = ccrs.PlateCarree()\n",
    "#p_Rb = ccrs.Robinson()"
   ]
  },
  {
   "cell_type": "code",
   "execution_count": null,
   "metadata": {},
   "outputs": [],
   "source": [
    "# run specification -------------------------------------------------------------------------------------\n",
    "runname = 'mo1'\n",
    "runid = runname\n",
    "var = 'Dia'\n",
    "\n",
    "resultpath = '/work/ollie/mozeisin/results/f2r1.2/' + runname\n",
    "savepath = '/home/ollie/mozeisin/evaluation/mo_files'\n",
    "htmlname     =  runname+'_DIN_WOA.html'\n",
    "htmlpath = '/home/ollie/mozeisin/evaluation/mo_files/html/'\n",
    "export_html = False\n",
    "\n",
    "meshpath = '/work/ollie/mozeisin/mesh/mesh_fesom2.0/core2_meanz'\n",
    "\n",
    "# period of analysis ------------------------------------------------------------------------------------\n",
    "\n",
    "first_year = 1975\n",
    "last_year  = 1984\n",
    "\n",
    "years = np.arange(first_year,last_year+1,1)"
   ]
  },
  {
   "cell_type": "code",
   "execution_count": null,
   "metadata": {},
   "outputs": [],
   "source": [
    "# load FESOM mesh -------------------------------------------------------------------------------------\n",
    "mesh       = pf.load_mesh(meshpath)\n",
    "#print(mesh.zlev)"
   ]
  },
  {
   "cell_type": "markdown",
   "metadata": {},
   "source": [
    "## World Ocean Atlas"
   ]
  },
  {
   "cell_type": "code",
   "execution_count": null,
   "metadata": {},
   "outputs": [],
   "source": [
    "# load WOA DIN -------------------------------------------------------------------------------------\n",
    "ncfileDIN                = '/work/ollie/projects/MarESys/evaluation/woa13_all_n00_01.nc'\n",
    "#!ncdump -h $ncfileDIN\n",
    "\n",
    "labelwoa = 'World Ocean Atlas DIN'\n",
    "unitwoa = 'DIN [$\\mu$mol L$^{-1}$]'\n",
    "\n",
    "f          = Dataset(ncfileDIN, 'r')\n",
    "DepthRaw   = -f.variables['depth'][:]                                \n",
    "lonwoa     =  f.variables['lon'][:]\n",
    "latwoa     =  f.variables['lat'][:]\n",
    "Timewoa     =  f.variables['time'][:]\n",
    "DINwoa     =  f.variables['n_an'][:]\n",
    "DINwoa     = np.squeeze(DINwoa)\n",
    "DINwoa     = np.ma.filled(DINwoa, np.nan)                            # From masked array to numpy array\n",
    "\n",
    "X360, Y180 = np.meshgrid(lonwoa, latwoa)\n",
    "\n",
    "print('WOA Shape DINwoa: {0} \\nDepths n = {1} \\nValues: {2}'.format(np.shape(DINwoa),len(DepthRaw),DepthRaw.view())) # depth, lat, lon\n",
    "\n",
    "# compare to FESOM mesh\n",
    "print('\\nFESOM: \\nDepths n = {0} \\nValues: {1}'.format(len(mesh.zlev), mesh.zlev))"
   ]
  },
  {
   "cell_type": "code",
   "execution_count": null,
   "metadata": {},
   "outputs": [],
   "source": [
    "# first overview -----------------------------------------------------------------------------------\n",
    "fig = plt.figure(figsize= (7,7))\n",
    "ax = plt.subplot()#projection = p_Rb)\n",
    "im = ax.pcolor(X360, Y180, DINwoa[0,:,:])#, transform = p_PC)\n",
    "cbar = fig.colorbar(im, orientation = 'horizontal')\n",
    "cbar.set_label(unitwoa) \n",
    "plt.title(labelwoa)\n"
   ]
  },
  {
   "cell_type": "code",
   "execution_count": null,
   "metadata": {
    "scrolled": false
   },
   "outputs": [],
   "source": [
    "# interpolation specification ------------------------------------------------------------------------------------\n",
    "use_pickle = False\n",
    "pickle_file = 'TEMP_woa_din_interpolated'\n",
    "\n",
    "if(use_pickle == False):\n",
    "    # original py_recom code:\n",
    "    #do2_int = np.zeros(len(mesh.z3))                                  # initializing target field for interpolation \n",
    "    #for k in range(0,len(mesh.zlevs)):\n",
    "\n",
    "    # check maximum depth in WOA compared to FESOM\n",
    "    dmin_woa = np.min(DepthRaw)\n",
    "    dmin_fesom = np.min(mesh.zlev)\n",
    "\n",
    "    if(dmin_woa <= dmin_fesom):\n",
    "        print('***\\nDepth greater in WOA ({0}) than in FESOM ({1})'.format(dmin_woa, dmin_fesom))\n",
    "        ilev = len(mesh.zlev)\n",
    "        max_zlev = mesh.zlev[ilev-1]\n",
    "    else:\n",
    "        print('***\\nDepth greater in FESOM ({1}) than in WOA ({0})'.format(dmin_woa, dmin_fesom))\n",
    "        ilev = np.where(mesh.zlev >= dmin_woa)\n",
    "        ilev = ilev[0][-1]\n",
    "        max_zlev = mesh.zlev[ilev]\n",
    "\n",
    "    print('Please consider choosing max depth level {0} with max depth at {1}!\\n***'.format(ilev,max_zlev))\n",
    "    \n",
    "    # storage container\n",
    "    din_int = np.zeros((len(mesh.zlev)-1,len(mesh.x2)))\n",
    "    #print(np.shape(din_int))\n",
    "    \n",
    "    for k in range(0,len(mesh.zlev)-1): # -1 because midlevel is used...\n",
    "        lev = mesh.zlev[k] # current FESOM depth\n",
    "        try:\n",
    "            nextlev = mesh.zlev[k+1] # next level needed because FESOM data is defined for midlevel??\n",
    "        except:\n",
    "            print('reached bottom... no midlevel could be calculated')\n",
    "        finally:\n",
    "            midlev = (lev + nextlev )/2 # FESOM data is expected to be at midlevel?!\n",
    "            #print(lev)\n",
    "        ind1 = np.where(DepthRaw >= midlev)\n",
    "        ind1 = ind1[0][-1]\n",
    "        ind2 = np.where(DepthRaw < midlev)[0]\n",
    "\n",
    "        if ind2.size > 0:                            # If we have not yet reached the bottom\n",
    "            ind2 = ind2[0]                           # The index of the depth level below the current fesom level\n",
    "            c    = DepthRaw[ind1]-DepthRaw[ind2]     # Difference in depth between the data value above and below the fesom depth\n",
    "            c1   = DepthRaw[ind1]-midlev                # Difference between fesom depth and data depth above\n",
    "            c2   = -(DepthRaw[ind2]-midlev)             # Difference between fesom depth and data depth below\n",
    "            c1   = (c-c1)/c                          # Scaling coefficient for the depth above\n",
    "            c2   = (c-c2)/c                          # Scaling coefficient for the depth below\n",
    "        else:                                        # We have reached the bottom\n",
    "            c1   = 1.\n",
    "            c2   = 0.\n",
    "            ind2 = ind1\n",
    "\n",
    "        indZ  = np.where(mesh.zlev == lev)                               \n",
    "        # original code:\n",
    "        # indZ  = np.where(-mesh.z3 == lev)          # Find the mesh index of the current fesom depth\n",
    "        indZ = indZ[0] \n",
    "        if(False):\n",
    "            print('\\nFESOM depth = {0} -> midlevel = {8}, WOA depths = {1}, {2} \\nDepth indices: {3} {4},  FESOM index: {5} \\nScaling c1 = {6}, c2 = {7}'.format(lev,DepthRaw[ind1],DepthRaw[ind2],ind1, ind2,indZ,c1,c2,midlev))\n",
    "\n",
    "\n",
    "        aux1  = DINwoa[ind1,:,:]                     # Find the data above the current fesom depth\n",
    "        aux2  = DINwoa[ind2,:,:]                     # Find the data below the current fesom depth\n",
    "        aux   = np.squeeze(c1*aux1+c2*aux2)          # Scaling the data according to vertical distribution as found above\n",
    "        ind   = np.squeeze(~np.isnan(aux)) \n",
    "        #print(np.shape(aux), np.shape(ind))\n",
    "\n",
    "        # first interpolation to original grid to close empty parts\n",
    "        aux = griddata((X360[ind], Y180[ind]), aux[ind], (X360, Y180), method='nearest')                             \n",
    "        # 2D field without nans                           \n",
    "\n",
    "        # second interpolation to FESOM grid\n",
    "        din_int[indZ,:] = griddata((X360.ravel(), Y180.ravel()), aux.ravel(), \n",
    "                               (mesh.x2, mesh.y2), method='nearest')  \n",
    "        # Final interpolated field\n",
    "\n",
    "        if np.isnan(np.min(din_int)): print('WARNING: The interpolated field contains NaNs at depth',lev)                 # Testing if results contain NaNs. If yes, the routine needs adjustments\n",
    "\n",
    "        #print('Depth: {0} min = {1} max = {2} mean = {3}'.format(lev,np.min(din_int), np.max(din_int), np.mean(din_int)))\n",
    "\n",
    "    din_int = np.swapaxes(din_int,0,1) # adjust axes layout to FESOM output\n",
    "    #print(np.shape(din_int))\n",
    "    \n",
    "    outfile = open(pickle_file, \"wb\")\n",
    "    pickle.dump(din_int,outfile)    \n",
    "    outfile.close()\n",
    "    \n",
    "else:\n",
    "    try:\n",
    "        ifile = open(pickle_file, \"rb\")\n",
    "        din_int = pickle.load(ifile)\n",
    "        ifile.close()\n",
    "    except:\n",
    "        print('pickle file does not exist!')"
   ]
  },
  {
   "cell_type": "markdown",
   "metadata": {},
   "source": [
    "## FESOM output data"
   ]
  },
  {
   "cell_type": "code",
   "execution_count": null,
   "metadata": {},
   "outputs": [],
   "source": [
    "# check variables\n",
    "NCfesom = resultpath + '/DIN.mo1.1948.nc'\n",
    "!ncdump -h $NCfesom"
   ]
  },
  {
   "cell_type": "code",
   "execution_count": null,
   "metadata": {},
   "outputs": [],
   "source": [
    "labelfesom = 'FESOM DIN'\n",
    "unitfesom = 'DIN [mmol m$^{-3}$]' # equals to mumol/L\n",
    "\n",
    "# load data\n",
    "DINfesom = pf.get_data(resultpath, \"DIN\", [1948,1949,1950], mesh, how=\"mean\", compute=True, runid='mo1')\n",
    "np.shape(DINfesom)"
   ]
  },
  {
   "cell_type": "markdown",
   "metadata": {},
   "source": [
    "## Plot on FESOM mesh"
   ]
  },
  {
   "cell_type": "code",
   "execution_count": null,
   "metadata": {},
   "outputs": [],
   "source": [
    "# get mesh index closest to desired depth\n",
    "depth = -2000\n",
    "i = pf.ind_for_depth(depth,mesh) \n",
    "\n",
    "# get midlevel depth\n",
    "plot_depth = str((mesh.zlev[i]+mesh.zlev[i+1])/2)\n"
   ]
  },
  {
   "cell_type": "code",
   "execution_count": null,
   "metadata": {},
   "outputs": [],
   "source": [
    "# plot interpolated FESOM data \n",
    "if(True):\n",
    "    pf.plot(mesh, DINfesom[:,i], units=unitfesom + '\\n at depth = {0}m'.format(plot_depth),\n",
    "        mapproj='pc', # robinson projection takes more time!\n",
    "        titles = labelfesom)\n",
    "  "
   ]
  },
  {
   "cell_type": "code",
   "execution_count": null,
   "metadata": {},
   "outputs": [],
   "source": [
    "# apply sea mask to WOA as in FESOM ----------------------------------------------------------------------------------\n",
    "# assumption: there is no ocean where value in FESOM == 0\n",
    "din_int_ma = np.copy(din_int)\n",
    "din_int_ma[DINfesom == 0] = 0\n",
    "\n",
    "if(True):\n",
    "    # quick check of interpolated WOA data ----------------------------------------------------------------------------------\n",
    "    pf.plot(mesh,din_int_ma[:,i],\n",
    "        units=unitwoa + '\\n at depth = {0}m'.format(plot_depth), #mapproj='rob',\n",
    "        titles=labelwoa)    "
   ]
  },
  {
   "cell_type": "markdown",
   "metadata": {},
   "source": [
    "## Comparison with mean over depth"
   ]
  },
  {
   "cell_type": "code",
   "execution_count": null,
   "metadata": {},
   "outputs": [],
   "source": [
    "DINfesom_mean = np.mean(DINfesom, axis = 1)\n",
    "din_int_ma_mean = np.mean(din_int_ma, axis = 1)\n",
    "#print(np.shape(DINfesom_mean), np.shape(din_int_ma_mean))\n",
    "\n",
    "if(True):\n",
    "    print('\\nPlotting DIN as mean over depth\\nFESOM min = {0}, max = {1}\\nWOA min = {2}, max = {3}'.format(\n",
    "            np.nanmin(DINfesom_mean),np.nanmax(DINfesom_mean),\n",
    "            np.nanmin(din_int_ma_mean),np.nanmax(din_int_ma_mean)))\n",
    "    \n",
    "    pf.plot(mesh, [din_int_ma_mean,DINfesom_mean, din_int_ma_mean-DINfesom_mean], \n",
    "            rowscol= (3,1),\n",
    "            levels = (0,35,36),\n",
    "            units=unitwoa, \n",
    "            mapproj='pc', # robinson projection takes more time!\n",
    "            titles=['World Ocean Atlas: Interpolated DIN for initialization', \n",
    "                    'FESOM Dissolved Inorganic Nitrogen ({0}-{1})'.format(first_year,last_year),\n",
    "                    'Initialization fields minus FESOM'],\n",
    "            figsize = (20,20)\n",
    "           )"
   ]
  },
  {
   "cell_type": "markdown",
   "metadata": {},
   "source": [
    "## Statistics with mean over depth"
   ]
  },
  {
   "cell_type": "code",
   "execution_count": null,
   "metadata": {},
   "outputs": [],
   "source": [
    "#plt_Taylor_norm?"
   ]
  },
  {
   "cell_type": "code",
   "execution_count": null,
   "metadata": {},
   "outputs": [],
   "source": [
    "from plot_Taylor_normalized import plt_Taylor_norm\n",
    "\n",
    "title = 'Taylor Diagram for DIN \\n(mean over depth)'\n",
    "\n",
    "plt_Taylor_norm(din_int_ma_mean,DINfesom_mean, title=title)\n"
   ]
  },
  {
   "cell_type": "code",
   "execution_count": null,
   "metadata": {},
   "outputs": [],
   "source": [
    "# preparation of datasets\n",
    "if np.isnan(np.min(din_int_ma_mean)): print('WARNING: The interpolated WOA field contains NaNs at depth')\n",
    "if np.isnan(np.min(DINfesom_mean)): print('WARNING: The interpolated FESOM field contains NaNs at depth')\n",
    "\n",
    "\n",
    "# get statistics only from ocean gridpoints (same mask assumption as above)\n",
    "ind_stat = np.where(DINfesom_mean != 0)\n",
    "\n",
    "taylor_stats1 = sm.taylor_statistics(din_int_ma_mean[ind_stat],DINfesom_mean[ind_stat])\n",
    "sdev = np.array([taylor_stats1['sdev'][0]/taylor_stats1['sdev'][0], \n",
    "                 taylor_stats1['sdev'][1]/taylor_stats1['sdev'][0]])\n",
    "crmsd = np.array([taylor_stats1['crmsd'][0], taylor_stats1['crmsd'][1]])\n",
    "ccoef = np.array([taylor_stats1['ccoef'][0], taylor_stats1['ccoef'][1]])\n",
    "\n",
    "label = ['Observation', 'Model']# at {0} m'.format(plot_depth)]\n",
    "\n",
    "fig = plt.figure(figsize=(7,7), facecolor='w', edgecolor='k')\n",
    "sm.taylor_diagram(sdev,crmsd,ccoef, styleOBS = '-', colOBS = 'r', markerobs = 'o',\n",
    "                      titleOBS = 'observation', markerLabel = label,\n",
    "                      markerLabelColor = 'c',\n",
    "                      markerColor = 'c', markerLegend = 'on',\n",
    "                      #tickRMS = range(0,5,1),\n",
    "                      tickRMSangle = 135.0,\n",
    "                      colRMS = 'm', styleRMS = ':', widthRMS = 2.0,\n",
    "                      titleRMS = 'off', #tickSTD = range(0,1,2 ),\n",
    "                      #axismax = 1.0, \n",
    "                      colSTD = 'b', styleSTD = '-.',\n",
    "                      widthSTD = 1.0, titleSTD = 'on',\n",
    "                      colCOR = 'k', styleCOR = '--', widthCOR = 1.0,\n",
    "                      titleCOR = 'on')\n",
    "plt.title('Taylor Diagram for DIN \\n(mean over depth)', loc='right')    "
   ]
  },
  {
   "cell_type": "markdown",
   "metadata": {},
   "source": [
    "## Comparison layerwise"
   ]
  },
  {
   "cell_type": "code",
   "execution_count": null,
   "metadata": {
    "scrolled": false
   },
   "outputs": [],
   "source": [
    "# plot WOA and FESOM ----------------------------------------------------------------------------------\n",
    "depth_array = (0,50,200,1000,2000,4000)\n",
    "\n",
    "for d in depth_array:\n",
    "    # get mesh index closest to desired depth\n",
    "    i = pf.ind_for_depth(d,mesh) \n",
    "    # get midlevel depth\n",
    "    plot_depth = str((mesh.zlev[i]+mesh.zlev[i+1])/2)\n",
    "\n",
    "    if(True):\n",
    "        print('\\nInput depth = {0}, plotting at depth = {1} m\\nFESOM min = {2}, max = {3}\\nWOA min = {4}, max = {5}'.format(\n",
    "            d,plot_depth,\n",
    "            np.nanmin(DINfesom[:,i]),np.nanmax(DINfesom[:,i]),\n",
    "            np.nanmin(din_int_ma[:,i]),np.nanmax(din_int_ma[:,i])))\n",
    "    \n",
    "    pf.plot(mesh, [din_int_ma[:,i],DINfesom[:,i], din_int_ma[:,i]-DINfesom[:,i]], \n",
    "            rowscol= (1,3),\n",
    "            levels = (0,45,40),\n",
    "            units=unitwoa + '\\n at depth = {0} m'.format(plot_depth), \n",
    "            mapproj='pc', # robinson projection takes more time!\n",
    "            titles=[labelwoa, labelfesom, 'WOA - FESOM'],figsize = (20,20)\n",
    "           )"
   ]
  },
  {
   "cell_type": "markdown",
   "metadata": {},
   "source": [
    "## Statistics layerwise"
   ]
  },
  {
   "cell_type": "code",
   "execution_count": null,
   "metadata": {},
   "outputs": [],
   "source": [
    "#sm.taylor_statistics?"
   ]
  },
  {
   "cell_type": "code",
   "execution_count": null,
   "metadata": {},
   "outputs": [],
   "source": [
    "# preparation of datasets\n",
    "if np.isnan(np.min(din_int)): print('WARNING: The interpolated WOA field contains NaNs at depth')\n",
    "if np.isnan(np.min(DINfesom)): print('WARNING: The interpolated FESOM field contains NaNs at depth')\n",
    "\n",
    "\n",
    "for d in depth_array:\n",
    "    # get mesh index closest to desired depth\n",
    "    i = pf.ind_for_depth(d,mesh) \n",
    "    # get midlevel depth\n",
    "    plot_depth = str((mesh.zlev[i]+mesh.zlev[i+1])/2)\n",
    "\n",
    "    # get statistics only from ocean gridpoints (same mask assumption as above)\n",
    "    ind_stat = np.where(DINfesom[i,:] != 0)\n",
    "\n",
    "    taylor_stats1 = sm.taylor_statistics(din_int[i,ind_stat],DINfesom[i,ind_stat])\n",
    "    sdev = np.array([taylor_stats1['sdev'][0], taylor_stats1['sdev'][1]])\n",
    "    crmsd = np.array([taylor_stats1['crmsd'][0], taylor_stats1['crmsd'][1]])\n",
    "    ccoef = np.array([taylor_stats1['ccoef'][0], taylor_stats1['ccoef'][1]])\n",
    "    \n",
    "    label = ['Observation', 'Model']# at {0} m'.format(plot_depth)]\n",
    "\n",
    "    fig = plt.figure(figsize=(7,7), facecolor='w', edgecolor='k')\n",
    "    sm.taylor_diagram(sdev,crmsd,ccoef, styleOBS = '-', colOBS = 'r', markerobs = 'o',\n",
    "                          titleOBS = 'observation', markerLabel = label,\n",
    "                          markerLabelColor = 'c',\n",
    "                          markerColor = 'c', markerLegend = 'on',\n",
    "                          tickRMS = range(0,5,1), tickRMSangle = 135.0,\n",
    "                          colRMS = 'm', styleRMS = ':', widthRMS = 2.0,\n",
    "                          titleRMS = 'off', tickSTD = range(0,10,2 ),\n",
    "                          axismax = 10.0, \n",
    "                          colSTD = 'b', styleSTD = '-.',\n",
    "                          widthSTD = 1.0, titleSTD = 'on',\n",
    "                          colCOR = 'k', styleCOR = '--', widthCOR = 1.0,\n",
    "                          titleCOR = 'on')\n",
    "    plt.title('Taylor Diagram for DIN at {0} m'.format(plot_depth), loc='right')"
   ]
  },
  {
   "cell_type": "markdown",
   "metadata": {},
   "source": [
    "#### now export..."
   ]
  },
  {
   "cell_type": "code",
   "execution_count": null,
   "metadata": {},
   "outputs": [],
   "source": [
    "if(export_html):\n",
    "    %autosave 2\n",
    "    import time\n",
    "    time.sleep(15)\n",
    "    !jupyter nbconvert MZ_DIN_WOA_detailed_comparison_python3.ipynb --output-dir=$htmlpath --output $htmlname --to html "
   ]
  },
  {
   "cell_type": "code",
   "execution_count": null,
   "metadata": {},
   "outputs": [],
   "source": []
  },
  {
   "cell_type": "code",
   "execution_count": null,
   "metadata": {},
   "outputs": [],
   "source": []
  }
 ],
 "metadata": {
  "kernelspec": {
   "display_name": "Python 3",
   "language": "python",
   "name": "python3"
  },
  "language_info": {
   "codemirror_mode": {
    "name": "ipython",
    "version": 3
   },
   "file_extension": ".py",
   "mimetype": "text/x-python",
   "name": "python",
   "nbconvert_exporter": "python",
   "pygments_lexer": "ipython3",
   "version": "3.8.6"
  }
 },
 "nbformat": 4,
 "nbformat_minor": 4
}
