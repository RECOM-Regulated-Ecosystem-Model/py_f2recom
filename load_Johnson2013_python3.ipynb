{
 "cells": [
  {
   "cell_type": "code",
   "execution_count": null,
   "metadata": {},
   "outputs": [],
   "source": [
    "# load_Johnson2013_python3"
   ]
  },
  {
   "cell_type": "code",
   "execution_count": null,
   "metadata": {},
   "outputs": [],
   "source": [
    "import matplotlib.pyplot as plt\n",
    "import matplotlib.colors as colors\n",
    "from matplotlib import gridspec\n",
    "\n",
    "import numpy as np\n",
    "\n",
    "import netCDF4 as nc\n",
    "from netCDF4 import Dataset\n",
    "\n",
    "from scipy.interpolate import griddata\n",
    "\n",
    "import os\n",
    "import fnmatch\n",
    "import datetime\n",
    "#import logging\n",
    "\n",
    "import pyfesom2 as pf\n",
    "\n",
    "import cartopy.crs as ccrs\n",
    "import cartopy.feature as cfeature"
   ]
  },
  {
   "cell_type": "code",
   "execution_count": null,
   "metadata": {},
   "outputs": [],
   "source": [
    "# settings\n",
    "obspath = '/home/ollie/mozeisin/obs/Johnson2013_Chl_SouthernOcean/'\n",
    "varChl = 'chlorophyll'\n",
    "\n",
    "savepath = obspath\n",
    "\n",
    "process_all = False"
   ]
  },
  {
   "cell_type": "code",
   "execution_count": null,
   "metadata": {},
   "outputs": [],
   "source": []
  },
  {
   "cell_type": "code",
   "execution_count": null,
   "metadata": {},
   "outputs": [],
   "source": [
    "def mygrid(m,grid=False):\n",
    "    '''\n",
    "    Draw cartopy natural earth feature to axis m\n",
    "    '''\n",
    "    #m.coastlines(resolution='110m', color='black', linewidth=1)\n",
    "    land_poly = cfeature.NaturalEarthFeature('physical', 'land', '110m',edgecolor='k',facecolor=cfeature.COLORS['land'])\n",
    "    m.add_feature(land_poly)\n",
    "    \n",
    "    if grid:\n",
    "        g1 = m.gridlines(draw_labels = True)\n",
    "        g1.xlabels_top = False\n",
    "        g1.xlabel_style = {'size': 16, 'color': 'gray'}\n",
    "        g1.ylabel_style = {'size': 16, 'color': 'gray'}"
   ]
  },
  {
   "cell_type": "code",
   "execution_count": null,
   "metadata": {
    "scrolled": false
   },
   "outputs": [],
   "source": [
    "def read_Johnson(ncpath):\n",
    "    '''\n",
    "    Read in NCfile from Johnson et al (2013) and process timestamp information\n",
    "    \n",
    "    return nc_chl, nc_lat, nc_lon, dtime #,nc_timestamp\n",
    "    '''\n",
    "\n",
    "    print('Reading {0}'.format(ncpath))\n",
    "    \n",
    "    f      = Dataset(ncpath, 'r')\n",
    "    #f.variables\n",
    "    # 'chlorophyll', 'latitude', 'longitude', 'time'\n",
    "\n",
    "    nc_chl = f.variables[varChl][:] # units: mg/m^3\n",
    "\n",
    "    nc_lat = f.variables['latitude'][:] # units: degrees_north\n",
    "    nc_lon = f.variables['longitude'][:] # units: degrees_east\n",
    "\n",
    "    #print('NC chl data shape {0}'.format(np.shape(nc_chl)))\n",
    "    #print(np.shape(nc_lat))\n",
    "\n",
    "    ### extract time information\n",
    "    nc_time_var = f.variables['time']\n",
    "    date_units = nc_time_var.getncattr('units') # units: days since 1990-01-01 00:00:00.0\n",
    "\n",
    "    dtime = nc.num2date(nc_time_var[:],date_units,calendar='gregorian', only_use_cftime_datetimes=False)\n",
    "    #nc_timestamp = dtime[0].strftime('Data from %Y/%m/%d at %H:%Mh')\n",
    "    #print(nc_timestamp)\n",
    "\n",
    "    #londic, latdic = np.meshgrid(nc_lon,nc_lat)\n",
    "\n",
    "    return nc_chl, nc_lat, nc_lon, dtime[0] #,nc_timestamp"
   ]
  },
  {
   "cell_type": "code",
   "execution_count": null,
   "metadata": {
    "scrolled": false
   },
   "outputs": [],
   "source": [
    "testfile1 = obspath+ 'S20100012010031.L3m_MO_SO_Chl_9km.Johnson_SO_Chl.nc'\n",
    "!ncdump -h $testfile1"
   ]
  },
  {
   "cell_type": "code",
   "execution_count": null,
   "metadata": {
    "scrolled": false
   },
   "outputs": [],
   "source": []
  },
  {
   "cell_type": "code",
   "execution_count": null,
   "metadata": {},
   "outputs": [],
   "source": []
  },
  {
   "cell_type": "code",
   "execution_count": null,
   "metadata": {
    "scrolled": false
   },
   "outputs": [],
   "source": [
    "# read in all Johnson files\n",
    "verbose = False\n",
    "\n",
    "# start searching files\n",
    "DEFAULT_FILE_FILTER = '*9km.Johnson_SO_Chl.nc'\n",
    "\n",
    "nc_files=[]\n",
    "nc_paths=[]\n",
    "for root, _, filenames in os.walk(obspath):\n",
    "    for filename in fnmatch.filter(filenames, DEFAULT_FILE_FILTER):\n",
    "        nc_files.append(os.path.join(root, filename))\n",
    "        nc_paths.append(root)\n",
    "        if verbose:\n",
    "            print('Found: '+os.path.join(root, filename))\n",
    "        \n",
    "        \n",
    "print('\\nFound {0} ncfiles which match \"{1}\"'.format(len(nc_files),DEFAULT_FILE_FILTER))\n"
   ]
  },
  {
   "cell_type": "code",
   "execution_count": null,
   "metadata": {
    "scrolled": true
   },
   "outputs": [],
   "source": [
    "process_all = True\n",
    "if process_all:\n",
    "    \n",
    "    chl_all = []\n",
    "    timestamp_all = []\n",
    "    \n",
    "    for i in range(len(nc_files)):\n",
    "        input_file = nc_files[i]\n",
    "        input_path = nc_paths[i]\n",
    "\n",
    "        print('\\n*** Processing:\\n*** '+input_path)\n",
    "\n",
    "        nc_chl, nc_lat, nc_lon, nc_timestamp = read_Johnson(input_file)\n",
    "\n",
    "        chl_all.append(nc_chl)\n",
    "        timestamp_all.append(nc_timestamp)\n",
    "\n",
    "        "
   ]
  },
  {
   "cell_type": "markdown",
   "metadata": {},
   "source": [
    "# Diagnostics"
   ]
  },
  {
   "cell_type": "code",
   "execution_count": null,
   "metadata": {},
   "outputs": [],
   "source": [
    "#print(timestamp_all)\n",
    "print('Johnson (2013) data range from {0} to {1}\\nnumber of timesteps: {2}'.format(\n",
    "    np.nanmin(timestamp_all),\n",
    "    np.nanmax(timestamp_all),\n",
    "    len(timestamp_all)))"
   ]
  },
  {
   "cell_type": "code",
   "execution_count": null,
   "metadata": {},
   "outputs": [],
   "source": [
    "# check input shape\n",
    "print(np.shape(chl_all))"
   ]
  },
  {
   "cell_type": "code",
   "execution_count": null,
   "metadata": {},
   "outputs": [],
   "source": [
    "# remove chlorophyll:_FillValue = -999.f\n",
    "chl_aux = np.squeeze(chl_all)\n",
    "print(np.shape(chl_aux))\n",
    "\n",
    "chl_aux[chl_aux < 0] = np.nan"
   ]
  },
  {
   "cell_type": "markdown",
   "metadata": {},
   "source": [
    "# Mean over years"
   ]
  },
  {
   "cell_type": "code",
   "execution_count": null,
   "metadata": {},
   "outputs": [],
   "source": [
    "# calculate mean over years\n",
    "chl_mean = np.nanmean(chl_aux,axis=0)\n",
    "print(np.shape(chl_mean))"
   ]
  },
  {
   "cell_type": "code",
   "execution_count": null,
   "metadata": {},
   "outputs": [],
   "source": [
    "# check values\n",
    "print(np.nanmin(chl_mean), np.nanmax(chl_mean),np.nanmean(chl_mean))"
   ]
  },
  {
   "cell_type": "code",
   "execution_count": null,
   "metadata": {},
   "outputs": [],
   "source": [
    "fig, axes = plt.subplots(1,1, \n",
    "             subplot_kw=dict(projection=ccrs.PlateCarree()),\n",
    "             gridspec_kw={'hspace': 0.01, 'wspace': 0.1},\n",
    "             figsize=(15,15))\n",
    "\n",
    "unit_nc_chl = 'Chlorophyll [mg m$^{-3}$]'\n",
    "\n",
    "levels = np.array([0,0.01,0.02,0.03,0.04,0.05,0.06,0.07,0.08,0.09,\n",
    "                   0.1,0.2,0.3,0.4,0.5,0.6,0.7,0.8,0.9,\n",
    "                   1,2,3,4,5,7])\n",
    "ticks = [0,0.01,0.03,0.05,0.07,0.1,0.3,0.5,0.7,1,3,5,7]\n",
    "ticks_label = ['0','0.01','0.03','0.05','0.07','0.1','0.3','0.5','0.7','1','3','5','7']\n",
    "\n",
    "\n",
    "m1 = axes\n",
    "londic, latdic = np.meshgrid(nc_lon,nc_lat)\n",
    "f = m1.pcolormesh(londic, latdic, chl_mean, \n",
    "    transform = ccrs.PlateCarree(),\n",
    "    norm=colors.BoundaryNorm(boundaries=levels, ncolors=256),\n",
    "    #norm=colors.LogNorm(vmin=np.nanmin(nc_chl),vmax=np.nanmax(nc_chl)),\n",
    "    cmap='viridis')\n",
    "mygrid(m1,grid=True)\n",
    "m1.set_title('Mean over all timesteps')\n",
    "\n",
    "\n",
    "cbar = fig.colorbar(f,ax = axes, \n",
    "                    #location = 'bottom',\n",
    "                    orientation = 'horizontal',\n",
    "                    fraction=0.1, pad=0.1) \n",
    "cbar.set_label(unit_nc_chl+'\\nJohnson et al. (2013)', fontsize=16)\n",
    "\n",
    "plt.savefig(savepath+'Johnson2013_MEAN_Chl.png', dpi=300, bbox_inches='tight')"
   ]
  },
  {
   "cell_type": "markdown",
   "metadata": {},
   "source": [
    "# Interpolate to regular 1x1"
   ]
  },
  {
   "cell_type": "code",
   "execution_count": null,
   "metadata": {},
   "outputs": [],
   "source": [
    "ilat         = np.arange(-89.5,-29.5,1.)\n",
    "ilon         = np.arange(-179.5,180.,1.)\n",
    "ilatdic, ilondic = np.meshgrid(ilat, ilon)\n",
    "\n",
    "print(ilat)"
   ]
  },
  {
   "cell_type": "code",
   "execution_count": null,
   "metadata": {},
   "outputs": [],
   "source": [
    "chl_mean_interp = griddata((londic.ravel(), latdic.ravel()), chl_mean.ravel(), (ilondic,ilatdic), method='nearest')\n",
    "chl_mean_interp = np.ma.filled(chl_mean_interp, np.nan)\n",
    "\n",
    "# apply sea mask to Takashi as in FESOM ----------------------------------------------------------------------------------\n",
    "# assumption: there is no ocean where value in FESOM == 0\n",
    "#CO2ftakashi_ma = np.copy(CO2ftakashi)\n",
    "#CO2ftakashi_ma[np.isnan(CO2ffesom)] = np.nan"
   ]
  },
  {
   "cell_type": "markdown",
   "metadata": {},
   "source": [
    "# check interpolation results"
   ]
  },
  {
   "cell_type": "code",
   "execution_count": null,
   "metadata": {},
   "outputs": [],
   "source": [
    "print(np.shape(chl_mean_interp))"
   ]
  },
  {
   "cell_type": "code",
   "execution_count": null,
   "metadata": {},
   "outputs": [],
   "source": [
    "fig, axes = plt.subplots(1,1, \n",
    "             subplot_kw=dict(projection=ccrs.PlateCarree()),\n",
    "             gridspec_kw={'hspace': 0.01, 'wspace': 0.1},\n",
    "             figsize=(15,15))\n",
    "\n",
    "unit_nc_chl = 'Chlorophyll [mg m$^{-3}$]'\n",
    "\n",
    "levels = np.array([0,0.01,0.02,0.03,0.04,0.05,0.06,0.07,0.08,0.09,\n",
    "                   0.1,0.2,0.3,0.4,0.5,0.6,0.7,0.8,0.9,\n",
    "                   1,2,3,4,5,7])\n",
    "ticks = [0,0.01,0.03,0.05,0.07,0.1,0.3,0.5,0.7,1,3,5,7]\n",
    "ticks_label = ['0','0.01','0.03','0.05','0.07','0.1','0.3','0.5','0.7','1','3','5','7']\n",
    "\n",
    "\n",
    "m1 = axes\n",
    "f = m1.pcolormesh(ilondic, ilatdic, chl_mean_interp, \n",
    "    transform = ccrs.PlateCarree(),\n",
    "    norm=colors.BoundaryNorm(boundaries=levels, ncolors=256),\n",
    "    #norm=colors.LogNorm(vmin=np.nanmin(nc_chl),vmax=np.nanmax(nc_chl)),\n",
    "    cmap='viridis')\n",
    "\n",
    "mygrid(m1,grid=True)\n",
    "m1.set_title('Interp. mean over all timesteps')\n",
    "\n",
    "\n",
    "cbar = fig.colorbar(f,ax = axes, \n",
    "                    #location = 'bottom',\n",
    "                    orientation = 'horizontal',\n",
    "                    fraction=0.1, pad=0.1) \n",
    "cbar.set_label(unit_nc_chl+'\\nJohnson et al. (2013)', fontsize=16)\n",
    "\n",
    "#plt.savefig(savepath+'Johnson2013_MEAN_Interp_Chl.png', dpi=300, bbox_inches='tight')"
   ]
  },
  {
   "cell_type": "markdown",
   "metadata": {},
   "source": [
    "# Save data to .npy file"
   ]
  },
  {
   "cell_type": "code",
   "execution_count": null,
   "metadata": {},
   "outputs": [],
   "source": [
    "np.save(savepath+'Johnson2013_MEAN_Chl_mg_m3.npy',chl_mean)\n",
    "np.save(savepath+'Johnson2013_MEAN_1x1_Chl_mg_m3.npy',chl_mean_interp)\n",
    "\n",
    "np.save(savepath+'Johnson2013_timestamps.npy',timestamp_all)\n",
    "\n",
    "# fill masked array\n",
    "nc_lat_filled = np.ma.filled(nc_lat, np.nan)\n",
    "nc_lon_filled = np.ma.filled(nc_lon, np.nan)\n",
    "\n",
    "np.save(savepath+'Johnson2013_lat.npy',nc_lat_filled)\n",
    "np.save(savepath+'Johnson2013_lon.npy',nc_lon_filled)\n",
    "\n",
    "# interpolated grid see above!"
   ]
  },
  {
   "cell_type": "markdown",
   "metadata": {},
   "source": [
    "# Test processing on random input files"
   ]
  },
  {
   "cell_type": "code",
   "execution_count": null,
   "metadata": {},
   "outputs": [],
   "source": [
    "if not process_all:\n",
    "    \n",
    "    # load\n",
    "    testfile1 = obspath+ 'S20100012010031.L3m_MO_SO_Chl_9km.Johnson_SO_Chl.nc'\n",
    "    testfile2 = obspath + 'S20010912001120.L3m_MO_SO_Chl_9km.Johnson_SO_Chl.nc'\n",
    "    testfile3 = obspath + 'S19980011998031.L3m_MO_SO_Chl_9km.Johnson_SO_Chl.nc'\n",
    "    \n",
    "    nc_chl1, nc_lat1, nc_lon1, nc_timestamp1 = read_Johnson(testfile1)\n",
    "    nc_chl2, nc_lat2, nc_lon2, nc_timestamp2 = read_Johnson(testfile2)\n",
    "    nc_chl3, nc_lat3, nc_lon3, nc_timestamp3 = read_Johnson(testfile3)\n",
    "    \n",
    "    \n",
    "    "
   ]
  },
  {
   "cell_type": "code",
   "execution_count": null,
   "metadata": {},
   "outputs": [],
   "source": []
  },
  {
   "cell_type": "code",
   "execution_count": null,
   "metadata": {},
   "outputs": [],
   "source": [
    "if not process_all:\n",
    "    fig, axes = plt.subplots(3,1, \n",
    "             subplot_kw=dict(projection=ccrs.PlateCarree()),\n",
    "             gridspec_kw={'hspace': 0.01, 'wspace': 0.1},\n",
    "             figsize=(15,15))\n",
    "    \n",
    "    levels = np.array([0,0.01,0.02,0.03,0.04,0.05,0.06,0.07,0.08,0.09,\n",
    "                       0.1,0.2,0.3,0.4,0.5,0.6,0.7,0.8,0.9,\n",
    "                       1,2,3,4,5,7])\n",
    "    ticks = [0,0.01,0.03,0.05,0.07,0.1,0.3,0.5,0.7,1,3,5,7]\n",
    "    ticks_label = ['0','0.01','0.03','0.05','0.07','0.1','0.3','0.5','0.7','1','3','5','7']\n",
    "\n",
    "\n",
    "    m1 = axes[0] \n",
    "    londic, latdic = np.meshgrid(nc_lon1,nc_lat1)\n",
    "    f = m1.pcolormesh(londic, latdic, nc_chl1[0,:,:], \n",
    "        transform = ccrs.PlateCarree(),\n",
    "        norm=colors.BoundaryNorm(boundaries=levels, ncolors=256),\n",
    "        #norm=colors.LogNorm(vmin=np.nanmin(nc_chl),vmax=np.nanmax(nc_chl)),\n",
    "        cmap='viridis')\n",
    "    mygrid(m1,grid=True)\n",
    "    m1.set_title(nc_timestamp1.strftime('Data from %Y/%m/%d at %H:%Mh'))\n",
    "    \n",
    "    m2 = axes[1]\n",
    "    londic, latdic = np.meshgrid(nc_lon2,nc_lat2)\n",
    "    f = m2.pcolormesh(londic, latdic, nc_chl2[0,:,:], \n",
    "        transform = ccrs.PlateCarree(),\n",
    "        norm=colors.BoundaryNorm(boundaries=levels, ncolors=256),\n",
    "        #norm=colors.LogNorm(vmin=np.nanmin(nc_chl),vmax=np.nanmax(nc_chl)),\n",
    "        cmap='viridis')\n",
    "    mygrid(m2,grid=True)\n",
    "    m2.set_title(nc_timestamp2.strftime('Data from %Y/%m/%d at %H:%Mh'))\n",
    "    \n",
    "    m3 = axes[2]\n",
    "    londic, latdic = np.meshgrid(nc_lon3,nc_lat3)\n",
    "    f = plt.pcolormesh(londic, latdic, nc_chl3[0,:,:], \n",
    "        transform = ccrs.PlateCarree(),\n",
    "        norm=colors.BoundaryNorm(boundaries=levels, ncolors=256),\n",
    "        #norm=colors.LogNorm(vmin=np.nanmin(nc_chl),vmax=np.nanmax(nc_chl)),\n",
    "        cmap='viridis')\n",
    "    mygrid(m3,grid=True)\n",
    "    m3.set_title(nc_timestamp3.strftime('Data from %Y/%m/%d at %H:%Mh'))\n",
    "    \n",
    "    cbar = fig.colorbar(f,ax = axes[:3], \n",
    "                        location = 'bottom',\n",
    "                        #orientation = 'horizontal',\n",
    "                        fraction=0.1, pad=0.1) \n",
    "    cbar.set_label(unit_nc_chl+'\\nJohnson et al. (2013)', fontsize=16)"
   ]
  },
  {
   "cell_type": "code",
   "execution_count": null,
   "metadata": {},
   "outputs": [],
   "source": []
  }
 ],
 "metadata": {
  "kernelspec": {
   "display_name": "Python 3",
   "language": "python",
   "name": "python3"
  },
  "language_info": {
   "codemirror_mode": {
    "name": "ipython",
    "version": 3
   },
   "file_extension": ".py",
   "mimetype": "text/x-python",
   "name": "python",
   "nbconvert_exporter": "python",
   "pygments_lexer": "ipython3",
   "version": "3.8.6"
  }
 },
 "nbformat": 4,
 "nbformat_minor": 4
}
